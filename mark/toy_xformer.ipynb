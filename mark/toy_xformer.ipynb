{
 "cells": [
  {
   "cell_type": "markdown",
   "metadata": {
    "id": "SifuSeuwi6nj"
   },
   "source": [
    "# Toy Models of Superposition\n",
    "\n",
    "This notebook includes the toy model training framework used to generate most of the results in the \"Toy Models of Superposition\" paper.\n",
    "\n",
    "The main useful improvement over a basic PyTorch tiny autoencoder is the ability to batch train many models with varying sparsity at once, which is much more efficient than training them one at a time.\n",
    "\n",
    "This notebook is designed to run in Google Colab's Python 3.7 environment."
   ]
  },
  {
   "cell_type": "code",
   "execution_count": 1,
   "metadata": {
    "colab": {
     "base_uri": "https://localhost:8080/"
    },
    "id": "yfHPSGevYsdo",
    "outputId": "83ba37a8-4240-434d-88f9-9b82774047b5"
   },
   "outputs": [],
   "source": [
    "#!pip install einops"
   ]
  },
  {
   "cell_type": "code",
   "execution_count": 2,
   "metadata": {
    "id": "wRLgezMAZbtY"
   },
   "outputs": [],
   "source": [
    "import torch\n",
    "from torch import nn\n",
    "from torch.nn import functional as F\n",
    "\n",
    "from typing import Optional\n",
    "\n",
    "from dataclasses import dataclass, replace\n",
    "import numpy as np\n",
    "import einops\n",
    "\n",
    "from tqdm.notebook import trange\n",
    "\n",
    "import time\n",
    "import pandas as pd\n",
    "\n",
    "import plotly.express as px\n",
    "import plotly.graph_objects as go\n",
    "from plotly.subplots import make_subplots\n",
    "\n",
    "import matplotlib.pyplot as plt"
   ]
  },
  {
   "cell_type": "code",
   "execution_count": 3,
   "metadata": {
    "id": "upSmPXMrZct4"
   },
   "outputs": [],
   "source": [
    "@dataclass\n",
    "class Config:\n",
    "  n_features: int\n",
    "  n_hidden: int\n",
    "  head_d: int\n",
    "\n",
    "  # We optimize n_instances models in a single training loop\n",
    "  # to let us sweep over sparsity or importance curves \n",
    "  # efficiently.\n",
    "\n",
    "  # We could potentially use torch.vmap instead.\n",
    "  n_instances: int\n",
    " \n",
    "class Model(nn.Module):\n",
    "  def __init__(self, \n",
    "               config, \n",
    "               feature_probability: Optional[torch.Tensor] = None,\n",
    "               importance: Optional[torch.Tensor] = None,               \n",
    "               device='cuda'):\n",
    "    super().__init__()\n",
    "    self.config = config\n",
    "    self.W = nn.Parameter(torch.empty((config.n_instances, config.n_features, config.n_hidden), device=device))\n",
    "    nn.init.xavier_normal_(self.W)\n",
    "    self.b_final = nn.Parameter(torch.zeros((config.n_instances, config.n_features), device=device))\n",
    "    self.A = nn.Parameter(torch.empty((config.n_instances, config.n_hidden, config.head_d), device=device))\n",
    "    nn.init.xavier_normal_(self.A)\n",
    "    self.B = nn.Parameter(torch.empty((config.n_instances, config.n_hidden, config.head_d), device=device))\n",
    "    nn.init.xavier_normal_(self.B)\n",
    "\n",
    "    if feature_probability is None:\n",
    "      feature_probability = torch.ones(())\n",
    "    self.feature_probability = feature_probability.to(device)\n",
    "    if importance is None:\n",
    "      importance = torch.ones(())\n",
    "    self.importance = importance.to(device)\n",
    "\n",
    "  def forward(self, features):\n",
    "    # features: [..., instance, n_features]\n",
    "    # W: [instance, n_features, n_hidden]\n",
    "    hidden = torch.einsum(\"...if,ifh->...ih\", features, self.W)\n",
    "    out = torch.einsum(\"...ih,ifh->...if\", hidden, self.W)\n",
    "    out = out + self.b_final\n",
    "    out = F.relu(out)\n",
    "    return out\n",
    "\n",
    "  def generate_batch(self, n_batch):\n",
    "    feat = torch.rand((n_batch, self.config.n_instances, self.config.n_features), device=self.W.device)\n",
    "    batch = torch.where(\n",
    "        torch.rand((n_batch, self.config.n_instances, self.config.n_features), device=self.W.device) <= self.feature_probability,\n",
    "        feat,\n",
    "        torch.zeros((), device=self.W.device),\n",
    "    )\n",
    "    return batch"
   ]
  },
  {
   "cell_type": "markdown",
   "metadata": {},
   "source": [
    "# Model Architecture Diagram\n",
    "\n",
    "This model is a **Sparse Autoencoder with Attention Mechanisms** that processes multiple instances simultaneously.\n",
    "\n",
    "## Architecture Overview:\n",
    "\n",
    "```\n",
    "Input Features [batch, n_instances, n_features]\n",
    "         ↓\n",
    "    Feature Selection (sparsity via feature_probability)\n",
    "         ↓\n",
    "    Linear Layer W [n_instances, n_features, n_hidden]\n",
    "         ↓\n",
    "    Hidden Representations [batch, n_instances, n_hidden]\n",
    "         ↓\n",
    "    Linear Layer W^T (reconstruction)\n",
    "         ↓\n",
    "    Add Bias b_final\n",
    "         ↓\n",
    "    ReLU Activation\n",
    "         ↓\n",
    "Output [batch, n_instances, n_features]\n",
    "```\n",
    "\n",
    "## Attention Mechanism (for pairwise loss):\n",
    "- **Query**: x @ W @ A → [batch, n_instances, head_d]\n",
    "- **Key**: y @ W @ B → [batch, n_instances, head_d]  \n",
    "- **Attention**: Query @ Key^T → [batch, n_instances, n_instances]\n",
    "- **Diagonal**: Extract self-attention scores\n",
    "\n",
    "## Key Components:\n",
    "- **W**: Main weight matrix [n_instances, n_features, n_hidden]\n",
    "- **A, B**: Attention projection matrices [n_instances, n_hidden, head_d]\n",
    "- **b_final**: Output bias [n_instances, n_features]\n",
    "- **feature_probability**: Controls sparsity per instance\n",
    "- **importance**: Feature importance weights\n"
   ]
  },
  {
   "cell_type": "code",
   "execution_count": 4,
   "metadata": {
    "id": "UsIgAC56dWMk"
   },
   "outputs": [],
   "source": [
    "if torch.cuda.is_available():\n",
    "  DEVICE = 'cuda'\n",
    "elif torch.backends.mps.is_available():\n",
    "  DEVICE = \"mps\"\n",
    "else:\n",
    "  DEVICE = 'cpu'"
   ]
  },
  {
   "cell_type": "code",
   "execution_count": 5,
   "metadata": {
    "id": "2Ey4ApHYb9oY"
   },
   "outputs": [],
   "source": [
    "def linear_lr(step, steps):\n",
    "  return (1 - (step / steps))\n",
    "\n",
    "def constant_lr(*_):\n",
    "  return 1.0\n",
    "\n",
    "def cosine_decay_lr(step, steps):\n",
    "  return np.cos(0.5 * np.pi * step / (steps - 1))\n",
    "\n",
    "'''\n",
    "def feature_association(f):\n",
    "  target = torch.zeros((f, f), device=DEVICE)\n",
    "  target[1, 2] = 1.0\n",
    "  target[3, 4] = 3.0\n",
    "  return target\n",
    "'''\n",
    "\n",
    "def pair_err(A, B, W, x, y):\n",
    "  \"\"\"\n",
    "  Pairwise error over aligned batch pairs using feature_association.\n",
    "  x, y: tensors shaped [b, i, f]\n",
    "  Returns a tensor broadcastable to [b, i, f] for reduction.\n",
    "  \"\"\"\n",
    "  # Compute the outer product of the last dimensions of x and y, resulting in shape [b, i, f, f]\n",
    "  # x: [b, i, f], y: [b, i, f]\n",
    "  outer = x.unsqueeze(-1) * y.unsqueeze(-2)  # [b, i, f, f]\n",
    "  target = feature_association(x.shape[-1])  # [f, f]\n",
    "  matches = outer * target  # [b, i, f, f]\n",
    "  target = matches.sum(dim=(-2, -1)) # [b, i]\n",
    "  yWB = torch.einsum('bif, ifg, igh -> bih', y, W, B)\n",
    "  xWA = torch.einsum('bif, ifg, igh -> bih', x, W, A)\n",
    "  xWABWy = torch.matmul(xWA, yWB.transpose(-2, -1))  # [b, i, i]\n",
    "  attn_pred = torch.diagonal(xWABWy, dim1=-2, dim2=-1)  # shape [b, i]\n",
    "  # still need softmax here\n",
    "  # Return the L2 norm of the difference between target and assoc\n",
    "  return (target - attn_pred)**2\n",
    "\n",
    "def optimize(model, \n",
    "             render=False, \n",
    "             n_batch=1024,\n",
    "             steps=10_000,\n",
    "             print_freq=100,\n",
    "             lr=1e-3,\n",
    "             lr_scale=constant_lr,\n",
    "             lam = 10,\n",
    "             hooks=[]):\n",
    "  cfg = model.config\n",
    "\n",
    "  opt = torch.optim.AdamW(list(model.parameters()), lr=lr)\n",
    "\n",
    "  start = time.time()\n",
    "  with trange(steps) as t:\n",
    "    for step in t:\n",
    "      step_lr = lr * lr_scale(step, steps)\n",
    "      for group in opt.param_groups:\n",
    "        group['lr'] = step_lr\n",
    "      opt.zero_grad(set_to_none=True)\n",
    "      batch = model.generate_batch(n_batch)\n",
    "      out = model(batch)\n",
    "      # Reconstruction loss (original)\n",
    "      error = (model.importance*(batch.abs() - out)**2)\n",
    "      recon_loss = einops.reduce(error, 'b i f -> i', 'mean').sum()\n",
    "      # print('recon loss', recon_loss, recon_loss.shape)\n",
    "\n",
    "      # Pairwise loss over batch pairs\n",
    "      pairable = (n_batch // 2) * 2\n",
    "      if pairable >= 2:\n",
    "        # stepping by 2s in the batch dimension\n",
    "        # was out\n",
    "        out_a = batch[:pairable:2]\n",
    "        out_b = batch[1:pairable:2]\n",
    "        pair_error = pair_err(model.A, model.B, model.W, out_a, out_b)\n",
    "        pair_loss = einops.reduce(pair_error, 'b i -> i', 'mean').sum()\n",
    "        # print('pair_loss', pair_loss, pair_loss.shape)\n",
    "      else:\n",
    "        pair_error = torch.zeros_like(out[:0])\n",
    "        pair_loss = torch.tensor(0.0, device=out.device)\n",
    "\n",
    "      loss = recon_loss + lam * pair_loss\n",
    "      loss.backward()\n",
    "      opt.step()\n",
    "    \n",
    "      if hooks:\n",
    "        hook_data = dict(model=model,\n",
    "                         step=step, \n",
    "                         opt=opt,\n",
    "                         error=error,\n",
    "                         recon_loss=recon_loss,\n",
    "                         pair_error=pair_error,\n",
    "                         pair_loss=pair_loss,\n",
    "                         loss=loss,\n",
    "                         lr=step_lr)\n",
    "        for h in hooks:\n",
    "          h(hook_data)\n",
    "      if step % print_freq == 0 or (step + 1 == steps):\n",
    "        t.set_postfix(\n",
    "            loss=loss.item() / cfg.n_instances,\n",
    "            lr=step_lr,\n",
    "        )"
   ]
  },
  {
   "cell_type": "code",
   "execution_count": 6,
   "metadata": {},
   "outputs": [],
   "source": [
    "res_array = 0\n",
    "def capture_stats(stats):\n",
    "    global res_array\n",
    "    if (stats['step']) == 0:\n",
    "        res_array = []\n",
    "    if (stats['step'] % 10) == 0:\n",
    "        res_array.append((stats['step'], stats['recon_loss'].cpu().detach().numpy(), stats['pair_loss'].cpu().detach().numpy()))"
   ]
  },
  {
   "cell_type": "markdown",
   "metadata": {
    "id": "QpshP3ppjsIg"
   },
   "source": [
    "## Basic Test\n",
    "\n",
    "Basic setting is 30 x 15 x 10 x 10, lam = .5"
   ]
  },
  {
   "cell_type": "code",
   "execution_count": 25,
   "metadata": {
    "id": "crVhVxhIj5pK"
   },
   "outputs": [],
   "source": [
    "config = Config(\n",
    "    n_features = 30,\n",
    "    n_hidden = 15,\n",
    "    head_d = 10,\n",
    "    n_instances = 7,\n",
    ")\n",
    "torch.manual_seed(42)\n",
    "np.random.seed(42)\n",
    "#random.seed(42)\n",
    "\n",
    "model = Model(\n",
    "    config=config,\n",
    "    device=DEVICE,\n",
    "    # Exponential feature importance curve from 1 to 1/100\n",
    "    importance = (0.9**torch.arange(config.n_features))[None, :],\n",
    "    # Sweep feature frequency across the instances from 1 (fully dense) to 1/20\n",
    "    feature_probability = (50 ** -torch.linspace(0, 1, config.n_instances))[:, None]\n",
    ")"
   ]
  },
  {
   "cell_type": "code",
   "execution_count": 26,
   "metadata": {
    "colab": {
     "base_uri": "https://localhost:8080/",
     "height": 49,
     "referenced_widgets": [
      "fa6604f92d1e4489960985e4d7240c24",
      "5f651bcc02de4892bc6ace2170187052",
      "33262117e99a4effb2b23208b72912f1",
      "6de322b6962e4e4b974b2b4d79bf5bea",
      "fc39b56a57df417095c2e2a064cac95b",
      "13bbce3d04234a68805f5668bd4e7cae",
      "fc49b5cd3b5a4dd3b572712b23a88fcb",
      "f9b77a7783c041a5994f645545f46a4d",
      "a09058eea509491198cf92c1b70f4b7d",
      "992a19c9c2ee4565841ced9a07382625",
      "87e80c745a9c4c378a4d7a537ed42361"
     ]
    },
    "id": "oveRpg0skeJf",
    "outputId": "997f294d-e8ac-4ab9-e1f2-f135c4ed7694"
   },
   "outputs": [
    {
     "data": {
      "application/vnd.jupyter.widget-view+json": {
       "model_id": "f7f8dd2336df42cf95461d445d63971c",
       "version_major": 2,
       "version_minor": 0
      },
      "text/plain": [
       "  0%|          | 0/10000 [00:00<?, ?it/s]"
      ]
     },
     "metadata": {},
     "output_type": "display_data"
    }
   ],
   "source": [
    "def feature_association(f):\n",
    "  target = torch.zeros((f, f), device=DEVICE)\n",
    "  target[2, 4] = 1.0\n",
    "  target[5, 8] = 2.0\n",
    "  return target\n",
    "\n",
    "lam = .5\n",
    "optimize(model, lam = lam, hooks = [capture_stats])"
   ]
  },
  {
   "cell_type": "code",
   "execution_count": 27,
   "metadata": {},
   "outputs": [
    {
     "data": {
      "text/plain": [
       "Text(0, 0.5, 'pair loss')"
      ]
     },
     "execution_count": 27,
     "metadata": {},
     "output_type": "execute_result"
    },
    {
     "data": {
      "image/png": "[encoded data removed]",
      "text/plain": [
       "<Figure size 640x480 with 2 Axes>"
      ]
     },
     "metadata": {},
     "output_type": "display_data"
    }
   ],
   "source": [
    "res = np.array(res_array)\n",
    "figs, axs = plt.subplots(2, 1)\n",
    "axs[0].plot(res[:,0], res[:,1])\n",
    "axs[0].set_ylabel('recon loss')\n",
    "axs[0].set_title(f'{config.n_features}x{config.n_hidden}x{config.head_d}, lam = {lam}')\n",
    "axs[1].plot(res[:,0], res[:,2])\n",
    "axs[1].set_ylabel('pair loss')"
   ]
  },
  {
   "cell_type": "code",
   "execution_count": 16,
   "metadata": {
    "id": "RpatvhlHfEyC"
   },
   "outputs": [],
   "source": [
    "def render_features(model, fig_width, fig_height, which=np.s_[:]):\n",
    "  cfg = model.config\n",
    "  W = model.W.detach()\n",
    "  W_norm = W / (1e-5 + torch.linalg.norm(W, 2, dim=-1, keepdim=True))\n",
    "\n",
    "  interference = torch.einsum('ifh,igh->ifg', W_norm, W)\n",
    "  interference[:, torch.arange(cfg.n_features), torch.arange(cfg.n_features)] = 0\n",
    "\n",
    "  polysemanticity = torch.linalg.norm(interference, dim=-1).cpu().numpy()\n",
    "  net_interference = (interference**2 * model.feature_probability[:, None, :]).sum(-1).cpu()\n",
    "  norms = torch.linalg.norm(W, 2, dim=-1).cpu()\n",
    "\n",
    "  WtW = torch.einsum('sih,soh->sio', W, W).cpu().numpy()\n",
    "\n",
    "  # width = weights[0].cpu()\n",
    "  # x = torch.cumsum(width+0.1, 0) - width[0]\n",
    "  x = torch.arange(cfg.n_features)\n",
    "  width = 0.9\n",
    "\n",
    "  which_instances = np.arange(cfg.n_instances)[which]\n",
    "  fig = make_subplots(\n",
    "      cols=len(which_instances),\n",
    "      rows=3,\n",
    "      shared_xaxes=True,\n",
    "      row_heights=[0.65, 1, 0.15], \n",
    "      vertical_spacing=0.0,\n",
    "      horizontal_spacing=0.02  # Remove all empty space between columns\n",
    "  )\n",
    "  for (col, inst) in enumerate(which_instances):\n",
    "    fig.add_trace(\n",
    "        go.Bar(x=x.numpy(), \n",
    "              y=norms[inst].numpy(),\n",
    "              marker=dict(\n",
    "                  color=polysemanticity[inst],\n",
    "                  cmin=0,\n",
    "                  cmax=1\n",
    "              ),\n",
    "              width=width,\n",
    "        ),\n",
    "        row=1, col=1+col\n",
    "    )\n",
    "    # Add y-label \"foo\" rotated 90 degrees to the left subplot\n",
    "    fig.add_annotation(\n",
    "        text=f'{model.feature_probability[inst].item():.2f}',\n",
    "        xref=\"paper\", yref=\"paper\",\n",
    "        x=(len(norms[inst].numpy())-1)/2, y=-2,\n",
    "        xanchor=\"center\", yanchor=\"middle\",\n",
    "        showarrow=False,\n",
    "        font=dict(size=16),\n",
    "        row=3, col=1+col,\n",
    "        bgcolor='rgba(0,0,0,0)'  # transparent background\n",
    "    )\n",
    "    data = WtW[inst]\n",
    "    fig.add_trace(\n",
    "        go.Image(\n",
    "            z=plt.cm.coolwarm((1 + data)/2, bytes=True),\n",
    "            colormodel='rgba256',\n",
    "            customdata=data,\n",
    "            #In: %{x}<br>\n",
    "            #Out: %{y}<br>\n",
    "            #Weight: %{customdata}\n",
    "            hovertemplate='''\\\n",
    "foo\n",
    "'''            \n",
    "        ),\n",
    "        col=1+col, row=2\n",
    "    )\n",
    "\n",
    "  fig.add_vline(\n",
    "    x=(x.numpy()[cfg.n_hidden-1]+x.numpy()[cfg.n_hidden])/2, \n",
    "    line=dict(width=0.2),\n",
    "    row=1,\n",
    "  )\n",
    "    \n",
    "  # fig.update_traces(marker_size=1)\n",
    "  fig.update_layout(showlegend=False, \n",
    "                    height=fig_height,\n",
    "                    width=fig_width,\n",
    "                    margin=dict(t=4, b=4, l=8, r=8))\n",
    "  fig.update_xaxes(visible=False)\n",
    "  fig.update_yaxes(visible=False)\n",
    "  return fig"
   ]
  },
  {
   "cell_type": "code",
   "execution_count": 28,
   "metadata": {
    "colab": {
     "base_uri": "https://localhost:8080/",
     "height": 1000
    },
    "id": "tm3YV12Hfpvg",
    "outputId": "2f139d88-a9e6-4ecf-f553-57997179c1f6"
   },
   "outputs": [
    {
     "data": {
      "application/vnd.plotly.v1+json": {
       "config": {
        "plotlyServerURL": "https://plot.ly"
       },
       "data": [
        {
         "marker": {
          "cmax": 1,
          "cmin": 0,
          "color": {
           "bdata": "DiP7OrobAzte0pM6Ywd5O28rwToujs86gK0XO1GKXDsNrQI7/F6ZO6X3XTybH748sPPMPIW7KDyXVCI+7+p/PxiufT8Ry38/Vrp/P+Plfj+Tln8/heJ/PxO9fj9dcn8/Eh1/P7gcfz+YeX4/uqN+Px6Ofj+c6n4/",
           "dtype": "f4"
          }
         },
         "type": "bar",
         "width": 0.9,
         "x": {
          "bdata": "AAECAwQFBgcICQoLDA0ODxAREhMUFRYXGBkaGxwd",
          "dtype": "i1"
         },
         "xaxis": "x",
         "y": {
          "bdata": "xOl/PwHffz858H8/Kfh/Px78fz/77n8/h9p/P8PZfz+7AoA/49t/Pyy3fz/ytH8/Tq9/P//Vfz+LNX0/+xEdPXjjEz73HYM98dAGPDlmZjuhlrI7xonjOyC6DDtLdEg7tW5RO/AYEzsc0eY6eETaOiEi6ToJevo6",
          "dtype": "f4"
         },
         "yaxis": "y"
        },
        {
         "colormodel": "rgba256",
         "customdata": {
          "bdata": "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",
          "dtype": "f4",
          "shape": "30, 30"
         },
         "hovertemplate": "foo\n",
         "type": "image",
         "xaxis": "x8",
         "yaxis": "y8",
         "z": {
          "bdata": "swMm/93c2//d3Nv/3dzb/9zc3f/c3N3/3dzb/93c2//c3N3/3dzb/93c2//c3N3/3Nzd/93c2//d3Nv/3dzb/9zc3f/c3N3/3Nzd/93c2//c3N3/3Nzd/9zc3f/c3N3/3Nzd/93c2//c3N3/3Nzd/9zc3f/d3Nv/3dzb/7MDJv/d3Nv/3Nzd/9zc3f/c3N3/3Nzd/93c2//c3N3/3dzb/9zc3f/c3N3/3Nzd/9zc3f/d3Nv/3dzb/93c2//d3Nv/3Nzd/93c2//c3N3/3Nzd/9zc3f/d3Nv/3Nzd/9zc3f/c3N3/3dzb/9zc3f/c3N3/3dzb/93c2/+zAyb/3dzb/9zc3f/d3Nv/3dzb/9zc3f/c3N3/3Nzd/93c2//c3N3/3Nzd/93c2//c3N3/3dzb/9zc3f/d3Nv/3dzb/9zc3f/c3N3/3dzb/93c2//c3N3/3Nzd/9zc3f/d3Nv/3Nzd/9zc3f/d3Nv/3dzb/9zc3f/d3Nv/swMm/93c2//d3Nv/3dzb/93c2//c3N3/3dzb/93c2//c3N3/3dzb/93c2//d3Nv/3Nzd/9zc3f/c3N3/3dzb/93c2//c3N3/3Nzd/93c2//d3Nv/3Nzd/93c2//c3N3/3Nzd/9zc3f/d3Nv/3Nzd/9zc3f/c3N3/3dzb/7MDJv/c3N3/3Nzd/9zc3f/c3N3/3Nzd/93c2//c3N3/3dzb/9zc3f/d3Nv/3Nzd/93c2//d3Nv/3dzb/9zc3f/c3N3/3dzb/9zc3f/c3N3/3dzb/9zc3f/d3Nv/3dzb/9zc3f/d3Nv/3Nzd/9zc3f/d3Nv/3dzb/9zc3f+zAyb/3Nzd/9zc3f/c3N3/3Nzd/93c2//c3N3/3dzb/9zc3f/c3N3/3Nzd/93c2//d3Nv/3dzb/93c2//d3Nv/3dzb/93c2//c3N3/3dzb/93c2//d3Nv/3Nzd/9zc3f/d3Nv/3dzb/9zc3f/d3Nv/3dzb/9zc3f/c3N3/swMm/93c2//c3N3/3Nzd/93c2//d3Nv/3Nzd/93c2//c3N3/3Nzd/93c2//d3Nv/3Nzd/93c2//c3N3/3Nzd/93c2//d3Nv/3Nzd/93c2//c3N3/3Nzd/9zc3f/c3N3/3dzb/93c2//c3N3/3dzb/9zc3f/c3N3/3dzb/7MDJv/c3N3/3Nzd/9zc3f/c3N3/3Nzd/93c2//c3N3/3dzb/93c2//d3Nv/3dzb/93c2//d3Nv/3Nzd/93c2//c3N3/3dzb/9zc3f/d3Nv/3Nzd/9zc3f/c3N3/3Nzd/9zc3f/c3N3/3Nzd/9zc3f/c3N3/3Nzd/9zc3f+zAyb/3dzb/9zc3f/c3N3/3Nzd/9zc3f/d3Nv/3dzb/9zc3f/c3N3/3Nzd/93c2//c3N3/3Nzd/9zc3f/d3Nv/3Nzd/93c2//c3N3/3Nzd/93c2//d3Nv/3dzb/93c2//c3N3/3dzb/9zc3f/c3N3/3Nzd/9zc3f/d3Nv/swMm/9zc3f/c3N3/3Nzd/93c2//d3Nv/3dzb/9zc3f/c3N3/3Nzd/93c2//c3N3/3dzb/93c2//d3Nv/3Nzd/93c2//c3N3/3Nzd/9zc3f/c3N3/3dzb/9zc3f/d3Nv/3dzb/93c2//d3Nv/3dzb/9zc3f/c3N3/3Nzd/7MDJv/c3N3/3Nzd/93c2//d3Nv/3tva/9vc3v/c3N3/3Nzd/93c2//d3Nv/3Nzd/9zc3f/c3N3/3Nzd/9zc3f/c3N3/3Nzd/9zc3f/c3N3/3Nzd/9zc3f/c3N3/3Nzd/9zc3f/c3N3/3dzb/9zc3f/c3N3/3Nzd/9zc3f+zAyb/3Nzd/9zc3f/d3Nv/3dzb/9rc3//b3N7/3Nzd/93c2//c3N3/3Nzd/9zc3f/c3N3/3Nzd/9zc3f/c3N3/3Nzd/9zc3f/c3N3/3Nzd/9zc3f/c3N3/3dzb/93c2//d3Nv/3Nzd/9zc3f/c3N3/3Nzd/9zc3f/c3N3/swMm/93c2//d3Nv/3tva/9rc3//b3N7/3Nzd/93c2//c3N3/3Nzd/93c2//d3Nv/3Nzd/93c2//c3N3/3Nzd/9zc3f/c3N3/3dzb/9zc3f/d3Nv/3dzb/9zc3f/c3N3/3dzb/93c2//c3N3/3dzb/93c2//c3N3/3dzb/7MDJv/d3Nv/3dzb/93c2//d3Nv/3dzb/93c2//c3N3/3dzb/9zc3f/d3Nv/3Nzd/93c2//c3N3/3dzb/93c2//d3Nv/3dzb/93c2//c3N3/3dzb/93c2//c3N3/3Nzd/9zc3f/d3Nv/3dzb/93c2//d3Nv/3dzb/93c2/+2DSj/2Nvh/+zRw//k2NH/3dzb/9zc3f/d3Nv/3dzb/93c2//d3Nv/3dzb/93c2//d3Nv/3dzb/93c2//d3Nv/3dzb/93c2//d3Nv/3Nzd/9zc3f/c3N3/3Nzd/93c2//d3Nv/3dzb/97b2v/d3Nv/3tva/93c2//Y2+H/3dzb/9zc3f/c3N3/3Nzd/93c2//c3N3/3Nzd/9zc3f/c3N3/3Nzd/9zc3f/c3N3/3Nzd/9zc3f/c3N3/3Nzd/93c2//c3N3/3Nzd/93c2//d3Nv/3dzb/93c2//c3N3/3Nzd/9vc3v/a3N//2tzf/93c2//s0cP/3Nzd/9/b2f/e29r/3dzb/9zc3f/d3Nv/3dzb/93c2//d3Nv/3dzb/93c2//d3Nv/3dzb/93c2//d3Nv/3Nzd/93c2//d3Nv/3Nzd/93c2//d3Nv/3dzb/93c2//c3N3/3Nzd/9zc3f/b3N7/29ze/93c2//k2NH/3Nzd/97b2v/d3Nv/3dzb/9zc3f/d3Nv/3dzb/93c2//d3Nv/3dzb/93c2//d3Nv/3dzb/93c2//d3Nv/3Nzd/9zc3f/d3Nv/3dzb/93c2//d3Nv/3Nzd/93c2//c3N3/3Nzd/9zc3f/c3N3/3Nzd/93c2//d3Nv/3Nzd/93c2//d3Nv/3dzb/9zc3f/d3Nv/3dzb/93c2//d3Nv/3dzb/93c2//d3Nv/3dzb/93c2//d3Nv/3dzb/93c2//c3N3/3dzb/9zc3f/d3Nv/3dzb/93c2//d3Nv/3dzb/93c2//d3Nv/3dzb/93c2//c3N3/3dzb/9zc3f/c3N3/3Nzd/93c2//c3N3/3Nzd/9zc3f/c3N3/3Nzd/9zc3f/c3N3/3Nzd/9zc3f/c3N3/3Nzd/9zc3f/c3N3/3Nzd/9zc3f/d3Nv/3Nzd/93c2//c3N3/3Nzd/93c2//c3N3/3Nzd/9zc3f/d3Nv/3Nzd/93c2//d3Nv/3dzb/9zc3f/d3Nv/3dzb/93c2//d3Nv/3dzb/93c2//d3Nv/3dzb/93c2//d3Nv/3Nzd/9zc3f/d3Nv/3Nzd/93c2//d3Nv/3Nzd/9zc3f/c3N3/3dzb/9zc3f/c3N3/3Nzd/93c2//d3Nv/3Nzd/93c2//d3Nv/3dzb/9zc3f/d3Nv/3dzb/93c2//d3Nv/3dzb/93c2//d3Nv/3dzb/93c2//d3Nv/3Nzd/9zc3f/d3Nv/3dzb/9zc3f/d3Nv/3dzb/93c2//c3N3/3dzb/9zc3f/c3N3/3dzb/9zc3f/d3Nv/3Nzd/93c2//d3Nv/3dzb/9zc3f/d3Nv/3dzb/93c2//d3Nv/3dzb/93c2//d3Nv/3dzb/93c2//d3Nv/3Nzd/93c2//c3N3/3dzb/9zc3f/c3N3/3dzb/9zc3f/d3Nv/3dzb/9zc3f/c3N3/3dzb/93c2//d3Nv/3Nzd/93c2//d3Nv/3dzb/9zc3f/d3Nv/3dzb/93c2//d3Nv/3dzb/93c2//d3Nv/3dzb/93c2//d3Nv/3Nzd/9zc3f/c3N3/3Nzd/93c2//d3Nv/3Nzd/93c2//c3N3/3Nzd/9zc3f/c3N3/3Nzd/9zc3f/d3Nv/3Nzd/93c2//d3Nv/3dzb/9zc3f/d3Nv/3dzb/93c2//d3Nv/3dzb/93c2//d3Nv/3dzb/93c2//d3Nv/3dzb/9zc3f/c3N3/3dzb/9zc3f/d3Nv/3dzb/9zc3f/d3Nv/3dzb/9zc3f/c3N3/3dzb/93c2//d3Nv/3Nzd/93c2//d3Nv/3dzb/9zc3f/d3Nv/3dzb/93c2//d3Nv/3dzb/93c2//d3Nv/3dzb/93c2//d3Nv/3Nzd/9zc3f/d3Nv/3Nzd/93c2//d3Nv/3Nzd/93c2//c3N3/3Nzd/9zc3f/c3N3/3Nzd/9zc3f/d3Nv/3Nzd/93c2//d3Nv/3dzb/9zc3f/d3Nv/3dzb/93c2//d3Nv/3dzb/93c2//d3Nv/3dzb/93c2//d3Nv/3Nzd/93c2//c3N3/3Nzd/93c2//c3N3/3Nzd/9zc3f/c3N3/3Nzd/9zc3f/c3N3/3Nzd/93c2//d3Nv/3Nzd/93c2//d3Nv/3dzb/9zc3f/d3Nv/3dzb/93c2//d3Nv/3dzb/93c2//d3Nv/3dzb/93c2//d3Nv/3Nzd/9zc3f/c3N3/3Nzd/9zc3f/c3N3/3Nzd/9zc3f/d3Nv/3Nzd/9zc3f/c3N3/3Nzd/93c2//d3Nv/3Nzd/93c2//d3Nv/3dzb/9zc3f/d3Nv/3dzb/93c2//d3Nv/3dzb/93c2//d3Nv/3dzb/93c2//d3Nv/3dzb/9zc3f/d3Nv/3dzb/93c2//d3Nv/3Nzd/9zc3f/d3Nv/3Nzd/9zc3f/c3N3/3Nzd/93c2//d3Nv/3Nzd/93c2//d3Nv/3dzb/9zc3f/d3Nv/3dzb/93c2//d3Nv/3dzb/93c2//d3Nv/3dzb/93c2//d3Nv/",
          "dtype": "u1",
          "shape": "30, 30, 4"
         }
        },
        {
         "marker": {
          "cmax": 1,
          "cmin": 0,
          "color": {
           "bdata": "NVB4OwCSqDumHhM7ndYNPHNnaDupEDE7x+6COwggxTv4yAw7lrEOPM4hjTwN/rI9w65eP5dAez1t5ZM+zeJ/P429gj94LII/BPOEP1JTgD/HT4s/dXGJPzGAhD+C5oA/YUOCP7nXkD+OQIE/x96EP1uvhz8bXIw/",
           "dtype": "f4"
          }
         },
         "type": "bar",
         "width": 0.9,
         "x": {
          "bdata": "AAECAwQFBgcICQoLDA0ODxAREhMUFRYXGBkaGxwd",
          "dtype": "i1"
         },
         "xaxis": "x2",
         "y": {
          "bdata": "IRmAP00RgD9V/H8/GyGAP9YNgD8WFIA/phOAPx0egD+L/38/bSSAPwRggD9VK4E/lul/P8w0gT/jNoE/7bVePyyuJz5LfoU+ZiBYPDGs6Dv3gvA7GTQIPIZepDsoerI7gUdtO3ivhTszxWg7x2d/O4J+JTvOv+E6",
          "dtype": "f4"
         },
         "yaxis": "y2"
        },
        {
         "colormodel": "rgba256",
         "customdata": {
          "bdata": "RzKAP8l+qjgf2CM4MxJKOd9RzjhIpYw5hRqHOSba+DhaKRw5V4qVOD9eBzn++S84kt77ugRcmDlEOhY6gsbRuks4wbkIWIm5Dy82uUIgwTrkJ9Y6a/fkuXcIhDoCbry5LWl2uTvz7DlrBWU6IwSmOCzYEbl8BqA3yX6qOJ0igD8gJX8363gduc/7k7inKNM4q5KNueOOGjgCE2a5Z4FOuYjOebYiRWe2C/qluc79xLmeXJ+2QDKJOoN61To3qBK7TT7euixJpDm6CYe6Oo54uSDFyjpcbg871geXOsZX0Do2bja6z/l5uiTIYbo0nig5H9gjOCAlfzep+H8/SuLwOK6FC7U/MLc4s6BruT7FKrfTXYG4YGXkt5wL4Dj20M62Es37ueaqlzZXWI06gcAmumc5HLpeBVS6CtKWuHZKGzlZoNc5jAEWuWB/X7nT+X46c4u4uXUKKDl2WzU699PfOdKPhjn/2Xs5MxJKOet4HblK4vA4P0KAP14BW7jUDwk5/5aBuTqB7LcR9Xg5qlm6uX0OJzikDJ05NFAXO6/uBbpQO5e6HkrLOsAdLzvI+bC7Vu4pOyq1FruP2yw7eU71uu2QxLrn9Fs67bMQulB9djqv0pm6XjGDuvk7JTdrmFE531HOOM/7k7iuhQu1XgFbuK4bgD8KxkO5SEIeOXbiibkObgC5jK8bOlFBADl/vsQ55dLiuhUrSjm7Kxm6AzIWOB8nurk70oS5OfOlOiaFwLrWnmY6nQ7ouXcdF7oS5nU6GXLCOXnVjjmIa606/7YZutEHhjgVz6Y5SKWMOaco0zg/MLc41A8JOQrGQ7kuKIA/qBWduFDzTTnlSEM5nzIsOXZJKriZglu53LEQu/hqK7letIk61QikObDZjDfVdbk3hJtDugyJpzj2haa5IkUuOH3fkjhMILw48So9OWDyvDmv0gK5Bt1POXCcAzkJXlW3hRqHOauSjbmzoGu5/5aBuUhCHjmoFZ24USeAP0oNajm+gsC49uC6ONKUMDmSk9O3OFFQt2x2M7m7FB86JEM3OoadArtHsye53oIyOkDInbgRllO6ozAnu6RH4TmF6sk6sqLIuavbCToLRJm5AQEvOSZnVjg3Vge4Jtr4OOOOGjg+xSq3OoHst3biiblQ8005Sg1qOUI8gD86myO5/2POtsawJDl29JO5zOyGuUyXCjiUFw26Z/csO+T5D7uiv2+7suKmuicUKjjOboK6FYK/uoesU7n8d6U5NkD7Oq7ja7kH83U6EeVCOsm0wrna1P85WikcOQITZrnTXYG4EfV4OQ5uALnlSEM5voLAuDqbI7kW/38/u7WkuZhvR7inxoC59+2buZAZCTlN21M67mmIujaKkjqeSn05ne7YOEeCKjrnHSW6K8hbOZ5mPLkj6Xs5bAKdORyWkDgdMpu4HlmguKRh1rjrA9C4V4qVOGeBTrlgZeS3qlm6uYyvGzqfMiw59uC6OP9jzra7taS55EiAPwVBfTmLDDQ68iYUur3XEbrS4HO6kPyJOGDYljthSzK7rK+VO5AkKbtBLlc6Iae1ubYUyDq3GUG7mH+AusR947rxR0q6/OrnOSAwUbqEnb24P14HOYjOebacC+A4fQ4nOFFBADl2SSq40pQwOcawJDmYb0e4BUF9OVDAgD+Jah46EZi8u0uMo7gMGgE722YTvEoHpDsbgiI8rjr2OcZnsjvtCn4751S/OMFrsTp+kMi6CZrdOT5cGjnhLM86Axj7Ove+HDqSKXA6/vkvOCJFZ7b20M62pAydOX++xDmZglu5kpPTt3b0k7mnxoC5iww0OolqHjpmWYI/KAvvOQA0ljsQXUs8NMImOrfBsb1jcLU7G38LO7yH4zoV9hO7ezUCO9KrLLtjJS87Zp30uhyQ3jf0SHC64BWMOnYqlLppdSs6kt77ugv6pbkSzfu5NFAXO+XS4rrcsRC7OFFQt8zshrn37Zu58iYUuhGYvLsoC+85LdN/P8B8mTs7p786tpZevwUzp7s7kZy6ktGeuR8ejbj+VGM7CidNu3PHrbrmSBu6F2k5OmxdHjsNngM6SKmKOns/gTro3WQ6BFyYOc79xLnmqpc2r+4FuhUrSjn4aiu5bHYzuUyXCjiQGQk5vdcRukuMo7gANJY7wHyZO4Bsgj+fqeq7Yth7O01Rdj1sIg484P0/OuuUjTms29S6osp8u5QS5zp6g5c69SS7uodGkzmr8sq6Gf7uOtLcu7p/iFA5RDoWOp5cn7ZXWI06UDuXursrGbpetIk6uxQfOpQXDbpN21M60uBzugwaATsQXUs8O6e/Op+p6ru5cII/CMEsO1IVAD7TeIa+GkQ/vOhLkDp44g+7x++wOwhj7bqNU9C4djrYOX8O+TpHzAY6Wr/dOpBTxDn9fC46gsbRukAyiTqBwCa6HkrLOgMyFjjVCKQ5JEM3Omf3LDvuaYi6kPyJONtmE7w0wiY6tpZev2LYezsIwSw7CcBBPwwOrDutJKq48ytpOSXOprcP7kq75VExO2xglDoLORE6peYkumYoCbv/T/q550tzusZBZroE5Ui6SzjBuYN61TpnORy6wB0vOx8nurmw2Yw3hp0Cu+T5D7s2ipI6YNiWO0oHpDu3wbG9BTOnu01Rdj1SFQA+DA6sO2ep2zyoWQW9LGjMuiosKTf+Diu5Ay2VOaplBzk6EEm5x2P4ONx4dTmjrTg4+NRsORs1VjhyjRg4CFiJuTeoErteBVS6yPmwuzvShLnVdbk3R7MnuaK/b7ueSn05YUsyuxuCIjxjcLU7O5GcumwiDjzTeIa+rSSquKhZBb3wOIs94MJFOxNzR7kEBhM6tsi0ukzV9zny9x44ZOcJuaHCALqmIAe5cJnNuR7i27hsAie5Dy82uU0+3roK0pa4Vu4pOznzpTqEm0O63oIyOrLiprqd7tg4rK+VO6469jkbfws7ktGeueD9PzoaRD+88ytpOSxozLrgwkU7sHY2OUK63LdFcA44QxiJuHTDjzf+9MW2Od+mty0p+bf6YGK3XACGtwcVHbfZYtO2QiDBOixJpDl2Shs5KrUWuyaFwLoMiac4QMiduCcUKjhHgio6kCQpu8Znsju8h+M6Hx6NuOuUjTnoS5A6Jc6mtyosKTcTc0e5Qrrct454Uzhr6dw2iEZqNz02czb3IpQ1PXQ0NvYmxzY0/jg3rmmINy9bNzYBkc425CfWOroJh7pZoNc5j9ssO9aeZjr2haa5EZZTus5ugrrnHSW6QS5XOu0KfjsV9hO7/lRjO6zb1Lp44g+7D+5Ku/4OK7kEBhM6RXAOOGvp3DbS9WE4zKDBtzUlizbq95+3lwOLNqKEmDbgajE3qt4rtNriLDdHeno2a/fkuTqOeLmMARa5eU71up0O6LkiRS44ozAnuxWCv7oryFs5Iae1uedUvzh7NQI7CidNu6LKfLvH77A75VExOwMtlTm2yLS6QxiJuIhGajfMoMG3yu6QOFdkhrdyr3+2ssCUNR9QvrULWs82qwzINcysSDaN0/kzdwiEOiDFyjpgf1+57ZDEuncdF7p935I4pEfhOYesU7meZjy5thTIOsFrsTrSqyy7c8etupQS5zoIY+26bGCUOqplBzlM1fc5dMOPNz02czY1JYs2V2SGt38S0zfICBW3gcS5Ne3b57b1NSO1kTrItJKoY7bGmkO2Am68uVxuDzvT+X465/RbOhLmdTpMILw4herJOvx3pTkj6Xs5txlBu36QyLpjJS875kgbunqDlzqNU9C4CzkROjoQSbny9x44/vTFtvcilDXq95+3cq9/tsgIFbc13Pg3tVAntkO2FDfK0sC2itc8tr6xs7a1B7E1LWl2udYHlzpzi7i57bMQuhlywjnxKj05sqLIuTZA+zpsAp05mH+Augma3TlmnfS6F2k5OvUku7p2Otg5peYkusdj+Dhk5wm5Od+mtz10NDaXA4s2ssCUNYHEuTW1UCe2eO1bN/WcmDYxz/42MJsUtiXUjDaZd3g1O/PsOcZX0Dp1Cig5UH12OnnVjjlg8rw5q9sJOq7ja7kclpA4xH3juj5cGjkckN43bF0eO4dGkzl/Dvk6ZigJu9x4dTmhwgC6LSn5t/YmxzaihJg2H1C+te3b57ZDthQ39ZyYNpafizcd6tM1Sn5YNuX+RDbsCos2awVlOjZuNrp2WzU6r9KZuohrrTqv0gK5C0SZuQfzdTodMpu48UdKuuEszzr0SHC6DZ4DOqvyyrpHzAY6/0/6uaOtODimIAe5+mBitzT+ODfgajE3C1rPNvU1I7XK0sC2Mc/+Nh3q0zUFplM3RSMhNt/nwjbH7w82IwSmOM/5ebr30985XjGDuv+2GboG3U85AQEvORHlQjoeWaC4/OrnOQMY+zrgFYw6SKmKOhn+7jpav90650tzuvjUbDlwmc25XACGt65piDeq3iu0qwzINZE6yLSK1zy2MJsUtkp+WDZFIyE26s9+N27pKbUHLp02LNgRuSTIYbrSj4Y5+TslN9EHhjhwnAM5JmdWOMm0wrmkYda4IDBRuve+HDp2KpS6ez+BOtLcu7qQU8Q5xkFmuhs1Vjge4tu4BxUdty9bNzba4iw3zKxINpKoY7a+sbO2JdSMNuX+RDbf58I2bukptaT41TboggY1fAagNzSeKDn/2Xs5a5hRORXPpjkJXlW3N1YHuNrU/znrA9C4hJ29uJIpcDppdSs66N1kOn+IUDn9fC46BOVIunKNGDhsAie52WLTtgGRzjZHeno2jdP5M8aaQ7a1B7E1mXd4NewKizbH7w82By6dNuiCBjW3Ekc2",
          "dtype": "f4",
          "shape": "30, 30"
         },
         "hovertemplate": "foo\n",
         "type": "image",
         "xaxis": "x9",
         "yaxis": "y9",
         "z": {
          "bdata": "swMm/93c2//d3Nv/3dzb/93c2//d3Nv/3dzb/93c2//d3Nv/3dzb/93c2//d3Nv/3Nzd/93c2//d3Nv/3Nzd/9zc3f/c3N3/3Nzd/93c2//d3Nv/3Nzd/93c2//c3N3/3Nzd/93c2//d3Nv/3dzb/9zc3f/d3Nv/3dzb/7MDJv/d3Nv/3Nzd/9zc3f/d3Nv/3Nzd/93c2//c3N3/3Nzd/9zc3f/c3N3/3Nzd/9zc3f/c3N3/3dzb/93c2//c3N3/3Nzd/93c2//c3N3/3Nzd/93c2//d3Nv/3dzb/93c2//c3N3/3Nzd/9zc3f/d3Nv/3dzb/93c2/+zAyb/3dzb/9zc3f/d3Nv/3Nzd/9zc3f/c3N3/3Nzd/93c2//c3N3/3Nzd/93c2//d3Nv/3Nzd/9zc3f/c3N3/3Nzd/93c2//d3Nv/3Nzd/9zc3f/d3Nv/3Nzd/93c2//d3Nv/3dzb/93c2//d3Nv/3dzb/9zc3f/d3Nv/swMm/9zc3f/d3Nv/3Nzd/9zc3f/d3Nv/3Nzd/93c2//d3Nv/3dzb/9zc3f/c3N3/3dzb/93c2//c3N3/3dzb/9zc3f/d3Nv/3Nzd/9zc3f/d3Nv/3Nzd/93c2//c3N3/3Nzd/93c2//d3Nv/3dzb/9zc3f/c3N3/3Nzd/7MDJv/c3N3/3dzb/9zc3f/c3N3/3dzb/93c2//d3Nv/3Nzd/93c2//c3N3/3dzb/9zc3f/c3N3/3dzb/9zc3f/d3Nv/3Nzd/9zc3f/d3Nv/3dzb/93c2//d3Nv/3Nzd/93c2//d3Nv/3dzb/93c2//d3Nv/3dzb/9zc3f+zAyb/3Nzd/93c2//d3Nv/3dzb/9zc3f/c3N3/3Nzd/9zc3f/d3Nv/3dzb/93c2//d3Nv/3Nzd/93c2//c3N3/3dzb/93c2//d3Nv/3dzb/93c2//c3N3/3dzb/93c2//c3N3/3dzb/9zc3f/c3N3/3Nzd/93c2//c3N3/swMm/93c2//c3N3/3dzb/93c2//c3N3/3Nzd/9zc3f/d3Nv/3dzb/9zc3f/c3N3/3dzb/9zc3f/c3N3/3Nzd/93c2//d3Nv/3Nzd/93c2//c3N3/3dzb/93c2//c3N3/3dzb/93c2//c3N3/3Nzd/9zc3f/d3Nv/3dzb/7MDJv/c3N3/3Nzd/93c2//c3N3/3Nzd/93c2//c3N3/3dzb/9zc3f/c3N3/3Nzd/93c2//c3N3/3Nzd/9zc3f/d3Nv/3dzb/9zc3f/d3Nv/3dzb/9zc3f/d3Nv/3dzb/9zc3f/c3N3/3dzb/9zc3f/d3Nv/3Nzd/9zc3f+zAyb/3Nzd/9zc3f/c3N3/3Nzd/93c2//d3Nv/3Nzd/93c2//d3Nv/3dzb/93c2//c3N3/3dzb/9zc3f/d3Nv/3dzb/93c2//c3N3/3Nzd/9zc3f/c3N3/3dzb/9zc3f/c3N3/3Nzd/93c2//d3Nv/3dzb/9zc3f/c3N3/swMm/93c2//d3Nv/3Nzd/9zc3f/c3N3/3dzb/93c2//c3N3/3dzb/9zc3f/d3Nv/3Nzd/93c2//c3N3/3Nzd/9zc3f/c3N3/3dzb/9zc3f/c3N3/3dzb/9zc3f/d3Nv/3dzb/93c2//c3N3/3dzb/93c2//c3N3/3dzb/7MDJv/d3Nv/3Nzd/9zc3f/d3Nv/29ze/93c2//e29r/3dzb/93c2//d3Nv/3dzb/93c2//c3N3/3dzb/93c2//d3Nv/3dzb/93c2//d3Nv/3dzb/9zc3f/c3N3/3dzb/93c2//c3N3/3Nzd/9zc3f/c3N3/3dzb/93c2/+zAyb/3dzb/93c2//e29r/3dzb/9Da6f/d3Nv/3dzb/93c2//c3N3/3dzb/9zc3f/d3Nv/3Nzd/93c2//c3N3/3dzb/9zc3f/d3Nv/3Nzd/9zc3f/c3N3/3dzb/9zc3f/c3N3/3Nzd/9zc3f/c3N3/3Nzd/9zc3f/d3Nv/swMm/93c2//d3Nv/TWfX/9zc3f/c3N3/3Nzd/9zc3f/d3Nv/3Nzd/9zc3f/c3N3/3dzb/93c2//d3Nv/3dzb/93c2//d3Nv/3dzb/9zc3f/d3Nv/3Nzd/93c2//c3N3/3Nzd/93c2//d3Nv/3Nzd/9zc3f/d3Nv/3dzb/7MDJv/c3N3/3dzb/+TY0f/e29r/3dzb/93c2//c3N3/3Nzd/93c2//d3Nv/3Nzd/93c2//c3N3/3dzb/9zc3f/d3Nv/3dzb/9zc3f/d3Nv/3Nzd/9zc3f/d3Nv/3dzb/9zc3f/d3Nv/3Nzd/93c2//e29r/3dzb/9zc3f+zAyb/3dzb/+zSxP+2zvn/29ze/93c2//c3N3/3dzb/9zc3f/c3N3/3dzb/93c2//d3Nv/3dzb/93c2//d3Nv/3Nzd/93c2//c3N3/3dzb/93c2//d3Nv/3dzb/93c2//c3N3/3dzb/9vc3v/d3Nv/TWfX/93c2//d3Nv/3F5L/93c2//c3N3/3dzb/9zc3f/c3N3/3dzb/93c2//d3Nv/3Nzd/9zc3f/c3N3/3Nzd/9zc3f/c3N3/3Nzd/93c2//c3N3/3dzb/9zc3f/d3Nv/3Nzd/9zc3f/d3Nv/3dzb/93c2//Q2un/3Nzd/+TY0f/s0sT/3dzb/+Da1//Y2+H/3Nzd/93c2//c3N3/3dzb/93c2//c3N3/3dzb/93c2//d3Nv/3dzb/93c2//d3Nv/3Nzd/9zc3f/c3N3/3Nzd/9zc3f/d3Nv/3Nzd/9zc3f/d3Nv/3Nzd/97b2v/d3Nv/3Nzd/97b2v+2zvn/3Nzd/9jb4f/l2ND/3dzb/9zc3f/d3Nv/3Nzd/93c2//d3Nv/3Nzd/9zc3f/c3N3/3Nzd/9zc3f/c3N3/3Nzd/9zc3f/c3N3/3dzb/93c2//c3N3/3dzb/9zc3f/d3Nv/3dzb/93c2//d3Nv/3Nzd/93c2//b3N7/3dzb/9zc3f/d3Nv/3dzb/9zc3f/d3Nv/3Nzd/93c2//c3N3/3Nzd/9zc3f/c3N3/3Nzd/9zc3f/c3N3/3dzb/93c2//d3Nv/3Nzd/9zc3f/d3Nv/3Nzd/93c2//d3Nv/3Nzd/93c2//d3Nv/3Nzd/93c2//d3Nv/3Nzd/93c2//c3N3/3Nzd/93c2//d3Nv/3dzb/93c2//d3Nv/3dzb/93c2//d3Nv/3dzb/93c2//d3Nv/3dzb/9zc3f/d3Nv/3dzb/93c2//c3N3/3Nzd/9zc3f/c3N3/3dzb/93c2//c3N3/3dzb/9zc3f/c3N3/3Nzd/9zc3f/d3Nv/3dzb/93c2//d3Nv/3Nzd/93c2//c3N3/3dzb/93c2//d3Nv/3Nzd/93c2//d3Nv/3Nzd/9zc3f/c3N3/3Nzd/9zc3f/d3Nv/3Nzd/9zc3f/d3Nv/3Nzd/93c2//d3Nv/3Nzd/9zc3f/d3Nv/3dzb/93c2//c3N3/3Nzd/93c2//c3N3/3dzb/9zc3f/c3N3/3dzb/9zc3f/d3Nv/3dzb/93c2//d3Nv/3dzb/93c2//c3N3/3Nzd/9zc3f/d3Nv/3dzb/9zc3f/c3N3/3dzb/93c2//c3N3/3Nzd/93c2//c3N3/3dzb/93c2//d3Nv/3dzb/93c2//d3Nv/3Nzd/93c2//c3N3/3dzb/9zc3f/c3N3/3Nzd/9zc3f/c3N3/3Nzd/93c2//d3Nv/3dzb/93c2//d3Nv/3dzb/93c2//d3Nv/3Nzd/9zc3f/d3Nv/3Nzd/93c2//c3N3/3dzb/9zc3f/d3Nv/3Nzd/93c2//c3N3/3Nzd/9zc3f/d3Nv/3Nzd/93c2//c3N3/3Nzd/9zc3f/d3Nv/3Nzd/93c2//c3N3/3Nzd/93c2//d3Nv/3Nzd/93c2//d3Nv/3Nzd/93c2//c3N3/3dzb/9zc3f/d3Nv/3Nzd/93c2//c3N3/3Nzd/93c2//d3Nv/3dzb/93c2//c3N3/3dzb/93c2//d3Nv/3Nzd/93c2//d3Nv/3dzb/93c2//d3Nv/3dzb/93c2//d3Nv/3dzb/9zc3f/d3Nv/3Nzd/93c2//d3Nv/3dzb/93c2//d3Nv/3Nzd/93c2//c3N3/3Nzd/93c2//d3Nv/3Nzd/9zc3f/d3Nv/3dzb/93c2//d3Nv/3dzb/93c2//d3Nv/3dzb/9zc3f/d3Nv/3Nzd/93c2//c3N3/3Nzd/93c2//c3N3/3Nzd/93c2//c3N3/3dzb/9zc3f/d3Nv/3Nzd/93c2//c3N3/3Nzd/93c2//d3Nv/3dzb/9zc3f/c3N3/3dzb/93c2//d3Nv/3dzb/93c2//d3Nv/3dzb/9zc3f/d3Nv/3Nzd/9zc3f/d3Nv/3dzb/93c2//c3N3/3dzb/93c2//d3Nv/3dzb/93c2//d3Nv/3Nzd/93c2//c3N3/3Nzd/93c2//c3N3/3dzb/9zc3f/c3N3/3Nzd/93c2//d3Nv/3dzb/9zc3f/d3Nv/3Nzd/9zc3f/d3Nv/3dzb/93c2//d3Nv/3dzb/9zc3f/c3N3/3Nzd/93c2//c3N3/3dzb/9zc3f/d3Nv/3Nzd/93c2//c3N3/3Nzd/93c2//d3Nv/3dzb/9zc3f/c3N3/3dzb/93c2//d3Nv/3Nzd/93c2//d3Nv/3dzb/93c2//d3Nv/3dzb/93c2//c3N3/3Nzd/93c2//c3N3/3Nzd/93c2//d3Nv/3dzb/93c2//d3Nv/3Nzd/93c2//c3N3/3Nzd/93c2//d3Nv/3dzb/9zc3f/d3Nv/3dzb/93c2//d3Nv/3dzb/93c2//d3Nv/",
          "dtype": "u1",
          "shape": "30, 30, 4"
         }
        },
        {
         "marker": {
          "cmax": 1,
          "cmin": 0,
          "color": {
           "bdata": "JuDqO3ZA8Tuxnro7ghwUPC3fkDsIxqU70stIPNBVQzyhYhE80YFnP1VfgD/l7Xg/28R2P0lAgj8NMX4/MTyAP59Mgj9tCoM/rJSDP73Agz8RYYk/A5WEP7SJpT/z9KQ/8dqkP8g5rj92TqM/SFSjP8Qbkj87H6o/",
           "dtype": "f4"
          }
         },
         "type": "bar",
         "width": 0.9,
         "x": {
          "bdata": "AAECAwQFBgcICQoLDA0ODxAREhMUFRYXGBkaGxwd",
          "dtype": "i1"
         },
         "xaxis": "x3",
         "y": {
          "bdata": "ryqAP6UxgD+iH4A/uh+APxcrgD/pIYA/4kOAP6c/gD9lDYA/sZOEP04/gj98lIM/37+DP4RegD+4CoM/j0uCP4k6gD/+L34/bOx4P7jBdj9q1XY87X5nP6B5BjxSqvQ7giMdPGol8zsNBpw7Y/ZhO2BTlDtjxJw7",
          "dtype": "f4"
         },
         "yaxis": "y3"
        },
        {
         "colormodel": "rgba256",
         "customdata": {
          "bdata": "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",
          "dtype": "f4",
          "shape": "30, 30"
         },
         "hovertemplate": "foo\n",
         "type": "image",
         "xaxis": "x10",
         "yaxis": "y10",
         "z": {
          "bdata": "swMm/9zc3f/c3N3/3Nzd/9zc3f/d3Nv/3dzb/9zc3f/c3N3/3Nzd/9zc3f/d3Nv/3Nzd/93c2//c3N3/3dzb/9zc3f/d3Nv/3dzb/9zc3f/d3Nv/3dzb/93c2//c3N3/3dzb/93c2//c3N3/3Nzd/93c2//c3N3/3Nzd/7MDJv/c3N3/3Nzd/9zc3f/c3N3/3Nzd/93c2//c3N3/3dzb/9zc3f/c3N3/3Nzd/9zc3f/c3N3/3Nzd/9zc3f/c3N3/3Nzd/9zc3f/c3N3/3dzb/9zc3f/c3N3/3dzb/9zc3f/d3Nv/3dzb/9zc3f/d3Nv/3Nzd/9zc3f+zAyb/3dzb/9zc3f/d3Nv/3Nzd/93c2//d3Nv/3Nzd/9zc3f/c3N3/3Nzd/93c2//c3N3/3Nzd/93c2//d3Nv/3Nzd/93c2//d3Nv/3dzb/93c2//c3N3/3Nzd/93c2//c3N3/3dzb/9zc3f/d3Nv/3Nzd/9zc3f/d3Nv/swMm/93c2//d3Nv/3Nzd/93c2//c3N3/3Nzd/9zc3f/d3Nv/3Nzd/9zc3f/d3Nv/3Nzd/9zc3f/c3N3/3Nzd/93c2//c3N3/3dzb/93c2//c3N3/3dzb/9zc3f/c3N3/3Nzd/9zc3f/d3Nv/3Nzd/9zc3f/c3N3/3dzb/7MDJv/d3Nv/3dzb/9zc3f/c3N3/3Nzd/9zc3f/c3N3/3dzb/93c2//c3N3/3dzb/9zc3f/d3Nv/3Nzd/9zc3f/d3Nv/3dzb/93c2//c3N3/3Nzd/9zc3f/d3Nv/3Nzd/9zc3f/d3Nv/3dzb/9zc3f/d3Nv/3dzb/93c2/+zAyb/3dzb/93c2//d3Nv/3Nzd/9zc3f/d3Nv/3Nzd/93c2//d3Nv/3dzb/93c2//c3N3/3Nzd/93c2//d3Nv/3dzb/9zc3f/c3N3/3dzb/93c2//c3N3/3dzb/93c2//d3Nv/3dzb/9zc3f/c3N3/3Nzd/93c2//d3Nv/swMm/9zc3f/d3Nv/3Nzd/93c2//c3N3/3dzb/93c2//c3N3/3Nzd/9zc3f/c3N3/3dzb/9zc3f/b3N7/3dzb/93c2//d3Nv/3dzb/93c2//d3Nv/3Nzd/9zc3f/d3Nv/3Nzd/93c2//d3Nv/3dzb/9zc3f/d3Nv/3Nzd/7MDJv/c3N3/3Nzd/93c2//d3Nv/3Nzd/9zc3f/d3Nv/3Nzd/9zc3f/d3Nv/3Nzd/93c2//b3N7/3Nzd/93c2//d3Nv/3Nzd/9zc3f/d3Nv/3dzb/93c2//d3Nv/3Nzd/9zc3f/d3Nv/3Nzd/9zc3f/d3Nv/3dzb/9zc3f+zAyb/3Nzd/9zc3f/d3Nv/3Nzd/93c2//c3N3/3Nzd/93c2//d3Nv/3Nzd/93c2//d3Nv/3dzb/93c2//c3N3/3dzb/9zc3f/c3N3/3dzb/9zc3f/d3Nv/3Nzd/93c2//c3N3/3Nzd/9zc3f/c3N3/3Nzd/9zc3f/c3N3/swMm/93c2//d3Nv/3Nzd/9zc3f/d3Nv/3dzb/93c2//c3N3/3Nzd/93c2//d3Nv/Q1rM/93c2//c3N3/3dzb/9zc3f/c3N3/3Nzd/93c2//c3N3/3Nzd/9zc3f/c3N3/3Nzd/9zc3f/c3N3/3dzb/93c2//c3N3/3dzb/7MDJv/d3Nv/3Nzd/zpMwP/d3Nv/3dzb/93c2//d3Nv/3dzb/93c2//d3Nv/3Nzd/93c2//c3N3/3dzb/9zc3f/d3Nv/3dzb/9zc3f/d3Nv/3dzb/9zc3f/c3N3/3dzb/9zc3f/d3Nv/3Nzd/93c2//d3Nv/3dzb/93c2/+zAyb/3Nzd/9zc3f/c3N3/3dzb/9zc3f/c3N3/OkzA/93c2//d3Nv/3Nzd/93c2//d3Nv/3dzb/93c2//d3Nv/3Nzd/93c2//c3N3/3Nzd/9zc3f/c3N3/3Nzd/93c2//c3N3/3dzb/9zc3f/c3N3/3Nzd/9zc3f/c3N3/swMm/9zc3f/d3Nv/3dzb/9zc3f/d3Nv/3Nzd/ztNwf/c3N3/3dzb/93c2//c3N3/3dzb/9zc3f/d3Nv/3Nzd/93c2//c3N3/3dzb/9zc3f/d3Nv/3Nzd/93c2//d3Nv/3dzb/9zc3f/d3Nv/3Nzd/zpMwP/c3N3/3Nzd/7MDJv/c3N3/3Nzd/9zc3f/d3Nv/3Nzd/93c2//c3N3/3dzb/9zc3f/d3Nv/3Nzd/93c2//c3N3/3Nzd/93c2//c3N3/3Nzd/9zc3f/c3N3/3dzb/9zc3f/d3Nv/3Nzd/93c2//c3N3/3dzb/93c2//c3N3/3dzb/9zc3f+zAyb/3Nzd/9zc3f86TMD/3dzb/9zc3f/c3N3/3Nzd/93c2//d3Nv/3dzb/9zc3f/c3N3/3Nzd/93c2//c3N3/3dzb/9zc3f/c3N3/3Nzd/93c2//d3Nv/3Nzd/9zc3f/c3N3/3dzb/93c2//d3Nv/3dzb/9zc3f/c3N3/swMm/zpMwP/d3Nv/3Nzd/9zc3f/d3Nv/3Nzd/9zc3f/d3Nv/3Nzd/93c2//d3Nv/3Nzd/93c2//d3Nv/3Nzd/9zc3f/d3Nv/3Nzd/9zc3f/d3Nv/3Nzd/9zc3f/d3Nv/3dzb/93c2//c3N3/3Nzd/9zc3f/c3N3/OkzA/7MDJv/d3Nv/3dzb/93c2//c3N3/3dzb/93c2//c3N3/3dzb/9zc3f/c3N3/3dzb/9zc3f/c3N3/3dzb/9zc3f/d3Nv/3Nzd/93c2//c3N3/3Nzd/93c2//d3Nv/3Nzd/93c2//c3N3/3dzb/93c2/86TMD/3dzb/93c2/+1CCf/3dzb/9zc3f/d3Nv/3dzb/9zc3f/c3N3/3Nzd/93c2//d3Nv/3dzb/9zc3f/d3Nv/3dzb/9zc3f/c3N3/3Nzd/9zc3f/c3N3/3dzb/9zc3f/c3N3/3Nzd/93c2/86TMD/3Nzd/9zc3f/d3Nv/3Nzd/93c2//d3Nv/vB8s/9zc3f/c3N3/3dzb/9zc3f/c3N3/3Nzd/9zc3f/c3N3/3dzb/9zc3f/d3Nv/3Nzd/9zc3f/d3Nv/3dzb/9zc3f/d3Nv/3Nzd/93c2//d3Nv/3dzb/93c2//d3Nv/O03B/93c2//c3N3/3Nzd/93c2//c3N3/3Nzd/8EqMP/d3Nv/3Nzd/9zc3f/d3Nv/3Nzd/93c2//c3N3/3dzb/9zc3f/d3Nv/3dzb/9zc3f/d3Nv/3Nzd/93c2//d3Nv/29ze/9vc3v/d3Nv/3dzb/93c2//d3Nv/3Nzd/9zc3f/c3N3/3dzb/9zc3f/d3Nv/3Nzd/93c2//d3Nv/3Nzd/9zc3f/d3Nv/3Nzd/93c2//c3N3/3dzb/9zc3f/c3N3/3dzb/93c2//d3Nv/3dzb/93c2//d3Nv/3dzb/9zc3f/d3Nv/Q1rM/9zc3f/c3N3/3dzb/93c2//c3N3/3Nzd/93c2//d3Nv/3dzb/9zc3f/c3N3/001A/9zc3f/d3Nv/3Nzd/93c2//d3Nv/3dzb/9zc3f/d3Nv/3dzb/9zc3f/d3Nv/3dzb/93c2//c3N3/3dzb/93c2//d3Nv/3dzb/93c2//d3Nv/3dzb/9zc3f/d3Nv/3Nzd/93c2//c3N3/3Nzd/9zc3f/c3N3/3Nzd/93c2//c3N3/3dzb/9zc3f/d3Nv/3Nzd/93c2//c3N3/3Nzd/9zc3f/c3N3/3Nzd/9zc3f/c3N3/3dzb/93c2//c3N3/3Nzd/9zc3f/d3Nv/3Nzd/93c2//d3Nv/3dzb/9zc3f/c3N3/3Nzd/93c2//d3Nv/3dzb/9zc3f/d3Nv/3Nzd/93c2//d3Nv/3Nzd/93c2//d3Nv/3dzb/93c2//c3N3/3dzb/9zc3f/d3Nv/3dzb/9zc3f/d3Nv/3dzb/93c2//d3Nv/3dzb/9zc3f/d3Nv/3Nzd/93c2//c3N3/3Nzd/9zc3f/c3N3/3Nzd/93c2//c3N3/3dzb/9zc3f/c3N3/3Nzd/9zc3f/c3N3/3dzb/9zc3f/d3Nv/3Nzd/9zc3f/d3Nv/3dzb/9zc3f/c3N3/3Nzd/9zc3f/d3Nv/3Nzd/93c2//c3N3/3dzb/9zc3f/d3Nv/3Nzd/93c2//d3Nv/3dzb/9zc3f/d3Nv/3Nzd/93c2//d3Nv/3dzb/93c2//d3Nv/3Nzd/93c2//c3N3/3Nzd/93c2//c3N3/3dzb/93c2//c3N3/3Nzd/93c2//d3Nv/3dzb/9zc3f/c3N3/3dzb/9zc3f/d3Nv/3Nzd/9zc3f/c3N3/3dzb/93c2//d3Nv/3Nzd/93c2//d3Nv/3dzb/9zc3f/d3Nv/3Nzd/93c2//d3Nv/3Nzd/9zc3f/d3Nv/3Nzd/93c2//d3Nv/3Nzd/93c2//c3N3/3Nzd/9zc3f/c3N3/3Nzd/93c2//d3Nv/3dzb/93c2//d3Nv/3dzb/9zc3f/c3N3/3Nzd/93c2//d3Nv/3dzb/9zc3f/d3Nv/3dzb/9zc3f/c3N3/3Nzd/9zc3f/d3Nv/3Nzd/93c2//c3N3/3dzb/9zc3f/d3Nv/3dzb/93c2//d3Nv/3dzb/9zc3f/c3N3/3Nzd/9zc3f/c3N3/3Nzd/93c2//d3Nv/3Nzd/93c2//c3N3/3Nzd/93c2//c3N3/3Nzd/93c2//d3Nv/3dzb/93c2//d3Nv/3dzb/93c2//d3Nv/3Nzd/93c2//c3N3/3Nzd/9zc3f/c3N3/3dzb/9zc3f/d3Nv/3dzb/93c2//c3N3/3dzb/9zc3f/d3Nv/3Nzd/93c2//d3Nv/3dzb/9zc3f/d3Nv/",
          "dtype": "u1",
          "shape": "30, 30, 4"
         }
        },
        {
         "marker": {
          "cmax": 1,
          "cmin": 0,
          "color": {
           "bdata": "6EX/O6HqBjykvqE7y+45PMgCvDsdUXA74POAP91bfD8RnwQ8/w53P6VUdz++IIE/SeCAPzTAfj+7NoE/dtCAP5P7gT8u14A/JqWAP+RlgT/6IIE/mcStP/Vugj/FiKQ/iduBPyVrqT9QV5s/ucWtP3GCsj/maaw/",
           "dtype": "f4"
          }
         },
         "type": "bar",
         "width": 0.9,
         "x": {
          "bdata": "AAECAwQFBgcICQoLDA0ODxAREhMUFRYXGBkaGxwd",
          "dtype": "i1"
         },
         "xaxis": "x4",
         "y": {
          "bdata": "oR6APzBHgD/iIIA/tDCAP1YlgD/4JIA/Lx+BP2n6gT8pKoA/fW2CP0fZgT+Z8YA/dTWBPzNjgT/Q34A/xqSAP19YfD87H4E/is+AP827fj9R1oA/z+p5PH8Mdz/bniQ8X1N3P26qpDvkvfY7JeXlO4rKzzumwgI8",
          "dtype": "f4"
         },
         "yaxis": "y4"
        },
        {
         "colormodel": "rgba256",
         "customdata": {
          "bdata": "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",
          "dtype": "f4",
          "shape": "30, 30"
         },
         "hovertemplate": "foo\n",
         "type": "image",
         "xaxis": "x11",
         "yaxis": "y11",
         "z": {
          "bdata": "swMm/9zc3f/c3N3/3dzb/9zc3f/d3Nv/3dzb/93c2//d3Nv/3dzb/9zc3f/d3Nv/3Nzd/93c2//c3N3/3dzb/9zc3f/d3Nv/3Nzd/9zc3f/c3N3/3Nzd/9zc3f/c3N3/3dzb/9zc3f/c3N3/3Nzd/9zc3f/c3N3/3Nzd/7MDJv/d3Nv/3dzb/9zc3f/c3N3/3Nzd/9zc3f/d3Nv/3Nzd/9zc3f/c3N3/3Nzd/93c2//d3Nv/3dzb/93c2//d3Nv/3Nzd/9zc3f/c3N3/3Nzd/9zc3f/d3Nv/3dzb/9zc3f/c3N3/3dzb/93c2//d3Nv/3Nzd/93c2/+zAyb/3dzb/9zc3f/d3Nv/3dzb/93c2//c3N3/3dzb/9zc3f/c3N3/3Nzd/93c2//c3N3/3dzb/93c2//d3Nv/3dzb/9zc3f/c3N3/3dzb/93c2//c3N3/3dzb/93c2//c3N3/3Nzd/9zc3f/d3Nv/3dzb/93c2//d3Nv/swMm/93c2//c3N3/3Nzd/93c2//c3N3/3Nzd/9zc3f/d3Nv/3dzb/9zc3f/c3N3/3Nzd/9zc3f/d3Nv/3Nzd/9zc3f/c3N3/3Nzd/93c2//d3Nv/3Nzd/9zc3f/d3Nv/3Nzd/93c2//c3N3/3Nzd/9zc3f/c3N3/3dzb/7MDJv/c3N3/3dzb/9zc3f/c3N3/3Nzd/9zc3f/c3N3/3dzb/93c2//c3N3/3dzb/93c2//d3Nv/3Nzd/9zc3f/c3N3/3Nzd/93c2//c3N3/3Nzd/93c2//d3Nv/3Nzd/9zc3f/c3N3/3dzb/9zc3f/d3Nv/3Nzd/9zc3f+zAyb/3dzb/9zc3f/c3N3/3dzb/9zc3f/c3N3/3dzb/9zc3f/c3N3/3Nzd/9zc3f/d3Nv/3Nzd/93c2//d3Nv/3Nzd/93c2//c3N3/3dzb/9zc3f/d3Nv/3Nzd/93c2//d3Nv/3dzb/9zc3f/d3Nv/3Nzd/93c2//d3Nv/swMm/93c2//d3Nv/3Nzd/9zc3f86TMD/3dzb/93c2//d3Nv/3Nzd/93c2//d3Nv/3dzb/9zc3f/c3N3/3Nzd/9zc3f/d3Nv/3dzb/9zc3f/c3N3/3dzb/93c2//d3Nv/3dzb/9zc3f/d3Nv/3dzb/9zc3f/c3N3/3dzb/7MDJv/c3N3/3dzb/93c2//d3Nv/3Nzd/9zc3f/d3Nv/3Nzd/zpMwP/d3Nv/3dzb/93c2//c3N3/3dzb/9zc3f/c3N3/3Nzd/9zc3f/d3Nv/3Nzd/93c2//d3Nv/3dzb/93c2//c3N3/3Nzd/9zc3f/c3N3/3dzb/9zc3f+zAyb/3Nzd/93c2//c3N3/3dzb/9zc3f/c3N3/3Nzd/93c2//d3Nv/3Nzd/93c2//c3N3/3Nzd/93c2//c3N3/3dzb/93c2//d3Nv/3dzb/93c2//d3Nv/3dzb/9zc3f/d3Nv/3Nzd/9zc3f/d3Nv/3Nzd/93c2//c3N3/swMm/9zc3f/c3N3/3Nzd/9zc3f/d3Nv/3dzb/9zc3f/d3Nv/3Nzd/93c2//c3N3/3dzb/zxPw//c3N3/3dzb/9zc3f/c3N3/3Nzd/9zc3f/c3N3/3Nzd/9zc3f/c3N3/3Nzd/9zc3f/c3N3/3Nzd/93c2//d3Nv/3Nzd/7MDJv/c3N3/3dzb/9zc3f/c3N3/3Nzd/93c2//d3Nv/3dzb/93c2//c3N3/3Nzd/93c2//c3N3/PE/D/93c2//c3N3/3Nzd/9zc3f/c3N3/3dzb/9zc3f/c3N3/3dzb/9zc3f/c3N3/OkzA/93c2//c3N3/3Nzd/9zc3f+zAyb/3dzb/93c2//c3N3/3dzb/9zc3f/c3N3/3Nzd/9zc3f/d3Nv/3dzb/93c2//c3N3/3Nzd/93c2//d3Nv/3Nzd/9zc3f/c3N3/3Nzd/9zc3f/c3N3/3dzb/93c2//d3Nv/3dzb/9zc3f/d3Nv/3Nzd/93c2//d3Nv/swMm/9zc3f86TMD/3dzb/93c2//c3N3/3dzb/9zc3f/d3Nv/3Nzd/93c2//d3Nv/3dzb/93c2//c3N3/3Nzd/9zc3f/c3N3/3dzb/93c2//d3Nv/3Nzd/93c2//c3N3/3dzb/9zc3f/c3N3/3Nzd/9zc3f/d3Nv/3Nzd/7MDJv/c3N3/3Nzd/93c2//d3Nv/3dzb/zpMwP/d3Nv/29ze/9zc3f/d3Nv/3Nzd/93c2//d3Nv/3dzb/93c2//c3N3/3Nzd/93c2//c3N3/3Nzd/9zc3f/c3N3/3dzb/93c2//c3N3/3dzb/9zc3f/c3N3/OkzA/9zc3f+zAyb/3dzb/9zc3f/d3Nv/3Nzd/93c2//c3N3/3dzb/9zc3f/c3N3/3Nzd/9zc3f/d3Nv/3dzb/93c2//d3Nv/3dzb/93c2//d3Nv/3Nzd/93c2//c3N3/3Nzd/9zc3f/c3N3/3dzb/9zc3f/d3Nv/3dzb/9zc3f/d3Nv/swMm/93c2//d3Nv/OkzA/93c2//c3N3/3dzb/9zc3f/c3N3/3dzb/9zc3f/c3N3/3Nzd/9zc3f/d3Nv/3Nzd/93c2//d3Nv/3Nzd/93c2//c3N3/3dzb/zpMwP/d3Nv/3Nzd/93c2//c3N3/3dzb/93c2//c3N3/3dzb/7gRKf/d3Nv/3dzb/9zc3f/d3Nv/3Nzd/93c2//d3Nv/3dzb/93c2//c3N3/3dzb/9zc3f/c3N3/3dzb/93c2//d3Nv/3dzb/93c2//d3Nv/3dzb/93c2//d3Nv/3dzb/93c2//c3N3/3Nzd/93c2//d3Nv/3dzb/93c2/+zAyb/3Nzd/9zc3f86TMD/3Nzd/9zc3f/c3N3/3Nzd/9zc3f/d3Nv/3Nzd/93c2//c3N3/3Nzd/9zc3f/d3Nv/3Nzd/9zc3f/c3N3/3dzb/93c2//c3N3/3Nzd/93c2//c3N3/3dzb/93c2//c3N3/OkzA/93c2//c3N3/swMm/9zc3f/d3Nv/3Nzd/93c2//d3Nv/3Nzd/93c2//d3Nv/3dzb/93c2//c3N3/3Nzd/9zc3f/c3N3/3Nzd/9zc3f/d3Nv/3Nzd/93c2//d3Nv/3dzb/93c2//c3N3/3Nzd/zpMwP/d3Nv/3dzb/9zc3f/c3N3/3Nzd/7UIJ//c3N3/3tva/9zc3f/c3N3/3Nzd/9zc3f/c3N3/3Nzd/9zc3f/d3Nv/3Nzd/9zc3f/c3N3/3Nzd/9zc3f/d3Nv/3Nzd/9zc3f/c3N3/3Nzd/9zc3f/d3Nv/3dzb/93c2//c3N3/3Nzd/93c2/86TMD/3dzb/9zc3f+zAyb/3dzb/93c2//d3Nv/3dzb/93c2//c3N3/3dzb/9zc3f/d3Nv/3Nzd/9zc3f/d3Nv/3Nzd/9zc3f/c3N3/3Nzd/93c2//c3N3/3dzb/9zc3f/d3Nv/3Nzd/9vc3v/d3Nv/3dzb/9zc3f/c3N3/3Nzd/97b2v/d3Nv/3dzb/9zc3f/c3N3/3dzb/9zc3f/d3Nv/3Nzd/9zc3f/d3Nv/3Nzd/9zc3f/d3Nv/3dzb/93c2//d3Nv/3Nzd/9zc3f/d3Nv/PE/D/93c2//d3Nv/3dzb/9zc3f/c3N3/3Nzd/93c2//c3N3/3dzb/9zc3f/d3Nv/3Nzd/78oLv/d3Nv/3Nzd/93c2//d3Nv/3dzb/93c2//d3Nv/3Nzd/93c2//c3N3/3dzb/9zc3f/c3N3/3dzb/9zc3f/c3N3/3Nzd/9zc3f/c3N3/3dzb/93c2//c3N3/3Nzd/93c2//c3N3/3dzb/9zc3f/d3Nv/3Nzd/93c2//d3Nv/3dzb/93c2//c3N3/3dzb/93c2//d3Nv/3dzb/93c2//d3Nv/3Nzd/9zc3f/d3Nv/3dzb/9zc3f/d3Nv/3dzb/zxPw//c3N3/3dzb/9zc3f/c3N3/3dzb/93c2//c3N3/3Nzd/9zc3f/d3Nv/3dzb/9zc3f/d3Nv/vygu/9zc3f/d3Nv/3dzb/93c2//d3Nv/3Nzd/9zc3f/d3Nv/3Nzd/93c2//c3N3/3Nzd/9zc3f/d3Nv/3Nzd/93c2//d3Nv/3dzb/93c2//c3N3/3Nzd/93c2//c3N3/3dzb/9zc3f/d3Nv/3Nzd/93c2//d3Nv/3Nzd/93c2//d3Nv/3dzb/93c2//c3N3/3Nzd/9zc3f/c3N3/3dzb/93c2//d3Nv/3Nzd/93c2//d3Nv/3Nzd/9zc3f/d3Nv/3Nzd/93c2//d3Nv/3Nzd/9zc3f/d3Nv/3dzb/9zc3f/c3N3/3dzb/93c2//c3N3/3dzb/93c2//d3Nv/3Nzd/93c2//c3N3/3Nzd/93c2//c3N3/3Nzd/9zc3f/c3N3/3dzb/9zc3f/d3Nv/3Nzd/9zc3f/c3N3/3Nzd/93c2//d3Nv/3Nzd/93c2//c3N3/3dzb/9zc3f/d3Nv/3Nzd/93c2//d3Nv/3dzb/93c2//c3N3/3dzb/93c2//d3Nv/3Nzd/93c2//c3N3/3dzb/9zc3f/d3Nv/3dzb/93c2//d3Nv/3Nzd/9zc3f/c3N3/3Nzd/93c2//d3Nv/3Nzd/9zc3f/d3Nv/3dzb/9zc3f/c3N3/3Nzd/93c2//d3Nv/3dzb/93c2//d3Nv/3dzb/93c2//d3Nv/3Nzd/93c2//d3Nv/3Nzd/9zc3f/d3Nv/3dzb/93c2//d3Nv/3Nzd/9zc3f/c3N3/3Nzd/9zc3f/d3Nv/3dzb/9zc3f/c3N3/3Nzd/93c2//d3Nv/3dzb/93c2//d3Nv/3dzb/9zc3f/c3N3/3dzb/93c2//d3Nv/",
          "dtype": "u1",
          "shape": "30, 30, 4"
         }
        },
        {
         "marker": {
          "cmax": 1,
          "cmin": 0,
          "color": {
           "bdata": "qSFAPHRteT+BQPA7cWp+P7Zn6TusuQA8/dp/P3eKeT+lnxg8CiSBP5tygD8fo6E/Vt2AP1PHgT9GRqQ/b1aBP1X8pT9hR4A/HNuAP5Bypz8CXac/So2nPylTqD/jJKc/4uKoP/xpgT8sp6o/iS/RP9qZxz9bA7A/",
           "dtype": "f4"
          }
         },
         "type": "bar",
         "width": 0.9,
         "x": {
          "bdata": "AAECAwQFBgcICQoLDA0ODxAREhMUFRYXGBkaGxwd",
          "dtype": "i1"
         },
         "xaxis": "x5",
         "y": {
          "bdata": "/DKAPwpTgT8bQIA/vcaBP6wqgD+lZIA/VyOBP91pgT8Pd4A/qdh/Pw3cgD9ZPYs/gnKAPzRnfj930Yo/f2Z5P78Giz9V24A/jkaAP7Esiz+ct4k/r3eJP6q2iD+JcYY/DdOFP1mIeT/qKHw/2DB0PF/MiTxMNuk7",
          "dtype": "f4"
         },
         "yaxis": "y5"
        },
        {
         "colormodel": "rgba256",
         "customdata": {
          "bdata": "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",
          "dtype": "f4",
          "shape": "30, 30"
         },
         "hovertemplate": "foo\n",
         "type": "image",
         "xaxis": "x12",
         "yaxis": "y12",
         "z": {
          "bdata": "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",
          "dtype": "u1",
          "shape": "30, 30, 4"
         }
        },
        {
         "marker": {
          "cmax": 1,
          "cmin": 0,
          "color": {
           "bdata": "i1d9P7u7fj8T8RA8xgl/P5EnXzwE/0M8jYagP4k0pT+ldoQ8E1mAP3eBqj/KSoE/zB2AP2Mjrj8nGbE/S5iAP6bLgD+G/ro/t/C7P4aDqz84+IA/N3yAPy5YtT866rU/k6CrP5L8rD8Gero/iwq7PzaeuD94pbo/",
           "dtype": "f4"
          }
         },
         "type": "bar",
         "width": 0.9,
         "x": {
          "bdata": "AAECAwQFBgcICQoLDA0ODxAREhMUFRYXGBkaGxwd",
          "dtype": "i1"
         },
         "xaxis": "x6",
         "y": {
          "bdata": "qPeAP9tJgT8gMYA/PXyAPwZjgD/oY4A/LVGHP4lzhz+CfYA/HJiAPzw2jD8euH4/x8eAP9LsjD9S34w/yViAPzUdgD8GlI4/ZOGOP72yjD+NVH0/ZgZ/Pxp3iz8HjIw/Z5mGP6/vhT9XRYk/SASBPyZ4gj+dPnc/",
          "dtype": "f4"
         },
         "yaxis": "y6"
        },
        {
         "colormodel": "rgba256",
         "customdata": {
          "bdata": "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",
          "dtype": "f4",
          "shape": "30, 30"
         },
         "hovertemplate": "foo\n",
         "type": "image",
         "xaxis": "x13",
         "yaxis": "y13",
         "z": {
          "bdata": "swMm/93c2//c3N3/3dzb/9zc3f/c3N3/3dzb/93c2//d3Nv/3dzb/93c2//d3Nv/3Nzd/9zc3f/d3Nv/3Nzd/93c2//d3Nv/3Nzd/93c2/86TMD/3dzb/9zc3f/d3Nv/3Nzd/9zc3f/d3Nv/3Nzd/93c2//d3Nv/3dzb/7MDJv/c3N3/3Nzd/93c2//c3N3/3Nzd/93c2//c3N3/3dzb/93c2/86TMD/3Nzd/9zc3f/d3Nv/3dzb/9zc3f/d3Nv/3dzb/93c2//c3N3/3dzb/9zc3f/c3N3/3dzb/9zc3f/d3Nv/3dzb/9zc3f/d3Nv/3Nzd/9zc3f+zAyb/3Nzd/93c2//d3Nv/3dzb/93c2//d3Nv/3Nzd/9zc3f/d3Nv/3Nzd/93c2//c3N3/3dzb/9zc3f/c3N3/3dzb/9zc3f/c3N3/3dzb/93c2//c3N3/3Nzd/93c2//d3Nv/3Nzd/9zc3f/d3Nv/3dzb/9zc3f/c3N3/swMm/9zc3f/c3N3/3Nzd/93c2//c3N3/3Nzd/93c2//d3Nv/3Nzd/93c2//c3N3/3Nzd/93c2//c3N3/3dzb/9zc3f/c3N3/OkzA/93c2//c3N3/3Nzd/93c2//d3Nv/3Nzd/9zc3f/c3N3/3Nzd/93c2//d3Nv/3Nzd/7MDJv/c3N3/3dzb/93c2//c3N3/3Nzd/93c2//c3N3/3dzb/93c2//d3Nv/3dzb/9zc3f/d3Nv/3dzb/9zc3f/d3Nv/3dzb/9zc3f/d3Nv/3Nzd/9zc3f/d3Nv/3dzb/9zc3f/c3N3/3Nzd/9zc3f/d3Nv/3Nzd/9zc3f+zAyb/3dzb/93c2//c3N3/3dzb/93c2//c3N3/3dzb/9zc3f/d3Nv/3Nzd/9zc3f/d3Nv/3Nzd/9zc3f/c3N3/3dzb/93c2//d3Nv/3Nzd/9zc3f/c3N3/3dzb/9zc3f/c3N3/3dzb/9zc3f/d3Nv/3Nzd/93c2//d3Nv/swMm/+TY0f/d3Nv/3dzb/+PZ0//c3N3/3Nzd/+bXz//j2dP/3dzb/93c2//k2NH/59bN/+jVyv/c3N3/3dzb/+PZ0//l2ND/UGva/3ea9v/g2tf/59bN/+PZ0/9dfeb/3dzb/93c2//d3Nv/3dzb/93c2//d3Nv/5NjR/7MDJv/c3N3/3Nzd/+bXz//c3N3/3Nzd/+jVyv/m18//3dzb/93c2//m18//5tfP/0li0//d3Nv/3dzb/+PZ0//n1s3/6dTJ/3OV9P/i2dT/X37n/+bXz//n1sz/3dzb/9zc3f/d3Nv/3Nzd/9zc3f/c3N3/3dzb/9zc3f+zAyb/3Nzd/93c2//d3Nv/3dzb/93c2//c3N3/3Nzd/9zc3f/d3Nv/3Nzd/9zc3f/d3Nv/3dzb/9zc3f/d3Nv/3dzb/9zc3f/d3Nv/3dzb/93c2//c3N3/3dzb/93c2//c3N3/3Nzd/9zc3f/d3Nv/3dzb/9zc3f/c3N3/swMm/9zc3f/c3N3/3dzb/93c2//c3N3/OkzA/93c2//d3Nv/3dzb/9zc3f/d3Nv/3dzb/93c2//c3N3/3Nzd/9zc3f/d3Nv/3Nzd/9zc3f/d3Nv/3dzb/93c2//c3N3/3dzb/93c2//d3Nv/49nT/+bXz//d3Nv/3Nzd/7MDJv/c3N3/3dzb/+TY0f/p1Mn/3Nzd/9zc3f/tz8D/7dDB/5Gz/v/c3N3/3dzb/0JYyv/d3Nv/mLn+/+zSxP/s0sT/7c/A/1Vx3v/t0MH/3dzb/zpMwP/d3Nv/3dzb/9zc3f/c3N3/3Nzd/9zc3f/d3Nv/3Nzd/9zc3f+1CCf/3Nzd/9zc3f/d3Nv/3Nzd/93c2//c3N3/3Nzd/9zc3f/d3Nv/3dzb/93c2//c3N3/3dzb/93c2//c3N3/3Nzd/93c2//c3N3/3Nzd/9zc3f/c3N3/3Nzd/93c2//d3Nv/3Nzd/9zc3f/d3Nv/3dzb/93c2//c3N3/swMm/9zc3f/d3Nv/3Nzd/zpMwP/c3N3/3Nzd/93c2//d3Nv/3dzb/9zc3f/c3N3/3dzb/9zc3f/d3Nv/3dzb/93c2//d3Nv/3Nzd/9zc3f/d3Nv/3dzb/93c2//c3N3/5tfP/+jVyv/d3Nv/3dzb/+TY0f/c3N3/3Nzd/7MDJv9BVsn/3Nzd/93c2/9beeT/8cq2/4eq/P/c3N3/3Nzd/+/Nu//o1cr/lLX+/+/Nu//s0cP/8cu4/+3Qwf/xy7j/3dzb/93c2//c3N3/3Nzd/93c2//d3Nv/49nT/+bXz//c3N3/3Nzd/+nUyf/d3Nv/3dzb/0FWyf+zAyb/3Nzd/93c2//yyLP/aInu/+3PwP/d3Nv/3dzb/3yg+f/s0sT/7NLE/4Om+//xyrb/8My5//LHsv/vzbv/3Nzd/93c2//d3Nv/3Nzd/93c2//c3N3/3dzb/93c2//c3N3/OkzA/9zc3f/c3N3/3Nzd/9zc3f/c3N3/swMm/9zc3f/c3N3/3Nzd/9zc3f/c3N3/3Nzd/93c2//d3Nv/3dzb/93c2//c3N3/3Nzd/93c2//c3N3/3dzb/9zc3f/c3N3/3dzb/9zc3f/c3N3/3dzb/93c2//c3N3/3dzb/9zc3f/d3Nv/OkzA/93c2//d3Nv/3Nzd/7MDJv/d3Nv/3Nzd/9vc3v/d3Nv/3dzb/9zc3f/d3Nv/3Nzd/9zc3f/c3N3/3Nzd/93c2//c3N3/3dzb/93c2//c3N3/3Nzd/93c2//d3Nv/5NjR/+bXz//d3Nv/3dzb/+3PwP/c3N3/3Nzd/1t55P/yyLP/3Nzd/93c2/+zAyb/88aw/+3Qwf/d3Nv/3dzb//TCqv/zxrD/7dDB//TErf9YduL/gqX7/2uN8P+Nr/3/3Nzd/93c2//d3Nv/3dzb/93c2//c3N3/59bN/+bXz//c3N3/3dzb/+3Qwf/c3N3/3Nzd//HKtv9oie7/3Nzd/9zc3f/zxrD/swMm//PGsP/d3Nv/3dzb//HLuP9JYtP/88Wv/+zRw//0wqr/ep34/3yg+f+Dpvv/3dzb/93c2//c3N3/3Nzd/9zc3f/c3N3/6NXK/0li0//c3N3/3Nzd/5Gz/v/c3N3/3dzb/4eq/P/tz8D/3Nzd/9vc3v/t0MH/88aw/7MDJv/c3N3/3dzb//DMuf+Gqfz/9MKq//LIs//vzrz/9rqf/+fWzP+Vt/7/OkzA/9zc3f/c3N3/3Nzd/93c2//c3N3/3Nzd/93c2//d3Nv/3dzb/9zc3f/d3Nv/3dzb/9zc3f/d3Nv/3Nzd/93c2//d3Nv/3dzb/9zc3f+2DSj/3Nzd/93c2//c3N3/3dzb/93c2//c3N3/3dzb/9zc3f/d3Nv/3dzb/93c2//d3Nv/OkzA/93c2//d3Nv/3dzb/93c2//d3Nv/3dzb/93c2//d3Nv/3dzb/9zc3f/d3Nv/3Nzd/93c2//d3Nv/3dzb/93c2//c3N3/swMm/9zc3f/d3Nv/3dzb/93c2//c3N3/3dzb/9zc3f/d3Nv/3Nzd/9zc3f/d3Nv/3dzb/9zc3f/d3Nv/49nT/+PZ0//c3N3/3dzb/0JYyv/d3Nv/3Nzd/+/Nu/98oPn/3dzb/9zc3f/0wqr/8cu4//DMuf/d3Nv/3Nzd/7MDJv/zxrD/8cq2//HLuP91mPb/l7j+//a3nP+gv/7/3dzb/9zc3f/c3N3/3Nzd/93c2//d3Nv/5djQ/+fWzf/d3Nv/3Nzd/93c2//c3N3/3Nzd/+jVyv/s0sT/3dzb/93c2//zxrD/SWLT/4ap/P/c3N3/3dzb//PGsP+zAyb/ja/9//HKtv9MZtb/9MOr/+zSxP/0xK3/3Nzd/93c2//c3N3/3Nzd/9zc3f/c3N3/UGva/+nUyf/d3Nv/3Nzd/5i5/v/d3Nv/3dzb/5S1/v/s0sT/3dzb/9zc3f/t0MH/88Wv//TCqv/d3Nv/3dzb//HKtv+Nr/3/swMm//HLuP/uz77/krT+/+nUyf/2tpr/3Nzd/9zc3f/d3Nv/3dzb/9zc3f/c3N3/d5r2/3OV9P/c3N3/3Nzd/+zSxP/d3Nv/3Nzd/+/Nu/+Dpvv/3dzb/9zc3f/0xK3/7NHD//LIs//d3Nv/3dzb//HLuP/xyrb/8cu4/7MDJv+Gqfz/88aw/5Gz/v/yyLP/3dzb/93c2//d3Nv/3dzb/93c2//c3N3/4NrX/+LZ1P/d3Nv/3dzb/+zSxP/c3N3/3dzb/+zRw//xyrb/3Nzd/9zc3f9YduL/9MKq/+/OvP/c3N3/3Nzd/3WY9v9MZtb/7s++/4ap/P+zAyb/8My5//W/pf/vzbv/3Nzd/93c2//c3N3/3Nzd/93c2//d3Nv/59bN/19+5//d3Nv/3Nzd/+3PwP/c3N3/3dzb//HLuP/wzLn/3Nzd/9zc3f+Cpfv/ep34//a6n//d3Nv/3dzb/5e4/v/0w6v/krT+//PGsP/wzLn/swMm//TDq//1v6X/3dzb/9zc3f/c3N3/3Nzd/9zc3f/c3N3/49nT/+bXz//d3Nv/3Nzd/1Vx3v/d3Nv/3dzb/+3Qwf/yx7L/3dzb/93c2/9rjfD/fKD5/+fWzP/c3N3/3Nzd//a3nP/s0sT/6dTJ/5Gz/v/1v6X/9MOr/7MDJv/zxa//3dzb/93c2//d3Nv/3Nzd/9zc3f/c3N3/XX3m/+fWzP/c3N3/3dzb/+3Qwf/c3N3/3dzb//HLuP/vzbv/3Nzd/9zc3f+Nr/3/g6b7/5W3/v/d3Nv/3dzb/6C//v/0xK3/9raa//LIs//vzbv/9b+l//PFr/+/KC7/",
          "dtype": "u1",
          "shape": "30, 30, 4"
         }
        },
        {
         "marker": {
          "cmax": 1,
          "cmin": 0,
          "color": {
           "bdata": "WxuFP1iteT+CeWo9CbuAP20BgD8ZT5A82TZ/P8sbgD/IVkY8bAGAPzPvfz8eE4A/GS+AP8w3qT9Mzpk/CHOpP6GLqD/5xaw/IsaqP7HZlj86j64/1m+yP3+/gD8KuKk/AjSzP+Z0tD8abbI/hgSBP7Tnrj/38rA/",
           "dtype": "f4"
          }
         },
         "type": "bar",
         "width": 0.9,
         "x": {
          "bdata": "AAECAwQFBgcICQoLDA0ODxAREhMUFRYXGBkaGxwd",
          "dtype": "i1"
         },
         "xaxis": "x7",
         "y": {
          "bdata": "74N/P5cDgT9B+YA/Ne1/P5XghD+NZYA/i86AP0sYgD+6XYA/mS+APxC7gD9TM4A/MwOAPysTjD/YTIg/xd+LP/8Uiz8k7Iw//5uLP1JViz/kbo0/U+2LP/U7fz/Kl4o/tWKMPx8gij/Quoo/N6t5P3VTiT++M4c/",
          "dtype": "f4"
         },
         "yaxis": "y7"
        },
        {
         "colormodel": "rgba256",
         "customdata": {
          "bdata": "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",
          "dtype": "f4",
          "shape": "30, 30"
         },
         "hovertemplate": "foo\n",
         "type": "image",
         "xaxis": "x14",
         "yaxis": "y14",
         "z": {
          "bdata": "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",
          "dtype": "u1",
          "shape": "30, 30, 4"
         }
        }
       ],
       "layout": {
        "annotations": [
         {
          "bgcolor": "rgba(0,0,0,0)",
          "font": {
           "size": 16
          },
          "showarrow": false,
          "text": "1.00",
          "x": 14.5,
          "xanchor": "center",
          "xref": "x15",
          "y": -2,
          "yanchor": "middle",
          "yref": "y15"
         },
         {
          "bgcolor": "rgba(0,0,0,0)",
          "font": {
           "size": 16
          },
          "showarrow": false,
          "text": "0.52",
          "x": 14.5,
          "xanchor": "center",
          "xref": "x16",
          "y": -2,
          "yanchor": "middle",
          "yref": "y16"
         },
         {
          "bgcolor": "rgba(0,0,0,0)",
          "font": {
           "size": 16
          },
          "showarrow": false,
          "text": "0.27",
          "x": 14.5,
          "xanchor": "center",
          "xref": "x17",
          "y": -2,
          "yanchor": "middle",
          "yref": "y17"
         },
         {
          "bgcolor": "rgba(0,0,0,0)",
          "font": {
           "size": 16
          },
          "showarrow": false,
          "text": "0.14",
          "x": 14.5,
          "xanchor": "center",
          "xref": "x18",
          "y": -2,
          "yanchor": "middle",
          "yref": "y18"
         },
         {
          "bgcolor": "rgba(0,0,0,0)",
          "font": {
           "size": 16
          },
          "showarrow": false,
          "text": "0.07",
          "x": 14.5,
          "xanchor": "center",
          "xref": "x19",
          "y": -2,
          "yanchor": "middle",
          "yref": "y19"
         },
         {
          "bgcolor": "rgba(0,0,0,0)",
          "font": {
           "size": 16
          },
          "showarrow": false,
          "text": "0.04",
          "x": 14.5,
          "xanchor": "center",
          "xref": "x20",
          "y": -2,
          "yanchor": "middle",
          "yref": "y20"
         },
         {
          "bgcolor": "rgba(0,0,0,0)",
          "font": {
           "size": 16
          },
          "showarrow": false,
          "text": "0.02",
          "x": 14.5,
          "xanchor": "center",
          "xref": "x21",
          "y": -2,
          "yanchor": "middle",
          "yref": "y21"
         }
        ],
        "height": 275,
        "margin": {
         "b": 4,
         "l": 8,
         "r": 8,
         "t": 4
        },
        "shapes": [
         {
          "line": {
           "width": 0.2
          },
          "type": "line",
          "x0": 14.5,
          "x1": 14.5,
          "xref": "x",
          "y0": 0,
          "y1": 1,
          "yref": "y domain"
         },
         {
          "line": {
           "width": 0.2
          },
          "type": "line",
          "x0": 14.5,
          "x1": 14.5,
          "xref": "x2",
          "y0": 0,
          "y1": 1,
          "yref": "y2 domain"
         },
         {
          "line": {
           "width": 0.2
          },
          "type": "line",
          "x0": 14.5,
          "x1": 14.5,
          "xref": "x3",
          "y0": 0,
          "y1": 1,
          "yref": "y3 domain"
         },
         {
          "line": {
           "width": 0.2
          },
          "type": "line",
          "x0": 14.5,
          "x1": 14.5,
          "xref": "x4",
          "y0": 0,
          "y1": 1,
          "yref": "y4 domain"
         },
         {
          "line": {
           "width": 0.2
          },
          "type": "line",
          "x0": 14.5,
          "x1": 14.5,
          "xref": "x5",
          "y0": 0,
          "y1": 1,
          "yref": "y5 domain"
         },
         {
          "line": {
           "width": 0.2
          },
          "type": "line",
          "x0": 14.5,
          "x1": 14.5,
          "xref": "x6",
          "y0": 0,
          "y1": 1,
          "yref": "y6 domain"
         },
         {
          "line": {
           "width": 0.2
          },
          "type": "line",
          "x0": 14.5,
          "x1": 14.5,
          "xref": "x7",
          "y0": 0,
          "y1": 1,
          "yref": "y7 domain"
         }
        ],
        "showlegend": false,
        "template": {
         "data": {
          "bar": [
           {
            "error_x": {
             "color": "#2a3f5f"
            },
            "error_y": {
             "color": "#2a3f5f"
            },
            "marker": {
             "line": {
              "color": "#E5ECF6",
              "width": 0.5
             },
             "pattern": {
              "fillmode": "overlay",
              "size": 10,
              "solidity": 0.2
             }
            },
            "type": "bar"
           }
          ],
          "barpolar": [
           {
            "marker": {
             "line": {
              "color": "#E5ECF6",
              "width": 0.5
             },
             "pattern": {
              "fillmode": "overlay",
              "size": 10,
              "solidity": 0.2
             }
            },
            "type": "barpolar"
           }
          ],
          "carpet": [
           {
            "aaxis": {
             "endlinecolor": "#2a3f5f",
             "gridcolor": "white",
             "linecolor": "white",
             "minorgridcolor": "white",
             "startlinecolor": "#2a3f5f"
            },
            "baxis": {
             "endlinecolor": "#2a3f5f",
             "gridcolor": "white",
             "linecolor": "white",
             "minorgridcolor": "white",
             "startlinecolor": "#2a3f5f"
            },
            "type": "carpet"
           }
          ],
          "choropleth": [
           {
            "colorbar": {
             "outlinewidth": 0,
             "ticks": ""
            },
            "type": "choropleth"
           }
          ],
          "contour": [
           {
            "colorbar": {
             "outlinewidth": 0,
             "ticks": ""
            },
            "colorscale": [
             [
              0,
              "#0d0887"
             ],
             [
              0.1111111111111111,
              "#46039f"
             ],
             [
              0.2222222222222222,
              "#7201a8"
             ],
             [
              0.3333333333333333,
              "#9c179e"
             ],
             [
              0.4444444444444444,
              "#bd3786"
             ],
             [
              0.5555555555555556,
              "#d8576b"
             ],
             [
              0.6666666666666666,
              "#ed7953"
             ],
             [
              0.7777777777777778,
              "#fb9f3a"
             ],
             [
              0.8888888888888888,
              "#fdca26"
             ],
             [
              1,
              "#f0f921"
             ]
            ],
            "type": "contour"
           }
          ],
          "contourcarpet": [
           {
            "colorbar": {
             "outlinewidth": 0,
             "ticks": ""
            },
            "type": "contourcarpet"
           }
          ],
          "heatmap": [
           {
            "colorbar": {
             "outlinewidth": 0,
             "ticks": ""
            },
            "colorscale": [
             [
              0,
              "#0d0887"
             ],
             [
              0.1111111111111111,
              "#46039f"
             ],
             [
              0.2222222222222222,
              "#7201a8"
             ],
             [
              0.3333333333333333,
              "#9c179e"
             ],
             [
              0.4444444444444444,
              "#bd3786"
             ],
             [
              0.5555555555555556,
              "#d8576b"
             ],
             [
              0.6666666666666666,
              "#ed7953"
             ],
             [
              0.7777777777777778,
              "#fb9f3a"
             ],
             [
              0.8888888888888888,
              "#fdca26"
             ],
             [
              1,
              "#f0f921"
             ]
            ],
            "type": "heatmap"
           }
          ],
          "histogram": [
           {
            "marker": {
             "pattern": {
              "fillmode": "overlay",
              "size": 10,
              "solidity": 0.2
             }
            },
            "type": "histogram"
           }
          ],
          "histogram2d": [
           {
            "colorbar": {
             "outlinewidth": 0,
             "ticks": ""
            },
            "colorscale": [
             [
              0,
              "#0d0887"
             ],
             [
              0.1111111111111111,
              "#46039f"
             ],
             [
              0.2222222222222222,
              "#7201a8"
             ],
             [
              0.3333333333333333,
              "#9c179e"
             ],
             [
              0.4444444444444444,
              "#bd3786"
             ],
             [
              0.5555555555555556,
              "#d8576b"
             ],
             [
              0.6666666666666666,
              "#ed7953"
             ],
             [
              0.7777777777777778,
              "#fb9f3a"
             ],
             [
              0.8888888888888888,
              "#fdca26"
             ],
             [
              1,
              "#f0f921"
             ]
            ],
            "type": "histogram2d"
           }
          ],
          "histogram2dcontour": [
           {
            "colorbar": {
             "outlinewidth": 0,
             "ticks": ""
            },
            "colorscale": [
             [
              0,
              "#0d0887"
             ],
             [
              0.1111111111111111,
              "#46039f"
             ],
             [
              0.2222222222222222,
              "#7201a8"
             ],
             [
              0.3333333333333333,
              "#9c179e"
             ],
             [
              0.4444444444444444,
              "#bd3786"
             ],
             [
              0.5555555555555556,
              "#d8576b"
             ],
             [
              0.6666666666666666,
              "#ed7953"
             ],
             [
              0.7777777777777778,
              "#fb9f3a"
             ],
             [
              0.8888888888888888,
              "#fdca26"
             ],
             [
              1,
              "#f0f921"
             ]
            ],
            "type": "histogram2dcontour"
           }
          ],
          "mesh3d": [
           {
            "colorbar": {
             "outlinewidth": 0,
             "ticks": ""
            },
            "type": "mesh3d"
           }
          ],
          "parcoords": [
           {
            "line": {
             "colorbar": {
              "outlinewidth": 0,
              "ticks": ""
             }
            },
            "type": "parcoords"
           }
          ],
          "pie": [
           {
            "automargin": true,
            "type": "pie"
           }
          ],
          "scatter": [
           {
            "fillpattern": {
             "fillmode": "overlay",
             "size": 10,
             "solidity": 0.2
            },
            "type": "scatter"
           }
          ],
          "scatter3d": [
           {
            "line": {
             "colorbar": {
              "outlinewidth": 0,
              "ticks": ""
             }
            },
            "marker": {
             "colorbar": {
              "outlinewidth": 0,
              "ticks": ""
             }
            },
            "type": "scatter3d"
           }
          ],
          "scattercarpet": [
           {
            "marker": {
             "colorbar": {
              "outlinewidth": 0,
              "ticks": ""
             }
            },
            "type": "scattercarpet"
           }
          ],
          "scattergeo": [
           {
            "marker": {
             "colorbar": {
              "outlinewidth": 0,
              "ticks": ""
             }
            },
            "type": "scattergeo"
           }
          ],
          "scattergl": [
           {
            "marker": {
             "colorbar": {
              "outlinewidth": 0,
              "ticks": ""
             }
            },
            "type": "scattergl"
           }
          ],
          "scattermap": [
           {
            "marker": {
             "colorbar": {
              "outlinewidth": 0,
              "ticks": ""
             }
            },
            "type": "scattermap"
           }
          ],
          "scattermapbox": [
           {
            "marker": {
             "colorbar": {
              "outlinewidth": 0,
              "ticks": ""
             }
            },
            "type": "scattermapbox"
           }
          ],
          "scatterpolar": [
           {
            "marker": {
             "colorbar": {
              "outlinewidth": 0,
              "ticks": ""
             }
            },
            "type": "scatterpolar"
           }
          ],
          "scatterpolargl": [
           {
            "marker": {
             "colorbar": {
              "outlinewidth": 0,
              "ticks": ""
             }
            },
            "type": "scatterpolargl"
           }
          ],
          "scatterternary": [
           {
            "marker": {
             "colorbar": {
              "outlinewidth": 0,
              "ticks": ""
             }
            },
            "type": "scatterternary"
           }
          ],
          "surface": [
           {
            "colorbar": {
             "outlinewidth": 0,
             "ticks": ""
            },
            "colorscale": [
             [
              0,
              "#0d0887"
             ],
             [
              0.1111111111111111,
              "#46039f"
             ],
             [
              0.2222222222222222,
              "#7201a8"
             ],
             [
              0.3333333333333333,
              "#9c179e"
             ],
             [
              0.4444444444444444,
              "#bd3786"
             ],
             [
              0.5555555555555556,
              "#d8576b"
             ],
             [
              0.6666666666666666,
              "#ed7953"
             ],
             [
              0.7777777777777778,
              "#fb9f3a"
             ],
             [
              0.8888888888888888,
              "#fdca26"
             ],
             [
              1,
              "#f0f921"
             ]
            ],
            "type": "surface"
           }
          ],
          "table": [
           {
            "cells": {
             "fill": {
              "color": "#EBF0F8"
             },
             "line": {
              "color": "white"
             }
            },
            "header": {
             "fill": {
              "color": "#C8D4E3"
             },
             "line": {
              "color": "white"
             }
            },
            "type": "table"
           }
          ]
         },
         "layout": {
          "annotationdefaults": {
           "arrowcolor": "#2a3f5f",
           "arrowhead": 0,
           "arrowwidth": 1
          },
          "autotypenumbers": "strict",
          "coloraxis": {
           "colorbar": {
            "outlinewidth": 0,
            "ticks": ""
           }
          },
          "colorscale": {
           "diverging": [
            [
             0,
             "#8e0152"
            ],
            [
             0.1,
             "#c51b7d"
            ],
            [
             0.2,
             "#de77ae"
            ],
            [
             0.3,
             "#f1b6da"
            ],
            [
             0.4,
             "#fde0ef"
            ],
            [
             0.5,
             "#f7f7f7"
            ],
            [
             0.6,
             "#e6f5d0"
            ],
            [
             0.7,
             "#b8e186"
            ],
            [
             0.8,
             "#7fbc41"
            ],
            [
             0.9,
             "#4d9221"
            ],
            [
             1,
             "#276419"
            ]
           ],
           "sequential": [
            [
             0,
             "#0d0887"
            ],
            [
             0.1111111111111111,
             "#46039f"
            ],
            [
             0.2222222222222222,
             "#7201a8"
            ],
            [
             0.3333333333333333,
             "#9c179e"
            ],
            [
             0.4444444444444444,
             "#bd3786"
            ],
            [
             0.5555555555555556,
             "#d8576b"
            ],
            [
             0.6666666666666666,
             "#ed7953"
            ],
            [
             0.7777777777777778,
             "#fb9f3a"
            ],
            [
             0.8888888888888888,
             "#fdca26"
            ],
            [
             1,
             "#f0f921"
            ]
           ],
           "sequentialminus": [
            [
             0,
             "#0d0887"
            ],
            [
             0.1111111111111111,
             "#46039f"
            ],
            [
             0.2222222222222222,
             "#7201a8"
            ],
            [
             0.3333333333333333,
             "#9c179e"
            ],
            [
             0.4444444444444444,
             "#bd3786"
            ],
            [
             0.5555555555555556,
             "#d8576b"
            ],
            [
             0.6666666666666666,
             "#ed7953"
            ],
            [
             0.7777777777777778,
             "#fb9f3a"
            ],
            [
             0.8888888888888888,
             "#fdca26"
            ],
            [
             1,
             "#f0f921"
            ]
           ]
          },
          "colorway": [
           "#636efa",
           "#EF553B",
           "#00cc96",
           "#ab63fa",
           "#FFA15A",
           "#19d3f3",
           "#FF6692",
           "#B6E880",
           "#FF97FF",
           "#FECB52"
          ],
          "font": {
           "color": "#2a3f5f"
          },
          "geo": {
           "bgcolor": "white",
           "lakecolor": "white",
           "landcolor": "#E5ECF6",
           "showlakes": true,
           "showland": true,
           "subunitcolor": "white"
          },
          "hoverlabel": {
           "align": "left"
          },
          "hovermode": "closest",
          "mapbox": {
           "style": "light"
          },
          "paper_bgcolor": "white",
          "plot_bgcolor": "#E5ECF6",
          "polar": {
           "angularaxis": {
            "gridcolor": "white",
            "linecolor": "white",
            "ticks": ""
           },
           "bgcolor": "#E5ECF6",
           "radialaxis": {
            "gridcolor": "white",
            "linecolor": "white",
            "ticks": ""
           }
          },
          "scene": {
           "xaxis": {
            "backgroundcolor": "#E5ECF6",
            "gridcolor": "white",
            "gridwidth": 2,
            "linecolor": "white",
            "showbackground": true,
            "ticks": "",
            "zerolinecolor": "white"
           },
           "yaxis": {
            "backgroundcolor": "#E5ECF6",
            "gridcolor": "white",
            "gridwidth": 2,
            "linecolor": "white",
            "showbackground": true,
            "ticks": "",
            "zerolinecolor": "white"
           },
           "zaxis": {
            "backgroundcolor": "#E5ECF6",
            "gridcolor": "white",
            "gridwidth": 2,
            "linecolor": "white",
            "showbackground": true,
            "ticks": "",
            "zerolinecolor": "white"
           }
          },
          "shapedefaults": {
           "line": {
            "color": "#2a3f5f"
           }
          },
          "ternary": {
           "aaxis": {
            "gridcolor": "white",
            "linecolor": "white",
            "ticks": ""
           },
           "baxis": {
            "gridcolor": "white",
            "linecolor": "white",
            "ticks": ""
           },
           "bgcolor": "#E5ECF6",
           "caxis": {
            "gridcolor": "white",
            "linecolor": "white",
            "ticks": ""
           }
          },
          "title": {
           "x": 0.05
          },
          "xaxis": {
           "automargin": true,
           "gridcolor": "white",
           "linecolor": "white",
           "ticks": "",
           "title": {
            "standoff": 15
           },
           "zerolinecolor": "white",
           "zerolinewidth": 2
          },
          "yaxis": {
           "automargin": true,
           "gridcolor": "white",
           "linecolor": "white",
           "ticks": "",
           "title": {
            "standoff": 15
           },
           "zerolinecolor": "white",
           "zerolinewidth": 2
          }
         }
        },
        "width": 1050,
        "xaxis": {
         "anchor": "y",
         "domain": [
          0,
          0.12571428571428572
         ],
         "matches": "x15",
         "showticklabels": false,
         "visible": false
        },
        "xaxis10": {
         "anchor": "y10",
         "domain": [
          0.2914285714285714,
          0.41714285714285715
         ],
         "matches": "x17",
         "showticklabels": false,
         "visible": false
        },
        "xaxis11": {
         "anchor": "y11",
         "domain": [
          0.43714285714285717,
          0.562857142857143
         ],
         "matches": "x18",
         "showticklabels": false,
         "visible": false
        },
        "xaxis12": {
         "anchor": "y12",
         "domain": [
          0.5828571428571429,
          0.7085714285714286
         ],
         "matches": "x19",
         "showticklabels": false,
         "visible": false
        },
        "xaxis13": {
         "anchor": "y13",
         "domain": [
          0.7285714285714285,
          0.8542857142857143
         ],
         "matches": "x20",
         "showticklabels": false,
         "visible": false
        },
        "xaxis14": {
         "anchor": "y14",
         "domain": [
          0.8742857142857143,
          1
         ],
         "matches": "x21",
         "showticklabels": false,
         "visible": false
        },
        "xaxis15": {
         "anchor": "y15",
         "domain": [
          0,
          0.12571428571428572
         ],
         "visible": false
        },
        "xaxis16": {
         "anchor": "y16",
         "domain": [
          0.1457142857142857,
          0.27142857142857146
         ],
         "visible": false
        },
        "xaxis17": {
         "anchor": "y17",
         "domain": [
          0.2914285714285714,
          0.41714285714285715
         ],
         "visible": false
        },
        "xaxis18": {
         "anchor": "y18",
         "domain": [
          0.43714285714285717,
          0.562857142857143
         ],
         "visible": false
        },
        "xaxis19": {
         "anchor": "y19",
         "domain": [
          0.5828571428571429,
          0.7085714285714286
         ],
         "visible": false
        },
        "xaxis2": {
         "anchor": "y2",
         "domain": [
          0.1457142857142857,
          0.27142857142857146
         ],
         "matches": "x16",
         "showticklabels": false,
         "visible": false
        },
        "xaxis20": {
         "anchor": "y20",
         "domain": [
          0.7285714285714285,
          0.8542857142857143
         ],
         "visible": false
        },
        "xaxis21": {
         "anchor": "y21",
         "domain": [
          0.8742857142857143,
          1
         ],
         "visible": false
        },
        "xaxis3": {
         "anchor": "y3",
         "domain": [
          0.2914285714285714,
          0.41714285714285715
         ],
         "matches": "x17",
         "showticklabels": false,
         "visible": false
        },
        "xaxis4": {
         "anchor": "y4",
         "domain": [
          0.43714285714285717,
          0.562857142857143
         ],
         "matches": "x18",
         "showticklabels": false,
         "visible": false
        },
        "xaxis5": {
         "anchor": "y5",
         "domain": [
          0.5828571428571429,
          0.7085714285714286
         ],
         "matches": "x19",
         "showticklabels": false,
         "visible": false
        },
        "xaxis6": {
         "anchor": "y6",
         "domain": [
          0.7285714285714285,
          0.8542857142857143
         ],
         "matches": "x20",
         "showticklabels": false,
         "visible": false
        },
        "xaxis7": {
         "anchor": "y7",
         "domain": [
          0.8742857142857143,
          1
         ],
         "matches": "x21",
         "showticklabels": false,
         "visible": false
        },
        "xaxis8": {
         "anchor": "y8",
         "domain": [
          0,
          0.12571428571428572
         ],
         "matches": "x15",
         "showticklabels": false,
         "visible": false
        },
        "xaxis9": {
         "anchor": "y9",
         "domain": [
          0.1457142857142857,
          0.27142857142857146
         ],
         "matches": "x16",
         "showticklabels": false,
         "visible": false
        },
        "yaxis": {
         "anchor": "x",
         "domain": [
          0.638888888888889,
          1
         ],
         "visible": false
        },
        "yaxis10": {
         "anchor": "x10",
         "domain": [
          0.08333333333333334,
          0.638888888888889
         ],
         "visible": false
        },
        "yaxis11": {
         "anchor": "x11",
         "domain": [
          0.08333333333333334,
          0.638888888888889
         ],
         "visible": false
        },
        "yaxis12": {
         "anchor": "x12",
         "domain": [
          0.08333333333333334,
          0.638888888888889
         ],
         "visible": false
        },
        "yaxis13": {
         "anchor": "x13",
         "domain": [
          0.08333333333333334,
          0.638888888888889
         ],
         "visible": false
        },
        "yaxis14": {
         "anchor": "x14",
         "domain": [
          0.08333333333333334,
          0.638888888888889
         ],
         "visible": false
        },
        "yaxis15": {
         "anchor": "x15",
         "domain": [
          0,
          0.08333333333333334
         ],
         "visible": false
        },
        "yaxis16": {
         "anchor": "x16",
         "domain": [
          0,
          0.08333333333333334
         ],
         "visible": false
        },
        "yaxis17": {
         "anchor": "x17",
         "domain": [
          0,
          0.08333333333333334
         ],
         "visible": false
        },
        "yaxis18": {
         "anchor": "x18",
         "domain": [
          0,
          0.08333333333333334
         ],
         "visible": false
        },
        "yaxis19": {
         "anchor": "x19",
         "domain": [
          0,
          0.08333333333333334
         ],
         "visible": false
        },
        "yaxis2": {
         "anchor": "x2",
         "domain": [
          0.638888888888889,
          1
         ],
         "visible": false
        },
        "yaxis20": {
         "anchor": "x20",
         "domain": [
          0,
          0.08333333333333334
         ],
         "visible": false
        },
        "yaxis21": {
         "anchor": "x21",
         "domain": [
          0,
          0.08333333333333334
         ],
         "visible": false
        },
        "yaxis3": {
         "anchor": "x3",
         "domain": [
          0.638888888888889,
          1
         ],
         "visible": false
        },
        "yaxis4": {
         "anchor": "x4",
         "domain": [
          0.638888888888889,
          1
         ],
         "visible": false
        },
        "yaxis5": {
         "anchor": "x5",
         "domain": [
          0.638888888888889,
          1
         ],
         "visible": false
        },
        "yaxis6": {
         "anchor": "x6",
         "domain": [
          0.638888888888889,
          1
         ],
         "visible": false
        },
        "yaxis7": {
         "anchor": "x7",
         "domain": [
          0.638888888888889,
          1
         ],
         "visible": false
        },
        "yaxis8": {
         "anchor": "x8",
         "domain": [
          0.08333333333333334,
          0.638888888888889
         ],
         "visible": false
        },
        "yaxis9": {
         "anchor": "x9",
         "domain": [
          0.08333333333333334,
          0.638888888888889
         ],
         "visible": false
        }
       }
      }
     },
     "metadata": {},
     "output_type": "display_data"
    }
   ],
   "source": [
    "#fig = render_features(model, np.s_[::2]) # every other instance  \n",
    "which = np.s_[:]\n",
    "which_instances = np.arange(model.config.n_instances)[which]\n",
    "fig_height = 275\n",
    "fig_width = 150*len(which_instances) \n",
    "fig = render_features(model, fig_width, fig_height, which_instances)\n",
    "fig.update_layout()"
   ]
  },
  {
   "cell_type": "code",
   "execution_count": 29,
   "metadata": {},
   "outputs": [],
   "source": [
    "target = feature_association(model.config.n_features).detach().cpu().numpy()\n",
    "nfeat = np.sum(target)\n",
    "fname = f'bar-ortho-{model.config.n_features}x{model.config.n_hidden}x{model.config.head_d}-lam-{lam}-nfeat-{nfeat}.pdf'\n",
    "fig.update_layout(margin=dict(t=4, b=20, l=8, r=8))\n",
    "fig.write_image(fname, format='pdf', width=fig_width, height=fig_height) #doesnt work due to use of torch to create figure; can't debug\n",
    "#import plotly.io as pio\n",
    "##rom ironpdf import *\n",
    "#pio.write_html(fig, \"demo.html\")\n",
    "# Use IronPDF to render the HTML file as a PDF\n",
    "#iron_pdf = ChromePdfRenderer()\n",
    "#pdf = iron_pdf.RenderHtmlFileAsPdf(\"demo.html\")\n",
    "#pdf.SaveAs(\"output_from_html.pdf\")\n",
    "\n"
   ]
  },
  {
   "cell_type": "code",
   "execution_count": 31,
   "metadata": {},
   "outputs": [
    {
     "data": {
      "image/png": "[encoded data removed]",
      "text/plain": [
       "<Figure size 640x480 with 5 Axes>"
      ]
     },
     "metadata": {},
     "output_type": "display_data"
    }
   ],
   "source": [
    "instance = 6\n",
    "A_all = model.A.detach().cpu()\n",
    "B_all = model.B.detach().cpu()\n",
    "A = A_all[instance]\n",
    "B = B_all[instance]\n",
    "Omega = A @ B.T\n",
    "U, S, VT = np.linalg.svd(Omega)\n",
    "W_all = model.W.detach().cpu()\n",
    "W = W_all[instance]\n",
    "import seaborn as sns\n",
    "figs, axs = plt.subplots(1, 3)\n",
    "sns.heatmap(W @ U, ax = axs[0])\n",
    "sns.heatmap(W @ VT.T, ax = axs[1])\n",
    "axs[2].bar(range(len(S)), S)\n",
    "axs[1].set_title(f'instance {instance}')\n",
    "axs[0].set_title('W @ U')\n",
    "axs[1].set_title('W @ VT.T')\n",
    "axs[2].set_title('Singular values')\n",
    "plt.suptitle(f'instance {instance}', fontsize=14, y=0.98)\n",
    "plt.tight_layout()\n",
    "\n"
   ]
  },
  {
   "cell_type": "code",
   "execution_count": 69,
   "metadata": {
    "colab": {
     "base_uri": "https://localhost:8080/",
     "height": 171
    },
    "id": "hAREurbUkji1",
    "outputId": "7b6945fc-061e-4e1a-def8-3e3c886fc10d"
   },
   "outputs": [
    {
     "ename": "ValueError",
     "evalue": "'vertices' must be 2D with shape (N, 2), but your input has shape (2, 10)",
     "output_type": "error",
     "traceback": [
      "\u001b[31m---------------------------------------------------------------------------\u001b[39m",
      "\u001b[31mValueError\u001b[39m                                Traceback (most recent call last)",
      "\u001b[36mCell\u001b[39m\u001b[36m \u001b[39m\u001b[32mIn[69]\u001b[39m\u001b[32m, line 31\u001b[39m\n\u001b[32m     28\u001b[39m           ax.spines[spine].set_position(\u001b[33m'\u001b[39m\u001b[33mcenter\u001b[39m\u001b[33m'\u001b[39m)\n\u001b[32m     29\u001b[39m   plt.show()\n\u001b[32m---> \u001b[39m\u001b[32m31\u001b[39m \u001b[43mplot_intro_diagram\u001b[49m\u001b[43m(\u001b[49m\u001b[43mmodel\u001b[49m\u001b[43m)\u001b[49m\n",
      "\u001b[36mCell\u001b[39m\u001b[36m \u001b[39m\u001b[32mIn[69]\u001b[39m\u001b[32m, line 17\u001b[39m, in \u001b[36mplot_intro_diagram\u001b[39m\u001b[34m(model)\u001b[39m\n\u001b[32m     15\u001b[39m ax.scatter(W[:,\u001b[32m0\u001b[39m], W[:,\u001b[32m1\u001b[39m], c=colors[\u001b[32m0\u001b[39m:\u001b[38;5;28mlen\u001b[39m(W[:,\u001b[32m0\u001b[39m])])\n\u001b[32m     16\u001b[39m ax.set_aspect(\u001b[33m'\u001b[39m\u001b[33mequal\u001b[39m\u001b[33m'\u001b[39m)\n\u001b[32m---> \u001b[39m\u001b[32m17\u001b[39m ax.add_collection(\u001b[43mmc\u001b[49m\u001b[43m.\u001b[49m\u001b[43mLineCollection\u001b[49m\u001b[43m(\u001b[49m\u001b[43mnp\u001b[49m\u001b[43m.\u001b[49m\u001b[43mstack\u001b[49m\u001b[43m(\u001b[49m\u001b[43m(\u001b[49m\u001b[43mnp\u001b[49m\u001b[43m.\u001b[49m\u001b[43mzeros_like\u001b[49m\u001b[43m(\u001b[49m\u001b[43mW\u001b[49m\u001b[43m)\u001b[49m\u001b[43m,\u001b[49m\u001b[43mW\u001b[49m\u001b[43m)\u001b[49m\u001b[43m,\u001b[49m\u001b[43m \u001b[49m\u001b[43maxis\u001b[49m\u001b[43m=\u001b[49m\u001b[32;43m1\u001b[39;49m\u001b[43m)\u001b[49m\u001b[43m,\u001b[49m\u001b[43m \u001b[49m\u001b[43mcolors\u001b[49m\u001b[43m=\u001b[49m\u001b[43mcolors\u001b[49m\u001b[43m)\u001b[49m)\n\u001b[32m     19\u001b[39m z = \u001b[32m1.5\u001b[39m\n\u001b[32m     20\u001b[39m ax.set_facecolor(\u001b[33m'\u001b[39m\u001b[33m#FCFBF8\u001b[39m\u001b[33m'\u001b[39m)\n",
      "\u001b[36mFile \u001b[39m\u001b[32m~/anaconda3/envs/newtorch/lib/python3.12/site-packages/matplotlib/collections.py:1640\u001b[39m, in \u001b[36mLineCollection.__init__\u001b[39m\u001b[34m(self, segments, zorder, **kwargs)\u001b[39m\n\u001b[32m   1636\u001b[39m kwargs.setdefault(\u001b[33m'\u001b[39m\u001b[33mfacecolors\u001b[39m\u001b[33m'\u001b[39m, \u001b[33m'\u001b[39m\u001b[33mnone\u001b[39m\u001b[33m'\u001b[39m)\n\u001b[32m   1637\u001b[39m \u001b[38;5;28msuper\u001b[39m().\u001b[34m__init__\u001b[39m(\n\u001b[32m   1638\u001b[39m     zorder=zorder,\n\u001b[32m   1639\u001b[39m     **kwargs)\n\u001b[32m-> \u001b[39m\u001b[32m1640\u001b[39m \u001b[38;5;28;43mself\u001b[39;49m\u001b[43m.\u001b[49m\u001b[43mset_segments\u001b[49m\u001b[43m(\u001b[49m\u001b[43msegments\u001b[49m\u001b[43m)\u001b[49m\n",
      "\u001b[36mFile \u001b[39m\u001b[32m~/anaconda3/envs/newtorch/lib/python3.12/site-packages/matplotlib/collections.py:1647\u001b[39m, in \u001b[36mLineCollection.set_segments\u001b[39m\u001b[34m(self, segments)\u001b[39m\n\u001b[32m   1643\u001b[39m \u001b[38;5;28;01mif\u001b[39;00m segments \u001b[38;5;129;01mis\u001b[39;00m \u001b[38;5;28;01mNone\u001b[39;00m:\n\u001b[32m   1644\u001b[39m     \u001b[38;5;28;01mreturn\u001b[39;00m\n\u001b[32m   1646\u001b[39m \u001b[38;5;28mself\u001b[39m._paths = [mpath.Path(seg) \u001b[38;5;28;01mif\u001b[39;00m \u001b[38;5;28misinstance\u001b[39m(seg, np.ma.MaskedArray)\n\u001b[32m-> \u001b[39m\u001b[32m1647\u001b[39m                \u001b[38;5;28;01melse\u001b[39;00m \u001b[43mmpath\u001b[49m\u001b[43m.\u001b[49m\u001b[43mPath\u001b[49m\u001b[43m(\u001b[49m\u001b[43mnp\u001b[49m\u001b[43m.\u001b[49m\u001b[43masarray\u001b[49m\u001b[43m(\u001b[49m\u001b[43mseg\u001b[49m\u001b[43m,\u001b[49m\u001b[43m \u001b[49m\u001b[38;5;28;43mfloat\u001b[39;49m\u001b[43m)\u001b[49m\u001b[43m)\u001b[49m\n\u001b[32m   1648\u001b[39m                \u001b[38;5;28;01mfor\u001b[39;00m seg \u001b[38;5;129;01min\u001b[39;00m segments]\n\u001b[32m   1649\u001b[39m \u001b[38;5;28mself\u001b[39m.stale = \u001b[38;5;28;01mTrue\u001b[39;00m\n",
      "\u001b[36mFile \u001b[39m\u001b[32m~/anaconda3/envs/newtorch/lib/python3.12/site-packages/matplotlib/path.py:130\u001b[39m, in \u001b[36mPath.__init__\u001b[39m\u001b[34m(self, vertices, codes, _interpolation_steps, closed, readonly)\u001b[39m\n\u001b[32m    101\u001b[39m \u001b[38;5;250m\u001b[39m\u001b[33;03m\"\"\"\u001b[39;00m\n\u001b[32m    102\u001b[39m \u001b[33;03mCreate a new path with the given vertices and codes.\u001b[39;00m\n\u001b[32m    103\u001b[39m \n\u001b[32m   (...)\u001b[39m\u001b[32m    127\u001b[39m \u001b[33;03m    and codes as read-only arrays.\u001b[39;00m\n\u001b[32m    128\u001b[39m \u001b[33;03m\"\"\"\u001b[39;00m\n\u001b[32m    129\u001b[39m vertices = _to_unmasked_float_array(vertices)\n\u001b[32m--> \u001b[39m\u001b[32m130\u001b[39m \u001b[43m_api\u001b[49m\u001b[43m.\u001b[49m\u001b[43mcheck_shape\u001b[49m\u001b[43m(\u001b[49m\u001b[43m(\u001b[49m\u001b[38;5;28;43;01mNone\u001b[39;49;00m\u001b[43m,\u001b[49m\u001b[43m \u001b[49m\u001b[32;43m2\u001b[39;49m\u001b[43m)\u001b[49m\u001b[43m,\u001b[49m\u001b[43m \u001b[49m\u001b[43mvertices\u001b[49m\u001b[43m=\u001b[49m\u001b[43mvertices\u001b[49m\u001b[43m)\u001b[49m\n\u001b[32m    132\u001b[39m \u001b[38;5;28;01mif\u001b[39;00m codes \u001b[38;5;129;01mis\u001b[39;00m \u001b[38;5;129;01mnot\u001b[39;00m \u001b[38;5;28;01mNone\u001b[39;00m \u001b[38;5;129;01mand\u001b[39;00m \u001b[38;5;28mlen\u001b[39m(vertices):\n\u001b[32m    133\u001b[39m     codes = np.asarray(codes, \u001b[38;5;28mself\u001b[39m.code_type)\n",
      "\u001b[36mFile \u001b[39m\u001b[32m~/anaconda3/envs/newtorch/lib/python3.12/site-packages/matplotlib/_api/__init__.py:162\u001b[39m, in \u001b[36mcheck_shape\u001b[39m\u001b[34m(shape, **kwargs)\u001b[39m\n\u001b[32m    159\u001b[39m \u001b[38;5;28;01mif\u001b[39;00m \u001b[38;5;28mlen\u001b[39m(shape) == \u001b[32m1\u001b[39m:\n\u001b[32m    160\u001b[39m     text_shape += \u001b[33m\"\u001b[39m\u001b[33m,\u001b[39m\u001b[33m\"\u001b[39m\n\u001b[32m--> \u001b[39m\u001b[32m162\u001b[39m \u001b[38;5;28;01mraise\u001b[39;00m \u001b[38;5;167;01mValueError\u001b[39;00m(\n\u001b[32m    163\u001b[39m     \u001b[33mf\u001b[39m\u001b[33m\"\u001b[39m\u001b[38;5;132;01m{\u001b[39;00mk\u001b[38;5;132;01m!r}\u001b[39;00m\u001b[33m must be \u001b[39m\u001b[38;5;132;01m{\u001b[39;00m\u001b[38;5;28mlen\u001b[39m(shape)\u001b[38;5;132;01m}\u001b[39;00m\u001b[33mD with shape (\u001b[39m\u001b[38;5;132;01m{\u001b[39;00mtext_shape\u001b[38;5;132;01m}\u001b[39;00m\u001b[33m), \u001b[39m\u001b[33m\"\u001b[39m\n\u001b[32m    164\u001b[39m     \u001b[33mf\u001b[39m\u001b[33m\"\u001b[39m\u001b[33mbut your input has shape \u001b[39m\u001b[38;5;132;01m{\u001b[39;00mv.shape\u001b[38;5;132;01m}\u001b[39;00m\u001b[33m\"\u001b[39m\n\u001b[32m    165\u001b[39m )\n",
      "\u001b[31mValueError\u001b[39m: 'vertices' must be 2D with shape (N, 2), but your input has shape (2, 10)"
     ]
    },
    {
     "data": {
      "image/png": "[encoded data removed]",
      "text/plain": [
       "<Figure size 4000x400 with 10 Axes>"
      ]
     },
     "metadata": {},
     "output_type": "display_data"
    }
   ],
   "source": [
    "def plot_intro_diagram(model):\n",
    "  from matplotlib import colors  as mcolors\n",
    "  from matplotlib import collections  as mc\n",
    "  cfg = model.config\n",
    "  WA = model.W.detach()\n",
    "  N = len(WA[:,0])\n",
    "  sel = range(config.n_instances) # can be used to highlight specific sparsity levels\n",
    "  plt.rcParams[\"axes.prop_cycle\"] = plt.cycler(\"color\", plt.cm.viridis(model.importance[0].cpu().numpy()))\n",
    "  plt.rcParams['figure.dpi'] = 200\n",
    "  fig, axs = plt.subplots(1,len(sel), figsize=(2*len(sel),2))\n",
    "  for i, ax in zip(sel, axs):\n",
    "      W = WA[i].cpu().detach().numpy()\n",
    "      colors = [mcolors.to_rgba(c)\n",
    "            for c in plt.rcParams['axes.prop_cycle'].by_key()['color']]\n",
    "      ax.scatter(W[:,0], W[:,1], c=colors[0:len(W[:,0])])\n",
    "      ax.set_aspect('equal')\n",
    "      ax.add_collection(mc.LineCollection(np.stack((np.zeros_like(W),W), axis=1), colors=colors))\n",
    "      \n",
    "      z = 1.5\n",
    "      ax.set_facecolor('#FCFBF8')\n",
    "      ax.set_xlim((-z,z))\n",
    "      ax.set_ylim((-z,z))\n",
    "      ax.tick_params(left = True, right = False , labelleft = False ,\n",
    "                  labelbottom = False, bottom = True)\n",
    "      for spine in ['top', 'right']:\n",
    "          ax.spines[spine].set_visible(False)\n",
    "      for spine in ['bottom','left']:\n",
    "          ax.spines[spine].set_position('center')\n",
    "  plt.show()\n",
    "\n",
    "plot_intro_diagram(model)"
   ]
  },
  {
   "cell_type": "code",
   "execution_count": 81,
   "metadata": {},
   "outputs": [
    {
     "data": {
      "text/plain": [
       "torch.Size([40, 10])"
      ]
     },
     "execution_count": 81,
     "metadata": {},
     "output_type": "execute_result"
    }
   ],
   "source": [
    "W.shape"
   ]
  },
  {
   "cell_type": "code",
   "execution_count": 122,
   "metadata": {},
   "outputs": [
    {
     "data": {
      "text/plain": [
       "<Axes: >"
      ]
     },
     "execution_count": 122,
     "metadata": {},
     "output_type": "execute_result"
    },
    {
     "data": {
      "image/png": "[encoded data removed]",
      "text/plain": [
       "<Figure size 1280x960 with 2 Axes>"
      ]
     },
     "metadata": {},
     "output_type": "display_data"
    }
   ],
   "source": [
    "sns.heatmap(W@W.T)"
   ]
  },
  {
   "cell_type": "markdown",
   "metadata": {
    "id": "qDIgjx2GAQNx"
   },
   "source": [
    "# Feature geometry"
   ]
  },
  {
   "cell_type": "code",
   "execution_count": 13,
   "metadata": {
    "id": "ECrtk9nJARlX"
   },
   "outputs": [],
   "source": [
    "config = Config(\n",
    "    n_features = 200,\n",
    "    n_hidden = 20,\n",
    "    n_instances = 20,\n",
    ")\n",
    "\n",
    "model = Model(\n",
    "    config=config,\n",
    "    device=DEVICE,\n",
    "    # For this experiment, use constant importance.\n",
    "\n",
    "    # Sweep feature frequency across the instances from 1 (fully dense) to 1/20\n",
    "    feature_probability = (20 ** -torch.linspace(0, 1, config.n_instances))[:, None]\n",
    ")"
   ]
  },
  {
   "cell_type": "code",
   "execution_count": 14,
   "metadata": {
    "colab": {
     "base_uri": "https://localhost:8080/",
     "height": 49,
     "referenced_widgets": [
      "05371493fb394d60ab276fe17488213f",
      "b6e1e2a2329148d68a709571e016b858",
      "f5fb761ec6de404398f5517e21e0d46b",
      "081fd85ccb724b2c98366620a747b77b",
      "dc421acdf45149fd87cd81d56e9031cd",
      "b73d37d18a7e4577bcfa8c2aec321eb1",
      "d7bc2f21dd294f52a0243ca35aadeb22",
      "a79a0479d88e4d3eb77b108bbc874e09",
      "cb347c5ce6694bfb92919a5593cc7049",
      "0d65324158214bb8b73f3cc13e461be4",
      "3f0aa91dd60a45a292c2b52cfbbce8fa"
     ]
    },
    "id": "5DNkKnDKARlY",
    "outputId": "51545170-22b6-4978-8e7b-a14a1b3f2430"
   },
   "outputs": [
    {
     "data": {
      "application/vnd.jupyter.widget-view+json": {
       "model_id": "3fe9b7f3bf3a4787a4b611e952307570",
       "version_major": 2,
       "version_minor": 0
      },
      "text/plain": [
       "  0%|          | 0/10000 [00:00<?, ?it/s]"
      ]
     },
     "metadata": {},
     "output_type": "display_data"
    }
   ],
   "source": [
    "optimize(model)"
   ]
  },
  {
   "cell_type": "code",
   "execution_count": 71,
   "metadata": {
    "colab": {
     "base_uri": "https://localhost:8080/",
     "height": 542
    },
    "id": "qFPKm2ObAfre",
    "outputId": "e8ddef72-5765-493d-d9dd-dbe0e7ee57f1"
   },
   "outputs": [
    {
     "data": {
      "application/vnd.plotly.v1+json": {
       "config": {
        "plotlyServerURL": "https://plot.ly"
       },
       "data": [
        {
         "hovertemplate": "x=%{x}<br>y=%{y}<extra></extra>",
         "legendgroup": "",
         "line": {
          "color": "#636efa",
          "dash": "solid"
         },
         "marker": {
          "symbol": "circle"
         },
         "mode": "lines+markers",
         "name": "",
         "orientation": "v",
         "showlegend": false,
         "type": "scatter",
         "x": {
          "bdata": "AACAP8CNsj/ZEvk/BbktQKxVckDBBalALMfrQApzJEEWZmVBAACgQQ==",
          "dtype": "f4"
         },
         "xaxis": "x",
         "y": {
          "bdata": "OQ6AP/3ffT8ERlo/ozg2P64oKT/gQB8/+UAfPxCMDz/O7Oc+BLzHPg==",
          "dtype": "f4"
         },
         "yaxis": "y"
        }
       ],
       "layout": {
        "legend": {
         "tracegroupgap": 0
        },
        "margin": {
         "t": 60
        },
        "template": {
         "data": {
          "bar": [
           {
            "error_x": {
             "color": "#2a3f5f"
            },
            "error_y": {
             "color": "#2a3f5f"
            },
            "marker": {
             "line": {
              "color": "#E5ECF6",
              "width": 0.5
             },
             "pattern": {
              "fillmode": "overlay",
              "size": 10,
              "solidity": 0.2
             }
            },
            "type": "bar"
           }
          ],
          "barpolar": [
           {
            "marker": {
             "line": {
              "color": "#E5ECF6",
              "width": 0.5
             },
             "pattern": {
              "fillmode": "overlay",
              "size": 10,
              "solidity": 0.2
             }
            },
            "type": "barpolar"
           }
          ],
          "carpet": [
           {
            "aaxis": {
             "endlinecolor": "#2a3f5f",
             "gridcolor": "white",
             "linecolor": "white",
             "minorgridcolor": "white",
             "startlinecolor": "#2a3f5f"
            },
            "baxis": {
             "endlinecolor": "#2a3f5f",
             "gridcolor": "white",
             "linecolor": "white",
             "minorgridcolor": "white",
             "startlinecolor": "#2a3f5f"
            },
            "type": "carpet"
           }
          ],
          "choropleth": [
           {
            "colorbar": {
             "outlinewidth": 0,
             "ticks": ""
            },
            "type": "choropleth"
           }
          ],
          "contour": [
           {
            "colorbar": {
             "outlinewidth": 0,
             "ticks": ""
            },
            "colorscale": [
             [
              0,
              "#0d0887"
             ],
             [
              0.1111111111111111,
              "#46039f"
             ],
             [
              0.2222222222222222,
              "#7201a8"
             ],
             [
              0.3333333333333333,
              "#9c179e"
             ],
             [
              0.4444444444444444,
              "#bd3786"
             ],
             [
              0.5555555555555556,
              "#d8576b"
             ],
             [
              0.6666666666666666,
              "#ed7953"
             ],
             [
              0.7777777777777778,
              "#fb9f3a"
             ],
             [
              0.8888888888888888,
              "#fdca26"
             ],
             [
              1,
              "#f0f921"
             ]
            ],
            "type": "contour"
           }
          ],
          "contourcarpet": [
           {
            "colorbar": {
             "outlinewidth": 0,
             "ticks": ""
            },
            "type": "contourcarpet"
           }
          ],
          "heatmap": [
           {
            "colorbar": {
             "outlinewidth": 0,
             "ticks": ""
            },
            "colorscale": [
             [
              0,
              "#0d0887"
             ],
             [
              0.1111111111111111,
              "#46039f"
             ],
             [
              0.2222222222222222,
              "#7201a8"
             ],
             [
              0.3333333333333333,
              "#9c179e"
             ],
             [
              0.4444444444444444,
              "#bd3786"
             ],
             [
              0.5555555555555556,
              "#d8576b"
             ],
             [
              0.6666666666666666,
              "#ed7953"
             ],
             [
              0.7777777777777778,
              "#fb9f3a"
             ],
             [
              0.8888888888888888,
              "#fdca26"
             ],
             [
              1,
              "#f0f921"
             ]
            ],
            "type": "heatmap"
           }
          ],
          "histogram": [
           {
            "marker": {
             "pattern": {
              "fillmode": "overlay",
              "size": 10,
              "solidity": 0.2
             }
            },
            "type": "histogram"
           }
          ],
          "histogram2d": [
           {
            "colorbar": {
             "outlinewidth": 0,
             "ticks": ""
            },
            "colorscale": [
             [
              0,
              "#0d0887"
             ],
             [
              0.1111111111111111,
              "#46039f"
             ],
             [
              0.2222222222222222,
              "#7201a8"
             ],
             [
              0.3333333333333333,
              "#9c179e"
             ],
             [
              0.4444444444444444,
              "#bd3786"
             ],
             [
              0.5555555555555556,
              "#d8576b"
             ],
             [
              0.6666666666666666,
              "#ed7953"
             ],
             [
              0.7777777777777778,
              "#fb9f3a"
             ],
             [
              0.8888888888888888,
              "#fdca26"
             ],
             [
              1,
              "#f0f921"
             ]
            ],
            "type": "histogram2d"
           }
          ],
          "histogram2dcontour": [
           {
            "colorbar": {
             "outlinewidth": 0,
             "ticks": ""
            },
            "colorscale": [
             [
              0,
              "#0d0887"
             ],
             [
              0.1111111111111111,
              "#46039f"
             ],
             [
              0.2222222222222222,
              "#7201a8"
             ],
             [
              0.3333333333333333,
              "#9c179e"
             ],
             [
              0.4444444444444444,
              "#bd3786"
             ],
             [
              0.5555555555555556,
              "#d8576b"
             ],
             [
              0.6666666666666666,
              "#ed7953"
             ],
             [
              0.7777777777777778,
              "#fb9f3a"
             ],
             [
              0.8888888888888888,
              "#fdca26"
             ],
             [
              1,
              "#f0f921"
             ]
            ],
            "type": "histogram2dcontour"
           }
          ],
          "mesh3d": [
           {
            "colorbar": {
             "outlinewidth": 0,
             "ticks": ""
            },
            "type": "mesh3d"
           }
          ],
          "parcoords": [
           {
            "line": {
             "colorbar": {
              "outlinewidth": 0,
              "ticks": ""
             }
            },
            "type": "parcoords"
           }
          ],
          "pie": [
           {
            "automargin": true,
            "type": "pie"
           }
          ],
          "scatter": [
           {
            "fillpattern": {
             "fillmode": "overlay",
             "size": 10,
             "solidity": 0.2
            },
            "type": "scatter"
           }
          ],
          "scatter3d": [
           {
            "line": {
             "colorbar": {
              "outlinewidth": 0,
              "ticks": ""
             }
            },
            "marker": {
             "colorbar": {
              "outlinewidth": 0,
              "ticks": ""
             }
            },
            "type": "scatter3d"
           }
          ],
          "scattercarpet": [
           {
            "marker": {
             "colorbar": {
              "outlinewidth": 0,
              "ticks": ""
             }
            },
            "type": "scattercarpet"
           }
          ],
          "scattergeo": [
           {
            "marker": {
             "colorbar": {
              "outlinewidth": 0,
              "ticks": ""
             }
            },
            "type": "scattergeo"
           }
          ],
          "scattergl": [
           {
            "marker": {
             "colorbar": {
              "outlinewidth": 0,
              "ticks": ""
             }
            },
            "type": "scattergl"
           }
          ],
          "scattermap": [
           {
            "marker": {
             "colorbar": {
              "outlinewidth": 0,
              "ticks": ""
             }
            },
            "type": "scattermap"
           }
          ],
          "scattermapbox": [
           {
            "marker": {
             "colorbar": {
              "outlinewidth": 0,
              "ticks": ""
             }
            },
            "type": "scattermapbox"
           }
          ],
          "scatterpolar": [
           {
            "marker": {
             "colorbar": {
              "outlinewidth": 0,
              "ticks": ""
             }
            },
            "type": "scatterpolar"
           }
          ],
          "scatterpolargl": [
           {
            "marker": {
             "colorbar": {
              "outlinewidth": 0,
              "ticks": ""
             }
            },
            "type": "scatterpolargl"
           }
          ],
          "scatterternary": [
           {
            "marker": {
             "colorbar": {
              "outlinewidth": 0,
              "ticks": ""
             }
            },
            "type": "scatterternary"
           }
          ],
          "surface": [
           {
            "colorbar": {
             "outlinewidth": 0,
             "ticks": ""
            },
            "colorscale": [
             [
              0,
              "#0d0887"
             ],
             [
              0.1111111111111111,
              "#46039f"
             ],
             [
              0.2222222222222222,
              "#7201a8"
             ],
             [
              0.3333333333333333,
              "#9c179e"
             ],
             [
              0.4444444444444444,
              "#bd3786"
             ],
             [
              0.5555555555555556,
              "#d8576b"
             ],
             [
              0.6666666666666666,
              "#ed7953"
             ],
             [
              0.7777777777777778,
              "#fb9f3a"
             ],
             [
              0.8888888888888888,
              "#fdca26"
             ],
             [
              1,
              "#f0f921"
             ]
            ],
            "type": "surface"
           }
          ],
          "table": [
           {
            "cells": {
             "fill": {
              "color": "#EBF0F8"
             },
             "line": {
              "color": "white"
             }
            },
            "header": {
             "fill": {
              "color": "#C8D4E3"
             },
             "line": {
              "color": "white"
             }
            },
            "type": "table"
           }
          ]
         },
         "layout": {
          "annotationdefaults": {
           "arrowcolor": "#2a3f5f",
           "arrowhead": 0,
           "arrowwidth": 1
          },
          "autotypenumbers": "strict",
          "coloraxis": {
           "colorbar": {
            "outlinewidth": 0,
            "ticks": ""
           }
          },
          "colorscale": {
           "diverging": [
            [
             0,
             "#8e0152"
            ],
            [
             0.1,
             "#c51b7d"
            ],
            [
             0.2,
             "#de77ae"
            ],
            [
             0.3,
             "#f1b6da"
            ],
            [
             0.4,
             "#fde0ef"
            ],
            [
             0.5,
             "#f7f7f7"
            ],
            [
             0.6,
             "#e6f5d0"
            ],
            [
             0.7,
             "#b8e186"
            ],
            [
             0.8,
             "#7fbc41"
            ],
            [
             0.9,
             "#4d9221"
            ],
            [
             1,
             "#276419"
            ]
           ],
           "sequential": [
            [
             0,
             "#0d0887"
            ],
            [
             0.1111111111111111,
             "#46039f"
            ],
            [
             0.2222222222222222,
             "#7201a8"
            ],
            [
             0.3333333333333333,
             "#9c179e"
            ],
            [
             0.4444444444444444,
             "#bd3786"
            ],
            [
             0.5555555555555556,
             "#d8576b"
            ],
            [
             0.6666666666666666,
             "#ed7953"
            ],
            [
             0.7777777777777778,
             "#fb9f3a"
            ],
            [
             0.8888888888888888,
             "#fdca26"
            ],
            [
             1,
             "#f0f921"
            ]
           ],
           "sequentialminus": [
            [
             0,
             "#0d0887"
            ],
            [
             0.1111111111111111,
             "#46039f"
            ],
            [
             0.2222222222222222,
             "#7201a8"
            ],
            [
             0.3333333333333333,
             "#9c179e"
            ],
            [
             0.4444444444444444,
             "#bd3786"
            ],
            [
             0.5555555555555556,
             "#d8576b"
            ],
            [
             0.6666666666666666,
             "#ed7953"
            ],
            [
             0.7777777777777778,
             "#fb9f3a"
            ],
            [
             0.8888888888888888,
             "#fdca26"
            ],
            [
             1,
             "#f0f921"
            ]
           ]
          },
          "colorway": [
           "#636efa",
           "#EF553B",
           "#00cc96",
           "#ab63fa",
           "#FFA15A",
           "#19d3f3",
           "#FF6692",
           "#B6E880",
           "#FF97FF",
           "#FECB52"
          ],
          "font": {
           "color": "#2a3f5f"
          },
          "geo": {
           "bgcolor": "white",
           "lakecolor": "white",
           "landcolor": "#E5ECF6",
           "showlakes": true,
           "showland": true,
           "subunitcolor": "white"
          },
          "hoverlabel": {
           "align": "left"
          },
          "hovermode": "closest",
          "mapbox": {
           "style": "light"
          },
          "paper_bgcolor": "white",
          "plot_bgcolor": "#E5ECF6",
          "polar": {
           "angularaxis": {
            "gridcolor": "white",
            "linecolor": "white",
            "ticks": ""
           },
           "bgcolor": "#E5ECF6",
           "radialaxis": {
            "gridcolor": "white",
            "linecolor": "white",
            "ticks": ""
           }
          },
          "scene": {
           "xaxis": {
            "backgroundcolor": "#E5ECF6",
            "gridcolor": "white",
            "gridwidth": 2,
            "linecolor": "white",
            "showbackground": true,
            "ticks": "",
            "zerolinecolor": "white"
           },
           "yaxis": {
            "backgroundcolor": "#E5ECF6",
            "gridcolor": "white",
            "gridwidth": 2,
            "linecolor": "white",
            "showbackground": true,
            "ticks": "",
            "zerolinecolor": "white"
           },
           "zaxis": {
            "backgroundcolor": "#E5ECF6",
            "gridcolor": "white",
            "gridwidth": 2,
            "linecolor": "white",
            "showbackground": true,
            "ticks": "",
            "zerolinecolor": "white"
           }
          },
          "shapedefaults": {
           "line": {
            "color": "#2a3f5f"
           }
          },
          "ternary": {
           "aaxis": {
            "gridcolor": "white",
            "linecolor": "white",
            "ticks": ""
           },
           "baxis": {
            "gridcolor": "white",
            "linecolor": "white",
            "ticks": ""
           },
           "bgcolor": "#E5ECF6",
           "caxis": {
            "gridcolor": "white",
            "linecolor": "white",
            "ticks": ""
           }
          },
          "title": {
           "x": 0.05
          },
          "xaxis": {
           "automargin": true,
           "gridcolor": "white",
           "linecolor": "white",
           "ticks": "",
           "title": {
            "standoff": 15
           },
           "zerolinecolor": "white",
           "zerolinewidth": 2
          },
          "yaxis": {
           "automargin": true,
           "gridcolor": "white",
           "linecolor": "white",
           "ticks": "",
           "title": {
            "standoff": 15
           },
           "zerolinecolor": "white",
           "zerolinewidth": 2
          }
         }
        },
        "xaxis": {
         "anchor": "y",
         "domain": [
          0,
          1
         ],
         "title": {
          "text": "1/(1-S)"
         },
         "type": "log"
        },
        "yaxis": {
         "anchor": "x",
         "domain": [
          0,
          1
         ],
         "title": {
          "text": "m/||W||_F^2"
         }
        }
       }
      }
     },
     "metadata": {},
     "output_type": "display_data"
    }
   ],
   "source": [
    "fig = px.line(\n",
    "    x=1/model.feature_probability[:, 0].cpu(),\n",
    "    y=(model.config.n_hidden/(torch.linalg.matrix_norm(model.W.detach(), 'fro')**2)).cpu(),\n",
    "    log_x=True,\n",
    "    markers=True,\n",
    ")\n",
    "fig.update_xaxes(title=\"1/(1-S)\")\n",
    "fig.update_yaxes(title=f\"m/||W||_F^2\")"
   ]
  },
  {
   "cell_type": "code",
   "execution_count": 72,
   "metadata": {
    "id": "m1gNMKCqA6EO"
   },
   "outputs": [],
   "source": [
    "@torch.no_grad()\n",
    "def compute_dimensionality(W):\n",
    "  norms = torch.linalg.norm(W, 2, dim=-1) \n",
    "  W_unit = W / torch.clamp(norms[:, :, None], 1e-6, float('inf'))\n",
    "\n",
    "  interferences = (torch.einsum('eah,ebh->eab', W_unit, W)**2).sum(-1)\n",
    "\n",
    "  dim_fracs = (norms**2/interferences)\n",
    "  return dim_fracs.cpu()"
   ]
  },
  {
   "cell_type": "code",
   "execution_count": 73,
   "metadata": {
    "id": "3OfjWWC9BDlv"
   },
   "outputs": [],
   "source": [
    "dim_fracs = compute_dimensionality(model.W)"
   ]
  },
  {
   "cell_type": "code",
   "execution_count": 74,
   "metadata": {
    "colab": {
     "base_uri": "https://localhost:8080/",
     "height": 542
    },
    "id": "DTWEr8pHBGCf",
    "outputId": "1c89b231-8539-4c5a-a599-a647ee9c1430"
   },
   "outputs": [
    {
     "name": "stderr",
     "output_type": "stream",
     "text": [
      "/var/folders/d9/_sfhw3kd21dgyrgz6tbt45z80000gn/T/ipykernel_92785/1338938532.py:22: DeprecationWarning:\n",
      "\n",
      "__array_wrap__ must accept context and return_scalar arguments (positionally) in the future. (Deprecated NumPy 2.0)\n",
      "\n"
     ]
    },
    {
     "data": {
      "application/vnd.plotly.v1+json": {
       "config": {
        "plotlyServerURL": "https://plot.ly"
       },
       "data": [
        {
         "marker": {
          "color": "black",
          "opacity": 0.5,
          "size": 1
         },
         "mode": "markers",
         "type": "scatter",
         "x": {
          "bdata": "ACdrlrdp8D8MBvGfaC/wP6fBL8r+8+8/jZw1G5ug7z8UNVKNkSfwPzPz2ljHZfA/9jflNaZv8D93RRPNusvvP6xCSHYfYPA/RBScKlFz8D/wYX2/jnHwP9qYBDg2Fu8/uAThTqCD8D9gjbRfnDLvP89ldJq9kfA/nYaXDz/u7j/zSkgnGPzuP6srVQuT/e8/28rTL2D27z+beLViJcHvP7OpPUVJuO8/jIP2To3Q7j94+NJI00XvP6Y+gch0gu8/7hIuRWGD7z9HQE2SKvLuP+52K6rBju8/jJcYyWAI8D/d4Fo3p8nvP1IbKdsObe8/OEtlI83Y7z/NfMyrKW3wPx30gm3s0e4/vcD7Ymsj8D/TUtYATJTwP6KMnp3tHPA/hyay19rK7z8xaMpPB2vvP+byFOak4u8/+djFz6IK7z8=",
          "dtype": "f8"
         },
         "y": {
          "bdata": "4/5/P+D/fz/p/38/2v9/P+X/fz9O/n8/nsV/P+fyfz/97X8/VfmnPgCbKz9ufC07eVqAObQrEje3hgs3roY5N8n1Cje68tI2oBcuN1Dz+zYntgM3Wmr8Nd9eRDah+ZE2HalFNlTnGDZ2vxM2bWxONtKMkzYxe4s1rB8bNtZUqDUBHvY1HnSmNapO4TVv/NM1gqr/NYZswzWloAw2qabWNQ==",
          "dtype": "f4"
         }
        },
        {
         "marker": {
          "color": "black",
          "opacity": 0.5,
          "size": 1
         },
         "mode": "markers",
         "type": "scatter",
         "x": {
          "bdata": "quXq/+fR9T+wp2n3eBr3P5lmMr05ePU/397BfhX29j8NW23LsoD1P/Q6qtQh7/Y/nnnKvBWC9T+8g82ywLn1Pyee0iil/PY/O8bIxGyX9T/jqQJXoar1P54wgoPnofU/NFbw+b8u9z/ZHMHYanL2P8VDkzmaJPc/JAYSGzMS9z9vTOc9/Av3P5lyhLHjwvU/Od1Lpq7S9T8OFXqph5X1P9tZWY9T7vU/AR6D1f6o9j+l26+h4Ef2P6xh57ueQ/Y/mGkpG9TT9T+SOZ1qfDf2P13yH3kOA/Y/YjIRsX2P9j9cyNDDhqz2PzOqsyvZo/U/tYmae5af9j+6P65J4Lr2PxA1RpFqgvU/TUaKTLcT9j/LJfQwJ232P2tCqGanGPc/dYDzI5Wp9T+sSIREVLz2P6anIuHOq/Y/EuqiHa+S9T8=",
          "dtype": "f8"
         },
         "y": {
          "bdata": "S/1/P1r/fz8U/38/fP9/P0r/fz+w/H8/g/l/P6v5fz9Fd3w/D2J1Pz1wYT0xmQw5nPkOOUpxOTjHFng4qhmRODXMozflsCs3C1cCN0ToFDcZdUE3vpY3N6DARTfy7F03j6FdNl06/DW8u+Q17TyNNa4/gja7vcA1BnGvNYSFiDUc0Rg17O4YNvSOazU9Pmc1aU8GNZN/ozQMS541xy84NQ==",
          "dtype": "f4"
         }
        },
        {
         "marker": {
          "color": "black",
          "opacity": 0.5,
          "size": 1
         },
         "mode": "markers",
         "type": "scatter",
         "x": {
          "bdata": "mkJqS2Ii/z8UUPTo6br/P4U55t68c/4/+AVRqmQMAECR6VvfiFD/P7tmW6xwCf8/rry8Gkq2/z/rXkBoPhz/P43FVW0R4v4/WPhfJ1/f/z/ZyP4a0Ev/P1Py8Z/0uP4/MLq726s4/j/IV07Q6MP/P9BA+ZUOVP4/+NDKHvJO/j/XOFG2/iMAQPdJskohGQBAnZV2GWHN/j8TmfXgXikAQIfx7loAuf8/HHtsqVlI/z9VjmzIVR8AQF3YSE13HwBALPlqb2Gq/j+3cxqXjIL/P+4Vyff0Yf4/X/5E3Cz6/j84e5oUvJX+P9+GRn+/OP8/nIzyZYxf/j/CPCNIq6T+Px4uZU8g3f4/aPqI4vUw/z+02U5tPC7/PychABR8gP4/yQ8JbOY8/z+8cAXrHAv+P1rZeXadUv4/FbhKutkv/z8=",
          "dtype": "f8"
         },
         "y": {
          "bdata": "Xfx/PwL/fz/V/n8/Sf5/P0v+fz+H938/g+F4P1jTCT+xrH4/6VjsPmL1CT8i3gU9BgbsPvQ52jjnu2o45IknOL2y2zi0Dok3dTX4N1FJNzdYNIw3K/9UN4pWsDcfjVY3q2OeNakhQTe7hmc3H8g5N5dJjjbP89c2T7QENuTrbjduLF43xzkRN3YkCTfFync22J2NNn9PHzWU95o2qxoCNw==",
          "dtype": "f4"
         }
        },
        {
         "marker": {
          "color": "black",
          "opacity": 0.5,
          "size": 1
         },
         "mode": "markers",
         "type": "scatter",
         "x": {
          "bdata": "LOKl/3pHBUB2/U0UxQEGQFYLW23rVAVAG94ISBZzBUBE+KcvjZUFQDJx2jgpewZA8/83EmQbBUDmJt3vIOUFQO4VXTzTQgZAh9QMZusuBkAgqDtPLlkFQM3PUSrBmwVAQCW+/ronBkA9mmIryjUFQNWbK7rlBAZA1gnlHXUwBkB51TjTxuoEQP4g1F0xIwZA2lBuaVRNBkBCcCw5Ms0FQCsTBtwdTQZA2g6Zw9TXBUAc+9xKdPYEQACHVwzPMwZAPRa6eiNjBkB2qKNJhXkGQNoDCYAbUQZAhmEG6JaoBUAaUFzH64MFQNcrz2zqHQZAV7LsAQQiBkAgRPVw50sFQByIBPAnhgZAaRxfqQsYBkC7IisPTYcGQAany5KuMgZAHjYhxTk5BUC1Hvre9X8GQKlaNsXEUAZAoPGzcKMwBkA=",
          "dtype": "f8"
         },
         "y": {
          "bdata": "u/l/Pxb8fz/2/X8/bf5/P1L9fz9rcxA/zBAIP0pxBj+8oQE/N6v8Pp/R7z5zEvM+FYtrP5sI3z7iqE49wC/uPE2tzTippj05a1bXN5WcMThP+A84LeISOE+1xTZx5a83Ee+BOHNWnzfmrF83sayRN8KgoDZyp8Q3BeEjNyZwIjdPlOg2HucvNx249DfAPDM3/mo5N95xfzc3qe02qxMHOA==",
          "dtype": "f4"
         }
        },
        {
         "marker": {
          "color": "black",
          "opacity": 0.5,
          "size": 1
         },
         "mode": "markers",
         "type": "scatter",
         "x": {
          "bdata": "2T6TSYzoDUCyrkP4tA4PQLUCI0AkOw5AeyB+AQ1OD0CeLTNoWmgPQAWZCulwPA5AvKNjPVC1DkC0qgX02LoOQDSXJADN+g1ALiC5DX15DUCDnYRMVvAOQMQKZ1p7zg5ArQrOO08yD0CZRkvZSioNQE+UOSy1OA1ALIiV57ENDkA/bq2qKe4NQGdihJh4bg5AjfisrzL9DUBtqaT8vRgPQJnzl+pDoA1APpI7jTRwDkDHnTlYLw8OQAFMTlpj1A5Aa3K3XhN2DUBY0dwiQ4cNQENbIKc5Uw1Au7pEK8zjDkCB/4lvAiAPQMJhxO13dQ1AiBaL4rpcDUDX+cQA420PQG3jz7UGCQ9A744y69vtDUAzX0/GIg0OQAaBCxcuBw9A4AcV/NxUDkABXtgLowAOQNyv1nsgkw1Ak/BEmlwOD0A=",
          "dtype": "f8"
         },
         "y": {
          "bdata": "/PZ/P8P9fz/W/X8/f/1/P9P9fz+eDgU/rjgDP8V1Aj8f5wQ/3wf7PgoNAj/L1PU+5Yb5PnvZ+z6hJ/Y+/gZNOPEzsDcLxkM47hjKN3koJjg9dqQ3sMvyNxpoiTeF65Y392coOJR8mDaYhjU3nZ50NyvEGjc0AOg3ACW7NoNYnTes5VY3TrBNN3c4hjf908o3R7ZCN7TAMTd0E9M2t9YGNw==",
          "dtype": "f4"
         }
        },
        {
         "marker": {
          "color": "black",
          "opacity": 0.5,
          "size": 1
         },
         "mode": "markers",
         "type": "scatter",
         "x": {
          "bdata": "crNgmC3oFUAFYULXHL4VQMAUXWiUDxVAx/Dyy37wFEB0wvuPQHgUQLcOCrf2fRRAEijbTKiPFEBvC09e13gVQDfi6t4vBhVA9OaLgDfTFUCFIjRf26YUQNG/x+eGlBRAMQFmpH+BFED3cWGAKiwVQMrodkFXCxVAtk3NY9vwFUCj6BfJiZIUQI2JrComABVAVou0iKCQFEBBHQDbxEsUQIKzQZbW0BVAt5Hs/hqHFUBZHvQ+yOAUQLIhAsIF1xRAXAkKDzOKFUAN+xy9Y4gVQPvtxHcCYxRAKU/DvM78FEBT5eS34koVQOlvk8IsAxVALFlcJCmXFEBUWz5gMr4UQMSR8XjXaBRAOTi1WeV7FUAQM9gnX60VQOHd0INfSBVAB8m5SCNtFUB3cgEm3BsVQK2inACo3BRAfZwPzjYIFUA=",
          "dtype": "f8"
         },
         "y": {
          "bdata": "LTQMPxH9fz/V/H8/7Px/P6z8fz/2KAI/xQEAP1jx/z66mQE/qJIDP5em+z7cCgE/msT8PgPk/T5wi+c+icv4PlGAqDcRhqU3b8aAN2/59zdxwl83BeI3N29xEziVEJ0358W2NwAitzcpg5E3U9GNN9hgIzZbEe82pwjPN71vOTcEBSU3hMUPOGR9ITdwFtM2em2cNxOwsjbIkU83PEzQNg==",
          "dtype": "f4"
         }
        },
        {
         "marker": {
          "color": "black",
          "opacity": 0.5,
          "size": 1
         },
         "mode": "markers",
         "type": "scatter",
         "x": {
          "bdata": "ItyBkPd2HEASiVMTBZkeQP5glgX/JB1AZtOUWSebHkASFkt/C0oeQJzNuDBcFR5AMqtX73ejHEA/kTMl80QeQN6EkirBWR1AZKvO2i5CHUAmasy4CvMcQMzD9pG61BxAtlLDz8EHHkCHLBPvHJQdQDkwSJNRoBxANDelgAZSHkCLjbqwE38cQKX17znxER5Ac/gFfNlOHUAONcgGejcdQH7Iyf+zLR1ANOfs9OWVHEA5eeqEB9AcQLikORAOTx5ADAPuweZVHUCl/f+cYFAeQBv7DMMylx5AIAmuEidCHkASLZssjZMcQOnPNddioBxAMLENu26sHUB0WJ4b3P8dQEHeuj6HcB5AZZHk4TLFHUDtLimlYfYcQGAn5PmZkBxA6fst2SZ4HUB2Tam4ERIeQHYXE1c+9BxAFl5uJZ8THUA=",
          "dtype": "f8"
         },
         "y": {
          "bdata": "W7UGP/X9fz9X/n8/dv1/P0f9fz/OygE/rP3/Pk76/z7TwQI/tx4AP0at/z6yJgA/TLz/PtIuQjjLWPw+cOGFOOqI8j6jbfo+Rnm0NxJFwzfpK/w3WZ4TOJFcnjcbEpk394/vN8kwNzfjFEI3c8CNNwUlnDYNgsE3dwfLN2bA6DYPL2A3uuRvN+3UjzfJ6Zw32lMVN+eVMjdQsZQ3XO0DNw==",
          "dtype": "f4"
         }
        },
        {
         "marker": {
          "color": "black",
          "opacity": 0.5,
          "size": 1
         },
         "mode": "markers",
         "type": "scatter",
         "x": {
          "bdata": "K8ntTrW4JEARhfQ7FoYkQN+qBdycBCRAk+to3rgVJUC9TW6ixXQkQBGjgL3QKCVAwlJ5fRJVJUBtf6XjLhwlQB/M5VyjyiRAWxGtY1WFJEDqIXueThskQGX3fnLmICRAnDbfXBI5JEAWQLDWHBMlQNyBNqvw9iRASWByXwLNJECd4S/IWrYkQCzzNMvzGSRAjgziXX39JED3IK6OE0glQHsyp3YdxiNAnjytdnnUI0AJ1YiRaxElQBy6wvvzDSVAZLe7n1XwI0BZKSJ6GaQkQJGiF5NO7yNAw+f3XkEhJUBsaxZI4OYkQDPwAMZ0/SRALD+0VI73I0BNYbluO08lQPDIh8fKUyRAzOji7Qv5I0DPjvl36O0kQGrcd9YivCRAK6Ej82smJEBaK0/Hg7kkQG2TLoNrgCRAnoekSs1uJEA=",
          "dtype": "f8"
         },
         "y": {
          "bdata": "SLEFP8T8fz8f/H8/k/l/Pw38fz+3mwE/U5wCP+yo2j6xgQA/Z/P+Ps852T6Jvvw+qtfOPvmz+j5PTck+t4X0PiW9sz5rISA4y9JiOAWZMjjTq8c3fHDVOFmHZzeAIHs4UJK+N7sxtzev4Dc3ODYBN+sADzgc/kc44ESLOLxNuzfmlzk3ZffdN9QnHTYO6cQ3f4WVNyZWdDin1084tUrHNw==",
          "dtype": "f4"
         }
        },
        {
         "marker": {
          "color": "black",
          "opacity": 0.5,
          "size": 1
         },
         "mode": "markers",
         "type": "scatter",
         "x": {
          "bdata": "M1uvT5BOLEBfg9JPyzAsQG07Yqgjsi1A2jpAeGh1LUAnM/znC14sQPecsjrlDS1A31D1pH/+K0Cp+etxKwEtQGNF77VsbSxApFjQMf1jLEB/StM2WMgsQFTCCbPQPCxArNsDYPgLLUAMhi2XOMMsQGifpPM10StA2CmiZ2soLUBOjUtoq90rQNSK/759gi1AS2NS1wmYK0CguzY78+gsQNT8HI4gMSxAP+v71YkQLUB9yI3a2P4rQCl5cJmIJy1A9weso90CLUAqlIxaz5osQMGsOxTPSi1A49yf4Yu/LUDcpeT0/DEtQAHSHCmZzS1AJNZlsAEdLUBWuAiSoo0tQD6KvpgTxytAfjk1V9lJLUB1nmcdjiMsQGDoeaWPFS1AOcH4BitHLUDDtk7POF0tQNKSFaSXpytAToP4rfT8LEA=",
          "dtype": "f8"
         },
         "y": {
          "bdata": "AuwAP7/5fz+h+H8/dPN/Pz7yfz+mJQA/U6n/PpOrwT5+07k+QFu1Plkc/j5UwbE+jaywPrD1sz4gLqk+6qOkPkB2oj6qLpU+chqcPk7TlD4eFa43F4irN8lz2DcAS4035SN0N77Wxje6i3A3vOMBOHGT1ze1pWE35su7NxCn0DfCNr83IZdDOLBorzfuggA3z6nTNxzGITiQm1U4TOFYOA==",
          "dtype": "f4"
         }
        },
        {
         "marker": {
          "color": "black",
          "opacity": 0.5,
          "size": 1
         },
         "mode": "markers",
         "type": "scatter",
         "x": {
          "bdata": "wDM6ibWbM0CPxe0CpSQ0QNzc04By5TNAnIo+OweHNEA6vm2ASL0zQPpL/AQcTjRAr4sbSNMiNECyvTJjAdwzQH+zdmICjzNAmGnt9yE1NED5cQXXmA00QM7RWUswpTNA4I8ruMZWNEAOKeGsN6MzQLh1FqWghjNA4INnvMKzM0DGz+FKbaAzQENBqloe7jNAFKelTLMFNEBlz9YxaHAzQNL/mTLKfDRA/70wGLHrM0Ck1Igrs6IzQHUPNZWf5TNAmjhRY6k4NEBgP3+AbJAzQAZZ3G6VFjRAu82+UspxM0AgbT3zlok0QLVsoY1w7zNAX18IlMNxNECrdrYqNhI0QAqoCfqHnzNAH0byUYLmM0BVL53iH70zQCzIVFNtVzRAkAvRTJPpM0ATKcEbZx00QJ6FPVqAOjRAkwxt+gmuM0A=",
          "dtype": "f8"
         },
         "y": {
          "bdata": "BfsAPxqQfz/RgH8/QiMKPz5CDz+OEb0+gqfpPgthuz4PWr0+mca0PmP//T4xx7U+0pawPqTQ3j6r1q4+OzWyPkzXpD4z5aQ+j7mfPi7upz5KkJ4+I+qKPoSMgj5EcSY6uK4LOnobLDpMTQE5+kaxOTaSMDshUXU5JWhYOZq8Bjng6tg4mDeuOWupijl0uU05Q2OIOZpLjTq9ttc4xyYhOg==",
          "dtype": "f4"
         }
        }
       ],
       "layout": {
        "annotations": [
         {
          "showarrow": false,
          "text": "1/2",
          "x": 1,
          "xanchor": "right",
          "xref": "x domain",
          "y": 0.5,
          "yanchor": "bottom",
          "yref": "y"
         },
         {
          "showarrow": false,
          "text": "2/3",
          "x": 1,
          "xanchor": "right",
          "xref": "x domain",
          "y": 0.6666666666666666,
          "yanchor": "bottom",
          "yref": "y"
         },
         {
          "showarrow": false,
          "text": "2/5",
          "x": 1,
          "xanchor": "right",
          "xref": "x domain",
          "y": 0.4,
          "yanchor": "bottom",
          "yref": "y"
         },
         {
          "showarrow": false,
          "text": "2/6",
          "x": 1,
          "xanchor": "right",
          "xref": "x domain",
          "y": 0.3333333333333333,
          "yanchor": "bottom",
          "yref": "y"
         },
         {
          "showarrow": false,
          "text": "2/7",
          "x": 1,
          "xanchor": "right",
          "xref": "x domain",
          "y": 0.2857142857142857,
          "yanchor": "bottom",
          "yref": "y"
         },
         {
          "showarrow": false,
          "text": "5/6",
          "x": 0.05,
          "xanchor": "right",
          "xref": "x domain",
          "y": 0.8333333333333334,
          "yanchor": "bottom",
          "yref": "y"
         },
         {
          "showarrow": false,
          "text": "4/5",
          "x": 0.05,
          "xanchor": "right",
          "xref": "x domain",
          "y": 0.8,
          "yanchor": "bottom",
          "yref": "y"
         },
         {
          "showarrow": false,
          "text": "3/4",
          "x": 0.05,
          "xanchor": "right",
          "xref": "x domain",
          "y": 0.75,
          "yanchor": "bottom",
          "yref": "y"
         },
         {
          "showarrow": false,
          "text": "3/8",
          "x": 0.05,
          "xanchor": "right",
          "xref": "x domain",
          "y": 0.375,
          "yanchor": "bottom",
          "yref": "y"
         },
         {
          "showarrow": false,
          "text": "3/12",
          "x": 0.05,
          "xanchor": "right",
          "xref": "x domain",
          "y": 0.25,
          "yanchor": "bottom",
          "yref": "y"
         },
         {
          "showarrow": false,
          "text": "3/20",
          "x": 0.05,
          "xanchor": "right",
          "xref": "x domain",
          "y": 0.15,
          "yanchor": "bottom",
          "yref": "y"
         }
        ],
        "shapes": [
         {
          "line": {
           "color": "purple"
          },
          "opacity": 0.2,
          "type": "line",
          "x0": 0,
          "x1": 1,
          "xref": "x domain",
          "y0": 0.5,
          "y1": 0.5,
          "yref": "y"
         },
         {
          "line": {
           "color": "purple"
          },
          "opacity": 0.2,
          "type": "line",
          "x0": 0,
          "x1": 1,
          "xref": "x domain",
          "y0": 0.6666666666666666,
          "y1": 0.6666666666666666,
          "yref": "y"
         },
         {
          "line": {
           "color": "purple"
          },
          "opacity": 0.2,
          "type": "line",
          "x0": 0,
          "x1": 1,
          "xref": "x domain",
          "y0": 0.4,
          "y1": 0.4,
          "yref": "y"
         },
         {
          "line": {
           "color": "purple"
          },
          "opacity": 0.2,
          "type": "line",
          "x0": 0,
          "x1": 1,
          "xref": "x domain",
          "y0": 0.3333333333333333,
          "y1": 0.3333333333333333,
          "yref": "y"
         },
         {
          "line": {
           "color": "purple"
          },
          "opacity": 0.2,
          "type": "line",
          "x0": 0,
          "x1": 1,
          "xref": "x domain",
          "y0": 0.2857142857142857,
          "y1": 0.2857142857142857,
          "yref": "y"
         },
         {
          "line": {
           "color": "blue"
          },
          "opacity": 0.2,
          "type": "line",
          "x0": 0,
          "x1": 1,
          "xref": "x domain",
          "y0": 0.8333333333333334,
          "y1": 0.8333333333333334,
          "yref": "y"
         },
         {
          "line": {
           "color": "blue"
          },
          "opacity": 0.2,
          "type": "line",
          "x0": 0,
          "x1": 1,
          "xref": "x domain",
          "y0": 0.8,
          "y1": 0.8,
          "yref": "y"
         },
         {
          "line": {
           "color": "blue"
          },
          "opacity": 0.2,
          "type": "line",
          "x0": 0,
          "x1": 1,
          "xref": "x domain",
          "y0": 0.75,
          "y1": 0.75,
          "yref": "y"
         },
         {
          "line": {
           "color": "blue"
          },
          "opacity": 0.2,
          "type": "line",
          "x0": 0,
          "x1": 1,
          "xref": "x domain",
          "y0": 0.375,
          "y1": 0.375,
          "yref": "y"
         },
         {
          "line": {
           "color": "blue"
          },
          "opacity": 0.2,
          "type": "line",
          "x0": 0,
          "x1": 1,
          "xref": "x domain",
          "y0": 0.25,
          "y1": 0.25,
          "yref": "y"
         },
         {
          "line": {
           "color": "blue"
          },
          "opacity": 0.2,
          "type": "line",
          "x0": 0,
          "x1": 1,
          "xref": "x domain",
          "y0": 0.15,
          "y1": 0.15,
          "yref": "y"
         }
        ],
        "showlegend": false,
        "template": {
         "data": {
          "bar": [
           {
            "error_x": {
             "color": "#2a3f5f"
            },
            "error_y": {
             "color": "#2a3f5f"
            },
            "marker": {
             "line": {
              "color": "#E5ECF6",
              "width": 0.5
             },
             "pattern": {
              "fillmode": "overlay",
              "size": 10,
              "solidity": 0.2
             }
            },
            "type": "bar"
           }
          ],
          "barpolar": [
           {
            "marker": {
             "line": {
              "color": "#E5ECF6",
              "width": 0.5
             },
             "pattern": {
              "fillmode": "overlay",
              "size": 10,
              "solidity": 0.2
             }
            },
            "type": "barpolar"
           }
          ],
          "carpet": [
           {
            "aaxis": {
             "endlinecolor": "#2a3f5f",
             "gridcolor": "white",
             "linecolor": "white",
             "minorgridcolor": "white",
             "startlinecolor": "#2a3f5f"
            },
            "baxis": {
             "endlinecolor": "#2a3f5f",
             "gridcolor": "white",
             "linecolor": "white",
             "minorgridcolor": "white",
             "startlinecolor": "#2a3f5f"
            },
            "type": "carpet"
           }
          ],
          "choropleth": [
           {
            "colorbar": {
             "outlinewidth": 0,
             "ticks": ""
            },
            "type": "choropleth"
           }
          ],
          "contour": [
           {
            "colorbar": {
             "outlinewidth": 0,
             "ticks": ""
            },
            "colorscale": [
             [
              0,
              "#0d0887"
             ],
             [
              0.1111111111111111,
              "#46039f"
             ],
             [
              0.2222222222222222,
              "#7201a8"
             ],
             [
              0.3333333333333333,
              "#9c179e"
             ],
             [
              0.4444444444444444,
              "#bd3786"
             ],
             [
              0.5555555555555556,
              "#d8576b"
             ],
             [
              0.6666666666666666,
              "#ed7953"
             ],
             [
              0.7777777777777778,
              "#fb9f3a"
             ],
             [
              0.8888888888888888,
              "#fdca26"
             ],
             [
              1,
              "#f0f921"
             ]
            ],
            "type": "contour"
           }
          ],
          "contourcarpet": [
           {
            "colorbar": {
             "outlinewidth": 0,
             "ticks": ""
            },
            "type": "contourcarpet"
           }
          ],
          "heatmap": [
           {
            "colorbar": {
             "outlinewidth": 0,
             "ticks": ""
            },
            "colorscale": [
             [
              0,
              "#0d0887"
             ],
             [
              0.1111111111111111,
              "#46039f"
             ],
             [
              0.2222222222222222,
              "#7201a8"
             ],
             [
              0.3333333333333333,
              "#9c179e"
             ],
             [
              0.4444444444444444,
              "#bd3786"
             ],
             [
              0.5555555555555556,
              "#d8576b"
             ],
             [
              0.6666666666666666,
              "#ed7953"
             ],
             [
              0.7777777777777778,
              "#fb9f3a"
             ],
             [
              0.8888888888888888,
              "#fdca26"
             ],
             [
              1,
              "#f0f921"
             ]
            ],
            "type": "heatmap"
           }
          ],
          "histogram": [
           {
            "marker": {
             "pattern": {
              "fillmode": "overlay",
              "size": 10,
              "solidity": 0.2
             }
            },
            "type": "histogram"
           }
          ],
          "histogram2d": [
           {
            "colorbar": {
             "outlinewidth": 0,
             "ticks": ""
            },
            "colorscale": [
             [
              0,
              "#0d0887"
             ],
             [
              0.1111111111111111,
              "#46039f"
             ],
             [
              0.2222222222222222,
              "#7201a8"
             ],
             [
              0.3333333333333333,
              "#9c179e"
             ],
             [
              0.4444444444444444,
              "#bd3786"
             ],
             [
              0.5555555555555556,
              "#d8576b"
             ],
             [
              0.6666666666666666,
              "#ed7953"
             ],
             [
              0.7777777777777778,
              "#fb9f3a"
             ],
             [
              0.8888888888888888,
              "#fdca26"
             ],
             [
              1,
              "#f0f921"
             ]
            ],
            "type": "histogram2d"
           }
          ],
          "histogram2dcontour": [
           {
            "colorbar": {
             "outlinewidth": 0,
             "ticks": ""
            },
            "colorscale": [
             [
              0,
              "#0d0887"
             ],
             [
              0.1111111111111111,
              "#46039f"
             ],
             [
              0.2222222222222222,
              "#7201a8"
             ],
             [
              0.3333333333333333,
              "#9c179e"
             ],
             [
              0.4444444444444444,
              "#bd3786"
             ],
             [
              0.5555555555555556,
              "#d8576b"
             ],
             [
              0.6666666666666666,
              "#ed7953"
             ],
             [
              0.7777777777777778,
              "#fb9f3a"
             ],
             [
              0.8888888888888888,
              "#fdca26"
             ],
             [
              1,
              "#f0f921"
             ]
            ],
            "type": "histogram2dcontour"
           }
          ],
          "mesh3d": [
           {
            "colorbar": {
             "outlinewidth": 0,
             "ticks": ""
            },
            "type": "mesh3d"
           }
          ],
          "parcoords": [
           {
            "line": {
             "colorbar": {
              "outlinewidth": 0,
              "ticks": ""
             }
            },
            "type": "parcoords"
           }
          ],
          "pie": [
           {
            "automargin": true,
            "type": "pie"
           }
          ],
          "scatter": [
           {
            "fillpattern": {
             "fillmode": "overlay",
             "size": 10,
             "solidity": 0.2
            },
            "type": "scatter"
           }
          ],
          "scatter3d": [
           {
            "line": {
             "colorbar": {
              "outlinewidth": 0,
              "ticks": ""
             }
            },
            "marker": {
             "colorbar": {
              "outlinewidth": 0,
              "ticks": ""
             }
            },
            "type": "scatter3d"
           }
          ],
          "scattercarpet": [
           {
            "marker": {
             "colorbar": {
              "outlinewidth": 0,
              "ticks": ""
             }
            },
            "type": "scattercarpet"
           }
          ],
          "scattergeo": [
           {
            "marker": {
             "colorbar": {
              "outlinewidth": 0,
              "ticks": ""
             }
            },
            "type": "scattergeo"
           }
          ],
          "scattergl": [
           {
            "marker": {
             "colorbar": {
              "outlinewidth": 0,
              "ticks": ""
             }
            },
            "type": "scattergl"
           }
          ],
          "scattermap": [
           {
            "marker": {
             "colorbar": {
              "outlinewidth": 0,
              "ticks": ""
             }
            },
            "type": "scattermap"
           }
          ],
          "scattermapbox": [
           {
            "marker": {
             "colorbar": {
              "outlinewidth": 0,
              "ticks": ""
             }
            },
            "type": "scattermapbox"
           }
          ],
          "scatterpolar": [
           {
            "marker": {
             "colorbar": {
              "outlinewidth": 0,
              "ticks": ""
             }
            },
            "type": "scatterpolar"
           }
          ],
          "scatterpolargl": [
           {
            "marker": {
             "colorbar": {
              "outlinewidth": 0,
              "ticks": ""
             }
            },
            "type": "scatterpolargl"
           }
          ],
          "scatterternary": [
           {
            "marker": {
             "colorbar": {
              "outlinewidth": 0,
              "ticks": ""
             }
            },
            "type": "scatterternary"
           }
          ],
          "surface": [
           {
            "colorbar": {
             "outlinewidth": 0,
             "ticks": ""
            },
            "colorscale": [
             [
              0,
              "#0d0887"
             ],
             [
              0.1111111111111111,
              "#46039f"
             ],
             [
              0.2222222222222222,
              "#7201a8"
             ],
             [
              0.3333333333333333,
              "#9c179e"
             ],
             [
              0.4444444444444444,
              "#bd3786"
             ],
             [
              0.5555555555555556,
              "#d8576b"
             ],
             [
              0.6666666666666666,
              "#ed7953"
             ],
             [
              0.7777777777777778,
              "#fb9f3a"
             ],
             [
              0.8888888888888888,
              "#fdca26"
             ],
             [
              1,
              "#f0f921"
             ]
            ],
            "type": "surface"
           }
          ],
          "table": [
           {
            "cells": {
             "fill": {
              "color": "#EBF0F8"
             },
             "line": {
              "color": "white"
             }
            },
            "header": {
             "fill": {
              "color": "#C8D4E3"
             },
             "line": {
              "color": "white"
             }
            },
            "type": "table"
           }
          ]
         },
         "layout": {
          "annotationdefaults": {
           "arrowcolor": "#2a3f5f",
           "arrowhead": 0,
           "arrowwidth": 1
          },
          "autotypenumbers": "strict",
          "coloraxis": {
           "colorbar": {
            "outlinewidth": 0,
            "ticks": ""
           }
          },
          "colorscale": {
           "diverging": [
            [
             0,
             "#8e0152"
            ],
            [
             0.1,
             "#c51b7d"
            ],
            [
             0.2,
             "#de77ae"
            ],
            [
             0.3,
             "#f1b6da"
            ],
            [
             0.4,
             "#fde0ef"
            ],
            [
             0.5,
             "#f7f7f7"
            ],
            [
             0.6,
             "#e6f5d0"
            ],
            [
             0.7,
             "#b8e186"
            ],
            [
             0.8,
             "#7fbc41"
            ],
            [
             0.9,
             "#4d9221"
            ],
            [
             1,
             "#276419"
            ]
           ],
           "sequential": [
            [
             0,
             "#0d0887"
            ],
            [
             0.1111111111111111,
             "#46039f"
            ],
            [
             0.2222222222222222,
             "#7201a8"
            ],
            [
             0.3333333333333333,
             "#9c179e"
            ],
            [
             0.4444444444444444,
             "#bd3786"
            ],
            [
             0.5555555555555556,
             "#d8576b"
            ],
            [
             0.6666666666666666,
             "#ed7953"
            ],
            [
             0.7777777777777778,
             "#fb9f3a"
            ],
            [
             0.8888888888888888,
             "#fdca26"
            ],
            [
             1,
             "#f0f921"
            ]
           ],
           "sequentialminus": [
            [
             0,
             "#0d0887"
            ],
            [
             0.1111111111111111,
             "#46039f"
            ],
            [
             0.2222222222222222,
             "#7201a8"
            ],
            [
             0.3333333333333333,
             "#9c179e"
            ],
            [
             0.4444444444444444,
             "#bd3786"
            ],
            [
             0.5555555555555556,
             "#d8576b"
            ],
            [
             0.6666666666666666,
             "#ed7953"
            ],
            [
             0.7777777777777778,
             "#fb9f3a"
            ],
            [
             0.8888888888888888,
             "#fdca26"
            ],
            [
             1,
             "#f0f921"
            ]
           ]
          },
          "colorway": [
           "#636efa",
           "#EF553B",
           "#00cc96",
           "#ab63fa",
           "#FFA15A",
           "#19d3f3",
           "#FF6692",
           "#B6E880",
           "#FF97FF",
           "#FECB52"
          ],
          "font": {
           "color": "#2a3f5f"
          },
          "geo": {
           "bgcolor": "white",
           "lakecolor": "white",
           "landcolor": "#E5ECF6",
           "showlakes": true,
           "showland": true,
           "subunitcolor": "white"
          },
          "hoverlabel": {
           "align": "left"
          },
          "hovermode": "closest",
          "mapbox": {
           "style": "light"
          },
          "paper_bgcolor": "white",
          "plot_bgcolor": "#E5ECF6",
          "polar": {
           "angularaxis": {
            "gridcolor": "white",
            "linecolor": "white",
            "ticks": ""
           },
           "bgcolor": "#E5ECF6",
           "radialaxis": {
            "gridcolor": "white",
            "linecolor": "white",
            "ticks": ""
           }
          },
          "scene": {
           "xaxis": {
            "backgroundcolor": "#E5ECF6",
            "gridcolor": "white",
            "gridwidth": 2,
            "linecolor": "white",
            "showbackground": true,
            "ticks": "",
            "zerolinecolor": "white"
           },
           "yaxis": {
            "backgroundcolor": "#E5ECF6",
            "gridcolor": "white",
            "gridwidth": 2,
            "linecolor": "white",
            "showbackground": true,
            "ticks": "",
            "zerolinecolor": "white"
           },
           "zaxis": {
            "backgroundcolor": "#E5ECF6",
            "gridcolor": "white",
            "gridwidth": 2,
            "linecolor": "white",
            "showbackground": true,
            "ticks": "",
            "zerolinecolor": "white"
           }
          },
          "shapedefaults": {
           "line": {
            "color": "#2a3f5f"
           }
          },
          "ternary": {
           "aaxis": {
            "gridcolor": "white",
            "linecolor": "white",
            "ticks": ""
           },
           "baxis": {
            "gridcolor": "white",
            "linecolor": "white",
            "ticks": ""
           },
           "bgcolor": "#E5ECF6",
           "caxis": {
            "gridcolor": "white",
            "linecolor": "white",
            "ticks": ""
           }
          },
          "title": {
           "x": 0.05
          },
          "xaxis": {
           "automargin": true,
           "gridcolor": "white",
           "linecolor": "white",
           "ticks": "",
           "title": {
            "standoff": 15
           },
           "zerolinecolor": "white",
           "zerolinewidth": 2
          },
          "yaxis": {
           "automargin": true,
           "gridcolor": "white",
           "linecolor": "white",
           "ticks": "",
           "title": {
            "standoff": 15
           },
           "zerolinecolor": "white",
           "zerolinewidth": 2
          }
         }
        },
        "xaxis": {
         "showgrid": false,
         "title": {
          "text": "1/(1-S)"
         },
         "type": "log"
        },
        "yaxis": {
         "showgrid": false
        }
       }
      }
     },
     "metadata": {},
     "output_type": "display_data"
    }
   ],
   "source": [
    "fig = go.Figure()\n",
    "\n",
    "density = model.feature_probability[:, 0].cpu()\n",
    "W = model.W.detach()\n",
    "\n",
    "for a,b in [(1,2), (2,3), (2,5), (2,6), (2,7)]:\n",
    "    val = a/b\n",
    "    fig.add_hline(val, line_color=\"purple\", opacity=0.2, annotation=dict(text=f\"{a}/{b}\"))\n",
    "\n",
    "for a,b in [(5,6), (4,5), (3,4), (3,8), (3,12), (3,20)]:\n",
    "    val = a/b\n",
    "    fig.add_hline(val, line_color=\"blue\", opacity=0.2, annotation=dict(text=f\"{a}/{b}\", x=0.05))\n",
    "\n",
    "for i in range(len(W)):\n",
    "    fracs_ = dim_fracs[i]\n",
    "    N = fracs_.shape[0]\n",
    "    xs = 1/density\n",
    "    if i!= len(W)-1:\n",
    "        dx = xs[i+1]-xs[i]\n",
    "    fig.add_trace(\n",
    "        go.Scatter(\n",
    "            x=1/density[i]*np.ones(N)+dx*np.random.uniform(-0.1,0.1,N),\n",
    "            y=fracs_,\n",
    "            marker=dict(\n",
    "                color='black',\n",
    "                size=1,\n",
    "                opacity=0.5,\n",
    "            ),\n",
    "            mode='markers',\n",
    "        )\n",
    "    )\n",
    "\n",
    "fig.update_xaxes(\n",
    "    type='log', \n",
    "    title='1/(1-S)',\n",
    "    showgrid=False,\n",
    ")\n",
    "fig.update_yaxes(\n",
    "    showgrid=False\n",
    ")\n",
    "fig.update_layout(showlegend=False)"
   ]
  }
 ],
 "metadata": {
  "accelerator": "GPU",
  "colab": {
   "collapsed_sections": [],
   "provenance": []
  },
  "gpuClass": "standard",
  "kernelspec": {
   "display_name": "newtorch",
   "language": "python",
   "name": "python3"
  },
  "language_info": {
   "codemirror_mode": {
    "name": "ipython",
    "version": 3
   },
   "file_extension": ".py",
   "mimetype": "text/x-python",
   "name": "python",
   "nbconvert_exporter": "python",
   "pygments_lexer": "ipython3",
   "version": "3.12.9"
  },
  "widgets": {
   "application/vnd.jupyter.widget-state+json": {
    "05371493fb394d60ab276fe17488213f": {
     "model_module": "@jupyter-widgets/controls",
     "model_module_version": "1.5.0",
     "model_name": "HBoxModel",
     "state": {
      "_dom_classes": [],
      "_model_module": "@jupyter-widgets/controls",
      "_model_module_version": "1.5.0",
      "_model_name": "HBoxModel",
      "_view_count": null,
      "_view_module": "@jupyter-widgets/controls",
      "_view_module_version": "1.5.0",
      "_view_name": "HBoxView",
      "box_style": "",
      "children": [
       "IPY_MODEL_b6e1e2a2329148d68a709571e016b858",
       "IPY_MODEL_f5fb761ec6de404398f5517e21e0d46b",
       "IPY_MODEL_081fd85ccb724b2c98366620a747b77b"
      ],
      "layout": "IPY_MODEL_dc421acdf45149fd87cd81d56e9031cd"
     }
    },
    "081fd85ccb724b2c98366620a747b77b": {
     "model_module": "@jupyter-widgets/controls",
     "model_module_version": "1.5.0",
     "model_name": "HTMLModel",
     "state": {
      "_dom_classes": [],
      "_model_module": "@jupyter-widgets/controls",
      "_model_module_version": "1.5.0",
      "_model_name": "HTMLModel",
      "_view_count": null,
      "_view_module": "@jupyter-widgets/controls",
      "_view_module_version": "1.5.0",
      "_view_name": "HTMLView",
      "description": "",
      "description_tooltip": null,
      "layout": "IPY_MODEL_0d65324158214bb8b73f3cc13e461be4",
      "placeholder": "​",
      "style": "IPY_MODEL_3f0aa91dd60a45a292c2b52cfbbce8fa",
      "value": " 10000/10000 [00:39&lt;00:00, 300.04it/s, loss=0.0538, lr=0.001]"
     }
    },
    "0d65324158214bb8b73f3cc13e461be4": {
     "model_module": "@jupyter-widgets/base",
     "model_module_version": "1.2.0",
     "model_name": "LayoutModel",
     "state": {
      "_model_module": "@jupyter-widgets/base",
      "_model_module_version": "1.2.0",
      "_model_name": "LayoutModel",
      "_view_count": null,
      "_view_module": "@jupyter-widgets/base",
      "_view_module_version": "1.2.0",
      "_view_name": "LayoutView",
      "align_content": null,
      "align_items": null,
      "align_self": null,
      "border": null,
      "bottom": null,
      "display": null,
      "flex": null,
      "flex_flow": null,
      "grid_area": null,
      "grid_auto_columns": null,
      "grid_auto_flow": null,
      "grid_auto_rows": null,
      "grid_column": null,
      "grid_gap": null,
      "grid_row": null,
      "grid_template_areas": null,
      "grid_template_columns": null,
      "grid_template_rows": null,
      "height": null,
      "justify_content": null,
      "justify_items": null,
      "left": null,
      "margin": null,
      "max_height": null,
      "max_width": null,
      "min_height": null,
      "min_width": null,
      "object_fit": null,
      "object_position": null,
      "order": null,
      "overflow": null,
      "overflow_x": null,
      "overflow_y": null,
      "padding": null,
      "right": null,
      "top": null,
      "visibility": null,
      "width": null
     }
    },
    "13bbce3d04234a68805f5668bd4e7cae": {
     "model_module": "@jupyter-widgets/base",
     "model_module_version": "1.2.0",
     "model_name": "LayoutModel",
     "state": {
      "_model_module": "@jupyter-widgets/base",
      "_model_module_version": "1.2.0",
      "_model_name": "LayoutModel",
      "_view_count": null,
      "_view_module": "@jupyter-widgets/base",
      "_view_module_version": "1.2.0",
      "_view_name": "LayoutView",
      "align_content": null,
      "align_items": null,
      "align_self": null,
      "border": null,
      "bottom": null,
      "display": null,
      "flex": null,
      "flex_flow": null,
      "grid_area": null,
      "grid_auto_columns": null,
      "grid_auto_flow": null,
      "grid_auto_rows": null,
      "grid_column": null,
      "grid_gap": null,
      "grid_row": null,
      "grid_template_areas": null,
      "grid_template_columns": null,
      "grid_template_rows": null,
      "height": null,
      "justify_content": null,
      "justify_items": null,
      "left": null,
      "margin": null,
      "max_height": null,
      "max_width": null,
      "min_height": null,
      "min_width": null,
      "object_fit": null,
      "object_position": null,
      "order": null,
      "overflow": null,
      "overflow_x": null,
      "overflow_y": null,
      "padding": null,
      "right": null,
      "top": null,
      "visibility": null,
      "width": null
     }
    },
    "2529ee9a67314e2294e7e9efdcf20768": {
     "model_module": "@jupyter-widgets/controls",
     "model_module_version": "1.5.0",
     "model_name": "HTMLModel",
     "state": {
      "_dom_classes": [],
      "_model_module": "@jupyter-widgets/controls",
      "_model_module_version": "1.5.0",
      "_model_name": "HTMLModel",
      "_view_count": null,
      "_view_module": "@jupyter-widgets/controls",
      "_view_module_version": "1.5.0",
      "_view_name": "HTMLView",
      "description": "",
      "description_tooltip": null,
      "layout": "IPY_MODEL_be2f0859bd3f4fca90d3b4bdf44f0958",
      "placeholder": "​",
      "style": "IPY_MODEL_5c1bf989dc904dd781fe237488754851",
      "value": "100%"
     }
    },
    "33262117e99a4effb2b23208b72912f1": {
     "model_module": "@jupyter-widgets/controls",
     "model_module_version": "1.5.0",
     "model_name": "FloatProgressModel",
     "state": {
      "_dom_classes": [],
      "_model_module": "@jupyter-widgets/controls",
      "_model_module_version": "1.5.0",
      "_model_name": "FloatProgressModel",
      "_view_count": null,
      "_view_module": "@jupyter-widgets/controls",
      "_view_module_version": "1.5.0",
      "_view_name": "ProgressView",
      "bar_style": "success",
      "description": "",
      "description_tooltip": null,
      "layout": "IPY_MODEL_f9b77a7783c041a5994f645545f46a4d",
      "max": 10000,
      "min": 0,
      "orientation": "horizontal",
      "style": "IPY_MODEL_a09058eea509491198cf92c1b70f4b7d",
      "value": 10000
     }
    },
    "3f0aa91dd60a45a292c2b52cfbbce8fa": {
     "model_module": "@jupyter-widgets/controls",
     "model_module_version": "1.5.0",
     "model_name": "DescriptionStyleModel",
     "state": {
      "_model_module": "@jupyter-widgets/controls",
      "_model_module_version": "1.5.0",
      "_model_name": "DescriptionStyleModel",
      "_view_count": null,
      "_view_module": "@jupyter-widgets/base",
      "_view_module_version": "1.2.0",
      "_view_name": "StyleView",
      "description_width": ""
     }
    },
    "57b2d9eb950b4c2eb1706463de18da8b": {
     "model_module": "@jupyter-widgets/controls",
     "model_module_version": "1.5.0",
     "model_name": "FloatProgressModel",
     "state": {
      "_dom_classes": [],
      "_model_module": "@jupyter-widgets/controls",
      "_model_module_version": "1.5.0",
      "_model_name": "FloatProgressModel",
      "_view_count": null,
      "_view_module": "@jupyter-widgets/controls",
      "_view_module_version": "1.5.0",
      "_view_name": "ProgressView",
      "bar_style": "success",
      "description": "",
      "description_tooltip": null,
      "layout": "IPY_MODEL_8275832d816748b8b90b668a1491a291",
      "max": 10000,
      "min": 0,
      "orientation": "horizontal",
      "style": "IPY_MODEL_f41d9f8baa9f4198924deb3caf180892",
      "value": 10000
     }
    },
    "5c1bf989dc904dd781fe237488754851": {
     "model_module": "@jupyter-widgets/controls",
     "model_module_version": "1.5.0",
     "model_name": "DescriptionStyleModel",
     "state": {
      "_model_module": "@jupyter-widgets/controls",
      "_model_module_version": "1.5.0",
      "_model_name": "DescriptionStyleModel",
      "_view_count": null,
      "_view_module": "@jupyter-widgets/base",
      "_view_module_version": "1.2.0",
      "_view_name": "StyleView",
      "description_width": ""
     }
    },
    "5f651bcc02de4892bc6ace2170187052": {
     "model_module": "@jupyter-widgets/controls",
     "model_module_version": "1.5.0",
     "model_name": "HTMLModel",
     "state": {
      "_dom_classes": [],
      "_model_module": "@jupyter-widgets/controls",
      "_model_module_version": "1.5.0",
      "_model_name": "HTMLModel",
      "_view_count": null,
      "_view_module": "@jupyter-widgets/controls",
      "_view_module_version": "1.5.0",
      "_view_name": "HTMLView",
      "description": "",
      "description_tooltip": null,
      "layout": "IPY_MODEL_13bbce3d04234a68805f5668bd4e7cae",
      "placeholder": "​",
      "style": "IPY_MODEL_fc49b5cd3b5a4dd3b572712b23a88fcb",
      "value": "100%"
     }
    },
    "5f756884ece84bee89d895e84bcad4d0": {
     "model_module": "@jupyter-widgets/controls",
     "model_module_version": "1.5.0",
     "model_name": "DescriptionStyleModel",
     "state": {
      "_model_module": "@jupyter-widgets/controls",
      "_model_module_version": "1.5.0",
      "_model_name": "DescriptionStyleModel",
      "_view_count": null,
      "_view_module": "@jupyter-widgets/base",
      "_view_module_version": "1.2.0",
      "_view_name": "StyleView",
      "description_width": ""
     }
    },
    "6de322b6962e4e4b974b2b4d79bf5bea": {
     "model_module": "@jupyter-widgets/controls",
     "model_module_version": "1.5.0",
     "model_name": "HTMLModel",
     "state": {
      "_dom_classes": [],
      "_model_module": "@jupyter-widgets/controls",
      "_model_module_version": "1.5.0",
      "_model_name": "HTMLModel",
      "_view_count": null,
      "_view_module": "@jupyter-widgets/controls",
      "_view_module_version": "1.5.0",
      "_view_name": "HTMLView",
      "description": "",
      "description_tooltip": null,
      "layout": "IPY_MODEL_992a19c9c2ee4565841ced9a07382625",
      "placeholder": "​",
      "style": "IPY_MODEL_87e80c745a9c4c378a4d7a537ed42361",
      "value": " 10000/10000 [00:11&lt;00:00, 892.42it/s, loss=0.0207, lr=0.001]"
     }
    },
    "8275832d816748b8b90b668a1491a291": {
     "model_module": "@jupyter-widgets/base",
     "model_module_version": "1.2.0",
     "model_name": "LayoutModel",
     "state": {
      "_model_module": "@jupyter-widgets/base",
      "_model_module_version": "1.2.0",
      "_model_name": "LayoutModel",
      "_view_count": null,
      "_view_module": "@jupyter-widgets/base",
      "_view_module_version": "1.2.0",
      "_view_name": "LayoutView",
      "align_content": null,
      "align_items": null,
      "align_self": null,
      "border": null,
      "bottom": null,
      "display": null,
      "flex": null,
      "flex_flow": null,
      "grid_area": null,
      "grid_auto_columns": null,
      "grid_auto_flow": null,
      "grid_auto_rows": null,
      "grid_column": null,
      "grid_gap": null,
      "grid_row": null,
      "grid_template_areas": null,
      "grid_template_columns": null,
      "grid_template_rows": null,
      "height": null,
      "justify_content": null,
      "justify_items": null,
      "left": null,
      "margin": null,
      "max_height": null,
      "max_width": null,
      "min_height": null,
      "min_width": null,
      "object_fit": null,
      "object_position": null,
      "order": null,
      "overflow": null,
      "overflow_x": null,
      "overflow_y": null,
      "padding": null,
      "right": null,
      "top": null,
      "visibility": null,
      "width": null
     }
    },
    "840427ce468041248c3dd4d543505218": {
     "model_module": "@jupyter-widgets/controls",
     "model_module_version": "1.5.0",
     "model_name": "HTMLModel",
     "state": {
      "_dom_classes": [],
      "_model_module": "@jupyter-widgets/controls",
      "_model_module_version": "1.5.0",
      "_model_name": "HTMLModel",
      "_view_count": null,
      "_view_module": "@jupyter-widgets/controls",
      "_view_module_version": "1.5.0",
      "_view_name": "HTMLView",
      "description": "",
      "description_tooltip": null,
      "layout": "IPY_MODEL_d50aa7c17bc84077b3930811ec31f8c0",
      "placeholder": "​",
      "style": "IPY_MODEL_5f756884ece84bee89d895e84bcad4d0",
      "value": " 10000/10000 [00:22&lt;00:00, 503.50it/s, loss=0.00438, lr=0.001]"
     }
    },
    "87e80c745a9c4c378a4d7a537ed42361": {
     "model_module": "@jupyter-widgets/controls",
     "model_module_version": "1.5.0",
     "model_name": "DescriptionStyleModel",
     "state": {
      "_model_module": "@jupyter-widgets/controls",
      "_model_module_version": "1.5.0",
      "_model_name": "DescriptionStyleModel",
      "_view_count": null,
      "_view_module": "@jupyter-widgets/base",
      "_view_module_version": "1.2.0",
      "_view_name": "StyleView",
      "description_width": ""
     }
    },
    "992a19c9c2ee4565841ced9a07382625": {
     "model_module": "@jupyter-widgets/base",
     "model_module_version": "1.2.0",
     "model_name": "LayoutModel",
     "state": {
      "_model_module": "@jupyter-widgets/base",
      "_model_module_version": "1.2.0",
      "_model_name": "LayoutModel",
      "_view_count": null,
      "_view_module": "@jupyter-widgets/base",
      "_view_module_version": "1.2.0",
      "_view_name": "LayoutView",
      "align_content": null,
      "align_items": null,
      "align_self": null,
      "border": null,
      "bottom": null,
      "display": null,
      "flex": null,
      "flex_flow": null,
      "grid_area": null,
      "grid_auto_columns": null,
      "grid_auto_flow": null,
      "grid_auto_rows": null,
      "grid_column": null,
      "grid_gap": null,
      "grid_row": null,
      "grid_template_areas": null,
      "grid_template_columns": null,
      "grid_template_rows": null,
      "height": null,
      "justify_content": null,
      "justify_items": null,
      "left": null,
      "margin": null,
      "max_height": null,
      "max_width": null,
      "min_height": null,
      "min_width": null,
      "object_fit": null,
      "object_position": null,
      "order": null,
      "overflow": null,
      "overflow_x": null,
      "overflow_y": null,
      "padding": null,
      "right": null,
      "top": null,
      "visibility": null,
      "width": null
     }
    },
    "a09058eea509491198cf92c1b70f4b7d": {
     "model_module": "@jupyter-widgets/controls",
     "model_module_version": "1.5.0",
     "model_name": "ProgressStyleModel",
     "state": {
      "_model_module": "@jupyter-widgets/controls",
      "_model_module_version": "1.5.0",
      "_model_name": "ProgressStyleModel",
      "_view_count": null,
      "_view_module": "@jupyter-widgets/base",
      "_view_module_version": "1.2.0",
      "_view_name": "StyleView",
      "bar_color": null,
      "description_width": ""
     }
    },
    "a79a0479d88e4d3eb77b108bbc874e09": {
     "model_module": "@jupyter-widgets/base",
     "model_module_version": "1.2.0",
     "model_name": "LayoutModel",
     "state": {
      "_model_module": "@jupyter-widgets/base",
      "_model_module_version": "1.2.0",
      "_model_name": "LayoutModel",
      "_view_count": null,
      "_view_module": "@jupyter-widgets/base",
      "_view_module_version": "1.2.0",
      "_view_name": "LayoutView",
      "align_content": null,
      "align_items": null,
      "align_self": null,
      "border": null,
      "bottom": null,
      "display": null,
      "flex": null,
      "flex_flow": null,
      "grid_area": null,
      "grid_auto_columns": null,
      "grid_auto_flow": null,
      "grid_auto_rows": null,
      "grid_column": null,
      "grid_gap": null,
      "grid_row": null,
      "grid_template_areas": null,
      "grid_template_columns": null,
      "grid_template_rows": null,
      "height": null,
      "justify_content": null,
      "justify_items": null,
      "left": null,
      "margin": null,
      "max_height": null,
      "max_width": null,
      "min_height": null,
      "min_width": null,
      "object_fit": null,
      "object_position": null,
      "order": null,
      "overflow": null,
      "overflow_x": null,
      "overflow_y": null,
      "padding": null,
      "right": null,
      "top": null,
      "visibility": null,
      "width": null
     }
    },
    "b6e1e2a2329148d68a709571e016b858": {
     "model_module": "@jupyter-widgets/controls",
     "model_module_version": "1.5.0",
     "model_name": "HTMLModel",
     "state": {
      "_dom_classes": [],
      "_model_module": "@jupyter-widgets/controls",
      "_model_module_version": "1.5.0",
      "_model_name": "HTMLModel",
      "_view_count": null,
      "_view_module": "@jupyter-widgets/controls",
      "_view_module_version": "1.5.0",
      "_view_name": "HTMLView",
      "description": "",
      "description_tooltip": null,
      "layout": "IPY_MODEL_b73d37d18a7e4577bcfa8c2aec321eb1",
      "placeholder": "​",
      "style": "IPY_MODEL_d7bc2f21dd294f52a0243ca35aadeb22",
      "value": "100%"
     }
    },
    "b73d37d18a7e4577bcfa8c2aec321eb1": {
     "model_module": "@jupyter-widgets/base",
     "model_module_version": "1.2.0",
     "model_name": "LayoutModel",
     "state": {
      "_model_module": "@jupyter-widgets/base",
      "_model_module_version": "1.2.0",
      "_model_name": "LayoutModel",
      "_view_count": null,
      "_view_module": "@jupyter-widgets/base",
      "_view_module_version": "1.2.0",
      "_view_name": "LayoutView",
      "align_content": null,
      "align_items": null,
      "align_self": null,
      "border": null,
      "bottom": null,
      "display": null,
      "flex": null,
      "flex_flow": null,
      "grid_area": null,
      "grid_auto_columns": null,
      "grid_auto_flow": null,
      "grid_auto_rows": null,
      "grid_column": null,
      "grid_gap": null,
      "grid_row": null,
      "grid_template_areas": null,
      "grid_template_columns": null,
      "grid_template_rows": null,
      "height": null,
      "justify_content": null,
      "justify_items": null,
      "left": null,
      "margin": null,
      "max_height": null,
      "max_width": null,
      "min_height": null,
      "min_width": null,
      "object_fit": null,
      "object_position": null,
      "order": null,
      "overflow": null,
      "overflow_x": null,
      "overflow_y": null,
      "padding": null,
      "right": null,
      "top": null,
      "visibility": null,
      "width": null
     }
    },
    "be2f0859bd3f4fca90d3b4bdf44f0958": {
     "model_module": "@jupyter-widgets/base",
     "model_module_version": "1.2.0",
     "model_name": "LayoutModel",
     "state": {
      "_model_module": "@jupyter-widgets/base",
      "_model_module_version": "1.2.0",
      "_model_name": "LayoutModel",
      "_view_count": null,
      "_view_module": "@jupyter-widgets/base",
      "_view_module_version": "1.2.0",
      "_view_name": "LayoutView",
      "align_content": null,
      "align_items": null,
      "align_self": null,
      "border": null,
      "bottom": null,
      "display": null,
      "flex": null,
      "flex_flow": null,
      "grid_area": null,
      "grid_auto_columns": null,
      "grid_auto_flow": null,
      "grid_auto_rows": null,
      "grid_column": null,
      "grid_gap": null,
      "grid_row": null,
      "grid_template_areas": null,
      "grid_template_columns": null,
      "grid_template_rows": null,
      "height": null,
      "justify_content": null,
      "justify_items": null,
      "left": null,
      "margin": null,
      "max_height": null,
      "max_width": null,
      "min_height": null,
      "min_width": null,
      "object_fit": null,
      "object_position": null,
      "order": null,
      "overflow": null,
      "overflow_x": null,
      "overflow_y": null,
      "padding": null,
      "right": null,
      "top": null,
      "visibility": null,
      "width": null
     }
    },
    "cb347c5ce6694bfb92919a5593cc7049": {
     "model_module": "@jupyter-widgets/controls",
     "model_module_version": "1.5.0",
     "model_name": "ProgressStyleModel",
     "state": {
      "_model_module": "@jupyter-widgets/controls",
      "_model_module_version": "1.5.0",
      "_model_name": "ProgressStyleModel",
      "_view_count": null,
      "_view_module": "@jupyter-widgets/base",
      "_view_module_version": "1.2.0",
      "_view_name": "StyleView",
      "bar_color": null,
      "description_width": ""
     }
    },
    "d080dce19cd94411ba991fdd8556b59e": {
     "model_module": "@jupyter-widgets/controls",
     "model_module_version": "1.5.0",
     "model_name": "HBoxModel",
     "state": {
      "_dom_classes": [],
      "_model_module": "@jupyter-widgets/controls",
      "_model_module_version": "1.5.0",
      "_model_name": "HBoxModel",
      "_view_count": null,
      "_view_module": "@jupyter-widgets/controls",
      "_view_module_version": "1.5.0",
      "_view_name": "HBoxView",
      "box_style": "",
      "children": [
       "IPY_MODEL_2529ee9a67314e2294e7e9efdcf20768",
       "IPY_MODEL_57b2d9eb950b4c2eb1706463de18da8b",
       "IPY_MODEL_840427ce468041248c3dd4d543505218"
      ],
      "layout": "IPY_MODEL_e5e84984b7c043fca917c338ff056a9e"
     }
    },
    "d50aa7c17bc84077b3930811ec31f8c0": {
     "model_module": "@jupyter-widgets/base",
     "model_module_version": "1.2.0",
     "model_name": "LayoutModel",
     "state": {
      "_model_module": "@jupyter-widgets/base",
      "_model_module_version": "1.2.0",
      "_model_name": "LayoutModel",
      "_view_count": null,
      "_view_module": "@jupyter-widgets/base",
      "_view_module_version": "1.2.0",
      "_view_name": "LayoutView",
      "align_content": null,
      "align_items": null,
      "align_self": null,
      "border": null,
      "bottom": null,
      "display": null,
      "flex": null,
      "flex_flow": null,
      "grid_area": null,
      "grid_auto_columns": null,
      "grid_auto_flow": null,
      "grid_auto_rows": null,
      "grid_column": null,
      "grid_gap": null,
      "grid_row": null,
      "grid_template_areas": null,
      "grid_template_columns": null,
      "grid_template_rows": null,
      "height": null,
      "justify_content": null,
      "justify_items": null,
      "left": null,
      "margin": null,
      "max_height": null,
      "max_width": null,
      "min_height": null,
      "min_width": null,
      "object_fit": null,
      "object_position": null,
      "order": null,
      "overflow": null,
      "overflow_x": null,
      "overflow_y": null,
      "padding": null,
      "right": null,
      "top": null,
      "visibility": null,
      "width": null
     }
    },
    "d7bc2f21dd294f52a0243ca35aadeb22": {
     "model_module": "@jupyter-widgets/controls",
     "model_module_version": "1.5.0",
     "model_name": "DescriptionStyleModel",
     "state": {
      "_model_module": "@jupyter-widgets/controls",
      "_model_module_version": "1.5.0",
      "_model_name": "DescriptionStyleModel",
      "_view_count": null,
      "_view_module": "@jupyter-widgets/base",
      "_view_module_version": "1.2.0",
      "_view_name": "StyleView",
      "description_width": ""
     }
    },
    "dc421acdf45149fd87cd81d56e9031cd": {
     "model_module": "@jupyter-widgets/base",
     "model_module_version": "1.2.0",
     "model_name": "LayoutModel",
     "state": {
      "_model_module": "@jupyter-widgets/base",
      "_model_module_version": "1.2.0",
      "_model_name": "LayoutModel",
      "_view_count": null,
      "_view_module": "@jupyter-widgets/base",
      "_view_module_version": "1.2.0",
      "_view_name": "LayoutView",
      "align_content": null,
      "align_items": null,
      "align_self": null,
      "border": null,
      "bottom": null,
      "display": null,
      "flex": null,
      "flex_flow": null,
      "grid_area": null,
      "grid_auto_columns": null,
      "grid_auto_flow": null,
      "grid_auto_rows": null,
      "grid_column": null,
      "grid_gap": null,
      "grid_row": null,
      "grid_template_areas": null,
      "grid_template_columns": null,
      "grid_template_rows": null,
      "height": null,
      "justify_content": null,
      "justify_items": null,
      "left": null,
      "margin": null,
      "max_height": null,
      "max_width": null,
      "min_height": null,
      "min_width": null,
      "object_fit": null,
      "object_position": null,
      "order": null,
      "overflow": null,
      "overflow_x": null,
      "overflow_y": null,
      "padding": null,
      "right": null,
      "top": null,
      "visibility": null,
      "width": null
     }
    },
    "e5e84984b7c043fca917c338ff056a9e": {
     "model_module": "@jupyter-widgets/base",
     "model_module_version": "1.2.0",
     "model_name": "LayoutModel",
     "state": {
      "_model_module": "@jupyter-widgets/base",
      "_model_module_version": "1.2.0",
      "_model_name": "LayoutModel",
      "_view_count": null,
      "_view_module": "@jupyter-widgets/base",
      "_view_module_version": "1.2.0",
      "_view_name": "LayoutView",
      "align_content": null,
      "align_items": null,
      "align_self": null,
      "border": null,
      "bottom": null,
      "display": null,
      "flex": null,
      "flex_flow": null,
      "grid_area": null,
      "grid_auto_columns": null,
      "grid_auto_flow": null,
      "grid_auto_rows": null,
      "grid_column": null,
      "grid_gap": null,
      "grid_row": null,
      "grid_template_areas": null,
      "grid_template_columns": null,
      "grid_template_rows": null,
      "height": null,
      "justify_content": null,
      "justify_items": null,
      "left": null,
      "margin": null,
      "max_height": null,
      "max_width": null,
      "min_height": null,
      "min_width": null,
      "object_fit": null,
      "object_position": null,
      "order": null,
      "overflow": null,
      "overflow_x": null,
      "overflow_y": null,
      "padding": null,
      "right": null,
      "top": null,
      "visibility": null,
      "width": null
     }
    },
    "f41d9f8baa9f4198924deb3caf180892": {
     "model_module": "@jupyter-widgets/controls",
     "model_module_version": "1.5.0",
     "model_name": "ProgressStyleModel",
     "state": {
      "_model_module": "@jupyter-widgets/controls",
      "_model_module_version": "1.5.0",
      "_model_name": "ProgressStyleModel",
      "_view_count": null,
      "_view_module": "@jupyter-widgets/base",
      "_view_module_version": "1.2.0",
      "_view_name": "StyleView",
      "bar_color": null,
      "description_width": ""
     }
    },
    "f5fb761ec6de404398f5517e21e0d46b": {
     "model_module": "@jupyter-widgets/controls",
     "model_module_version": "1.5.0",
     "model_name": "FloatProgressModel",
     "state": {
      "_dom_classes": [],
      "_model_module": "@jupyter-widgets/controls",
      "_model_module_version": "1.5.0",
      "_model_name": "FloatProgressModel",
      "_view_count": null,
      "_view_module": "@jupyter-widgets/controls",
      "_view_module_version": "1.5.0",
      "_view_name": "ProgressView",
      "bar_style": "success",
      "description": "",
      "description_tooltip": null,
      "layout": "IPY_MODEL_a79a0479d88e4d3eb77b108bbc874e09",
      "max": 10000,
      "min": 0,
      "orientation": "horizontal",
      "style": "IPY_MODEL_cb347c5ce6694bfb92919a5593cc7049",
      "value": 10000
     }
    },
    "f9b77a7783c041a5994f645545f46a4d": {
     "model_module": "@jupyter-widgets/base",
     "model_module_version": "1.2.0",
     "model_name": "LayoutModel",
     "state": {
      "_model_module": "@jupyter-widgets/base",
      "_model_module_version": "1.2.0",
      "_model_name": "LayoutModel",
      "_view_count": null,
      "_view_module": "@jupyter-widgets/base",
      "_view_module_version": "1.2.0",
      "_view_name": "LayoutView",
      "align_content": null,
      "align_items": null,
      "align_self": null,
      "border": null,
      "bottom": null,
      "display": null,
      "flex": null,
      "flex_flow": null,
      "grid_area": null,
      "grid_auto_columns": null,
      "grid_auto_flow": null,
      "grid_auto_rows": null,
      "grid_column": null,
      "grid_gap": null,
      "grid_row": null,
      "grid_template_areas": null,
      "grid_template_columns": null,
      "grid_template_rows": null,
      "height": null,
      "justify_content": null,
      "justify_items": null,
      "left": null,
      "margin": null,
      "max_height": null,
      "max_width": null,
      "min_height": null,
      "min_width": null,
      "object_fit": null,
      "object_position": null,
      "order": null,
      "overflow": null,
      "overflow_x": null,
      "overflow_y": null,
      "padding": null,
      "right": null,
      "top": null,
      "visibility": null,
      "width": null
     }
    },
    "fa6604f92d1e4489960985e4d7240c24": {
     "model_module": "@jupyter-widgets/controls",
     "model_module_version": "1.5.0",
     "model_name": "HBoxModel",
     "state": {
      "_dom_classes": [],
      "_model_module": "@jupyter-widgets/controls",
      "_model_module_version": "1.5.0",
      "_model_name": "HBoxModel",
      "_view_count": null,
      "_view_module": "@jupyter-widgets/controls",
      "_view_module_version": "1.5.0",
      "_view_name": "HBoxView",
      "box_style": "",
      "children": [
       "IPY_MODEL_5f651bcc02de4892bc6ace2170187052",
       "IPY_MODEL_33262117e99a4effb2b23208b72912f1",
       "IPY_MODEL_6de322b6962e4e4b974b2b4d79bf5bea"
      ],
      "layout": "IPY_MODEL_fc39b56a57df417095c2e2a064cac95b"
     }
    },
    "fc39b56a57df417095c2e2a064cac95b": {
     "model_module": "@jupyter-widgets/base",
     "model_module_version": "1.2.0",
     "model_name": "LayoutModel",
     "state": {
      "_model_module": "@jupyter-widgets/base",
      "_model_module_version": "1.2.0",
      "_model_name": "LayoutModel",
      "_view_count": null,
      "_view_module": "@jupyter-widgets/base",
      "_view_module_version": "1.2.0",
      "_view_name": "LayoutView",
      "align_content": null,
      "align_items": null,
      "align_self": null,
      "border": null,
      "bottom": null,
      "display": null,
      "flex": null,
      "flex_flow": null,
      "grid_area": null,
      "grid_auto_columns": null,
      "grid_auto_flow": null,
      "grid_auto_rows": null,
      "grid_column": null,
      "grid_gap": null,
      "grid_row": null,
      "grid_template_areas": null,
      "grid_template_columns": null,
      "grid_template_rows": null,
      "height": null,
      "justify_content": null,
      "justify_items": null,
      "left": null,
      "margin": null,
      "max_height": null,
      "max_width": null,
      "min_height": null,
      "min_width": null,
      "object_fit": null,
      "object_position": null,
      "order": null,
      "overflow": null,
      "overflow_x": null,
      "overflow_y": null,
      "padding": null,
      "right": null,
      "top": null,
      "visibility": null,
      "width": null
     }
    },
    "fc49b5cd3b5a4dd3b572712b23a88fcb": {
     "model_module": "@jupyter-widgets/controls",
     "model_module_version": "1.5.0",
     "model_name": "DescriptionStyleModel",
     "state": {
      "_model_module": "@jupyter-widgets/controls",
      "_model_module_version": "1.5.0",
      "_model_name": "DescriptionStyleModel",
      "_view_count": null,
      "_view_module": "@jupyter-widgets/base",
      "_view_module_version": "1.2.0",
      "_view_name": "StyleView",
      "description_width": ""
     }
    }
   }
  }
 },
 "nbformat": 4,
 "nbformat_minor": 1
}
