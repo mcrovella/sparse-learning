{
 "cells": [
  {
   "cell_type": "markdown",
   "metadata": {
    "id": "SifuSeuwi6nj"
   },
   "source": [
    "# Toy Models of Superposition\n",
    "\n",
    "This notebook includes the toy model training framework used to generate most of the results in the \"Toy Models of Superposition\" paper.\n",
    "\n",
    "The main useful improvement over a basic PyTorch tiny autoencoder is the ability to batch train many models with varying sparsity at once, which is much more efficient than training them one at a time.\n",
    "\n",
    "This notebook is designed to run in Google Colab's Python 3.7 environment."
   ]
  },
  {
   "cell_type": "code",
   "execution_count": 1,
   "metadata": {
    "colab": {
     "base_uri": "https://localhost:8080/"
    },
    "id": "yfHPSGevYsdo",
    "outputId": "83ba37a8-4240-434d-88f9-9b82774047b5"
   },
   "outputs": [],
   "source": [
    "#!pip install einops"
   ]
  },
  {
   "cell_type": "code",
   "execution_count": 2,
   "metadata": {
    "id": "wRLgezMAZbtY"
   },
   "outputs": [],
   "source": [
    "import torch\n",
    "from torch import nn\n",
    "from torch.nn import functional as F\n",
    "\n",
    "from typing import Optional\n",
    "\n",
    "from dataclasses import dataclass, replace\n",
    "import numpy as np\n",
    "import einops\n",
    "\n",
    "from tqdm.notebook import trange\n",
    "\n",
    "import time\n",
    "import pandas as pd\n",
    "\n",
    "import plotly.express as px\n",
    "import plotly.graph_objects as go\n",
    "from plotly.subplots import make_subplots\n",
    "\n",
    "import matplotlib.pyplot as plt"
   ]
  },
  {
   "cell_type": "code",
   "execution_count": 3,
   "metadata": {
    "id": "upSmPXMrZct4"
   },
   "outputs": [],
   "source": [
    "@dataclass\n",
    "class Config:\n",
    "  n_features: int\n",
    "  n_hidden: int\n",
    "  head_d: int\n",
    "\n",
    "  # We optimize n_instances models in a single training loop\n",
    "  # to let us sweep over sparsity or importance curves \n",
    "  # efficiently.\n",
    "\n",
    "  # We could potentially use torch.vmap instead.\n",
    "  n_instances: int\n",
    " \n",
    "class Model(nn.Module):\n",
    "  def __init__(self, \n",
    "               config, \n",
    "               feature_probability: Optional[torch.Tensor] = None,\n",
    "               importance: Optional[torch.Tensor] = None,               \n",
    "               device='cuda'):\n",
    "    super().__init__()\n",
    "    self.config = config\n",
    "    self.W = nn.Parameter(torch.empty((config.n_instances, config.n_features, config.n_hidden), device=device))\n",
    "    nn.init.xavier_normal_(self.W)\n",
    "    self.b_final = nn.Parameter(torch.zeros((config.n_instances, config.n_features), device=device))\n",
    "    self.A = nn.Parameter(torch.empty((config.n_instances, config.n_hidden, config.head_d), device=device))\n",
    "    nn.init.xavier_normal_(self.A)\n",
    "    self.B = nn.Parameter(torch.empty((config.n_instances, config.n_hidden, config.head_d), device=device))\n",
    "    nn.init.xavier_normal_(self.B)\n",
    "\n",
    "    if feature_probability is None:\n",
    "      feature_probability = torch.ones(())\n",
    "    self.feature_probability = feature_probability.to(device)\n",
    "    if importance is None:\n",
    "      importance = torch.ones(())\n",
    "    self.importance = importance.to(device)\n",
    "\n",
    "  def forward(self, features):\n",
    "    # features: [..., instance, n_features]\n",
    "    # W: [instance, n_features, n_hidden]\n",
    "    hidden = torch.einsum(\"...if,ifh->...ih\", features, self.W)\n",
    "    out = torch.einsum(\"...ih,ifh->...if\", hidden, self.W)\n",
    "    out = out + self.b_final\n",
    "    out = F.relu(out)\n",
    "    return out\n",
    "\n",
    "  def generate_batch(self, n_batch):\n",
    "    feat = torch.rand((n_batch, self.config.n_instances, self.config.n_features), device=self.W.device)\n",
    "    batch = torch.where(\n",
    "        torch.rand((n_batch, self.config.n_instances, self.config.n_features), device=self.W.device) <= self.feature_probability,\n",
    "        feat,\n",
    "        torch.zeros((), device=self.W.device),\n",
    "    )\n",
    "    return batch"
   ]
  },
  {
   "cell_type": "code",
   "execution_count": 4,
   "metadata": {
    "id": "UsIgAC56dWMk"
   },
   "outputs": [],
   "source": [
    "if torch.cuda.is_available():\n",
    "  DEVICE = 'cuda'\n",
    "elif torch.backends.mps.is_available():\n",
    "  DEVICE = \"mps\"\n",
    "else:\n",
    "  DEVICE = 'cpu'"
   ]
  },
  {
   "cell_type": "code",
   "execution_count": 5,
   "metadata": {
    "id": "2Ey4ApHYb9oY"
   },
   "outputs": [],
   "source": [
    "def linear_lr(step, steps):\n",
    "  return (1 - (step / steps))\n",
    "\n",
    "def constant_lr(*_):\n",
    "  return 1.0\n",
    "\n",
    "def cosine_decay_lr(step, steps):\n",
    "  return np.cos(0.5 * np.pi * step / (steps - 1))\n",
    "\n",
    "def feature_association(f):\n",
    "  assoc = torch.zeros((f, f), device=DEVICE)\n",
    "  assoc[3, 4] = 1.0\n",
    "  assoc[1, 2] = 1.0\n",
    "  return assoc\n",
    "\n",
    "def pair_err(A, B, W, x, y):\n",
    "  \"\"\"\n",
    "  Pairwise error over aligned batch pairs using feature_association.\n",
    "  x, y: tensors shaped [b, i, f]\n",
    "  Returns a tensor broadcastable to [b, i, f] for reduction.\n",
    "  \"\"\"\n",
    "  # Compute the outer product of the last dimensions of x and y, resulting in shape [b, i, f, f]\n",
    "  # x: [b, i, f], y: [b, i, f]\n",
    "  outer = x.unsqueeze(-1) * y.unsqueeze(-2)\n",
    "  target = feature_association(x.shape[-1])  # [f, f]\n",
    "  matches = outer * target\n",
    "  target = matches.sum(dim=(-2, -1)) # [b, i]\n",
    "  yWB = torch.einsum('bif, ifg, igh -> bih', y, W, B)\n",
    "  xWA = torch.einsum('bif, ifg, igh -> bih', x, W, A)\n",
    "  xWABWy = torch.matmul(xWA, yWB.transpose(-2, -1))  # [b, i, i]\n",
    "  attn_pred = torch.diagonal(xWABWy, dim1=-2, dim2=-1)  # shape [b, i]\n",
    "  # still need softmax here\n",
    "  # Return the L2 norm of the difference between target and assoc\n",
    "  return (target - attn_pred)**2\n",
    "\n",
    "def optimize(model, \n",
    "             render=False, \n",
    "             n_batch=1024,\n",
    "             steps=10_000,\n",
    "             print_freq=100,\n",
    "             lr=1e-3,\n",
    "             lr_scale=constant_lr,\n",
    "             lam = 10,\n",
    "             hooks=[]):\n",
    "  cfg = model.config\n",
    "\n",
    "  opt = torch.optim.AdamW(list(model.parameters()), lr=lr)\n",
    "\n",
    "  start = time.time()\n",
    "  with trange(steps) as t:\n",
    "    for step in t:\n",
    "      step_lr = lr * lr_scale(step, steps)\n",
    "      for group in opt.param_groups:\n",
    "        group['lr'] = step_lr\n",
    "      opt.zero_grad(set_to_none=True)\n",
    "      batch = model.generate_batch(n_batch)\n",
    "      out = model(batch)\n",
    "      # Reconstruction loss (original)\n",
    "      error = (model.importance*(batch.abs() - out)**2)\n",
    "      recon_loss = einops.reduce(error, 'b i f -> i', 'mean').sum()\n",
    "      # print('recon loss', recon_loss, recon_loss.shape)\n",
    "\n",
    "      # Pairwise loss over batch pairs\n",
    "      pairable = (n_batch // 2) * 2\n",
    "      if pairable >= 2:\n",
    "        # stepping by 2s in the batch dimension\n",
    "        out_a = out[:pairable:2]\n",
    "        out_b = out[1:pairable:2]\n",
    "        pair_error = pair_err(model.A, model.B, model.W, out_a, out_b)\n",
    "        pair_loss = einops.reduce(pair_error, 'b i -> i', 'mean').sum()\n",
    "        # print('pair_loss', pair_loss, pair_loss.shape)\n",
    "      else:\n",
    "        pair_error = torch.zeros_like(out[:0])\n",
    "        pair_loss = torch.tensor(0.0, device=out.device)\n",
    "\n",
    "      loss = recon_loss + lam * pair_loss\n",
    "      loss.backward()\n",
    "      opt.step()\n",
    "    \n",
    "      if hooks:\n",
    "        hook_data = dict(model=model,\n",
    "                         step=step, \n",
    "                         opt=opt,\n",
    "                         error=error,\n",
    "                         recon_loss=recon_loss,\n",
    "                         pair_error=pair_error,\n",
    "                         pair_loss=pair_loss,\n",
    "                         loss=loss,\n",
    "                         lr=step_lr)\n",
    "        for h in hooks:\n",
    "          h(hook_data)\n",
    "      if step % print_freq == 0 or (step + 1 == steps):\n",
    "        t.set_postfix(\n",
    "            loss=loss.item() / cfg.n_instances,\n",
    "            lr=step_lr,\n",
    "        )"
   ]
  },
  {
   "cell_type": "code",
   "execution_count": 6,
   "metadata": {},
   "outputs": [],
   "source": [
    "res_array = 0\n",
    "def capture_stats(stats):\n",
    "    global res_array\n",
    "    if (stats['step']) == 0:\n",
    "        res_array = []\n",
    "    if (stats['step'] % 10) == 0:\n",
    "        res_array.append((stats['step'], stats['recon_loss'].cpu().detach().numpy(), stats['pair_loss'].cpu().detach().numpy()))"
   ]
  },
  {
   "cell_type": "markdown",
   "metadata": {
    "id": "QpshP3ppjsIg"
   },
   "source": [
    "## Basic Test\n",
    "\n",
    "Basic setting is 20 x 5 x 5 x 10, lam = 10"
   ]
  },
  {
   "cell_type": "code",
   "execution_count": 24,
   "metadata": {
    "id": "crVhVxhIj5pK"
   },
   "outputs": [],
   "source": [
    "config = Config(\n",
    "    n_features = 40,\n",
    "    n_hidden = 10,\n",
    "    head_d = 10,\n",
    "    n_instances = 10,\n",
    ")\n",
    "\n",
    "model = Model(\n",
    "    config=config,\n",
    "    device=DEVICE,\n",
    "    # Exponential feature importance curve from 1 to 1/100\n",
    "    importance = (0.9**torch.arange(config.n_features))[None, :],\n",
    "    # Sweep feature frequency across the instances from 1 (fully dense) to 1/20\n",
    "    feature_probability = (20 ** -torch.linspace(0, 1, config.n_instances))[:, None]\n",
    ")"
   ]
  },
  {
   "cell_type": "code",
   "execution_count": 25,
   "metadata": {
    "colab": {
     "base_uri": "https://localhost:8080/",
     "height": 49,
     "referenced_widgets": [
      "fa6604f92d1e4489960985e4d7240c24",
      "5f651bcc02de4892bc6ace2170187052",
      "33262117e99a4effb2b23208b72912f1",
      "6de322b6962e4e4b974b2b4d79bf5bea",
      "fc39b56a57df417095c2e2a064cac95b",
      "13bbce3d04234a68805f5668bd4e7cae",
      "fc49b5cd3b5a4dd3b572712b23a88fcb",
      "f9b77a7783c041a5994f645545f46a4d",
      "a09058eea509491198cf92c1b70f4b7d",
      "992a19c9c2ee4565841ced9a07382625",
      "87e80c745a9c4c378a4d7a537ed42361"
     ]
    },
    "id": "oveRpg0skeJf",
    "outputId": "997f294d-e8ac-4ab9-e1f2-f135c4ed7694"
   },
   "outputs": [
    {
     "data": {
      "application/vnd.jupyter.widget-view+json": {
       "model_id": "8580de29480546c1b07d0938d252d0e9",
       "version_major": 2,
       "version_minor": 0
      },
      "text/plain": [
       "  0%|          | 0/10000 [00:00<?, ?it/s]"
      ]
     },
     "metadata": {},
     "output_type": "display_data"
    }
   ],
   "source": [
    "lam = 0\n",
    "optimize(model, lam = lam, hooks = [capture_stats])"
   ]
  },
  {
   "cell_type": "code",
   "execution_count": 26,
   "metadata": {},
   "outputs": [
    {
     "data": {
      "text/plain": [
       "Text(0, 0.5, 'pair loss')"
      ]
     },
     "execution_count": 26,
     "metadata": {},
     "output_type": "execute_result"
    },
    {
     "data": {
      "image/png": "[encoded data removed]",
      "text/plain": [
       "<Figure size 640x480 with 2 Axes>"
      ]
     },
     "metadata": {},
     "output_type": "display_data"
    }
   ],
   "source": [
    "res = np.array(res_array)\n",
    "figs, axs = plt.subplots(2, 1)\n",
    "axs[0].plot(res[:,0], res[:,1])\n",
    "axs[0].set_ylabel('recon loss')\n",
    "axs[0].set_title(f'{config.n_features}x{config.n_hidden}x{config.head_d}, lam = {lam}')\n",
    "axs[1].plot(res[:,0], res[:,2])\n",
    "axs[0].set_ylabel('pair loss')"
   ]
  },
  {
   "cell_type": "code",
   "execution_count": 78,
   "metadata": {
    "id": "RpatvhlHfEyC"
   },
   "outputs": [],
   "source": [
    "def render_features(model, which=np.s_[:]):\n",
    "  cfg = model.config\n",
    "  W = model.W.detach()\n",
    "  W_norm = W / (1e-5 + torch.linalg.norm(W, 2, dim=-1, keepdim=True))\n",
    "\n",
    "  interference = torch.einsum('ifh,igh->ifg', W_norm, W)\n",
    "  interference[:, torch.arange(cfg.n_features), torch.arange(cfg.n_features)] = 0\n",
    "\n",
    "  polysemanticity = torch.linalg.norm(interference, dim=-1).cpu()\n",
    "  net_interference = (interference**2 * model.feature_probability[:, None, :]).sum(-1).cpu()\n",
    "  norms = torch.linalg.norm(W, 2, dim=-1).cpu()\n",
    "\n",
    "  WtW = torch.einsum('sih,soh->sio', W, W).cpu()\n",
    "\n",
    "  # width = weights[0].cpu()\n",
    "  # x = torch.cumsum(width+0.1, 0) - width[0]\n",
    "  x = torch.arange(cfg.n_features)\n",
    "  width = 0.9\n",
    "\n",
    "  which_instances = np.arange(cfg.n_instances)[which]\n",
    "  fig = make_subplots(rows=len(which_instances),\n",
    "                      cols=2,\n",
    "                      shared_xaxes=True,\n",
    "                      vertical_spacing=0.02,\n",
    "                      horizontal_spacing=0.1)\n",
    "  for (row, inst) in enumerate(which_instances):\n",
    "    fig.add_trace(\n",
    "        go.Bar(x=x, \n",
    "              y=norms[inst],\n",
    "              marker=dict(\n",
    "                  color=polysemanticity[inst],\n",
    "                  cmin=0,\n",
    "                  cmax=1\n",
    "              ),\n",
    "              width=width,\n",
    "        ),\n",
    "        row=1+row, col=1\n",
    "    )\n",
    "    data = WtW[inst].numpy()\n",
    "    fig.add_trace(\n",
    "        go.Image(\n",
    "            z=plt.cm.coolwarm((1 + data)/2, bytes=True),\n",
    "            colormodel='rgba256',\n",
    "            customdata=data,\n",
    "            hovertemplate='''\\\n",
    "In: %{x}<br>\n",
    "Out: %{y}<br>\n",
    "Weight: %{customdata:0.2f}\n",
    "'''            \n",
    "        ),\n",
    "        row=1+row, col=2\n",
    "    )\n",
    "\n",
    "  fig.add_vline(\n",
    "    x=(x[cfg.n_hidden-1]+x[cfg.n_hidden])/2, \n",
    "    line=dict(width=0.5),\n",
    "    col=1,\n",
    "  )\n",
    "    \n",
    "  # fig.update_traces(marker_size=1)\n",
    "  fig.update_layout(showlegend=False, \n",
    "                    width=600,\n",
    "                    height=100*len(which_instances),\n",
    "                    margin=dict(t=0, b=0))\n",
    "  fig.update_xaxes(visible=False)\n",
    "  fig.update_yaxes(visible=False)\n",
    "  return fig"
   ]
  },
  {
   "cell_type": "code",
   "execution_count": 79,
   "metadata": {
    "colab": {
     "base_uri": "https://localhost:8080/",
     "height": 1000
    },
    "id": "tm3YV12Hfpvg",
    "outputId": "2f139d88-a9e6-4ecf-f553-57997179c1f6"
   },
   "outputs": [
    {
     "data": {
      "application/vnd.plotly.v1+json": {
       "config": {
        "plotlyServerURL": "https://plot.ly"
       },
       "data": [
        {
         "marker": {
          "cmax": 1,
          "cmin": 0,
          "color": {
           "bdata": "SwvAO/Yw1DtT6wM8/xMEPF3pwzsSIwU8wCMqPAUAezyVQ3o8DPk6PfKufz97z38/OaB/P0PAfz9wcn8/qrt/P02pfz8Tcn8/kJJ/PxZmfz+MXH8/qll/P9Vbfz/mUX8/zuF+PxJyfz93RX8/wyx/P2Akfz9NMH8/viB+P0ktfj8F+34/Y4l+PyJofT+O/n4/sMJ9P42cfj+i4H4/Y1N+Pw==",
           "dtype": "f4"
          }
         },
         "type": "bar",
         "width": 0.9,
         "x": {
          "bdata": "AAECAwQFBgcICQoLDA0ODxAREhMUFRYXGBkaGxwdHh8gISIjJCUmJw==",
          "dtype": "i1"
         },
         "xaxis": "x",
         "y": {
          "bdata": "D/d/P+z9fz/lAoA/2Pp/Py//fz8c+n8/sPF/Pwvyfz939n8/4sl/P6Q4Qz2P1EM8/BLQO4pUGjxELZo7DEcFPDi3ETyx64g7UjDKOyC1jTvXZIY7LR+JO7L1dzuTVXE78jwXO0vDozupLok7MFBoO3pwQzsJxlk7OeS4OrE8vTpmqjY7JLfjOoPvgTqdpS47PICSOiREATuQZyM7kUHCOg==",
          "dtype": "f4"
         },
         "yaxis": "y"
        },
        {
         "colormodel": "rgba256",
         "customdata": {
          "bdata": "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",
          "dtype": "f4",
          "shape": "40, 40"
         },
         "hovertemplate": "In: %{x}<br>\nOut: %{y}<br>\nWeight: %{customdata:0.2f}\n",
         "type": "image",
         "xaxis": "x2",
         "yaxis": "y2",
         "z": {
          "bdata": "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",
          "dtype": "u1",
          "shape": "40, 40, 4"
         }
        },
        {
         "marker": {
          "cmax": 1,
          "cmin": 0,
          "color": {
           "bdata": "dK/uO+B+1TuWcSM8SZ4YPJa/LTzmfR08ot0oPGYTiDy2bbk8ZexLPuZqgD8MXIA/DPyBP27+fz/8MYE/M4mBP7u0fz8fFYA/at6AP0AzgD+39H8/XXiAP2AagD/1KIE/y9x/P2PxgD/DuoA/EnCAPz02gT881n8/HgiAP0spfz9Zu38/1E5/Pxt5fz8qC4A//Hl/P4/Qfz+GC4A/Qd5+Pw==",
           "dtype": "f4"
          }
         },
         "type": "bar",
         "width": 0.9,
         "x": {
          "bdata": "AAECAwQFBgcICQoLDA0ODxAREhMUFRYXGBkaGxwdHh8gISIjJCUmJw==",
          "dtype": "i1"
         },
         "xaxis": "x3",
         "y": {
          "bdata": "2BKAP90QgD/rE4A/jh6AP4kTgD+bJIA/NiKAP30wgD+SLYA/Hm2AP8gNSz6fTs08CaCZPKc9IDz22jU8mfsAPJftlzsHHZs7kzUAPLFhvjsVh6g7ZyGaO4pVrDvvdYk7B8acOzYesTt2Lo07ExrFOwfTlDvhQnE726YvO9qCDTu5Hh0793IROyLHRDupmRw7XhkqO5+ULjumQA4724/7Og==",
          "dtype": "f4"
         },
         "yaxis": "y3"
        },
        {
         "colormodel": "rgba256",
         "customdata": {
          "bdata": "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",
          "dtype": "f4",
          "shape": "40, 40"
         },
         "hovertemplate": "In: %{x}<br>\nOut: %{y}<br>\nWeight: %{customdata:0.2f}\n",
         "type": "image",
         "xaxis": "x4",
         "yaxis": "y4",
         "z": {
          "bdata": "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",
          "dtype": "u1",
          "shape": "40, 40, 4"
         }
        },
        {
         "marker": {
          "cmax": 1,
          "cmin": 0,
          "color": {
           "bdata": "GtpRPPN0AzxffRE8AQNePMQwOzxFbHg87BGaPKeHWD99Mqw+vO1uP5DoeT/HtIE/j5uBP5pTgT/AOYo/Xa+HP5mOhz9lJo4/kd2MP3nRnD+x+JY/Q6+MP8k1mT+/35Q/TUCOP008nT/vKaA/9/GfP+kmlz98j58/tGmVPxMFoD+fDIw/1ASNP9bopj+E7pY/uQygPyUuhD8b15k/T+GGPw==",
           "dtype": "f4"
          }
         },
         "type": "bar",
         "width": 0.9,
         "x": {
          "bdata": "AAECAwQFBgcICQoLDA0ODxAREhMUFRYXGBkaGxwdHh8gISIjJCUmJw==",
          "dtype": "i1"
         },
         "xaxis": "x5",
         "y": {
          "bdata": "DimAP8IkgD8KKYA/NWaAP/FAgD+cXIA/R16AP1CygT+YooE/keh5P1jtbj8cgVg/V06sPno5KjztxIA8+ahTPM87zTvK3887wdDPO1vqwTsWi9U7jleYOyymyDtPVPc79ra4Oz6fzzu2pdI7cdzEO7FakjsyolM7gamaO3QmoDtYyj07pnooO4ogDDy3spY7l7yQO3Cm5zrn4R872hgmOw==",
          "dtype": "f4"
         },
         "yaxis": "y5"
        },
        {
         "colormodel": "rgba256",
         "customdata": {
          "bdata": "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",
          "dtype": "f4",
          "shape": "40, 40"
         },
         "hovertemplate": "In: %{x}<br>\nOut: %{y}<br>\nWeight: %{customdata:0.2f}\n",
         "type": "image",
         "xaxis": "x6",
         "yaxis": "y6",
         "z": {
          "bdata": "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",
          "dtype": "u1",
          "shape": "40, 40, 4"
         }
        },
        {
         "marker": {
          "cmax": 1,
          "cmin": 0,
          "color": {
           "bdata": "AB0fPEuHETxyjCc8U61gPLdEbz/hS2E893JkP2Tvej/XOYA/pZmBP4Lzgj+ed4Q/1SquPum9gz/JHoU/vJ+HP+uCqT+X04U/pmOhPw+ZiT8xJY0/VLOTPyh5pD9ceps/XIGcP6wcqz/c67A/7h+oPwISsT9V15o/NCawPy6usD+03rE/88KqPzzrrz/a07I/YM2vP+eemj82Y6w/bWasPw==",
           "dtype": "f4"
          }
         },
         "type": "bar",
         "width": 0.9,
         "x": {
          "bdata": "AAECAwQFBgcICQoLDA0ODxAREhMUFRYXGBkaGxwdHh8gISIjJCUmJw==",
          "dtype": "i1"
         },
         "xaxis": "x7",
         "y": {
          "bdata": "ojGAP3VAgD9ROoA/ZEmAP2x0hD+XU4A/nhyFP6Dvgj9blYE/EjSAP1jmej+VQG8/5gSCP8q7mD4rbGQ/InEnPgKhEDwpG108tFu3O7Nk6TvFYx48EPcQPGTZHjxnvgQ86TL+O3cbmjsSnwU8SoShO1c8AzzrIFQ7JxUZPP519DtNjuA70Je0OycPpzsOyw08hd+LO02wnjuXij87X2rdOw==",
          "dtype": "f4"
         },
         "yaxis": "y7"
        },
        {
         "colormodel": "rgba256",
         "customdata": {
          "bdata": "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",
          "dtype": "f4",
          "shape": "40, 40"
         },
         "hovertemplate": "In: %{x}<br>\nOut: %{y}<br>\nWeight: %{customdata:0.2f}\n",
         "type": "image",
         "xaxis": "x8",
         "yaxis": "y8",
         "z": {
          "bdata": "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",
          "dtype": "u1",
          "shape": "40, 40, 4"
         }
        },
        {
         "marker": {
          "cmax": 1,
          "cmin": 0,
          "color": {
           "bdata": "utjPO90cFzz6nHc/1n1wP4HAGjwtiXw/dth/P3r7fz/9JYI/J4eCP+jkgz+f3II/V/d+P5NnhD/SPYE/rXKBPxROgj9+MaA/t0esP7WEnz9Fn6c/YUOnP2GYoD8GFLE/dkOtP9uisD+VjbI/TaGxPwKGqz9Os7I/vBO0P1Susz9loLM//TK0P8NztD9oxbM/JsO0P2Vvsz8Do7M/IES1Pw==",
           "dtype": "f4"
          }
         },
         "type": "bar",
         "width": 0.9,
         "x": {
          "bdata": "AAECAwQFBgcICQoLDA0ODxAREhMUFRYXGBkaGxwdHh8gISIjJCUmJw==",
          "dtype": "i1"
         },
         "xaxis": "x9",
         "y": {
          "bdata": "HjGAP2xCgD/d4IM/XWOEPzI9gD8v24I/ZySCP1CGgj8J1X8/fPh/P72Vdz/YhXw/jUuCP0h5cD+QcoE/nT2BP3fyfj+ZN6E7N9YePFKYDTyS7os7F0/eO8CxnjsR3ww8rXjxO1tS7Dvf9sM7t4y0O9A0cTtlQjg7YtB+O1vjpjt4c4w7KJ+7OxJn1TvYYLA7WJ/pO4grpjtlOk87wu7lOw==",
          "dtype": "f4"
         },
         "yaxis": "y9"
        },
        {
         "colormodel": "rgba256",
         "customdata": {
          "bdata": "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",
          "dtype": "f4",
          "shape": "40, 40"
         },
         "hovertemplate": "In: %{x}<br>\nOut: %{y}<br>\nWeight: %{customdata:0.2f}\n",
         "type": "image",
         "xaxis": "x10",
         "yaxis": "y10",
         "z": {
          "bdata": "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",
          "dtype": "u1",
          "shape": "40, 40, 4"
         }
        },
        {
         "marker": {
          "cmax": 1,
          "cmin": 0,
          "color": {
           "bdata": "rfINPArOgD91P1w8GxKCP8zYcT9dkX8/QFyBP4UTgT9s734/f0mCP2Wdgj9+G4A/jKx/P5ZYgD9w04E/ZzKCP7cIgj//WIM/EF2uP3v3sD9atac/BeidP7+irj8akaU/jzOkP5Ndqz/287Q/bTypP26wsz/VrLE/XQayP6J8sj86lrM/dlq2P/Pbsj8uf7M/P3K1P8R0tT9YlbU/3/+yPw==",
           "dtype": "f4"
          }
         },
         "type": "bar",
         "width": 0.9,
         "x": {
          "bdata": "AAECAwQFBgcICQoLDA0ODxAREhMUFRYXGBkaGxwdHh8gISIjJCUmJw==",
          "dtype": "i1"
         },
         "xaxis": "x11",
         "y": {
          "bdata": "kzSAP5gNgj9LQoA/psqAP+9Wgz/KR4I/YRKBP91agT+BnII/eI1/P6vrfj8u0oE/xgaCP4wxgj9PGoA/uVaAP86pfz9+0XE/018nPPpOgzv98xs8vn8ePBHAATzeZOg7zxHHOz50BDwmyQU8pCJ+O7OR4Du/tp07cFNtO+S+1TsqZaM7Mny9OzsYnztbM4U7WMyxO6TMtzvHsmY7HrZ/Ow==",
          "dtype": "f4"
         },
         "yaxis": "y11"
        },
        {
         "colormodel": "rgba256",
         "customdata": {
          "bdata": "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",
          "dtype": "f4",
          "shape": "40, 40"
         },
         "hovertemplate": "In: %{x}<br>\nOut: %{y}<br>\nWeight: %{customdata:0.2f}\n",
         "type": "image",
         "xaxis": "x12",
         "yaxis": "y12",
         "z": {
          "bdata": "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",
          "dtype": "u1",
          "shape": "40, 40, 4"
         }
        },
        {
         "marker": {
          "cmax": 1,
          "cmin": 0,
          "color": {
           "bdata": "AgZ9P+EIfz9tbms/8/R3P4Vncj+sR4A/aO2BPwLgfj+e5H0/EnyBP9iNgD9cc4A/M+qBP3QxgT/X2oE/tWWBP9omgj+4/4E/sZ6CP6WrtT9wI4I/Ixi1P3yFtD8Q97M/G8izP7WfsT8RerQ/Y8e0P0YdtT91YbU/1++zP8WQsz9yXbQ/8W+0P4wltD9d97Q/bgO0P8FEtD94C7U/W5myPw==",
           "dtype": "f4"
          }
         },
         "type": "bar",
         "width": 0.9,
         "x": {
          "bdata": "AAECAwQFBgcICQoLDA0ODxAREhMUFRYXGBkaGxwdHh8gISIjJCUmJw==",
          "dtype": "i1"
         },
         "xaxis": "x13",
         "y": {
          "bdata": "KOeBPzjsgT+YIYI/gCWCP7Gdgj+/eoE/5gV/P0HagT9KAII/9EaAP48wgT+pZIE/Iv98P1eMgD9e3X4/3XKAP9Dxdz8z430/PmRyP+hEfjszams/vEneOzxpzTvLq8A7rarCO8AaDjw/nZQ7r8ubO0Ta0juoVdA75OTSO2lkhjs5M8w7hPfKO1pVvDsrA5M7v+eyO7oR5zse8bc7M7zBOw==",
          "dtype": "f4"
         },
         "yaxis": "y13"
        },
        {
         "colormodel": "rgba256",
         "customdata": {
          "bdata": "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",
          "dtype": "f4",
          "shape": "40, 40"
         },
         "hovertemplate": "In: %{x}<br>\nOut: %{y}<br>\nWeight: %{customdata:0.2f}\n",
         "type": "image",
         "xaxis": "x14",
         "yaxis": "y14",
         "z": {
          "bdata": "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",
          "dtype": "u1",
          "shape": "40, 40, 4"
         }
        },
        {
         "marker": {
          "cmax": 1,
          "cmin": 0,
          "color": {
           "bdata": "sO58P5pVdz9Jb34/PCJ9P2IkgD/ogoA/e+iAP0gqgT82hIA/DDmBP8ncgT9l+qc/7miBP+hSgT+QJKs/zE25P8Vlrz94x7Q/yeW3P8aigT9T3bA/gRG6P2D8wD/UE8I/+JXHP4iwvT+0wME/mfHHP9vV3j/h69U/1gjCP223yz/32M8/BdbDP3Fl3T+mVsM/k7TEP4N1zD+0e9o/tZnHPw==",
           "dtype": "f4"
          }
         },
         "type": "bar",
         "width": 0.9,
         "x": {
          "bdata": "AAECAwQFBgcICQoLDA0ODxAREhMUFRYXGBkaGxwdHh8gISIjJCUmJw==",
          "dtype": "i1"
         },
         "xaxis": "x15",
         "y": {
          "bdata": "c9qBP5GfgT9WZoE/V1GBPzgogT9o5oA/AIGAP/wigD9BN4E/LYGAP6XmfD+BYo8/EWp+PxkefT8k+o0/p5OMP8i5iz8ZOos/CjmIP4lNdz/Bk4Y/BPt7PzM5KjxE8x48qT8VPHpd9TsRhtI7f2oiPEMWKTyF7iE8jm8tPMS0DjxAoQc8p8YBPHjoTDwRvMA7sJgXPDdB8juw2y08yR2wOw==",
          "dtype": "f4"
         },
         "yaxis": "y15"
        },
        {
         "colormodel": "rgba256",
         "customdata": {
          "bdata": "xLuDP5/1hDsNuZq4qwYvu/v9sLo5YpW6tIUBO1K++DoO5im6cUhYu3dHgL82wkE7tBLZOF6ZgztBVgy7JHlHO4Cd37vRUHS5yX4UOuN4g7vKSAo787o8u61PGTk2WJc7+Z7fORdh2bm9c5a6EOWHu1FXqziyynG7v4ynu0+dILvamGK74Piiu2rgY7uo/je7r+8UOsVTt7l/PYW557hPup/1hDtoRIM/OEHFOvIIxbpPXI66P45Huxz4jjt2KB86GZRRu5T9RLsgNP66CRAsOzyWFbsJ+z+72kFgu8bLfju7nm+6+43nu4Sy0roIb3q/Bp/HOxXDnbpw9V+7HVsPOg5EjjmutYY7nYBxu+i73Lk46hW7XfpmuputM7t1LDw7XFFuukskErvQhhc7o7GzuqQ03DqH4jI7ZfKAuhNx1LoNuZq4OEHFOpbQgj8Emnm7hTaCOtqlCjvkBhS5bVsLOu60PbvPbiY5sh8tu9QxuLrTmIC/C+naOkXcxbrTJDS5a+A0uhK1srphds85N+QluirZATrKDOU6gIibu9lKqTu27iI7HUH5OuBcLLtZeGi6C0XDunyaP7vxA1K7+F4Eu0rZ+DoR3ZO62PQlu+OJ1brpJ9q7pc/MOOZzCDpLmAK6qwYvu/IIxboEmnm7J6aCPw03CLvNczi7FSxGOZ6BvLna4o27RfMjO9DOeLftAwy7g/6KOr63f7/8HDm7CGKhOhdlFrt+k227B005uYkQXjtK8bC7HhdIOuHoYzqRgfm6hzUCOzYXbzogh7c5YmhWu47IArsZQui4diSYOn0tzTpgl/Q6hFCgutYuUDrTFSu7OWWMOsAI3jpXeD07SgDMuvv9sLpPXI66hTaCOg03CLsfU4I/4aCZulXu8zo/S4G/gVCqOYKoLzrN6986jn3xOXK4sDoy37o69n6HubjnIzt67+i6lDSKOsLeart7+MC6U4pSur1AIjt8j+66z0fjurjS1To13oa7ObQZN2AoWjo/QsQ6WSICO7pcrzs/1Wq5JbnWurKbhLnoweS5NwQEuwWKSro+mo06KsiAOm1Cnzk5YpW6P45Hu9qlCjvNczi74aCZum7OgT/PZ4G/RFkBuYROxbrG/Xo6U1/VOPI967qInda6wERcOy7JnDrUnrC6IXAZuy9mUTnW8yA76urWOriuP7rc3jQ74TG1OuA7qbrHLoI7wckBu+5z7rpnD/M6Hz4kOgFTZjtz3sC6sW+Du1/mQLs/DcE64Gj2uRqUyLq3OC474RfcOnUYBbsug1e7tIUBOxz4jjvkBhS5FSxGOVXu8zrPZ4G/gwKBP0twErpZF5u6zsLfOlnFc7ruYsi6ZcyVubcVULpSY5O5cIMIuneeuTsPB3O5Dg0Hu1PGP7uGPqi4mLh/ui+us7quBas6EyiCu2ADAjuIFO469+nyuvWRJbqeN2a7Ke28Ovu6gjuVUj87f6G+ulud6TkQ7MY6HRsvuwKA27oT4AQ7DVVXO1K++Dp2KB86bVsLOp6BvLk/S4G/RFkBuUtwEroBRoA/SukuukjRqbl1bhK7eIruOjX7OLsY43k6jR25ubZ6ZbupjVc6jvS1OciXtDspz/k6+sYNuI2foru+hOo6ItrjOgDO1Lpv04U7cBCYtwQoVLobQ7+6hdYAuzrarbsAl3E5z+XWOiHDejm+m+w5AiQDOzxgRTo6O426x4J/uvaql7kO5im6GZRRu+60Pbva4o27gVCqOYROxbpZF5u6Sukuundxgj+PuIG/CdgaO7OWCbv+dH86DdTjOmxw7bqEt067NivfOWXTgrvdk9K43GPkO8VNSzuP4ys7Pne/u9dEfLvuPpA7rCPruiv+/roNp4y7GxRwuV5oQDrcpQq7hd0Uu1voGLrguzW7aww1utvIKznb9Lm6OFZfu0oBMbmfuqS6cUhYu5T9RLvPbiY5RfMjO4KoLzrG/Xo6zsLfOkjRqbmPuIG/3AKBP8tJwzqnZug59f7gOmjpgjjo2uM6V7hRO6N9JDoo8HU7haOHusAliLo3ehu7Zo2Kusidvzvcw3g7E92Pu4Ns5Tq0ZAE7ZmeMOxHwdzk4qjm6q48MO856EzvlCBk635c3O1bIMTrGzw65U/q4OvWrXDuXvjY5Hf6lOndHgL8gNP66sh8tu9DOeLfN6986U1/VOFnFc7p1bhK7CdgaO8tJwzrk1nk/i3eKOGEQKDvfvLG65PirOtI6DLlpWkc7p3ruubVtBLtLDQM7H7wfunSR9joPMyS5amuTuyde3blPDdI5IkGROprvhDtkVKK4UjlrO/63ozs0Lx07flxcO2w4njt7AF87N1I0O5YTCrpGMrU52xlsOaN9STo2wkE7CRAsO9QxuLrtAwy7jn3xOfI967ruYsi6eIruOrOWCbunZug5i3eKOGWeoD96ArU5hDwZO2tqjb5iaZ8+ewuDv/NIVD6LB44+IreauG9HnzsRvGe/DZiHu197KjtD7so5gryfubRMfburPPA7XgbOO8EcEDs36dA7MnWHO8DhnTvthKe7Ae8RPCC/jzptbFQ7kLgzO1MWHbu/ryi4tBLZODyWFbvTmIC/g/6KOnK4sDqInda6ZcyVuTX7OLv+dH869f7gOmEQKDt6ArU5ptZ8P5YegjrsjTg7RDtVupKyAztrgXM6J6dLOu7bsjqVYwO7zTXOug8RmTvndqa7CRIhu8My9roN4yk7TZNoOvPiwTpT1Tw7YvlOO/mGATswS/a65x+TOuB3IjuW39E6TBfWO24vxbjQDwi65XADOl6ZgzsJ+z+7C+naOr63f78y37o6wERcO7cVULoY43k6DdTjOmjpgjjfvLG6hDwZO5Yegjp/RHo/0FfCO9jmsDoYLUk6UtnyOL2v+Lj6xmU6KVZtOwdwCbn2Yle6ce7zOjKgAbsvq2u6gGSnuX34UjtAPwA7hEHCOD8Ek7o8wsu655zxuk6injriBlS680IoOymViLqsoNe6G3U7uz2/yDpBVgy72kFgu0Xcxbr8HDm79n6HuS7JnDpSY5O5jR25uWxw7bro2uM65PirOmtqjb7sjTg70FfCOwB7nT9Y7ps+czuVPW1lgb+g5Kg+yOFFO/QSbb8GP0M+2Rl4uzv1ibu9TNS7OSlzO0HDJjoKVFg6CmV5ur+WibtActa6j5ynu4Rxmrszc6E6zCICvDhVejr57Ze7/DZ6O+w0EbxPgOQ6JHlHO8bLfjvTJDS5CGKhOrjnIzvUnrC6cIMIurZ6ZbuEt067V7hRO9I6DLliaZ8+RDtVutjmsDpY7ps+qWOaP0SxYr+rTVq/0PRHvwzZFrj0D6Q+tbmsPgwgiLqaNhg7gAotu7pYkDoOBJ64hP0zO2cCyrvCZe27zEghO8HZNburgjS7jkvpuVOIwLvjf1o7gfAPOwTzmDvzGwG8c9QYu4Cd37u7nm+6a+A0uhdlFrt67+i6IXAZu3eeuTupjVc6NivfOaN9JDppWkc7ewuDv5KyAzsYLUk6czuVPUSxYr+Lhpg/NwiaPsYCkj7ppDy7RZdzvnLW0z6LZ007W0ZXuzX+ZjoOT1+5ywItO7Vv0LtGVSq66LwjO2HTurvMJrO6lXLwuqh9czuE+T27Suwou3mKb7vNuYy7H0O5O4LHwjrRUHS5+43nuxK1srp+k227lDSKOi9mUTkPB3O5jvS1OWXTgrso8HU7p3ruufNIVD5rgXM6UtnyOG1lgb+rTVq/NwiaPkhwlz+b3Jg+bjinO+6bzT7no/O++hMcOx/w5zp+Nbs7WUxLu3h9gLpu9Vu6jYuvO/+q8DvmoD86fF63OxCQsjvNnLG69JckPKFJG7vGbhE7P6Wau/7uITwxM5Y5yX4UOoSy0rphds85B005ucLearvW8yA7Dg0Hu8iXtDvdk9K4haOHurVtBLuLB44+J6dLOr2v+Lig5Kg+0PRHv8YCkj6b3Jg+TfmQP5feNrpgqGa/rHo/vzSkgLuzGly7WrOyuu6qlzrARPS6NqAUO8gtFTxtjLc7XwHHOddk9joBryU7QXb2uu4mwjsjHgG7Yv5Nu0M8yrlhz/k5IBJaO+N4g7sIb3q/N+QluokQXjt7+MC66urWOlPGP7spz/k63GPkO8AliLpLDQM7IreauO7bsjr6xmU6yOFFOwzZFrjppDy7bjinO5feNrq25m4/IXWKu6FVijo14FM7SuAHun8Dgrk+MYC7CaFlO9dIzDmCnA07Ot9VOl4iKzusnzO7WUlmOoL2CTvbxRC7kvqsOiqw0bobqyq7Sz5yOnr0yDrKSAo7Bp/HOyrZATpK8bC7U4pSuriuP7qGPqi4+sYNuMVNSzs3ehu7H7wfum9HnzuVYwO7KVZtO/QSbb/0D6Q+RZdzvu6bzT5gqGa/IXWKuwd+jT+Yj7E+OleWOzs9lzvIbZc7PW88u/cAPjpgGeq6Sq6mu1Kni7rZREg6ei7wOm+4nDrKEco5LkOEOrHUPDp5z5o7iHb+uod4nDt2/0u787o8uxXDnbrKDOU6HhdIOr1AIjvc3jQ7mLh/uo2foruP4ys7Zo2KunSR9joRvGe/zTXOugdwCbkGP0M+tbmsPnLW0z7no/O+rHo/v6FVijqYj7E+LwZ4P5mveztxspO55DYfuqcbPTnoplk7I7equ685Ery0b6u7fMaEu8tOjruqLKS75b6HO5MrIbyhZTk61a1bujbnF7qhex+6V8XQuq1PGTlw9V+7gIibu+HoYzp8j+664TG1Oi+us7q+hOo6Pne/u8idvzsPMyS5DZiHuw8RmTv2Yle62Rl4uwwgiLqLZ007+hMcOzSkgLs14FM7OleWO5mvezsJYOI4Tv3uNlJfLLeTh623yGJLOFm0v7a6IrW3wtE2N0Dd0DZIVg03XcoDt0NuRTimnsy2bVDDNufKSzjV/z+3kNkjOISbJbY2WJc7HVsPOtlKqTuRgfm6z0fjuuA7qbquBas6ItrjOtdEfLvcw3g7amuTu197Kjvndqa7ce7zOjv1ibuaNhg7W0ZXux/w5zqzGly7SuAHujs9lztxspO5Tv3uNl1ixTgQ46o2fXNPN5PDg7et8Vk2tX2Rt4lOOrgMXdO3iwnMNtSqUTedLdy3VcmptsG9vbZ83Ta2bTOmNheSHjfFUBa3+Z7fOQ5Ejjm27iI7hzUCO7jS1TrHLoI7EyiCuwDO1LruPpA7E92Puyde3blD7so5CRIhuzKgAbu9TNS7gAotuzX+Zjp+Nbs7WrOyun8DgrnIbZc75DYfulJfLLcQ46o2VAauOL7AEbjNPcW3c+ADuOSwYDU8cxk4UWxKt81tCrYKkF43sO2Qt/Gw8Te6huS3tbosNzVB5Lelkl04Kz7/txdh2bmutYY7HUH5OjYXbzo13oa7wckBu2ADAjtv04U7rCPruoNs5TpPDdI5gryfucMy9rovq2u6OSlzO7pYkDoOT1+5WUxLu+6qlzo+MYC7PW88u6cbPTmTh623fXNPN77AEbgMLGs4NOpDtxdP5zX/6a63CWcWuFLEAriB+hA3tA59NvyFt7Z34S23xR+bNmFDlLddyMo3/SjxtwVmkTa9c5a6nYBxu+BcLLsgh7c5ObQZN+5z7rqIFO46cBCYtyv+/rq0ZAE7IkGROrRMfbsN4yk7gGSnuUHDJjoOBJ64ywItO3h9gLrARPS6CaFlO/cAPjroplk7yGJLOJPDg7fNPcW3NOpDtzogLTjRvjG3RI2It7sKtbbeM0w3EqSYttqT/raHjBM46S3otyK7VjfsAQs2BQFRt8ypUTc8k1g3EOWHu+i73LlZeGi6YmhWu2AoWjpnD/M69+nyugQoVLoNp4y7ZmeMO5rvhDurPPA7TZNoOn34UjsKVFg6hP0zO7Vv0Ltu9Vu6NqAUO9dIzDlgGeq6I7equ1m0v7at8Vk2c+ADuBdP5zXRvjG37BXOOG9USThhzOQ3Hn6POKcwvjcbFb43PnAyNzw8XzjH4tk3WISvN4/UITiS0Tq4oRxFN1FXqzg46hW7C0XDuo7IArs/QsQ6Hz4kOvWRJbobQ7+6GxRwuRHwdzlkVKK4XgbOO/PiwTpAPwA7CmV5umcCyrtGVSq6jYuvO8gtFTyCnA07Sq6mu685Ery6IrW3tX2Rt+SwYDX/6a63RI2It29USTjOXN84wwWXOJzNJzjaFvc3zecVOE/puLdWVbU43iwSt+yxfLWz0jO3fTVsN4Mz8TeyynG7XfpmunyaP7sZQui4WSICOwFTZjueN2a7hdYAu15oQDo4qjm6UjlrO8EcEDtT1Tw7hEHCOL+WibvCZe276LwjO/+q8DttjLc7Ot9VOlKni7q0b6u7wtE2N4lOOrg8cxk4CWcWuLsKtbZhzOQ3wwWXOMTbzDiyoyQ41NAJOPLtBTiz6Tk3H2G8OLrkULc4KsM3w+a3t2r7SjgZEPI2v4ynu5utM7vxA1K7diSYOrpcrztz3sC6Ke28OjrarbvcpQq7q48MO/63ozs36dA7YvlOOz8Ek7pActa6zEghO2HTurvmoD86XwHHOV4iKzvZREg6fMaEu0Dd0DYMXdO3UWxKt1LEArjeM0w3Hn6POJzNJziyoyQ47f/qOKosLjjf7xM4+6QlN766fThgGp83Ga74N+gVtzcVqLC092xmN0+dILt1LDw7+F4Eu30tzTo/1Wq5sW+Du/u6gjsAl3E5hd0Uu856Ezs0Lx07MnWHO/mGATs8wsu6j5ynu8HZNbvMJrO6fF63O9dk9jqsnzO7ei7wOstOjrtIVg03iwnMNs1tCraB+hA3EqSYtqcwvjfaFvc31NAJOKosLjgTGp84hehhOD+NUrcyhL0478GLNQjf9Dcg5Nm19M8/OGcZUDfamGK7XFFuukrZ+Dpgl/Q6JbnWul/mQLuVUj87z+XWOlvoGLrlCBk6flxcO8DhnTswS/a655zxuoRxmrurgjS7lXLwuhCQsjsBryU7WUlmOm+4nDqqLKS7XcoDt9SqUTcKkF43tA59NtqT/rYbFb43zecVOPLtBTjf7xM4hehhOO+2jzgFHCm3wCulOP25cDanXRC2phFat56eOTgtT1E34Piiu0skErsR3ZO6hFCgurKbhLk/DcE6f6G+uiHDejnguzW735c3O2w4njvthKe75x+TOk6injozc6E6jkvpuah9czvNnLG6QXb2uoL2CTvKEco55b6HO0NuRTidLdy3sO2Qt/yFt7aHjBM4PnAyN0/puLez6Tk3+6QlNz+NUrcFHCm3nZODOME337exRpA3H6hztrDGd7ZukQ82ksLXNmrgY7vQhhc72PQlu9YuUDroweS54Gj2uVud6Tm+m+w5aww1ulbIMTp7AF87Ae8RPOB3IjviBlS6zCICvFOIwLuE+T279JckPO4mwjvbxRC7LkOEOpMrIbymnsy2VcmptvGw8Td34S236S3otzw8XzhWVbU4H2G8OL66fTgyhL04wCulOME337dQAyQ5DI2jtrS4QTgr8By3UhJxOEN8Ijeo/je7o7GzuuOJ1brTFSu7NwQEuxqUyLoQ7MY6AiQDO9vIKznGzw65N1I0OyC/jzqW39E680IoOzhVejrjf1o7Suwou6FJG7sjHgG7kvqsOrHUPDqhZTk6bVDDNsG9vba6huS3xR+bNiK7VjfH4tk33iwSt7rkULdgGp8378GLNf25cDaxRpA3DI2jtqQaETgCJfU2iEewNWXU7LcViPc2r+8UOqQ03DrpJ9q7OWWMOgWKSrq3OC47HRsvuzxgRTrb9Lm6U/q4OpYTCrptbFQ7TBfWOymViLr57Ze7gfAPO3mKb7vGbhE7Yv5Nuyqw0bp5z5o71a1buufKSzh83Ta2tbosN2FDlLfsAQs2WISvN+yxfLU4KsM3Ga74Nwjf9DenXRC2H6hztrS4QTgCJfU29IqzOHE7VDc828w2AcC4t8VTt7mH4jI7pc/MOMAI3jo+mo064RfcOgKA27o6O426OFZfu/WrXDtGMrU5kLgzO24vxbisoNe6/DZ6OwTzmDvNuYy7P6Wau0M8yrkbqyq7iHb+ujbnF7rV/z+3bTOmNjVB5LddyMo3BQFRt4/UITiz0jO3w+a3t+gVtzcg5Nm1phFat7DGd7Yr8By3iEewNXE7VDddP2U4yiVWuNEFDrd/PYW5ZfKAuuZzCDpXeD07KsiAOnUYBbsT4AQ7x4J/ukoBMbmXvjY52xlsOVMWHbvQDwi6G3U7u+w0EbzzGwG8H0O5O/7uITxhz/k5Sz5yOod4nDuhex+6kNkjOBeSHjelkl04/Sjxt8ypUTeS0Tq4fTVsN2r7SjgVqLC09M8/OJ6eOThukQ82UhJxOGXU7Lc828w2yiVWuFIl7DhuLTA257hPuhNx1LpLmAK6SgDMum1Cnzkug1e7DVVXO/aql7mfuqS6Hf6lOqN9STq/ryi45XADOj2/yDpPgOQ6c9QYu4LHwjoxM5Y5IBJaO3r0yDp2/0u7V8XQuoSbJbbFUBa3Kz7/twVmkTY8k1g3oRxFN4Mz8TcZEPI292xmN2cZUDctT1E3ksLXNkN8IjcViPc2AcC4t9EFDrduLTA28FHyNw==",
          "dtype": "f4",
          "shape": "40, 40"
         },
         "hovertemplate": "In: %{x}<br>\nOut: %{y}<br>\nWeight: %{customdata:0.2f}\n",
         "type": "image",
         "xaxis": "x16",
         "yaxis": "y16",
         "z": {
          "bdata": "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",
          "dtype": "u1",
          "shape": "40, 40, 4"
         }
        },
        {
         "marker": {
          "cmax": 1,
          "cmin": 0,
          "color": {
           "bdata": "EU5+Pwnyez+MpIA/05p9P/9+gD98/IA/BIB/P7tugT/wh6Q/8YWAP+/ugD+unaU/JRCnPxxEpz+NBac/ni2oPwBDpz+F+YA/mlCBPzGxqT8wTqo/P12qP0kZxz+D8M8/+nrSP32Gzz90Lc8/NwbGP8Z7zj8SKs4/wwDRP8Lp1D9xgbs/QmDIP0UC0j9dKc4/lmDLPwYVzj9+I9Y/TEHIPw==",
           "dtype": "f4"
          }
         },
         "type": "bar",
         "width": 0.9,
         "x": {
          "bdata": "AAECAwQFBgcICQoLDA0ODxAREhMUFRYXGBkaGxwdHh8gISIjJCUmJw==",
          "dtype": "i1"
         },
         "xaxis": "x17",
         "y": {
          "bdata": "XeyAP6z2gD9e+4A//U2BP4iEgD8UpIA/HWyBP3V7fz9edYs/1H2AP21Kfj/BeIo/D0yLPwgHiz8xNIo/tOKJPxBmiD+d7Xs/JJZ9Pwulhz8DgYQ/yx+EP3WyJjzyJxY8i1pgPNRwSTzJLic8hyHtO58DSzxxfB88+RUHPKcORjxdIuE7w98TPHkuWjwCCio8GnX9O7vkKjzzLio8I6fVOw==",
          "dtype": "f4"
         },
         "yaxis": "y17"
        },
        {
         "colormodel": "rgba256",
         "customdata": {
          "bdata": "b9qBP+/THDsD4HK6d9mwuevLSrvwM5+6xhEMutwstbpS5Me6WvKZOhUPgL9/cBM7z+svOb2wibtQXYg6y3a2uXZa2bnmzOm6Qzcyu9sP2Lrf/zm7P8rzuduxSLuLuDQ7zZqKOlZCXrr1vR86vgtAO3SGfbsLaRq7OWgCu30cZ7qH0MO6XXKoO9RYp7vU4Um6c00Xu2NhD7stjTq5x6aGOe/THDs074E/8QvAOg4CnDqTXOS6d3sJO0fk0biMZcm6kxvEuphpKrsoyzC7+MMDO59BAzof3V+6H7CsuXSgj7pAmSi7bdJ9v8JtgDrDSGi6l0ATO9S0HDtykEQ7jqqmuqn5lTuAzqw7bg22unHGQruX15864YaYOsepjjrZl9S6WoH4Os0rrzoNZVq6vWwRu2m5Azu8z4G7f/CaOiHiFbsD4HK68QvAOqr4gT8Pcnm6lL7ZuSmggb8UCps6bjicup5OzzopS2a5Lrp+OytjlzqxO8e5OYDIujjrLLtOcRA6wwSwOud6k7pM+YY6OEcAO76gELuBgxI6HmQUu2vtgjicIA274UKvuhTHpbrKOR+7iGK9NZVgWzoX7ci6IsH3ti3xPTpndfe6FeKuOu/gjLnp+IQ63Q8CO+WYirkMCpU6d9mwuQ4CnDoPcnm6Yp+CP760W7vW/MY6zYzKOtNfgbr6cSe7MxhSOyvsTTtBinS62osnOkyhMLu33oI6rvIrO9Pp5zjeYga7GBWAv+O3CDvB44I7jvA2ud+3l7tcVeA53B0AOgehAjvPcqE71B1+Om7AQ7tvdoS4hcEZO0Vz5DpFuJQ7O+YROw9QFTr0Raa7893Aur6qx7r+TBG6oMbAuuvLSruTXOS6lL7Zub60W7uaCYE/CF7POlg2yLr5V9+65cazOf8Bgb/H8yg6nzMGuy5kSboHHck6+Fuwu1uFXruMtDc67uIrO1uMSTmgnVM6J4YLO0vZcjnGXEG6enP/Os6NWDqhJbA6/oMquwvRsro6wQ47iCItu4UCCLoDp1A6orZVu7kAUzpURrA54zF8ugWv0zojBU85WaPLuo6ZOTvwM5+6d3sJOymggb/W/MY6CF7POvpIgT9kG4y1vrzYN+ZCp7tvKne6l+HpusnWFToVlW64+JqDOpTGszo2di27LDaAOkNEGruQa866h27NutINqzuPKfs5ZSYWO/c+mLgyOQw7FyCtOidiojrpLx07gU7Its3uVLow5sk6NGfrN7mdOrpTo/Q6P6ynuuAxdjnumYG6YKYAu8UngDn3SJO6xhEMukfk0bgUCps6zYzKOlg2yLpkG4y1RtyCP8Iogb/0Ele7JKBaOuP5+7p0xRE7sPLxurXJwTs2lRm6e9aUu0/7RTvPy0g6NKotuiRMDLsC3/Y6weRuu8QQKDssojK7LkMJukrsIzoHbOQ5+I63uk+NSrsTRGc72Z+quqJQDrtHKsG6ulIbOvQVEzt0yOU5kiwiu5Kq9Tq8boe6y4vSOtwstbqMZcm6bjicutNfgbr5V9+6vrzYN8Iogb8t934/I8PUOq2CHTvuZXg7e8oIuuSDMjuwXfW7MW02ufMrbzsVZhK7ai9bOsCWEDksVUU7uYGLuktkcDsRFCW7McUvOy+gAjoR8Se6mm3iuV/qtDrX8Uc7d9Ziu0vKqDq3vAw78CzAOtaVH7qyHw+7NinluRO1HzvdIPC6ukqFOvL8z7pS5Me6kxvEup5Ozzr6cSe75cazOeZCp7v0Ele7I8PUOlTxlz99vqu7UNx3Oz5LUb8wpTU+EvosPnpJIT6D5CM+0WlEv+tTVjuD12Y70PkvPlccO7+u8y4+zB3guxBmATuc9jU8EKMgPDJHMzvW+OM69Y3QOkYEu7tUhTu7NpHcu3Wq6Lr8DaU73UlQvLl4DDzaXwq7gE8WvD2Z+ztBUKe7WvKZOphpKrspS2a5MxhSO/8Bgb9vKne6JKBaOq2CHTt9vqu7JfyAP8GboDpTBkU71E8XuqJyKLf2ZD47SeTBOitAhju1PtQ6Ec6CuO/3J7teMfs6qgHiOrQWRDojPP66HDNouvhourq23yk7mnq0OmQGEbvULS07GaMNOmihQ7rt9FU7DtdYusPwj7ljtHQ665vQugAbE7nkW8U6zY43uxUPgL8oyzC7Lrp+OyvsTTvH8yg6l+HpuuP5+7ruZXg7UNx3O8GboDrGl3w/g+3muIstGDtQQSM6i2VjOlOcRDub9jS7Y/8HO2gPhrh5W1A7vo1wuswcQLvHjEQ7w7Ayu3y2h7oB8mQ6DJAYuprWPbtE53w7wS8ZO2kCADvRTFs6Y0/DOpaCprtfVaQ7+eBIOlgiEzuJBww7acxXOQcYkbl/cBM7+MMDOytjlzpBinS6nzMGu8nWFTp0xRE7e8oIuj5LUb9TBkU7g+3muNTMlT/nNDw+IcdEv87RTj7DhCw+urI1PgZMqLtATZI6viU8PrBZSj7ZmjO/JoX0O8MHhrtTAwi8odY9ux2sHbs3T3i79nbiO+bVCDw8bam5Ti4aOqn7ojltt927rT8bPC6jort4TEO7K//BO7x9Jrtdq0E7z+svOZ9BAzqxO8e52osnOi5kSboVlW64sPLxuuSDMjswpTU+1E8XuostGDvnNDw+X5eXPwTSUL9klFC/iwQaPg9jRT4kqrI6UgpZu+ICOj7ncDO/fVRJPlwMrTneacA70rm3O8pvIzpXkMe77M7UOSqO3TpgFaW6GFUtOErcMLxD+xS7OuogOYP+O7my2ZK59MxcuzJJR7tVl0m6p8Xhur2wibsf3V+6OYDIukyhMLsHHck6+JqDOrXJwTuwXfW7EvosPqJyKLdQQSM6IcdEvwTSUL9FAZc/8QlDPmG8MD56JGA+2ciZOlMKAzss7Dq/+LBdPiLHQD5q0mu7CUPgue9CKbv65ki692HNOxyHazvNcO+7TqKcuxHPejuVt8M7LBsIO2o/lTtzsoq7cpitt3p3izsdbHQ6VtIouzVrDTpQXYg6H7CsuTjrLLu33oI6+Fuwu5TGszo2lRm6MW02uXpJIT72ZD47i2VjOs7RTj5klFC/8QlDPqE4lT8UeCc+p31Ev8jLQLuofUA7vJ8/PqdPQD7u2Dq/+BwGOvx3A7yex0S7ZVvFO6TbzDtH1ya7e3fgO1FrhzvFMFO7AEqcO69aXjpFNAi7zlEtu7nDbztQOuO6nKeitxZWvTunmK25y3a2uXSgj7pOcRA6rvIrO1uFXrs2di27e9aUu/MrbzuD5CM+SeTBOlOcRDvDhCw+iwQaPmG8MD4UeCc+2YiUPxccOj5DP5y6ERKyu7gjUb+P/EK/LIREv3/wczraPKG6p0qju1dVkDtmQ6k7kYoHO/XHWjsHa4O48R6UO58MvLvqjDw6iZCROigRb7ujdrG69tp0u7JafjpEvU27hFmFuXZa2blAmSi7wwSwOtPp5ziMtDc6LDaAOk/7RTsVZhK70WlEvytAhjub9jS7urI1Pg9jRT56JGA+p31EvxccOj40WZE/4cFDO+Qnkbv1+zi/IbtNPmV8YT5J6Uo7KeVqOyoD9rsNdBm8+RwWuxuqHjv9iuq7y81AurOq2Dv7Icw69mrEOtiaijcvkvQ7jQoJvP++PTsalNY7P8ctvNEHbjvmzOm6bdJ9v+d6k7reYga77uIrO0NEGrvPy0g6ai9bOutTVju1PtQ6Y/8HOwZMqLskqrI62ciZOsjLQLtDP5y64cFDO9Drdz8bK8a4zx3fOgFPLLtkq+c6FSNBu5nRpjorMpG73QapuySlrjpBvz47y9OfunuymLoYSoy6RqzNOjCa9Lq/kqi6XilROh3iDjsh2/+6cWZ8O1Aol7oyLBI7Qzcyu8JtgDpM+YY6GBWAv1uMSTmQa866NKotusCWEDmD12Y7Ec6CuGgPhrhATZI6UgpZu1MKAzuofUA7ERKyu+QnkbsbK8a4HDJ7P0V69zpfQuS6KWOduedKlTs6+fK5oVvxuSdk/LqhBp67KX2AulbTQTudgcw4I0QYuyp83bqnVZG7+rwQuxVSELpN6KM7bZO9Ohkmwjr92Ro6B6G6OtsP2LrDSGi6OEcAO+O3CDugnVM6h27NuiRMDLssVUU70PkvPu/3J7t5W1A7viU8PuICOj4s7Dq/vJ8/PrgjUb/1+zi/zx3fOkV69zr5vo8/hVKBPu2FcT5U8nu56e9puoOS7Dv1Nwk7CwyYu5zagbtLYZw7laouO6ak77ta2yO2LgACu84KOLsmqjg69u+UOykklLoGOnu7YsX+O+XJ3rrf/zm7l0ATO76gELvB44I7J4YLO9INqzsC3/Y6uYGLulccO79eMfs6vo1wurBZSj7ncDO/+LBdPqdPQD6P/EK/IbtNPgFPLLtfQuS6hVKBPpkqiT+3GIM+VlQlOxBcN7ubL6m7Veryu5Egp7pWugK7isBpu2UuTjvjUmu6b1I3POfhyjoQcEC7LQ0EPO13Wrv7Spg7J6yrO+4E7LrEe1s7P8rzudS0HDuBgxI6jvA2uUvZcjmPKfs5weRuu0tkcDuu8y4+qgHiOswcQLvZmjO/fVRJPiLHQD7u2Dq/LIREv2V8YT5kq+c6KWOdue2FcT63GIM+mmGIPxd4gbvLk8s7Oo3wO4TgirvpfJS7AVTzOiPkCLwto7e7ea0EuuJBbTobf0q6yoldO0AER7p3bWw6TLiNO5lGOrt1+IW5Iv9kutuxSLtykEQ7HmQUu9+3l7vGXEG6ZSYWO8QQKDsRFCW7zB3gu7QWRDrHjEQ7JoX0O1wMrTlq0mu7+BwGOn/wczpJ6Uo7FSNBu+dKlTtU8nu5VlQlOxd4gbvXF9k4G+lCuJq3ergqSda3/kcduK3hI7ifgEI49cCWOA8tFTcM9zg2N4DYtkhiebh4cLg4a8nWty5CrjV2oGQ4/172tyrP2DeLuDQ7jqqmumvtgjhcVeA5enP/Ovc+mLgsojK7McUvOxBmATsjPP66w7Ayu8MHhrveacA7CUPgufx3A7zaPKG6KeVqO5nRpjo6+fK56e9puhBcN7vLk8s7G+lCuKwlsDgfQVo4NXXpt0IEH7hvohs48V9auJIQkrhtd083lKohuJ8NjLemvTU4fxIIuHrkB7cYcD03r8P7t5A4yrcE7Ni2zZqKOqn5lTucIA273B0AOs6NWDoyOQw7LkMJui+gAjqc9jU8HDNouny2h7pTAwi80rm3O+9CKbuex0S7p0qjuyoD9rsrMpG7oVvxuYOS7DubL6m7Oo3wO5q3ergfQVo4lZ5EOXW5yDhbogq41wToNagCDzYeZIa4UV9BuMLnpLh0Ic63BuB8OMXk7LhbzJw401Nwtuh2CrksnMI4yFqKuFZCXrqAzqw74UKvugehAjuhJbA6FyCtOkrsIzoR8Se6EKMgPPhouroB8mQ6odY9u8pvIzr65ki6ZVvFO1dVkDsNdBm83Qapuydk/Lr1Nwk7Veryu4TgirsqSda3NXXpt3W5yDhegh45HiE2OAPulLdhpp04Er8Gt/BHvrdlQI+4mLoztQJeAziuYN64E8ZvOFkGGbi88MW4NXC0OIHBZbj1vR86bg22uhTHpbrPcqE7/oMquydiojoHbOQ5mm3iuTJHMzu23yk7DJAYuh2sHbtXkMe792HNO6TbzDtmQ6k7+RwWuySlrjqhBp67CwyYu5Egp7rpfJS7/kcduEIEH7hbogq4HiE2OCZc2jhhNO4397p9twP0WLYXudY3RSnsN3eZHzhhG/s3649SuGKx17XPya23PMW9toilEzdgw4K3vgtAO3HGQrvKOR+71B1+OgvRsrrpLx07+I63ul/qtDrW+OM6mnq0OprWPbs3T3i77M7UORyHaztH1ya7kYoHOxuqHjtBvz47KX2AupzagbtWugK7AVTzOq3hI7hvohs41wToNQPulLdhNO43GKdbOBijYLhsl0u4U+HSN/wr9rZKrw02NYg6OHmiPLheER62OIiitpJlL7fzS7i3rxzftnSGfbuX1586iGK9NW7AQ7s6wQ47gU7Itk+NSrvX8Uc79Y3QOmQGEbtE53w79nbiOyqO3TrNcO+7e3fgO/XHWjv9iuq7y9OfulbTQTtLYZw7isBpuyPkCLyfgEI48V9auKgCDzZhpp0497p9txijYLi//iA5SUZcOF19GbjNgBa4Xtadt9SIiLh6jK01rscwONjnBbhDdU63E/mAONRFOrcLaRq74YaYOpVgWzpvdoS4iCItu83uVLoTRGc7d9Ziu0YEu7vULS07wS8ZO+bVCDxgFaW6TqKcu1FrhzsHa4O4y81AunuymLqdgcw4laouO2UuTjsto7e79cCWOJIQkrgeZIa4Er8GtwP0WLZsl0u4SUZcOKO3xjg80ma3AD2WN1ipYzfbDoq4GmmxONdetbcVxrm3OPVROGyDnzUTTZA3OWgCu8epjjoX7ci6hcEZO4UCCLow5sk62Z+qukvKqDpUhTu7GaMNOmkCADs8bam5GFUtOBHPejvFMFO78R6UO7Oq2DsYSoy6I0QYu6ak77vjUmu6ea0Eug8tFTdtd083UV9BuPBHvrcXudY3U+HSN119Gbg80ma3W5COOBLU6zbxVQE4hk9CN5+wujcs+W649eSHN+Ap3TckbYW4aT3GNn0cZ7rZl9S6IsH3tkVz5DoDp1A6NGfrN6JQDru3vAw7NpHcu2ihQ7rRTFs6Ti4aOkrcMLyVt8M7AEqcO58MvLv7Icw6RqzNOip83bpa2yO2b1I3POJBbToM9zg2lKohuMLnpLhlQI+4RSnsN/wr9rbNgBa4AD2WNxLU6zarOhk5yrMAOCUizLfqN4o4JxgYuCj0ZjjB9H040syxtw/NFDiH0MO6WoH4Oi3xPTpFuJQ7orZVu7mdOrpHKsG68CzAOnWq6Lrt9FU7Y0/DOqn7ojlD+xS7LBsIO69aXjrqjDw69mrEOjCa9LqnVZG7LgACu+fhyjobf0q6N4DYtp8NjLd0Ic63mLoztXeZHzhKrw02Xtadt1ipYzfxVQE4yrMAOGv9RTgzsuy1BcGWNwjAH7iKPxY3WpjlNqP0PLfbWz+3XXKoO80rrzpndfe6O+YRO7kAUzpTo/Q6ulIbOtaVH7r8DaU7DtdYupaCprttt927OuogOWo/lTtFNAi7iZCROtiaije/kqi6+rwQu84KOLsQcEC7yoldO0hiebimvTU4BuB8OAJeAzhhG/s3NYg6ONSIiLjbDoq4hk9CNyUizLczsuy1fdWqOKXEt7hsx702QyBCtidsarjHsuw1Ufa2t9RYp7sNZVq6FeKuOg9QFTpURrA5P6ynuvQVEzuyHw+73UlQvMPwj7lfVaQ7rT8bPIP+O7lzsoq7zlEtuygRb7svkvQ7XilROhVSELomqjg6LQ0EPEAER7p4cLg4fxIIuMXk7LiuYN64649SuHmiPLh6jK01GmmxOJ+wujfqN4o4BcGWN6XEt7gu8zk5d1qvuKqc0jeXU+g4XbucuGs5cDjU4Um6vWwRu+/gjLn0Raa74zF8uuAxdjl0yOU5Ninlubl4DDxjtHQ6+eBIOi6joruy2ZK5cpitt7nDbzujdrG6jQoJvB3iDjtN6KM79u+UO+13Wrt3bWw6a8nWt3rkB7dbzJw4E8ZvOGKx17VeER62rscwONdetbcs+W64JxgYuAjAH7hsx702d1qvuJfi4ThL8nO3JcxduH6DrziSffC3c00Xu2m5Azvp+IQ6893AugWv0zrumYG6kiwiuxO1HzvaXwq765vQulgiEzt4TEO79Mxcu3p3iztQOuO69tp0u/++PTsh2/+6bZO9OikklLr7Spg7TLiNOy5CrjUYcD0301NwtlkGGbjPya23OIiittjnBbgVxrm39eSHNyj0ZjiKPxY3QyBCtqqc0jdL8nO3qfB6OCAhbzeFIai3PpZBN2NhD7u8z4G73Q8CO76qx7ojBU85YKYAu5Kq9TrdIPC6gE8WvAAbE7mJBww7K//BOzJJR7sdbHQ6nKeit7JafjoalNY7cWZ8OxkmwjoGOnu7J6yrO5lGOrt2oGQ4r8P7t+h2Crm88MW4PMW9tpJlL7dDdU63OPVROOAp3TfB9H04WpjlNidsariXU+g4JcxduCAhbzcsKeQ4Ux+euIx2djgtjTq5f/CaOuWYirn+TBG6WaPLusUngDm8boe6ukqFOj2Z+zvkW8U6acxXObx9JrtVl0m6VtIouxZWvTtEvU27P8ctvFAol7r92Ro6YsX+O+4E7Lp1+IW5/172t5A4yrcsnMI4NXC0OIilEzfzS7i3E/mAOGyDnzUkbYW40syxt6P0PLfHsuw1XbucuH6DrziFIai3Ux+euMdE4jjfTz64x6aGOSHiFbsMCpU6oMbAuo6ZOTv3SJO6y4vSOvL8z7pBUKe7zY43uwcYkbldq0E7p8XhujVrDTqnmK25hFmFudEHbjsyLBI7B6G6OuXJ3rrEe1s7Iv9kuirP2DcE7Ni2yFqKuIHBZbhgw4K3rxzfttRFOrcTTZA3aT3GNg/NFDjbWz+3Ufa2t2s5cDiSffC3PpZBN4x2djjfTz64jk8yOA==",
          "dtype": "f4",
          "shape": "40, 40"
         },
         "hovertemplate": "In: %{x}<br>\nOut: %{y}<br>\nWeight: %{customdata:0.2f}\n",
         "type": "image",
         "xaxis": "x18",
         "yaxis": "y18",
         "z": {
          "bdata": "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",
          "dtype": "u1",
          "shape": "40, 40, 4"
         }
        },
        {
         "marker": {
          "cmax": 1,
          "cmin": 0,
          "color": {
           "bdata": "jwiBPzkmgD+aUH8/0TKpP9LRfz+c0IA/pgaBP6rjqT+Gl7Y/OTaAP6BZuj8OAbo/lW+vPz9ptz8MnLk/N3GAP8oLsT+1Irw/e+a9P2u5yD+TysI/KuLCPymSyT+ARLo/h6q/P6Gi5z+pHts/sMHnP3JMzj8YkOE/98vkP+Ng3D+KvdI/gcjhP+pj3T+hNds/1P3XP9yk3T8gM94/7aTePw==",
           "dtype": "f4"
          }
         },
         "type": "bar",
         "width": 0.9,
         "x": {
          "bdata": "AAECAwQFBgcICQoLDA0ODxAREhMUFRYXGBkaGxwdHh8gISIjJCUmJw==",
          "dtype": "i1"
         },
         "xaxis": "x19",
         "y": {
          "bdata": "XyGAP5MFgT8tb4A/1ySKP9oEgT83NIA/icp/P9LYjD+rKo0/xM2AP8t2jj/teY8/ZOKNP9Mrjj/Sn40/ekh/Pw1Giz+mDos/CzCLP0XthT96QYg/X2GEP1FEfz/7Sng/rMxrPyJ2QDybdZk8Dk0wPOYoETw+KjA8cBsVPDHsSzyIQWY8rs5YPAd8bzy9/0k89ZGJPF5uczwcVTw8hAgoPA==",
          "dtype": "f4"
         },
         "yaxis": "y19"
        },
        {
         "colormodel": "rgba256",
         "customdata": {
          "bdata": "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",
          "dtype": "f4",
          "shape": "40, 40"
         },
         "hovertemplate": "In: %{x}<br>\nOut: %{y}<br>\nWeight: %{customdata:0.2f}\n",
         "type": "image",
         "xaxis": "x20",
         "yaxis": "y20",
         "z": {
          "bdata": "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",
          "dtype": "u1",
          "shape": "40, 40, 4"
         }
        }
       ],
       "layout": {
        "height": 1000,
        "margin": {
         "b": 0,
         "t": 0
        },
        "shapes": [
         {
          "line": {
           "width": 0.5
          },
          "type": "line",
          "x0": 9.5,
          "x1": 9.5,
          "xref": "x",
          "y0": 0,
          "y1": 1,
          "yref": "y domain"
         },
         {
          "line": {
           "width": 0.5
          },
          "type": "line",
          "x0": 9.5,
          "x1": 9.5,
          "xref": "x3",
          "y0": 0,
          "y1": 1,
          "yref": "y3 domain"
         },
         {
          "line": {
           "width": 0.5
          },
          "type": "line",
          "x0": 9.5,
          "x1": 9.5,
          "xref": "x5",
          "y0": 0,
          "y1": 1,
          "yref": "y5 domain"
         },
         {
          "line": {
           "width": 0.5
          },
          "type": "line",
          "x0": 9.5,
          "x1": 9.5,
          "xref": "x7",
          "y0": 0,
          "y1": 1,
          "yref": "y7 domain"
         },
         {
          "line": {
           "width": 0.5
          },
          "type": "line",
          "x0": 9.5,
          "x1": 9.5,
          "xref": "x9",
          "y0": 0,
          "y1": 1,
          "yref": "y9 domain"
         },
         {
          "line": {
           "width": 0.5
          },
          "type": "line",
          "x0": 9.5,
          "x1": 9.5,
          "xref": "x11",
          "y0": 0,
          "y1": 1,
          "yref": "y11 domain"
         },
         {
          "line": {
           "width": 0.5
          },
          "type": "line",
          "x0": 9.5,
          "x1": 9.5,
          "xref": "x13",
          "y0": 0,
          "y1": 1,
          "yref": "y13 domain"
         },
         {
          "line": {
           "width": 0.5
          },
          "type": "line",
          "x0": 9.5,
          "x1": 9.5,
          "xref": "x15",
          "y0": 0,
          "y1": 1,
          "yref": "y15 domain"
         },
         {
          "line": {
           "width": 0.5
          },
          "type": "line",
          "x0": 9.5,
          "x1": 9.5,
          "xref": "x17",
          "y0": 0,
          "y1": 1,
          "yref": "y17 domain"
         },
         {
          "line": {
           "width": 0.5
          },
          "type": "line",
          "x0": 9.5,
          "x1": 9.5,
          "xref": "x19",
          "y0": 0,
          "y1": 1,
          "yref": "y19 domain"
         }
        ],
        "showlegend": false,
        "template": {
         "data": {
          "bar": [
           {
            "error_x": {
             "color": "#2a3f5f"
            },
            "error_y": {
             "color": "#2a3f5f"
            },
            "marker": {
             "line": {
              "color": "#E5ECF6",
              "width": 0.5
             },
             "pattern": {
              "fillmode": "overlay",
              "size": 10,
              "solidity": 0.2
             }
            },
            "type": "bar"
           }
          ],
          "barpolar": [
           {
            "marker": {
             "line": {
              "color": "#E5ECF6",
              "width": 0.5
             },
             "pattern": {
              "fillmode": "overlay",
              "size": 10,
              "solidity": 0.2
             }
            },
            "type": "barpolar"
           }
          ],
          "carpet": [
           {
            "aaxis": {
             "endlinecolor": "#2a3f5f",
             "gridcolor": "white",
             "linecolor": "white",
             "minorgridcolor": "white",
             "startlinecolor": "#2a3f5f"
            },
            "baxis": {
             "endlinecolor": "#2a3f5f",
             "gridcolor": "white",
             "linecolor": "white",
             "minorgridcolor": "white",
             "startlinecolor": "#2a3f5f"
            },
            "type": "carpet"
           }
          ],
          "choropleth": [
           {
            "colorbar": {
             "outlinewidth": 0,
             "ticks": ""
            },
            "type": "choropleth"
           }
          ],
          "contour": [
           {
            "colorbar": {
             "outlinewidth": 0,
             "ticks": ""
            },
            "colorscale": [
             [
              0,
              "#0d0887"
             ],
             [
              0.1111111111111111,
              "#46039f"
             ],
             [
              0.2222222222222222,
              "#7201a8"
             ],
             [
              0.3333333333333333,
              "#9c179e"
             ],
             [
              0.4444444444444444,
              "#bd3786"
             ],
             [
              0.5555555555555556,
              "#d8576b"
             ],
             [
              0.6666666666666666,
              "#ed7953"
             ],
             [
              0.7777777777777778,
              "#fb9f3a"
             ],
             [
              0.8888888888888888,
              "#fdca26"
             ],
             [
              1,
              "#f0f921"
             ]
            ],
            "type": "contour"
           }
          ],
          "contourcarpet": [
           {
            "colorbar": {
             "outlinewidth": 0,
             "ticks": ""
            },
            "type": "contourcarpet"
           }
          ],
          "heatmap": [
           {
            "colorbar": {
             "outlinewidth": 0,
             "ticks": ""
            },
            "colorscale": [
             [
              0,
              "#0d0887"
             ],
             [
              0.1111111111111111,
              "#46039f"
             ],
             [
              0.2222222222222222,
              "#7201a8"
             ],
             [
              0.3333333333333333,
              "#9c179e"
             ],
             [
              0.4444444444444444,
              "#bd3786"
             ],
             [
              0.5555555555555556,
              "#d8576b"
             ],
             [
              0.6666666666666666,
              "#ed7953"
             ],
             [
              0.7777777777777778,
              "#fb9f3a"
             ],
             [
              0.8888888888888888,
              "#fdca26"
             ],
             [
              1,
              "#f0f921"
             ]
            ],
            "type": "heatmap"
           }
          ],
          "histogram": [
           {
            "marker": {
             "pattern": {
              "fillmode": "overlay",
              "size": 10,
              "solidity": 0.2
             }
            },
            "type": "histogram"
           }
          ],
          "histogram2d": [
           {
            "colorbar": {
             "outlinewidth": 0,
             "ticks": ""
            },
            "colorscale": [
             [
              0,
              "#0d0887"
             ],
             [
              0.1111111111111111,
              "#46039f"
             ],
             [
              0.2222222222222222,
              "#7201a8"
             ],
             [
              0.3333333333333333,
              "#9c179e"
             ],
             [
              0.4444444444444444,
              "#bd3786"
             ],
             [
              0.5555555555555556,
              "#d8576b"
             ],
             [
              0.6666666666666666,
              "#ed7953"
             ],
             [
              0.7777777777777778,
              "#fb9f3a"
             ],
             [
              0.8888888888888888,
              "#fdca26"
             ],
             [
              1,
              "#f0f921"
             ]
            ],
            "type": "histogram2d"
           }
          ],
          "histogram2dcontour": [
           {
            "colorbar": {
             "outlinewidth": 0,
             "ticks": ""
            },
            "colorscale": [
             [
              0,
              "#0d0887"
             ],
             [
              0.1111111111111111,
              "#46039f"
             ],
             [
              0.2222222222222222,
              "#7201a8"
             ],
             [
              0.3333333333333333,
              "#9c179e"
             ],
             [
              0.4444444444444444,
              "#bd3786"
             ],
             [
              0.5555555555555556,
              "#d8576b"
             ],
             [
              0.6666666666666666,
              "#ed7953"
             ],
             [
              0.7777777777777778,
              "#fb9f3a"
             ],
             [
              0.8888888888888888,
              "#fdca26"
             ],
             [
              1,
              "#f0f921"
             ]
            ],
            "type": "histogram2dcontour"
           }
          ],
          "mesh3d": [
           {
            "colorbar": {
             "outlinewidth": 0,
             "ticks": ""
            },
            "type": "mesh3d"
           }
          ],
          "parcoords": [
           {
            "line": {
             "colorbar": {
              "outlinewidth": 0,
              "ticks": ""
             }
            },
            "type": "parcoords"
           }
          ],
          "pie": [
           {
            "automargin": true,
            "type": "pie"
           }
          ],
          "scatter": [
           {
            "fillpattern": {
             "fillmode": "overlay",
             "size": 10,
             "solidity": 0.2
            },
            "type": "scatter"
           }
          ],
          "scatter3d": [
           {
            "line": {
             "colorbar": {
              "outlinewidth": 0,
              "ticks": ""
             }
            },
            "marker": {
             "colorbar": {
              "outlinewidth": 0,
              "ticks": ""
             }
            },
            "type": "scatter3d"
           }
          ],
          "scattercarpet": [
           {
            "marker": {
             "colorbar": {
              "outlinewidth": 0,
              "ticks": ""
             }
            },
            "type": "scattercarpet"
           }
          ],
          "scattergeo": [
           {
            "marker": {
             "colorbar": {
              "outlinewidth": 0,
              "ticks": ""
             }
            },
            "type": "scattergeo"
           }
          ],
          "scattergl": [
           {
            "marker": {
             "colorbar": {
              "outlinewidth": 0,
              "ticks": ""
             }
            },
            "type": "scattergl"
           }
          ],
          "scattermap": [
           {
            "marker": {
             "colorbar": {
              "outlinewidth": 0,
              "ticks": ""
             }
            },
            "type": "scattermap"
           }
          ],
          "scattermapbox": [
           {
            "marker": {
             "colorbar": {
              "outlinewidth": 0,
              "ticks": ""
             }
            },
            "type": "scattermapbox"
           }
          ],
          "scatterpolar": [
           {
            "marker": {
             "colorbar": {
              "outlinewidth": 0,
              "ticks": ""
             }
            },
            "type": "scatterpolar"
           }
          ],
          "scatterpolargl": [
           {
            "marker": {
             "colorbar": {
              "outlinewidth": 0,
              "ticks": ""
             }
            },
            "type": "scatterpolargl"
           }
          ],
          "scatterternary": [
           {
            "marker": {
             "colorbar": {
              "outlinewidth": 0,
              "ticks": ""
             }
            },
            "type": "scatterternary"
           }
          ],
          "surface": [
           {
            "colorbar": {
             "outlinewidth": 0,
             "ticks": ""
            },
            "colorscale": [
             [
              0,
              "#0d0887"
             ],
             [
              0.1111111111111111,
              "#46039f"
             ],
             [
              0.2222222222222222,
              "#7201a8"
             ],
             [
              0.3333333333333333,
              "#9c179e"
             ],
             [
              0.4444444444444444,
              "#bd3786"
             ],
             [
              0.5555555555555556,
              "#d8576b"
             ],
             [
              0.6666666666666666,
              "#ed7953"
             ],
             [
              0.7777777777777778,
              "#fb9f3a"
             ],
             [
              0.8888888888888888,
              "#fdca26"
             ],
             [
              1,
              "#f0f921"
             ]
            ],
            "type": "surface"
           }
          ],
          "table": [
           {
            "cells": {
             "fill": {
              "color": "#EBF0F8"
             },
             "line": {
              "color": "white"
             }
            },
            "header": {
             "fill": {
              "color": "#C8D4E3"
             },
             "line": {
              "color": "white"
             }
            },
            "type": "table"
           }
          ]
         },
         "layout": {
          "annotationdefaults": {
           "arrowcolor": "#2a3f5f",
           "arrowhead": 0,
           "arrowwidth": 1
          },
          "autotypenumbers": "strict",
          "coloraxis": {
           "colorbar": {
            "outlinewidth": 0,
            "ticks": ""
           }
          },
          "colorscale": {
           "diverging": [
            [
             0,
             "#8e0152"
            ],
            [
             0.1,
             "#c51b7d"
            ],
            [
             0.2,
             "#de77ae"
            ],
            [
             0.3,
             "#f1b6da"
            ],
            [
             0.4,
             "#fde0ef"
            ],
            [
             0.5,
             "#f7f7f7"
            ],
            [
             0.6,
             "#e6f5d0"
            ],
            [
             0.7,
             "#b8e186"
            ],
            [
             0.8,
             "#7fbc41"
            ],
            [
             0.9,
             "#4d9221"
            ],
            [
             1,
             "#276419"
            ]
           ],
           "sequential": [
            [
             0,
             "#0d0887"
            ],
            [
             0.1111111111111111,
             "#46039f"
            ],
            [
             0.2222222222222222,
             "#7201a8"
            ],
            [
             0.3333333333333333,
             "#9c179e"
            ],
            [
             0.4444444444444444,
             "#bd3786"
            ],
            [
             0.5555555555555556,
             "#d8576b"
            ],
            [
             0.6666666666666666,
             "#ed7953"
            ],
            [
             0.7777777777777778,
             "#fb9f3a"
            ],
            [
             0.8888888888888888,
             "#fdca26"
            ],
            [
             1,
             "#f0f921"
            ]
           ],
           "sequentialminus": [
            [
             0,
             "#0d0887"
            ],
            [
             0.1111111111111111,
             "#46039f"
            ],
            [
             0.2222222222222222,
             "#7201a8"
            ],
            [
             0.3333333333333333,
             "#9c179e"
            ],
            [
             0.4444444444444444,
             "#bd3786"
            ],
            [
             0.5555555555555556,
             "#d8576b"
            ],
            [
             0.6666666666666666,
             "#ed7953"
            ],
            [
             0.7777777777777778,
             "#fb9f3a"
            ],
            [
             0.8888888888888888,
             "#fdca26"
            ],
            [
             1,
             "#f0f921"
            ]
           ]
          },
          "colorway": [
           "#636efa",
           "#EF553B",
           "#00cc96",
           "#ab63fa",
           "#FFA15A",
           "#19d3f3",
           "#FF6692",
           "#B6E880",
           "#FF97FF",
           "#FECB52"
          ],
          "font": {
           "color": "#2a3f5f"
          },
          "geo": {
           "bgcolor": "white",
           "lakecolor": "white",
           "landcolor": "#E5ECF6",
           "showlakes": true,
           "showland": true,
           "subunitcolor": "white"
          },
          "hoverlabel": {
           "align": "left"
          },
          "hovermode": "closest",
          "mapbox": {
           "style": "light"
          },
          "paper_bgcolor": "white",
          "plot_bgcolor": "#E5ECF6",
          "polar": {
           "angularaxis": {
            "gridcolor": "white",
            "linecolor": "white",
            "ticks": ""
           },
           "bgcolor": "#E5ECF6",
           "radialaxis": {
            "gridcolor": "white",
            "linecolor": "white",
            "ticks": ""
           }
          },
          "scene": {
           "xaxis": {
            "backgroundcolor": "#E5ECF6",
            "gridcolor": "white",
            "gridwidth": 2,
            "linecolor": "white",
            "showbackground": true,
            "ticks": "",
            "zerolinecolor": "white"
           },
           "yaxis": {
            "backgroundcolor": "#E5ECF6",
            "gridcolor": "white",
            "gridwidth": 2,
            "linecolor": "white",
            "showbackground": true,
            "ticks": "",
            "zerolinecolor": "white"
           },
           "zaxis": {
            "backgroundcolor": "#E5ECF6",
            "gridcolor": "white",
            "gridwidth": 2,
            "linecolor": "white",
            "showbackground": true,
            "ticks": "",
            "zerolinecolor": "white"
           }
          },
          "shapedefaults": {
           "line": {
            "color": "#2a3f5f"
           }
          },
          "ternary": {
           "aaxis": {
            "gridcolor": "white",
            "linecolor": "white",
            "ticks": ""
           },
           "baxis": {
            "gridcolor": "white",
            "linecolor": "white",
            "ticks": ""
           },
           "bgcolor": "#E5ECF6",
           "caxis": {
            "gridcolor": "white",
            "linecolor": "white",
            "ticks": ""
           }
          },
          "title": {
           "x": 0.05
          },
          "xaxis": {
           "automargin": true,
           "gridcolor": "white",
           "linecolor": "white",
           "ticks": "",
           "title": {
            "standoff": 15
           },
           "zerolinecolor": "white",
           "zerolinewidth": 2
          },
          "yaxis": {
           "automargin": true,
           "gridcolor": "white",
           "linecolor": "white",
           "ticks": "",
           "title": {
            "standoff": 15
           },
           "zerolinecolor": "white",
           "zerolinewidth": 2
          }
         }
        },
        "width": 600,
        "xaxis": {
         "anchor": "y",
         "domain": [
          0,
          0.45
         ],
         "matches": "x19",
         "showticklabels": false,
         "visible": false
        },
        "xaxis10": {
         "anchor": "y10",
         "domain": [
          0.55,
          1
         ],
         "matches": "x20",
         "showticklabels": false,
         "visible": false
        },
        "xaxis11": {
         "anchor": "y11",
         "domain": [
          0,
          0.45
         ],
         "matches": "x19",
         "showticklabels": false,
         "visible": false
        },
        "xaxis12": {
         "anchor": "y12",
         "domain": [
          0.55,
          1
         ],
         "matches": "x20",
         "showticklabels": false,
         "visible": false
        },
        "xaxis13": {
         "anchor": "y13",
         "domain": [
          0,
          0.45
         ],
         "matches": "x19",
         "showticklabels": false,
         "visible": false
        },
        "xaxis14": {
         "anchor": "y14",
         "domain": [
          0.55,
          1
         ],
         "matches": "x20",
         "showticklabels": false,
         "visible": false
        },
        "xaxis15": {
         "anchor": "y15",
         "domain": [
          0,
          0.45
         ],
         "matches": "x19",
         "showticklabels": false,
         "visible": false
        },
        "xaxis16": {
         "anchor": "y16",
         "domain": [
          0.55,
          1
         ],
         "matches": "x20",
         "showticklabels": false,
         "visible": false
        },
        "xaxis17": {
         "anchor": "y17",
         "domain": [
          0,
          0.45
         ],
         "matches": "x19",
         "showticklabels": false,
         "visible": false
        },
        "xaxis18": {
         "anchor": "y18",
         "domain": [
          0.55,
          1
         ],
         "matches": "x20",
         "showticklabels": false,
         "visible": false
        },
        "xaxis19": {
         "anchor": "y19",
         "domain": [
          0,
          0.45
         ],
         "visible": false
        },
        "xaxis2": {
         "anchor": "y2",
         "domain": [
          0.55,
          1
         ],
         "matches": "x20",
         "showticklabels": false,
         "visible": false
        },
        "xaxis20": {
         "anchor": "y20",
         "domain": [
          0.55,
          1
         ],
         "visible": false
        },
        "xaxis3": {
         "anchor": "y3",
         "domain": [
          0,
          0.45
         ],
         "matches": "x19",
         "showticklabels": false,
         "visible": false
        },
        "xaxis4": {
         "anchor": "y4",
         "domain": [
          0.55,
          1
         ],
         "matches": "x20",
         "showticklabels": false,
         "visible": false
        },
        "xaxis5": {
         "anchor": "y5",
         "domain": [
          0,
          0.45
         ],
         "matches": "x19",
         "showticklabels": false,
         "visible": false
        },
        "xaxis6": {
         "anchor": "y6",
         "domain": [
          0.55,
          1
         ],
         "matches": "x20",
         "showticklabels": false,
         "visible": false
        },
        "xaxis7": {
         "anchor": "y7",
         "domain": [
          0,
          0.45
         ],
         "matches": "x19",
         "showticklabels": false,
         "visible": false
        },
        "xaxis8": {
         "anchor": "y8",
         "domain": [
          0.55,
          1
         ],
         "matches": "x20",
         "showticklabels": false,
         "visible": false
        },
        "xaxis9": {
         "anchor": "y9",
         "domain": [
          0,
          0.45
         ],
         "matches": "x19",
         "showticklabels": false,
         "visible": false
        },
        "yaxis": {
         "anchor": "x",
         "domain": [
          0.9179999999999999,
          0.9999999999999999
         ],
         "visible": false
        },
        "yaxis10": {
         "anchor": "x10",
         "domain": [
          0.51,
          0.592
         ],
         "visible": false
        },
        "yaxis11": {
         "anchor": "x11",
         "domain": [
          0.40800000000000003,
          0.49000000000000005
         ],
         "visible": false
        },
        "yaxis12": {
         "anchor": "x12",
         "domain": [
          0.40800000000000003,
          0.49000000000000005
         ],
         "visible": false
        },
        "yaxis13": {
         "anchor": "x13",
         "domain": [
          0.306,
          0.388
         ],
         "visible": false
        },
        "yaxis14": {
         "anchor": "x14",
         "domain": [
          0.306,
          0.388
         ],
         "visible": false
        },
        "yaxis15": {
         "anchor": "x15",
         "domain": [
          0.20400000000000001,
          0.28600000000000003
         ],
         "visible": false
        },
        "yaxis16": {
         "anchor": "x16",
         "domain": [
          0.20400000000000001,
          0.28600000000000003
         ],
         "visible": false
        },
        "yaxis17": {
         "anchor": "x17",
         "domain": [
          0.10200000000000001,
          0.184
         ],
         "visible": false
        },
        "yaxis18": {
         "anchor": "x18",
         "domain": [
          0.10200000000000001,
          0.184
         ],
         "visible": false
        },
        "yaxis19": {
         "anchor": "x19",
         "domain": [
          0,
          0.082
         ],
         "visible": false
        },
        "yaxis2": {
         "anchor": "x2",
         "domain": [
          0.9179999999999999,
          0.9999999999999999
         ],
         "visible": false
        },
        "yaxis20": {
         "anchor": "x20",
         "domain": [
          0,
          0.082
         ],
         "visible": false
        },
        "yaxis3": {
         "anchor": "x3",
         "domain": [
          0.8160000000000001,
          0.898
         ],
         "visible": false
        },
        "yaxis4": {
         "anchor": "x4",
         "domain": [
          0.8160000000000001,
          0.898
         ],
         "visible": false
        },
        "yaxis5": {
         "anchor": "x5",
         "domain": [
          0.7140000000000001,
          0.796
         ],
         "visible": false
        },
        "yaxis6": {
         "anchor": "x6",
         "domain": [
          0.7140000000000001,
          0.796
         ],
         "visible": false
        },
        "yaxis7": {
         "anchor": "x7",
         "domain": [
          0.612,
          0.694
         ],
         "visible": false
        },
        "yaxis8": {
         "anchor": "x8",
         "domain": [
          0.612,
          0.694
         ],
         "visible": false
        },
        "yaxis9": {
         "anchor": "x9",
         "domain": [
          0.51,
          0.592
         ],
         "visible": false
        }
       }
      }
     },
     "metadata": {},
     "output_type": "display_data"
    }
   ],
   "source": [
    "#fig = render_features(model, np.s_[::2]) # every other instance    \n",
    "fig = render_features(model)\n",
    "fig.update_layout()"
   ]
  },
  {
   "cell_type": "code",
   "execution_count": 23,
   "metadata": {},
   "outputs": [
    {
     "data": {
      "text/plain": [
       "tensor([[1.0000],\n",
       "        [0.7169],\n",
       "        [0.5139],\n",
       "        [0.3684],\n",
       "        [0.2641],\n",
       "        [0.1893],\n",
       "        [0.1357],\n",
       "        [0.0973],\n",
       "        [0.0697],\n",
       "        [0.0500]], device='mps:0')"
      ]
     },
     "execution_count": 23,
     "metadata": {},
     "output_type": "execute_result"
    }
   ],
   "source": [
    "model.feature_probability"
   ]
  },
  {
   "cell_type": "code",
   "execution_count": 21,
   "metadata": {},
   "outputs": [
    {
     "data": {
      "image/png": "[encoded data removed]",
      "text/plain": [
       "<Figure size 640x480 with 5 Axes>"
      ]
     },
     "metadata": {},
     "output_type": "display_data"
    }
   ],
   "source": [
    "instance = 3\n",
    "A_all = model.A.detach().cpu()\n",
    "B_all = model.B.detach().cpu()\n",
    "A = A_all[instance]\n",
    "B = B_all[instance]\n",
    "Omega = A @ B.T\n",
    "U, S, VT = np.linalg.svd(Omega)\n",
    "W_all = model.W.detach().cpu()\n",
    "W = W_all[instance]\n",
    "import seaborn as sns\n",
    "figs, axs = plt.subplots(1, 3)\n",
    "sns.heatmap(W @ U, ax = axs[0])\n",
    "sns.heatmap(W @ VT.T, ax = axs[1])\n",
    "axs[2].bar(range(len(S)), S)\n",
    "axs[1].set_title(f'instance {instance}')\n",
    "axs[0].set_title('W @ U')\n",
    "axs[1].set_title('W @ VT.T')\n",
    "axs[2].set_title('Singular values')\n",
    "plt.suptitle(f'instance {instance}', fontsize=14, y=0.98)\n",
    "plt.tight_layout()\n",
    "\n"
   ]
  },
  {
   "cell_type": "code",
   "execution_count": 118,
   "metadata": {
    "colab": {
     "base_uri": "https://localhost:8080/",
     "height": 171
    },
    "id": "hAREurbUkji1",
    "outputId": "7b6945fc-061e-4e1a-def8-3e3c886fc10d"
   },
   "outputs": [
    {
     "ename": "ValueError",
     "evalue": "'vertices' must be 2D with shape (N, 2), but your input has shape (2, 5)",
     "output_type": "error",
     "traceback": [
      "\u001b[0;31m---------------------------------------------------------------------------\u001b[0m",
      "\u001b[0;31mValueError\u001b[0m                                Traceback (most recent call last)",
      "Cell \u001b[0;32mIn[118], line 31\u001b[0m\n\u001b[1;32m     28\u001b[0m           ax\u001b[38;5;241m.\u001b[39mspines[spine]\u001b[38;5;241m.\u001b[39mset_position(\u001b[38;5;124m'\u001b[39m\u001b[38;5;124mcenter\u001b[39m\u001b[38;5;124m'\u001b[39m)\n\u001b[1;32m     29\u001b[0m   plt\u001b[38;5;241m.\u001b[39mshow()\n\u001b[0;32m---> 31\u001b[0m plot_intro_diagram(model)\n",
      "Cell \u001b[0;32mIn[118], line 17\u001b[0m, in \u001b[0;36mplot_intro_diagram\u001b[0;34m(model)\u001b[0m\n\u001b[1;32m     15\u001b[0m ax\u001b[38;5;241m.\u001b[39mscatter(W[:,\u001b[38;5;241m0\u001b[39m], W[:,\u001b[38;5;241m1\u001b[39m], c\u001b[38;5;241m=\u001b[39mcolors[\u001b[38;5;241m0\u001b[39m:\u001b[38;5;28mlen\u001b[39m(W[:,\u001b[38;5;241m0\u001b[39m])])\n\u001b[1;32m     16\u001b[0m ax\u001b[38;5;241m.\u001b[39mset_aspect(\u001b[38;5;124m'\u001b[39m\u001b[38;5;124mequal\u001b[39m\u001b[38;5;124m'\u001b[39m)\n\u001b[0;32m---> 17\u001b[0m ax\u001b[38;5;241m.\u001b[39madd_collection(mc\u001b[38;5;241m.\u001b[39mLineCollection(np\u001b[38;5;241m.\u001b[39mstack((np\u001b[38;5;241m.\u001b[39mzeros_like(W),W), axis\u001b[38;5;241m=\u001b[39m\u001b[38;5;241m1\u001b[39m), colors\u001b[38;5;241m=\u001b[39mcolors))\n\u001b[1;32m     19\u001b[0m z \u001b[38;5;241m=\u001b[39m \u001b[38;5;241m1.5\u001b[39m\n\u001b[1;32m     20\u001b[0m ax\u001b[38;5;241m.\u001b[39mset_facecolor(\u001b[38;5;124m'\u001b[39m\u001b[38;5;124m#FCFBF8\u001b[39m\u001b[38;5;124m'\u001b[39m)\n",
      "File \u001b[0;32m~/miniconda3/envs/torch/lib/python3.12/site-packages/matplotlib/collections.py:1396\u001b[0m, in \u001b[0;36mLineCollection.__init__\u001b[0;34m(self, segments, zorder, **kwargs)\u001b[0m\n\u001b[1;32m   1392\u001b[0m kwargs\u001b[38;5;241m.\u001b[39msetdefault(\u001b[38;5;124m'\u001b[39m\u001b[38;5;124mfacecolors\u001b[39m\u001b[38;5;124m'\u001b[39m, \u001b[38;5;124m'\u001b[39m\u001b[38;5;124mnone\u001b[39m\u001b[38;5;124m'\u001b[39m)\n\u001b[1;32m   1393\u001b[0m \u001b[38;5;28msuper\u001b[39m()\u001b[38;5;241m.\u001b[39m\u001b[38;5;21m__init__\u001b[39m(\n\u001b[1;32m   1394\u001b[0m     zorder\u001b[38;5;241m=\u001b[39mzorder,\n\u001b[1;32m   1395\u001b[0m     \u001b[38;5;241m*\u001b[39m\u001b[38;5;241m*\u001b[39mkwargs)\n\u001b[0;32m-> 1396\u001b[0m \u001b[38;5;28mself\u001b[39m\u001b[38;5;241m.\u001b[39mset_segments(segments)\n",
      "File \u001b[0;32m~/miniconda3/envs/torch/lib/python3.12/site-packages/matplotlib/collections.py:1403\u001b[0m, in \u001b[0;36mLineCollection.set_segments\u001b[0;34m(self, segments)\u001b[0m\n\u001b[1;32m   1399\u001b[0m \u001b[38;5;28;01mif\u001b[39;00m segments \u001b[38;5;129;01mis\u001b[39;00m \u001b[38;5;28;01mNone\u001b[39;00m:\n\u001b[1;32m   1400\u001b[0m     \u001b[38;5;28;01mreturn\u001b[39;00m\n\u001b[1;32m   1402\u001b[0m \u001b[38;5;28mself\u001b[39m\u001b[38;5;241m.\u001b[39m_paths \u001b[38;5;241m=\u001b[39m [mpath\u001b[38;5;241m.\u001b[39mPath(seg) \u001b[38;5;28;01mif\u001b[39;00m \u001b[38;5;28misinstance\u001b[39m(seg, np\u001b[38;5;241m.\u001b[39mma\u001b[38;5;241m.\u001b[39mMaskedArray)\n\u001b[0;32m-> 1403\u001b[0m                \u001b[38;5;28;01melse\u001b[39;00m mpath\u001b[38;5;241m.\u001b[39mPath(np\u001b[38;5;241m.\u001b[39masarray(seg, \u001b[38;5;28mfloat\u001b[39m))\n\u001b[1;32m   1404\u001b[0m                \u001b[38;5;28;01mfor\u001b[39;00m seg \u001b[38;5;129;01min\u001b[39;00m segments]\n\u001b[1;32m   1405\u001b[0m \u001b[38;5;28mself\u001b[39m\u001b[38;5;241m.\u001b[39mstale \u001b[38;5;241m=\u001b[39m \u001b[38;5;28;01mTrue\u001b[39;00m\n",
      "File \u001b[0;32m~/miniconda3/envs/torch/lib/python3.12/site-packages/matplotlib/path.py:130\u001b[0m, in \u001b[0;36mPath.__init__\u001b[0;34m(self, vertices, codes, _interpolation_steps, closed, readonly)\u001b[0m\n\u001b[1;32m    101\u001b[0m \u001b[38;5;250m\u001b[39m\u001b[38;5;124;03m\"\"\"\u001b[39;00m\n\u001b[1;32m    102\u001b[0m \u001b[38;5;124;03mCreate a new path with the given vertices and codes.\u001b[39;00m\n\u001b[1;32m    103\u001b[0m \n\u001b[0;32m   (...)\u001b[0m\n\u001b[1;32m    127\u001b[0m \u001b[38;5;124;03m    and codes as read-only arrays.\u001b[39;00m\n\u001b[1;32m    128\u001b[0m \u001b[38;5;124;03m\"\"\"\u001b[39;00m\n\u001b[1;32m    129\u001b[0m vertices \u001b[38;5;241m=\u001b[39m _to_unmasked_float_array(vertices)\n\u001b[0;32m--> 130\u001b[0m _api\u001b[38;5;241m.\u001b[39mcheck_shape((\u001b[38;5;28;01mNone\u001b[39;00m, \u001b[38;5;241m2\u001b[39m), vertices\u001b[38;5;241m=\u001b[39mvertices)\n\u001b[1;32m    132\u001b[0m \u001b[38;5;28;01mif\u001b[39;00m codes \u001b[38;5;129;01mis\u001b[39;00m \u001b[38;5;129;01mnot\u001b[39;00m \u001b[38;5;28;01mNone\u001b[39;00m:\n\u001b[1;32m    133\u001b[0m     codes \u001b[38;5;241m=\u001b[39m np\u001b[38;5;241m.\u001b[39masarray(codes, \u001b[38;5;28mself\u001b[39m\u001b[38;5;241m.\u001b[39mcode_type)\n",
      "File \u001b[0;32m~/miniconda3/envs/torch/lib/python3.12/site-packages/matplotlib/_api/__init__.py:161\u001b[0m, in \u001b[0;36mcheck_shape\u001b[0;34m(shape, **kwargs)\u001b[0m\n\u001b[1;32m    158\u001b[0m \u001b[38;5;28;01mif\u001b[39;00m \u001b[38;5;28mlen\u001b[39m(shape) \u001b[38;5;241m==\u001b[39m \u001b[38;5;241m1\u001b[39m:\n\u001b[1;32m    159\u001b[0m     text_shape \u001b[38;5;241m+\u001b[39m\u001b[38;5;241m=\u001b[39m \u001b[38;5;124m\"\u001b[39m\u001b[38;5;124m,\u001b[39m\u001b[38;5;124m\"\u001b[39m\n\u001b[0;32m--> 161\u001b[0m \u001b[38;5;28;01mraise\u001b[39;00m \u001b[38;5;167;01mValueError\u001b[39;00m(\n\u001b[1;32m    162\u001b[0m     \u001b[38;5;124mf\u001b[39m\u001b[38;5;124m\"\u001b[39m\u001b[38;5;132;01m{\u001b[39;00mk\u001b[38;5;132;01m!r}\u001b[39;00m\u001b[38;5;124m must be \u001b[39m\u001b[38;5;132;01m{\u001b[39;00m\u001b[38;5;28mlen\u001b[39m(shape)\u001b[38;5;132;01m}\u001b[39;00m\u001b[38;5;124mD with shape (\u001b[39m\u001b[38;5;132;01m{\u001b[39;00mtext_shape\u001b[38;5;132;01m}\u001b[39;00m\u001b[38;5;124m), \u001b[39m\u001b[38;5;124m\"\u001b[39m\n\u001b[1;32m    163\u001b[0m     \u001b[38;5;124mf\u001b[39m\u001b[38;5;124m\"\u001b[39m\u001b[38;5;124mbut your input has shape \u001b[39m\u001b[38;5;132;01m{\u001b[39;00mv\u001b[38;5;241m.\u001b[39mshape\u001b[38;5;132;01m}\u001b[39;00m\u001b[38;5;124m\"\u001b[39m\n\u001b[1;32m    164\u001b[0m )\n",
      "\u001b[0;31mValueError\u001b[0m: 'vertices' must be 2D with shape (N, 2), but your input has shape (2, 5)"
     ]
    },
    {
     "data": {
      "image/png": "[encoded data removed]",
      "text/plain": [
       "<Figure size 4000x400 with 10 Axes>"
      ]
     },
     "metadata": {},
     "output_type": "display_data"
    }
   ],
   "source": [
    "def plot_intro_diagram(model):\n",
    "  from matplotlib import colors  as mcolors\n",
    "  from matplotlib import collections  as mc\n",
    "  cfg = model.config\n",
    "  WA = model.W.detach()\n",
    "  N = len(WA[:,0])\n",
    "  sel = range(config.n_instances) # can be used to highlight specific sparsity levels\n",
    "  plt.rcParams[\"axes.prop_cycle\"] = plt.cycler(\"color\", plt.cm.viridis(model.importance[0].cpu().numpy()))\n",
    "  plt.rcParams['figure.dpi'] = 200\n",
    "  fig, axs = plt.subplots(1,len(sel), figsize=(2*len(sel),2))\n",
    "  for i, ax in zip(sel, axs):\n",
    "      W = WA[i].cpu().detach().numpy()\n",
    "      colors = [mcolors.to_rgba(c)\n",
    "            for c in plt.rcParams['axes.prop_cycle'].by_key()['color']]\n",
    "      ax.scatter(W[:,0], W[:,1], c=colors[0:len(W[:,0])])\n",
    "      ax.set_aspect('equal')\n",
    "      ax.add_collection(mc.LineCollection(np.stack((np.zeros_like(W),W), axis=1), colors=colors))\n",
    "      \n",
    "      z = 1.5\n",
    "      ax.set_facecolor('#FCFBF8')\n",
    "      ax.set_xlim((-z,z))\n",
    "      ax.set_ylim((-z,z))\n",
    "      ax.tick_params(left = True, right = False , labelleft = False ,\n",
    "                  labelbottom = False, bottom = True)\n",
    "      for spine in ['top', 'right']:\n",
    "          ax.spines[spine].set_visible(False)\n",
    "      for spine in ['bottom','left']:\n",
    "          ax.spines[spine].set_position('center')\n",
    "  plt.show()\n",
    "\n",
    "plot_intro_diagram(model)"
   ]
  },
  {
   "cell_type": "code",
   "execution_count": 63,
   "metadata": {},
   "outputs": [
    {
     "data": {
      "text/plain": [
       "<Axes: >"
      ]
     },
     "execution_count": 63,
     "metadata": {},
     "output_type": "execute_result"
    },
    {
     "data": {
      "image/png": "[encoded data removed]",
      "text/plain": [
       "<Figure size 1280x960 with 2 Axes>"
      ]
     },
     "metadata": {},
     "output_type": "display_data"
    }
   ],
   "source": [
    "sns.heatmap(W@W.T)"
   ]
  },
  {
   "cell_type": "markdown",
   "metadata": {
    "id": "qDIgjx2GAQNx"
   },
   "source": [
    "# Feature geometry"
   ]
  },
  {
   "cell_type": "code",
   "execution_count": 13,
   "metadata": {
    "id": "ECrtk9nJARlX"
   },
   "outputs": [],
   "source": [
    "config = Config(\n",
    "    n_features = 200,\n",
    "    n_hidden = 20,\n",
    "    n_instances = 20,\n",
    ")\n",
    "\n",
    "model = Model(\n",
    "    config=config,\n",
    "    device=DEVICE,\n",
    "    # For this experiment, use constant importance.\n",
    "\n",
    "    # Sweep feature frequency across the instances from 1 (fully dense) to 1/20\n",
    "    feature_probability = (20 ** -torch.linspace(0, 1, config.n_instances))[:, None]\n",
    ")"
   ]
  },
  {
   "cell_type": "code",
   "execution_count": 14,
   "metadata": {
    "colab": {
     "base_uri": "https://localhost:8080/",
     "height": 49,
     "referenced_widgets": [
      "05371493fb394d60ab276fe17488213f",
      "b6e1e2a2329148d68a709571e016b858",
      "f5fb761ec6de404398f5517e21e0d46b",
      "081fd85ccb724b2c98366620a747b77b",
      "dc421acdf45149fd87cd81d56e9031cd",
      "b73d37d18a7e4577bcfa8c2aec321eb1",
      "d7bc2f21dd294f52a0243ca35aadeb22",
      "a79a0479d88e4d3eb77b108bbc874e09",
      "cb347c5ce6694bfb92919a5593cc7049",
      "0d65324158214bb8b73f3cc13e461be4",
      "3f0aa91dd60a45a292c2b52cfbbce8fa"
     ]
    },
    "id": "5DNkKnDKARlY",
    "outputId": "51545170-22b6-4978-8e7b-a14a1b3f2430"
   },
   "outputs": [
    {
     "data": {
      "application/vnd.jupyter.widget-view+json": {
       "model_id": "3fe9b7f3bf3a4787a4b611e952307570",
       "version_major": 2,
       "version_minor": 0
      },
      "text/plain": [
       "  0%|          | 0/10000 [00:00<?, ?it/s]"
      ]
     },
     "metadata": {},
     "output_type": "display_data"
    }
   ],
   "source": [
    "optimize(model)"
   ]
  },
  {
   "cell_type": "code",
   "execution_count": 15,
   "metadata": {
    "colab": {
     "base_uri": "https://localhost:8080/",
     "height": 542
    },
    "id": "qFPKm2ObAfre",
    "outputId": "e8ddef72-5765-493d-d9dd-dbe0e7ee57f1"
   },
   "outputs": [
    {
     "data": {
      "application/vnd.plotly.v1+json": {
       "config": {
        "plotlyServerURL": "https://plot.ly"
       },
       "data": [
        {
         "hovertemplate": "x=%{x}<br>y=%{y}<extra></extra>",
         "legendgroup": "",
         "line": {
          "color": "#636efa",
          "dash": "solid"
         },
         "marker": {
          "symbol": "circle"
         },
         "mode": "lines+markers",
         "name": "",
         "orientation": "v",
         "showlegend": false,
         "type": "scatter",
         "x": {
          "bdata": "AACAPx3clT/wc68/rWrNP21/8D/0yAxABtQkQEL6QEAr72FAeEKEQNHYmkCrSrVArUDUQEyA+EBXeBFBPFAqQUpmR0H3c2lBOqmIQQAAoEE=",
          "dtype": "f4"
         },
         "xaxis": "x",
         "y": {
          "bdata": "VHeAPyAPgD+bkHI/RxFYP+n0GD+ExAY/Zq4CPz9DAT9JoAA/pRbqPqQxvD4cVq0+ItaWPkXFhT54LnM+MeBUPt9nPD7pZis+5dcaPtYXCz4=",
          "dtype": "f4"
         },
         "yaxis": "y"
        }
       ],
       "layout": {
        "legend": {
         "tracegroupgap": 0
        },
        "margin": {
         "t": 60
        },
        "template": {
         "data": {
          "bar": [
           {
            "error_x": {
             "color": "#2a3f5f"
            },
            "error_y": {
             "color": "#2a3f5f"
            },
            "marker": {
             "line": {
              "color": "#E5ECF6",
              "width": 0.5
             },
             "pattern": {
              "fillmode": "overlay",
              "size": 10,
              "solidity": 0.2
             }
            },
            "type": "bar"
           }
          ],
          "barpolar": [
           {
            "marker": {
             "line": {
              "color": "#E5ECF6",
              "width": 0.5
             },
             "pattern": {
              "fillmode": "overlay",
              "size": 10,
              "solidity": 0.2
             }
            },
            "type": "barpolar"
           }
          ],
          "carpet": [
           {
            "aaxis": {
             "endlinecolor": "#2a3f5f",
             "gridcolor": "white",
             "linecolor": "white",
             "minorgridcolor": "white",
             "startlinecolor": "#2a3f5f"
            },
            "baxis": {
             "endlinecolor": "#2a3f5f",
             "gridcolor": "white",
             "linecolor": "white",
             "minorgridcolor": "white",
             "startlinecolor": "#2a3f5f"
            },
            "type": "carpet"
           }
          ],
          "choropleth": [
           {
            "colorbar": {
             "outlinewidth": 0,
             "ticks": ""
            },
            "type": "choropleth"
           }
          ],
          "contour": [
           {
            "colorbar": {
             "outlinewidth": 0,
             "ticks": ""
            },
            "colorscale": [
             [
              0,
              "#0d0887"
             ],
             [
              0.1111111111111111,
              "#46039f"
             ],
             [
              0.2222222222222222,
              "#7201a8"
             ],
             [
              0.3333333333333333,
              "#9c179e"
             ],
             [
              0.4444444444444444,
              "#bd3786"
             ],
             [
              0.5555555555555556,
              "#d8576b"
             ],
             [
              0.6666666666666666,
              "#ed7953"
             ],
             [
              0.7777777777777778,
              "#fb9f3a"
             ],
             [
              0.8888888888888888,
              "#fdca26"
             ],
             [
              1,
              "#f0f921"
             ]
            ],
            "type": "contour"
           }
          ],
          "contourcarpet": [
           {
            "colorbar": {
             "outlinewidth": 0,
             "ticks": ""
            },
            "type": "contourcarpet"
           }
          ],
          "heatmap": [
           {
            "colorbar": {
             "outlinewidth": 0,
             "ticks": ""
            },
            "colorscale": [
             [
              0,
              "#0d0887"
             ],
             [
              0.1111111111111111,
              "#46039f"
             ],
             [
              0.2222222222222222,
              "#7201a8"
             ],
             [
              0.3333333333333333,
              "#9c179e"
             ],
             [
              0.4444444444444444,
              "#bd3786"
             ],
             [
              0.5555555555555556,
              "#d8576b"
             ],
             [
              0.6666666666666666,
              "#ed7953"
             ],
             [
              0.7777777777777778,
              "#fb9f3a"
             ],
             [
              0.8888888888888888,
              "#fdca26"
             ],
             [
              1,
              "#f0f921"
             ]
            ],
            "type": "heatmap"
           }
          ],
          "histogram": [
           {
            "marker": {
             "pattern": {
              "fillmode": "overlay",
              "size": 10,
              "solidity": 0.2
             }
            },
            "type": "histogram"
           }
          ],
          "histogram2d": [
           {
            "colorbar": {
             "outlinewidth": 0,
             "ticks": ""
            },
            "colorscale": [
             [
              0,
              "#0d0887"
             ],
             [
              0.1111111111111111,
              "#46039f"
             ],
             [
              0.2222222222222222,
              "#7201a8"
             ],
             [
              0.3333333333333333,
              "#9c179e"
             ],
             [
              0.4444444444444444,
              "#bd3786"
             ],
             [
              0.5555555555555556,
              "#d8576b"
             ],
             [
              0.6666666666666666,
              "#ed7953"
             ],
             [
              0.7777777777777778,
              "#fb9f3a"
             ],
             [
              0.8888888888888888,
              "#fdca26"
             ],
             [
              1,
              "#f0f921"
             ]
            ],
            "type": "histogram2d"
           }
          ],
          "histogram2dcontour": [
           {
            "colorbar": {
             "outlinewidth": 0,
             "ticks": ""
            },
            "colorscale": [
             [
              0,
              "#0d0887"
             ],
             [
              0.1111111111111111,
              "#46039f"
             ],
             [
              0.2222222222222222,
              "#7201a8"
             ],
             [
              0.3333333333333333,
              "#9c179e"
             ],
             [
              0.4444444444444444,
              "#bd3786"
             ],
             [
              0.5555555555555556,
              "#d8576b"
             ],
             [
              0.6666666666666666,
              "#ed7953"
             ],
             [
              0.7777777777777778,
              "#fb9f3a"
             ],
             [
              0.8888888888888888,
              "#fdca26"
             ],
             [
              1,
              "#f0f921"
             ]
            ],
            "type": "histogram2dcontour"
           }
          ],
          "mesh3d": [
           {
            "colorbar": {
             "outlinewidth": 0,
             "ticks": ""
            },
            "type": "mesh3d"
           }
          ],
          "parcoords": [
           {
            "line": {
             "colorbar": {
              "outlinewidth": 0,
              "ticks": ""
             }
            },
            "type": "parcoords"
           }
          ],
          "pie": [
           {
            "automargin": true,
            "type": "pie"
           }
          ],
          "scatter": [
           {
            "fillpattern": {
             "fillmode": "overlay",
             "size": 10,
             "solidity": 0.2
            },
            "type": "scatter"
           }
          ],
          "scatter3d": [
           {
            "line": {
             "colorbar": {
              "outlinewidth": 0,
              "ticks": ""
             }
            },
            "marker": {
             "colorbar": {
              "outlinewidth": 0,
              "ticks": ""
             }
            },
            "type": "scatter3d"
           }
          ],
          "scattercarpet": [
           {
            "marker": {
             "colorbar": {
              "outlinewidth": 0,
              "ticks": ""
             }
            },
            "type": "scattercarpet"
           }
          ],
          "scattergeo": [
           {
            "marker": {
             "colorbar": {
              "outlinewidth": 0,
              "ticks": ""
             }
            },
            "type": "scattergeo"
           }
          ],
          "scattergl": [
           {
            "marker": {
             "colorbar": {
              "outlinewidth": 0,
              "ticks": ""
             }
            },
            "type": "scattergl"
           }
          ],
          "scattermap": [
           {
            "marker": {
             "colorbar": {
              "outlinewidth": 0,
              "ticks": ""
             }
            },
            "type": "scattermap"
           }
          ],
          "scattermapbox": [
           {
            "marker": {
             "colorbar": {
              "outlinewidth": 0,
              "ticks": ""
             }
            },
            "type": "scattermapbox"
           }
          ],
          "scatterpolar": [
           {
            "marker": {
             "colorbar": {
              "outlinewidth": 0,
              "ticks": ""
             }
            },
            "type": "scatterpolar"
           }
          ],
          "scatterpolargl": [
           {
            "marker": {
             "colorbar": {
              "outlinewidth": 0,
              "ticks": ""
             }
            },
            "type": "scatterpolargl"
           }
          ],
          "scatterternary": [
           {
            "marker": {
             "colorbar": {
              "outlinewidth": 0,
              "ticks": ""
             }
            },
            "type": "scatterternary"
           }
          ],
          "surface": [
           {
            "colorbar": {
             "outlinewidth": 0,
             "ticks": ""
            },
            "colorscale": [
             [
              0,
              "#0d0887"
             ],
             [
              0.1111111111111111,
              "#46039f"
             ],
             [
              0.2222222222222222,
              "#7201a8"
             ],
             [
              0.3333333333333333,
              "#9c179e"
             ],
             [
              0.4444444444444444,
              "#bd3786"
             ],
             [
              0.5555555555555556,
              "#d8576b"
             ],
             [
              0.6666666666666666,
              "#ed7953"
             ],
             [
              0.7777777777777778,
              "#fb9f3a"
             ],
             [
              0.8888888888888888,
              "#fdca26"
             ],
             [
              1,
              "#f0f921"
             ]
            ],
            "type": "surface"
           }
          ],
          "table": [
           {
            "cells": {
             "fill": {
              "color": "#EBF0F8"
             },
             "line": {
              "color": "white"
             }
            },
            "header": {
             "fill": {
              "color": "#C8D4E3"
             },
             "line": {
              "color": "white"
             }
            },
            "type": "table"
           }
          ]
         },
         "layout": {
          "annotationdefaults": {
           "arrowcolor": "#2a3f5f",
           "arrowhead": 0,
           "arrowwidth": 1
          },
          "autotypenumbers": "strict",
          "coloraxis": {
           "colorbar": {
            "outlinewidth": 0,
            "ticks": ""
           }
          },
          "colorscale": {
           "diverging": [
            [
             0,
             "#8e0152"
            ],
            [
             0.1,
             "#c51b7d"
            ],
            [
             0.2,
             "#de77ae"
            ],
            [
             0.3,
             "#f1b6da"
            ],
            [
             0.4,
             "#fde0ef"
            ],
            [
             0.5,
             "#f7f7f7"
            ],
            [
             0.6,
             "#e6f5d0"
            ],
            [
             0.7,
             "#b8e186"
            ],
            [
             0.8,
             "#7fbc41"
            ],
            [
             0.9,
             "#4d9221"
            ],
            [
             1,
             "#276419"
            ]
           ],
           "sequential": [
            [
             0,
             "#0d0887"
            ],
            [
             0.1111111111111111,
             "#46039f"
            ],
            [
             0.2222222222222222,
             "#7201a8"
            ],
            [
             0.3333333333333333,
             "#9c179e"
            ],
            [
             0.4444444444444444,
             "#bd3786"
            ],
            [
             0.5555555555555556,
             "#d8576b"
            ],
            [
             0.6666666666666666,
             "#ed7953"
            ],
            [
             0.7777777777777778,
             "#fb9f3a"
            ],
            [
             0.8888888888888888,
             "#fdca26"
            ],
            [
             1,
             "#f0f921"
            ]
           ],
           "sequentialminus": [
            [
             0,
             "#0d0887"
            ],
            [
             0.1111111111111111,
             "#46039f"
            ],
            [
             0.2222222222222222,
             "#7201a8"
            ],
            [
             0.3333333333333333,
             "#9c179e"
            ],
            [
             0.4444444444444444,
             "#bd3786"
            ],
            [
             0.5555555555555556,
             "#d8576b"
            ],
            [
             0.6666666666666666,
             "#ed7953"
            ],
            [
             0.7777777777777778,
             "#fb9f3a"
            ],
            [
             0.8888888888888888,
             "#fdca26"
            ],
            [
             1,
             "#f0f921"
            ]
           ]
          },
          "colorway": [
           "#636efa",
           "#EF553B",
           "#00cc96",
           "#ab63fa",
           "#FFA15A",
           "#19d3f3",
           "#FF6692",
           "#B6E880",
           "#FF97FF",
           "#FECB52"
          ],
          "font": {
           "color": "#2a3f5f"
          },
          "geo": {
           "bgcolor": "white",
           "lakecolor": "white",
           "landcolor": "#E5ECF6",
           "showlakes": true,
           "showland": true,
           "subunitcolor": "white"
          },
          "hoverlabel": {
           "align": "left"
          },
          "hovermode": "closest",
          "mapbox": {
           "style": "light"
          },
          "paper_bgcolor": "white",
          "plot_bgcolor": "#E5ECF6",
          "polar": {
           "angularaxis": {
            "gridcolor": "white",
            "linecolor": "white",
            "ticks": ""
           },
           "bgcolor": "#E5ECF6",
           "radialaxis": {
            "gridcolor": "white",
            "linecolor": "white",
            "ticks": ""
           }
          },
          "scene": {
           "xaxis": {
            "backgroundcolor": "#E5ECF6",
            "gridcolor": "white",
            "gridwidth": 2,
            "linecolor": "white",
            "showbackground": true,
            "ticks": "",
            "zerolinecolor": "white"
           },
           "yaxis": {
            "backgroundcolor": "#E5ECF6",
            "gridcolor": "white",
            "gridwidth": 2,
            "linecolor": "white",
            "showbackground": true,
            "ticks": "",
            "zerolinecolor": "white"
           },
           "zaxis": {
            "backgroundcolor": "#E5ECF6",
            "gridcolor": "white",
            "gridwidth": 2,
            "linecolor": "white",
            "showbackground": true,
            "ticks": "",
            "zerolinecolor": "white"
           }
          },
          "shapedefaults": {
           "line": {
            "color": "#2a3f5f"
           }
          },
          "ternary": {
           "aaxis": {
            "gridcolor": "white",
            "linecolor": "white",
            "ticks": ""
           },
           "baxis": {
            "gridcolor": "white",
            "linecolor": "white",
            "ticks": ""
           },
           "bgcolor": "#E5ECF6",
           "caxis": {
            "gridcolor": "white",
            "linecolor": "white",
            "ticks": ""
           }
          },
          "title": {
           "x": 0.05
          },
          "xaxis": {
           "automargin": true,
           "gridcolor": "white",
           "linecolor": "white",
           "ticks": "",
           "title": {
            "standoff": 15
           },
           "zerolinecolor": "white",
           "zerolinewidth": 2
          },
          "yaxis": {
           "automargin": true,
           "gridcolor": "white",
           "linecolor": "white",
           "ticks": "",
           "title": {
            "standoff": 15
           },
           "zerolinecolor": "white",
           "zerolinewidth": 2
          }
         }
        },
        "xaxis": {
         "anchor": "y",
         "domain": [
          0,
          1
         ],
         "title": {
          "text": "1/(1-S)"
         },
         "type": "log"
        },
        "yaxis": {
         "anchor": "x",
         "domain": [
          0,
          1
         ],
         "title": {
          "text": "m/||W||_F^2"
         }
        }
       }
      }
     },
     "metadata": {},
     "output_type": "display_data"
    }
   ],
   "source": [
    "fig = px.line(\n",
    "    x=1/model.feature_probability[:, 0].cpu(),\n",
    "    y=(model.config.n_hidden/(torch.linalg.matrix_norm(model.W.detach(), 'fro')**2)).cpu(),\n",
    "    log_x=True,\n",
    "    markers=True,\n",
    ")\n",
    "fig.update_xaxes(title=\"1/(1-S)\")\n",
    "fig.update_yaxes(title=f\"m/||W||_F^2\")"
   ]
  },
  {
   "cell_type": "code",
   "execution_count": 16,
   "metadata": {
    "id": "m1gNMKCqA6EO"
   },
   "outputs": [],
   "source": [
    "@torch.no_grad()\n",
    "def compute_dimensionality(W):\n",
    "  norms = torch.linalg.norm(W, 2, dim=-1) \n",
    "  W_unit = W / torch.clamp(norms[:, :, None], 1e-6, float('inf'))\n",
    "\n",
    "  interferences = (torch.einsum('eah,ebh->eab', W_unit, W)**2).sum(-1)\n",
    "\n",
    "  dim_fracs = (norms**2/interferences)\n",
    "  return dim_fracs.cpu()"
   ]
  },
  {
   "cell_type": "code",
   "execution_count": 17,
   "metadata": {
    "id": "3OfjWWC9BDlv"
   },
   "outputs": [],
   "source": [
    "dim_fracs = compute_dimensionality(model.W)"
   ]
  },
  {
   "cell_type": "code",
   "execution_count": 18,
   "metadata": {
    "colab": {
     "base_uri": "https://localhost:8080/",
     "height": 542
    },
    "id": "DTWEr8pHBGCf",
    "outputId": "1c89b231-8539-4c5a-a599-a647ee9c1430"
   },
   "outputs": [
    {
     "data": {
      "application/vnd.plotly.v1+json": {
       "config": {
        "plotlyServerURL": "https://plot.ly"
       },
       "data": [
        {
         "marker": {
          "color": "black",
          "opacity": 0.5,
          "size": 1
         },
         "mode": "markers",
         "type": "scatter",
         "x": {
          "bdata": "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",
          "dtype": "f8"
         },
         "y": {
          "bdata": "IUsRPnK/+z0lheo9ivAaPgSneD3OsYU9vFGbPdQ6sD2Ke4k9ZN7NPW8Phz3yyeQ99JFvPWzNsz1Jwa49oqLTPROAtD2Jj9s9x4IKPs+TRT6p7FM959bJPa67pT3gMZs9dur0PamPhD2O/NA97o4SPkH14j0qoMA9U6WrPV2zAD5ocdg90ZQIPiv16j1FRxc+uzOCPUFnnT1Bbqk9BF6gPYhd9D0Af2A9M7fFPbbpbj38wbs9B48FPnz0hz03bWQ9nZgDPlqAvz205w4+hRJlPa/2WT24hKU9/HKzPftBvD0vzD09CaU+PSHypT2bD4Q97FGrPbRBiz0yxb89TtkuPmIs/j3bqcc9+6gVPiZpGD54FU8+XhGXPWLLyD3Id+Q9A16/PSUVyj2kmMo980/9PY+T7j1fwpE9+ODBPVFUbz2i1Mo9D5jHPba+iz0j3PE9STuTPRfC9z2+UeA9gU7QPVpZ+D0FF9g9UfT7PR+5TT5C5r891t7WPb8PGz7Jpew9mp10Pd47hD3AopI92IHZPSCEvz26+LA9dYl+PSKe5j1z8bs9Au9iPZVXOz0xFoI9TDu/PeTo2T0jhuc9itXbPZ17Cj5/wbw9u1mAPf3K5T1mxPE9Diu7PSeMuT2J/7Q91rcBPmfFUj6jqw0+ZRDbPbOIlD2IKaE9fr3yPbUBNT5S89s9iJ4RPo5y7j0zI7E9N1mVPa0aCz5uR209WPkYPq+5tT0U7tM9OxWZPSsS+D2JN8Y9CV8JPhmkyT38+rY9KcrEPXpPez0U0tQ94iy6Paf0pT3q9OI9SLOxPTqHsj0E4M89z0wLPq0Zyj3sKIw9A/nDPT1yyT0AG989vVCqPdm+6z3qYpQ9Wp4KPs4Vtz0k93Y9lUKKPQPWmT11Dpk9EzX9PWuzRD4KPMc9QbyqPUPVeD3AmtQ9iseKPV9VEj77Pw0+hJaXPXEIJz6hn0Y9c1GNPWNRaj1NZuY9237xPa0kVD5bN6s9F0isPbzWCD57rpY97T3PPa5S0z2wOvc9JeYgPntSqj0ZQr09ydW0Pc1v7z0c8Qs+eiOuPQoXbD0=",
          "dtype": "f4"
         }
        },
        {
         "marker": {
          "color": "black",
          "opacity": 0.5,
          "size": 1
         },
         "mode": "markers",
         "type": "scatter",
         "x": {
          "bdata": "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",
          "dtype": "f8"
         },
         "y": {
          "bdata": "Sxt8PcAYID4wTeU9boywPbvOBT5bdMI9GFTvPVJRAD5xY609wBfaPVbJJj7KgG8+T4CZPRaxtT1/8cU9yOr9PVsY3j1Ln2g91e5ZPdDR6j3mEcI9NFH5PY90BT6cAsA9X6PTPS2MRT0KeEw+eO93PTnz6z2/aQQ+e/IEPlJgtz2tppU9NrSSPXwaAj6W7QA+D1iNPbSG2D23aZs9JmuvPTnsnz2lf4s9uH61PRm+jT3RDYI9bkvdPSICaj0KJZk9ZyCRPSNz3D31c1U+POWFPWGcoD3RSbw9TfinPYexnz3anek9mSuOPRgB2D1z/AI+BuqtPTgi0j1GgZA9SqgOPno0hT0ldn09t+9/PStNrj0BPoo9vX2LPQz9RT17zpU9/GwIPi9Gnj31iME9Yc2VPZmLED7CZwc+QPy2PTcFHD63apQ9cIHNPc8mfT30E089BsC7PYAJcD08+Jw9ViYoPSuLKD6jJ4E9poW7PaTlBz7mg6U92JMLPiP5sj0sQZo9VeF5Pf9Lxz3UM9g99TRYPVOf2T1S+709+uHwPXbktz3Mco896P0xPV4TQD4ROeA90yVhPevZwD2zl809y7ozPkRoAT5m5XQ95pjVPTzFaj2AWYs9SvzqPdqFLz1ZEYE+1NSPPcHSiD3W1s891CIaPV9mbT3ljos91lGCPU7Ohz1eG4E9c/KXPa6Csz1QY6I9wOQMPhe9nT2Z5Y89MwoSP6jrsz2JX5U9Sz7GPbGxeT3hudE9EE+kPeBQ4T0fppI9rMOMPezBYj31A6o93hQYPk2j9T1tt6E98ieIPYDKOz3R5J49perBPTmLhj1IcNQ9c4LuPQ0xoD0m09I98iO6PT3Y0z2R1IE9sd6YPWJF2T022tc9uuMLPtnR0T1oVQk+fLcIPcY7Yz1qloY9ZojpPVQ/bz7ekQY+mf2XPU2Loz3b7fg9PCKEPS539z1183w9mteuPb50nD1w0N49adXfPQ2Niz0ajSM+c/jfPZ3MKz4PLPU9ZEVhPReJgz3WbSY+qlMUPnnf8j1RLa89o/3kPv7aWD4bOKg91vTePaGr8D0=",
          "dtype": "f4"
         }
        },
        {
         "marker": {
          "color": "black",
          "opacity": 0.5,
          "size": 1
         },
         "mode": "markers",
         "type": "scatter",
         "x": {
          "bdata": "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",
          "dtype": "f8"
         },
         "y": {
          "bdata": "xFtzPbemPT28AKY9HVpgPVLJHz1WXj09HS0yP+o6mD3v9/A8qp2PPX63lzyh/Eg9tUuFPA/+Sj2X0VU9OToXPYjbyT07zjM/WWHkPKZXhT0zgYg9VzL6PGY5Gj086GI9+Mj+PLouTT2wb5w8Zj8oPcdRzzyNnxg9af9MPQ3aED2YDgo9Oz9uPQq+xz3aC609faH8PGKzwDwDznw+K7s1PZGJIj0JMCo9diZAPYWUDD1E1eM8Hh1YPUzCaj3Z6b48xpU1Pe+zMj378r48txHjPAcUID3k1q89zcrYPIyDNj27Dhg90TCOPX7isjxDpjw9rBooPXFIyDz99dQ+gStMPYYWMj0qwlc93owZPfGlMj+BqE89IikSPS6JID1NcTI/h4FMPRkuBj2wjpc9Cc1dPRNRNj34kk49DDIUPUOePj3RLuA8ClIuPx20Bz0vzKs963esPGSZ1DzvMjQ9RTBtPWZBST32/3I9j5oOPbOJEj3yQ9U8RC59PduKBD4X8HI+nVkwPzJ5Pz1Ovv48EPHEPOF6Pj2v0Tw9n1iVPWe2MD1y2ZU8u0w6PdxELz7lHTA/FVdHPbqmtDwlfYk8+yVCPQGOKT1iKfM8h/L0PAyOez04IyE9DFDmPL6SCD1UEWc9aCUEPUTiYT0bsIk96J94PeUIsDwKLzo/VYpmPYUzMz03gzQ/TNAwP9fJJj1fn5A95ak1PRRtLj3MsFs9/y4xP8dQhT2Hyxs9+GizPWxVWD32FCQ9wMwHPYLQSD2Foy4965aPPZLt2jwhk9s8nuWSPInGKj25vDE9CezVPTBq1jwyiQI92sOAPfkurTzcWe88eMwuPT+ojzxV/ys/fD2MPPltWT2d8CE9fXASPWKSZD3Zoy8/RdhKPc6qXT2XO049PkIUPVjzMz21QbM8FZRiPXegbD0jPK09jjZrPbIPSD02ftU8pLwnPTttND1g7vA8qXW2POANgz2HAjI/khZJPb31MT+yGzw9CBwQPU9uwDwsn+M+OqtEPatSlTytNSw9Eu5APQJwBT3fLZw8uDhJPRzFZz36a8A956IIPSIt6zw=",
          "dtype": "f4"
         }
        },
        {
         "marker": {
          "color": "black",
          "opacity": 0.5,
          "size": 1
         },
         "mode": "markers",
         "type": "scatter",
         "x": {
          "bdata": "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",
          "dtype": "f8"
         },
         "y": {
          "bdata": "sNc6PbCAEDzirRY/wLskPwSU1DzVrow8VKIQPU3DvjzpD/U7wxHnPJuf0zxdjCo86xQcP1hFQzwHoHQ8qSKjPMQ/QDx8MmA8L1wuPFK2RTwrm7w85Ik6PHFHFjy70qo8iY0EPQ3YJzwlAVE80vMsP9UH1jxH6Bc92aOZPNhCCDzlY4A8xam3PKaIBD1bN4w8wyfFPNcPajzxhTs8dmAiPwEtrTy5/T48xkMtPKQzjjxMQpI8tU6CPLKdhD2v8FU8C6DAPHuHLTzXZoQ8XJoRPFXflTxZOBI/NwonPPK3Nzza7+47VgMqPO/nJj/p0sU8Llu/PKKEBT0vkSo/jh1SPRs+zjwwmkY8V9EBPE+qLDy/hiA903qEPJPZGzyGrJo8t2xXPG8ukDz8zkQ8B0eqPCgYnTz98FA8MSqMPGmwJz9C+VE8wkPbPOYaYTyZfvY8JU3zPIs8dTw3wno8fc0XPMEEFDy0sTk8tsyHPKQzQT1RQik8y8wpPSrkDzyZZlk8k4GyPE0JEDyIHIs8VekCPLf+Ez2PI6I8YpOmPItyCz0XFRA94nqaPMhMsDxsrO88jBLdPKNLTTzAewo8SmtEPEi95zyW1Ww8F323PO3cID+FZtY8vmmAPD2XGD2iV8s8v/BQPacmkD1VsQQ9yn/lPCzaYTy+s3c8HUdTPD/5Gj8cyIk8s0h5PI4MZzzBdbM8IRucPHmrDTz7JW88f18ZP7hOsDyaciY8QArXPEinqDx71i48SXAqP31HlzzcyJQ8BEMmP9FMIT0rkxw89s9OPBhDKj99zZQ8m3wFPRakXjw52Dg83eKlPH14QjxrCVI8h60kPFMS1DxeeKU8TE0QPzopKjyxb6I8BOUoPQIlgzxwMUQ8TdGUPPmzeDzKCII+vmseP/XuojxeuYw8OFqBPKXhUDzrBYY8wn1PPORqKT+8BlA88pRWPJm6HD8BxxA/VcdoPMwquzzVnCM/Si7gPFbUIT87KV48s593PK/FED+tBMI8954UPTK8XT0vKqc8FWZMPELXIjyR0R48PcBfPK6MKD0d+RQ/a7QnP9ejLj8=",
          "dtype": "f4"
         }
        },
        {
         "marker": {
          "color": "black",
          "opacity": 0.5,
          "size": 1
         },
         "mode": "markers",
         "type": "scatter",
         "x": {
          "bdata": "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",
          "dtype": "f8"
         },
         "y": {
          "bdata": "jZcRPAoFEzylj90928TtOyDQAD/vUP47rMsjPT2F7TuKd+g7fka8PISg/z5S9x88fRj/PsaY/j5cM4w8XWgAP1IW/j5z1jg8k7w9PRmqWT3iyws8qIAiPFjbHzzXovM7YUqwPLDFRTwhUhs81TDsO5zCBDw4Rg08yjEZPGbe8Dtg9ok876HuO3I0CzyPCAA/SMA/PNryxDtOJaE8tK39PpCJDjzacH88vvIXPMagLDxipeo7wIDZO506ez1oWhY8X9gkPNX2/z7bv/0+0lvgO6D+DDxLoIE8O5UpPARdozwK4/87zpIGPAvIXTz41wY84p8KPJ/e+zsVhAA/1dP+PmHybTzUOUw8+tD+Pv2CIDxzQxY8O0ibPG2C/z7tQ8k7+mTBO/WkEzyMnds7JJiDPLR2UTxJ0y88WGUAPAX62TuB3g88SewCPA08EDxMrA88V1b+Ppys3zxNkP8+eYFDPIPtwDzuRfQ7M6+lPRHOCzx0DP4+LctZPEFy2zukCSE81IwAP5nf/T5FBAY8FpMOPJYWHjyGEVU8o3MBPKvodjz3ngI8bDaDPW0t/jvXYqg8bOJdPAImMzyg65w8hEQNPBsVRTwywuo7TWH+PnLrRDyLM548WB8AP9G3OzwDueo7u0b/Pvh6/z58ajU8NwkiPTkV/DvAsUo8hREWPBLTAjwBYAY8HSM2PIokmjzXA/E7YpX+Pg6EADxRyX48iOT+Pm/ATTw4BEA8/jzGPEBBAD+NxfY7r/f8O/xmzzsGT4w83rfIO1wRzDuEX0M8bGYLPLlY/z4xIfw7fXoUPBkppjwz//8+n6YAP5R+DDxrwzU/MT0AP7KwNjzX7Ac93b4APz68/Tsq9/8+PghkPWlh2zsnjMw7e97/Pgi5Ljw7qwA84aMpPAsxuDuon4U8YtIdPNErSDyZxQE8sP83PRAT6jvyRZ48OUrcO1xX9js4K5Q8hn03PHtZtjvsxE88B9ayO/A3rzyAnhs8t94OPKATOzycA4s8y16BPC07IjwWMPY75FciPFQiVTw39vc7M4ejPOOq+TsiSwA/KflYPHboBTw=",
          "dtype": "f4"
         }
        },
        {
         "marker": {
          "color": "black",
          "opacity": 0.5,
          "size": 1
         },
         "mode": "markers",
         "type": "scatter",
         "x": {
          "bdata": "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",
          "dtype": "f8"
         },
         "y": {
          "bdata": "76z+Pkg/vTvuSQA/yDHEO44AvzsnOMA7mETeO8JeyDvi3M07lEa3O5nxsjvrGcI7qpC0O8KVyzs1if8+UCAAP0RQAD/FDtk7JMXWO4i5yDvyW7Y7fBP/PtXjAD/1us87zyf/PoP7pDuxRcI7ZSrPO0QS6Tt/Yf47abS3O99y8zsaPgA/d2+qO0IeBDzL8a87ID3IO3VL3Dsbg/k7WDDCOx+BwTt0qaE7XKyHO0Vt2DuWwwg8Yf3AO0FGBjzuobs7aLvhO9XutTtTpsM7DSQAPwxBAjyPdt07ruH/PgG6pztq1A486GqyO2sQuTuJ58s7BvnAOzbS/j4agKk7MlPgOw99xDu4EK8768TrOx+X3Tv/KdQ7ykXsOze6sjsvpf0+d2r+PhB61Du3zf8+ko7+Pu5oAD9RBP8+2qrmO1maxDvqe647kl3lOzEukTvRtIw77bO6OwcnvjuwmeE7gEj/PvDWkTu55a07sz/QOyE3ujsnKv8+VcX+Pr2G5juK9tA7F9wAP66vzzuEwOQ7ZIb/PmI66jtGeAA/pS7FOzspyDv92dg77CvHO5oYyDtQCwU8iQulO84/DDxOhAA/PMq6O37DzTuMD7w7T/O9O0j1wDt7ktA7UjO7OwGJCjzvXP4+MXqtOyWB1jvyp7k7hdGwO8Cz0jtxY/A7LcvhO9reuzvsv+o7BTsHPHTn0Dtemv0+Fkq6O8TUwDvOoLg7qGN4O2IqAD8+Da47/Rl6O9GxyTvbOts7KqzCO0mGuTvx5pQ7t2yyO9bL5Tud59U7Q5fAO/38uTsEpdI7HVUAP5Kkrzth8O07V42OO+yetDv+POY7Iln9PhyW7Tt8rtE7ZWDKOz1Q6zuoT7w7EtT9Ph7Z3zvOk9Q75zHFO3mApTvFVck74ca8O5XQ9Tt2ygA/U4qwOzlgxTtA88M73mUAP9qSyTscx7o7DDPHO1YfDDxHFAA/xzb+PnoGAT+iQLs7i1LkOyp31juM0so7yCvXO7mTrTtADe478Zn/O/IYAD/mtss7Ms+1O/BQnjs5kZI7yOfROxWojDu/Kv8+Uf3WOxbV2js=",
          "dtype": "f4"
         }
        },
        {
         "marker": {
          "color": "black",
          "opacity": 0.5,
          "size": 1
         },
         "mode": "markers",
         "type": "scatter",
         "x": {
          "bdata": "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",
          "dtype": "f8"
         },
         "y": {
          "bdata": "lFfnO81IzTuwi6Y7XbS7OwXuuzsQR/0+iv63OwMjqTt7qMg7s9iuO2LW7Du32tg7gmPUO4hzvDt476w7dzIAP/5S2zuTFf8+ihbLOwlixTt3qv47sqbiO/AAlzs488E7LWCuOx5CAD9M1f4+Iu7hO10PzzvsfA48Ux2OOsSAWzsgxno7o4PdO1apyDuUjL47j7ehO2t8sjuurf87Gp/OO+a4nDv9e/8+4mz9O8JB2zuwlFY7tBbFOxTNwTtsp/I7a1JzO6ni/z5AwyM8DGbkO1Zrqjvw4cY7zqT1OwImAD9wjQk8yPPlO1RsyDtzwfs7f3KqO9G5oDt+EgA/qV//PuTy6jvuj947cibpO2dhAD/cRgY8DxsBP3p/zDs5eGY7IfP9PjFXsTt0xpM7ckAAP2WM2Dthe4Q7V03jO9Iu2zs5xuY7bw4JPCynuTtpaf0+lMwGPCCa/j653aE7YOr/PheDtTv5PKk7PzmwO6TN1DsFNgA/6BO0O7YinjuY9+c7EiKjO2eYnjvVu+I7O42tO+83kTvNycQ7hp7zO3U3zDubNr47cnfyOyVGyzuWRlM7Eif/Pldn5zts76Y7B4T/PmlYoTtXHvs7SiT/O6E13Dv3KgU8xvzMO2bh1jsRhP8+MjTbO8LSxjtfGfE7oqfkO2r4/z4bwf4+aw+pO9dUtDvFaNI7Sa6sOze92jtC4ec7W0i9O0eHzztwK8w7kPzbO6JeAD/KKtQ7I8ECPJmKCDyafsk7h7//PuHouzvFxgA/MBbYO7jG3TsmesU7V770O5QH/z7w9d07zwTsO+ylmTtf/NM78fi1O03b/j7YYK478/nYO2fJwDupk8E7mx7CO3/0nztDu7M7Xuu1O50lujurxv07fBTmOyF26ztsz/0+sQ/nO8aYkDuBzAA/t5PbO1slEjyoCwA/nub9O9WN/j7uXto7cgkBP9pNAD/8L3U7TUbBO1ycrDtrPwk8K9PkO8xeAD/m1/4+lYmwO29k2TvT2cs7USOmO+I/5DuMyus7g5yeO1GW1ztHJZM7U5P/PqVa/z5M/6A7c+HsO/y7mDs=",
          "dtype": "f4"
         }
        },
        {
         "marker": {
          "color": "black",
          "opacity": 0.5,
          "size": 1
         },
         "mode": "markers",
         "type": "scatter",
         "x": {
          "bdata": "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",
          "dtype": "f8"
         },
         "y": {
          "bdata": "fR6gO9vSyjslCKc70RABP0aOzjtVMQQ8D3KbOwDWYTsIzfo7/j8APCvQyTudGv8+RdG9O0KKtjslA7U790n/Pi2MyjuUSkk71JaxO0LWtDt+nxI8XdvJO0JEwDsD+ss7RLD1O2JF7Ts10tg74uW7Ox23jTvWI+U7Vz+eOyxYITxVl9E7qRL2O9U4xDthzv8+rEmTO+5M/j67WQU8ogsIPGU8XjvaX/0+dYe9O6iA/j60qyI7WKPdOyOSDDwT0Os7Bbj9O8Se/z4WLdM7rPtkO+IO3zvL3OQ70lYIPPEaBTyAMBU82/f/PrOjCTxMmAY8UGL5O9pBkztiZg482z4AP63nCTzCfv8+UGTYO1Qasjv3sKo7INW2O47RXTuvh/4+1ejOOyaywjubhuw7WDEAP91ECTxJyb87SKrNO8ViAzxpCgA/iuOsOxB1XTsiIQA/NwwfPJ4ZADyX0hk8qSMMPM48AD8snAM8FcOtOxEmnzt88Kk7ytF0O/dkAD+t1eA7WZgAP0O0iDsfHoo7LuoDPFyXhzveO3s7c4IIPHrRrztGbdc728D/PvDrGTuHDLg7lL2nO8Ov0zuVyAI8o+rcOwkMAD/AO5s7YEn/Pi+xgDu0W7k7VxjtO+/7AD9tRsM77tiFO29cAjyWjaw7B432O3D+/j4WyWQ7JxytO26NnjssiAA/tag+PJV97ztEvf4+rtJjO7/fvzuvbTs7PrYOO7ic4zuCl3w7eQD/PlTfADwulN87GlTuO9I3iDtu3Jk7GcrIO8TI6DpCjnk748WMO3VJ/j4AH9k7VbrAOzN7jDsquKE7LLPVO4cA/TsFrog7OYkAPwF1zTvTstM76rijO9KfAD8bnvA7NxgCPC06qjuQwgA/vV8DPN9fejtG/9w7FY+hO+nfyjvlLLw74VP9PjFt/z4pVPc77720O+moFDwcdQY8Q/IHPDPNYjvfZpo7mBfYO9Ci4jv+Ar87axD+PuOi/z7GjuY7FgKmOmDVsDv+XQk8gYEYPMXo9jtGVv8+wWZ0OwJvJDzLFAA/W433O/gDAD/pyMc7Ojz/PkDiCDw=",
          "dtype": "f4"
         }
        },
        {
         "marker": {
          "color": "black",
          "opacity": 0.5,
          "size": 1
         },
         "mode": "markers",
         "type": "scatter",
         "x": {
          "bdata": "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",
          "dtype": "f8"
         },
         "y": {
          "bdata": "YTGhO5kG4Tu/tgc8AifxO6iz5zsJ4QE8lwvaO3/4kztUXQA/GcTWO1Hj/j42oRI8dsbxO/QfAD/psxw7PpddO6f0/j7oXs87tS0APzKwWjtDYP8+KeixO/txmTuKqF08+9EXPBal0ztWXpc7H1WpOxv3/z6/KgA/gWDsO5h5sDugOgA/aksAP9gYmDtfcCg7IyzWO9BurzuFeaw7th53O82yrjuLTLE7BjJxO8UdAD9qoYc7qotjO38T0TuIBsY78kv+PoriuTuCask7H7rXO4WKyjtQAR48uYulO75e6DuifQA/uMSHO64UAD8Ph2w7PGnFOi3HBTzFVhE8MCj/PleeODvYbf47zCHNO5GdmDoT8bs7BDn3O9BW/DuJKpo7xuOJO1Pf5zuld6M7Wqn+PttFPDtQZOI7Cg7sO6NwIDs/DAA/P/OFO5NjFDyCVME7+MQTPMgWmjuk7OA6v5m3O5XHLjzsMAA/WnKpO2OhJDwvlYg7Q802O4yzvjuXLh87tt77OxusAD8Zk1c7RmyvO7wW2jv8VOI7nE7SO7vXCTy3T4U7ynfhO3o+TDvL0Qw8N1r+PqGylzsfT887Sdv6O4krqDtBtxQ8Wl5XO7C3AD8WMf8+HwoBP+dk/T7+rFM7VZEAPwf6TDtMkyU8G9MAPMMD/j7eKNk7WUreO2WahDv5AAA/ki0AP71U/z5IX6U7Twj/PqTCHjzXwL872Vz/PgPzgjt4Bco7XgYyPJ1zxjtNQR88mnFCO+j1BjyoRsA7U8qTO+k1NDoXejw83Qb/PlsV/j5MyP0+SaE+PGb8+jsxCsQ77g3nO9YdyTvyMaU7DuT+Pn5wOzxTDB88cSoMPJs3rTtWXIY7VGLZO6rbmjtfOWY78JRlO8vVHzyb5rA7iSKSOzrn9Dv6Wf8+HX68O+YN/DvcfiE7052rO5uy9jshM+07X3rpO2MI8DsG0wA/TCHwOwB04DvgYRs8S5NGPLjBLjxDShk8lgfyO0pPwjtwdP8+2xAXO/ai2jvFtMI68msfPIaGzjsdnKg78aMtOz7w4TuI7w08bRnCO57zGTw=",
          "dtype": "f4"
         }
        },
        {
         "marker": {
          "color": "black",
          "opacity": 0.5,
          "size": 1
         },
         "mode": "markers",
         "type": "scatter",
         "x": {
          "bdata": "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",
          "dtype": "f8"
         },
         "y": {
          "bdata": "Gf8dObb99jiaJRA5a7c7OT9BNjlG0vA4ZLk+Odhn6DjY5Ow4+KwZOc7QGTnwaOA40UzMPpepJjkrMMw+N7vJOPTVUzlXTiA5iuH0OC6h/T6O8io5Z+EnOU4USDnVRv4+9LQyORR3ADkeh9A40bL9OMuDLDkSWB855V4AP1Oi/j6iKRw5Hr1GOZPqzD4ezQA/G5tcOX9XdjkF1WU52KghObIdODn8aJM4K/UGOYtRWTn8jng4L77KOF0kNjnd/Ms+Xz/wONi6/z4iygI5FHEuOZSTMjmz+v8+yr1eOdidvDj3XwA/JYsAP2FyGTn1KMw+CwGYOScHMjmvEAY52NH7OFyqHDl29P04Vu8APwomUjmkBNA+c5BPOfpMpzh6oQM5dRKNOfgAyT6A9g854rTNPiox/z5Hjcw+7qwSOUgtAD/+aUA5iIr3OHUXRjkA/bQ4n6D+Pkwo7TjeRv8+Nq9hOdu0TjllTz85g56dOHAMmDm3LxM5Dr7qOJZoMTnhdlw5klKaObjPljknlTM5o8fzOJIHWjnfUiM5HPj+Pj6dyz6qKfo4tb7fOIFVADm9/V85/IcROaqFOjlj6h05HQMAP7PcSzkDqf4+dqFCORW9XjksO2E5sd8RObTFDjkiS944YphjOTVkKTlr+Xo5P/QwOTASCzm4RMs+xYMAP1ZTAT/P8zI5KdYAP4rqeTlAnIA5aj8fOdEjAzlKcaQ5SEuPONHHBTmlhcw+sCw5OYo+ATnCJw85wEQiOcPiSzmHpWo5xjAjOYyL/j51kwQ5Mx3uOPIqQzmJ/nA5fpT/PrXyLzl5dDw5cMLOPmW9YzmjtDs5xOvTOI8+TzkmCWY5SJ/8Prn5GzmQMFA53IOMOYOL/T5KVhI5oLHzOPxPKjlTVRs58lYAPw3Agjk7Nxk5e1rXOIl0LDkoxZw5HUD+PqjjKDnwE5I5CdUVOd3bVzmZ04c5UmFgOaEKkjgxd/0+reGBOaRHrTi2x3g5LPE5Oe+c5jhWT2I5g/mIOWhKAD9V0c0+isMHOX8pEDm5fa05+GLHOHH9SDkc5Co5vAfLPonSPDk=",
          "dtype": "f4"
         }
        },
        {
         "marker": {
          "color": "black",
          "opacity": 0.5,
          "size": 1
         },
         "mode": "markers",
         "type": "scatter",
         "x": {
          "bdata": "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",
          "dtype": "f8"
         },
         "y": {
          "bdata": "dz20PkdjzD6edMw+5vTIPhO7zT7omMk+GQe+PsJkOznkKhk5w6vHPoEOyj6F3rc+ICqGOZOcMTnCq/c4FeDtOHEY3ji8FTo5yX7QOHKHsT7cHcE4E0ekONjy/jj4zDk5wPNcOapryDjuc7c4RKu/Piiugzgpd7s4Z6ssObCoxz7UDkw5X1cQOR9IEzn6cEw5Fl47OQoqsz7v9OQ43BMGOTko0jhCx7M4ukm/Pl4Jxz4c6rY+T+4tOXMqvj6dg4o5PKoLOaznATlPCCY5rrcUOUMR3Tir/zo553iQOMecTDnfSsc4z54jOXXTzzgTXNo4AM4xOTFWyj6xbBM5kz8IOYRT1DjUu9k4CDO+PhJ0zD628sA+L+o0OZ6OCDl7jcE4BrgYOWZt2DhkLI44m+0nOR+qWDl6iDM5vOQFOdLotj5HJgg5JbfBPiZ0ozjpNwg5VTIfOW/aEznHd1E5wTUjOYkpuT6antI4vS73OOEYaThukFE5mDYTOask8Dg8JSo5ZpPHPqeMrzhErQw5xJoYOVFMzT6qf8c+bm8iOSSvDzmRL+E4xWEoOfIw1TjqlYA58tK+PpID/jgL5sk+oaq1PpsMKDnmAss+eZe8PpwJNzk4hzU5j8IFOW3GDTmkILg4DOPcOJ+4yT5KuGE5e48hOcYAVzls6P04/XsoOZJ67zi4c1I5Zw5OOXXzyj4r5L4+ggO4OFMtJDksUKg40rjaOI0zoj5ie/A4BjcmORqrrj6qEvg4eyUGOc7z1zjnU68+cUIIOXzTHDlc77g+vQneOC/BvT4At+44PnXOPrqslDj8Q1E5bkVhOfSvyjgbtL4+LaUPOaMvtT6qzGU5BBAdOUvYATk0wvQ4fb7IOPOfGTn12QM5+zo+Oa6fyz76q/04CZyrOOFMBTls0PM4kOg3Oax5yz7b3a8+PcrBOF9mBTlcaSc5n6PqOLpkxz50YjU5dJ9ZOQZuDTnyubc+H3rMPhpK9Tge7QA5pcXCPqsXgzm95b8+vgH/OLL1yT48eL44BlgJOd1FijnPSg05q0UNOYZo2Tg/1jE5/RoLOR5gfzg=",
          "dtype": "f4"
         }
        },
        {
         "marker": {
          "color": "black",
          "opacity": 0.5,
          "size": 1
         },
         "mode": "markers",
         "type": "scatter",
         "x": {
          "bdata": "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",
          "dtype": "f8"
         },
         "y": {
          "bdata": "ZmAmOXP+Djk6zrg+IuerOFznxTiwgw05af7kOKFEBTk7cEU5FlnxOHmCkThAfOI4G/dTOJMILDl4Xlo4KzC1Ph2ppDiBQes4i+qkPqWdLjkK06c+tnGfPnBItzhZZx05UkDYOOcjpz6TaMs4Vx6/Poypxj4m56k+h3+sPgQOqz6cPMA4QZKpPjr03ji7FCM5mpHMOP8e7Dj8n/Y4Cb65OA6b9jifebI4CRGnOIhvFDnLMFM5kcwQOR7sjDik+xw5GMP3OLe6TjkYPs44GgS4PoWzqj5ZGa8+AiYWOeAhKzlBQpY4mPUyOY3j/zi/ZhM5qv8oOZ/qpj4VB9841h7POKMkqD5kyBE5jzLFPv0HsD50Kxo57HniOCFiwThH77E+yDLfOJ7HKjlgR64+HLwKOZMUyD5MtCA57pamPuhzrDgiYhg5eBCqPr/7tj6UTA85aOvlOB5iDTkic6A4kDEOOdVSQDn1g0o5+R3HPg/TLjmZIAs595EIOYHGujilCYA409TuOIjFqD4nGsY+npi3OC7CsD6aaec4F8EQOYe+1DgdGL047OZzOSuRsz4ylgk5SBymPiYUsT6xdr0+i6IvOV+yyzh91bQ+btbkOEwftz5m74E4YL4IOZfWoThrgvg4oSe9OFL+2DhvWBE5V9f5OKyTjzg+3KY4ZQLDOLjSyz5/mTU4AD6yPvSFoT4/r5o4g9YMObMuuji8hJw4F18aOfY+YzlWkBw5DfNQOcR4rTh5s7Q+iROPOAN6ujhTLxA5BfeoPuIlKTlMGUA5kRsmORXwIzkPWLc+ILC0PpF0sD5xJ/Q4Y0rHPjEq5zg6Ocw4s8wNOXVStj6DTxs5k3DfOLBb8zjG//w4ZauKOER0vDhkF1c5uMLjONMZszjUARA5DpfbOBRWrT7SmK0+rXUROVOoEjnYgdM4rJ+OOAHwMjn+Gac4PxScOIoTqjjDo80+rSmvPv25+jg1T1k5TaRJOL6Ypz5cZQw5Ie+3PtmEsz57hus4aCIMOTHYsT70CEo5prvGPgBhyD440to4VSwzOWErtz5yA8k4iXCsOFPtoz4=",
          "dtype": "f4"
         }
        },
        {
         "marker": {
          "color": "black",
          "opacity": 0.5,
          "size": 1
         },
         "mode": "markers",
         "type": "scatter",
         "x": {
          "bdata": "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",
          "dtype": "f8"
         },
         "y": {
          "bdata": "MBt4OJ10ljhPCAA51arBOBW41jgzGXQ4/8SsODyH4zhSa5k+NkTMOC8vQzgbjag4xDOUPu714jjkoQ04+ZJEOMlkSjh2tX84UO/DONIhoTgzysU4p7dkOAYNYTi9F8U4dbudOPVdzDix7ZU4kG/FOOFXoD4XgJg+sLGbPgAdsDgh55s+nzAUOSOQrDiXApc+Ab+hOBwBQzn9WtE4+asHOfLImz722YY4lTqkOJQ9nj5jzuY3Fe+jPj//8ziEnJE4NwqEODFmpz6wvwU4NZmaOMRSzjgyiQo5RxPaOOhLDTnAzZw+kU/eOJzOmD55Jf04tmebOG5+3DhLWaE4Oj6LPq83mj5425M+7CydPt8UqzhN3QE5b956OL8dgDicdZw+QfWoOHUI+jiSqaE+kC6IODtPzji1LZc4yBGjPodtAjlQUOU4aPaePo3doDgJjs44/9EPOc7xwjimgpw+ihzBONBjkj4lyJA4D5OwOB4hmT4NnZs+Z+H5OA16qjhVUl048KYNOUHG0zh0/ps+m1TvOD8bTzhUPc046DycPkzpgzjqeOo4KLqHOKI5jz4DZ58+XU2rOCo5nD7f25s4P8mWON7LmD7+m4M4F/e/OPBKkT7sXJ4+xwoHOV87vTgPsJ8+Bq7lOCRWiT5iEA45/ubSOJk9tTiwkp8+7bfQOKpmnj7ct5M4PDenOOHo5jirmO44mS6ePhD1kjgsjG44+pqYPsg6oD5Q0ZQ+GqebPqmRfjj+pcE4YPukOKOdlT5nkZ0+JDiBOG2WkjgBhpw+ju3aOC55zjgXcnk4VHeQPiPM3Ti1KaU+t+mXPqY7mT4hPZ0+Jzn0OKFUnD5XQEc4PSDeOPC9nj5tvqI+3EmPOCGwXTjuJ8E4kUalOPConD7OJZE4TfGWPsEvtzgEGKY4KiyfPhLYajhxb4c4e6iWPkwy2Dh5XKM+Vl2MOBWYqT5vwok+a8O1OA9WCzmrPIY48CidPpI2lDgGM4440BgFOUZSoD4seqo45iyfOK9Qsjif5TQ4NgSMPlq+hzgO6ZA4nQAYOdgboT714ZY+4ZXYOLZGnT4=",
          "dtype": "f4"
         }
        },
        {
         "marker": {
          "color": "black",
          "opacity": 0.5,
          "size": 1
         },
         "mode": "markers",
         "type": "scatter",
         "x": {
          "bdata": "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",
          "dtype": "f8"
         },
         "y": {
          "bdata": "oF2TOMvIqDjNem4+sMKGPpUZqTgTbZs4g4V6ONhDyjgM8004OTyyOPAvAjlLr2U4SxGkOEGhnD4BEW4+2A2MPvVDmjh5iHw4lwePOPBfvTjCQbE4EDacOL8BhD4vq5E4J+6JPob5qzieGng4mpJxPpUdmTjnG5o+k/5KOOmHdzjxYKw4F9enOPX6iDg1Ru84h6OLPv61jD6ZPsg4rF9/Pkxryje4fJA40lSXPhhbTDiPPIc+U4uWPnPKlDiPLog+bouMOHi+kj7xU4s+L6lfONMQsTgAE4I+YyeHOPUWjDg5ymA41OWxOB1TjTit3ks4claMPkn1iT5vYZw4fKhNONEOtjjkWX8+B7KIPptUhT70EkU4FZifOI2qgz6N+2w4pCOIPlvlODhN1ng4rGbhOB34ijiEmLM4s/2eOP0HiD65roU+BPKuOOUzfD5L1yc4F8+HPrbxCTku/34+Bv6QPsw0WDimm4s4d3SHPnMFhjito5A+payKPlwKwjgzfn043GLAOK1ngj4Mdig4Ei6OOP01fj48OZU4ThWIOL9dhz4BH2k4hDegOCY8cjimldU4DeGCOEXnhD4Pa5w4/uyVPrgjUjh2ELc4wY1mPtIThD6z54E+49yAPuLMiT4hD7k4eX6QPq1mjD4ASAE5YYHMOBOmjD65M6M4g2WuOFGAlDgIm4Q4ddWHPksUcT4OUVc4d9Q0OJ2DIjh+X3w+Je33ONttjT7LJqg4S4mEPuguQzjWn3g4hvmLPiGHszjwRGw450OEPob+QTgUF544vRe0OH1MYDhdyaY4qQeRPjaCgD5U/6M4nBbeOA9ggTjQOIc+gnSvOEiGCTjW7YM4CBqZPnAYkT7Sa3I+ETGMPmNOpzj3dhc481uCOHt90ziRs8c4LbOGPvO4pTi9P40+C9AAOTYdtjgf6/Y35HeGPpVWiD7dpIs4nb+QPlZnwjgj9rw46bWNPhmnizhx5Y848Ry7OIhruDhhYYc+mtaqODSciz7J6bc4QUv/OK3KsjjUULk4uDeKPjDsij6oM4448W+xOAFIiziXYI4+a1WPPj/Rhz4=",
          "dtype": "f4"
         }
        },
        {
         "marker": {
          "color": "black",
          "opacity": 0.5,
          "size": 1
         },
         "mode": "markers",
         "type": "scatter",
         "x": {
          "bdata": "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",
          "dtype": "f8"
         },
         "y": {
          "bdata": "p/t0OGpafz6f/II+RMN+PoSXgj4jpQ04P216Pp6myDggSYA+pOh9PhFSNjiudhk46wltODTbJjjYo5M4j/qEPiXQfj7vkIU+k4hQOMwpPDjrUHM+evxlOD/fdDgKl2w4ieZzOKZ+fD5EIYI+ZllbOFd0XTg84184w32mOPnzuDiczVU4iViGPtbzgj4+yDs4devRNxMGgz5OKnw+X0JmONy0ejhQnlg4RcgSOHQmeD4sUZw4qsiROPvaVjhEWYI+dap9Pn8vgT6vPWg4otucOGAogT4B14Y+kpmDPtutgT6ookU4+a6APn6dgT5MmHs+FpiEOHB+6DfNaxM4eVNyOGcpdDgqBYI+6iKEPgekkDj5QDU4TrJ+PjWVZDh1jCc4ER84OClbcj6jw3o+FZJtOKKeLTiG+RU4kOUtOEaxozjUEz444+QtOENlgD63lGs4fmmBPuFvfz4oG4Q+e/xYOBvcCThM5YM+V+W2OLvpez42jR84916GOAc3ej4HMIM4C7+QOM6xgT7t1j04bYOEPgKgjjgO0II+6kt/Puw8Azh0HYE4vAmBPqXmej5MIIA+ZSFJOJqxjjgC9ZM4uyKDOFkzfD5fmoc4sKuCPhsrgziqWzs4ZAJ+Pl44SzhBZY84mnONONlNRzhf44Q+d5rwOOcQhD7OzMM4kzi9OAsxEzij9YE+n7GCPsPNgD4lcYI4JSh4OKOuTzgOrW44trllOI+4jzhRyzM4//KwOH7XlTha8YA+5XVtOElYHjhcK0Q41uWBPh9OBzhh04A+1fB6OGhBgz4NKYQ+FUDCOIkjJzjz1m4+LOeDPnE8Dzi4voY+ASeeOKVwHDiL6m84vSisOAOKbzi0KIE+UhpGOGdxRjhoMSk4UmUvOM5Fhj6PfoI+slmrOGfRhT6XtHo+WIZdOLUXYzgGNVc4IjqFPhCGRDi7soI+hGu/OCZEhD4+VXw+QzSIPl3w+DcmL4E+F2BJOGL8WzjkiYI+k4e0OJx6hT4aGoI+8oP7N36fSzisWaU4TQ0/OC11JTjOXTs4CwljOLXtgj7TEHo4dAqIPknSgzg=",
          "dtype": "f4"
         }
        },
        {
         "marker": {
          "color": "black",
          "opacity": 0.5,
          "size": 1
         },
         "mode": "markers",
         "type": "scatter",
         "x": {
          "bdata": "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",
          "dtype": "f8"
         },
         "y": {
          "bdata": "dtcWOGOvGjhF4i843/gKOGQJyjdEkBA4IhlmPll/ZD7hazM4H8VePrLINjjeKz440k9POM6wBzg0d2I+LnBUOIi22je+iGE+kA4cOF3sYz6QsHw3SLJOOOUyWzjReik4TodlPqzaZj53kBg41j5jPkusYT5hyl4++ahROCt0aT5Z5iM4o4RgPhrODjheyGY4/D4vOCodZz5YZEQ4sjRhPkC7KDiA6Aw4t7gjOHxRaj71KoQ4/nHrN6IzNji5YWE+duFiPjAWaj5fpdM3S90ZOCsUBDj2kmQ+wGhcOCuIMjgQa2k+fmZjPjMrFDgh1mc+6woNOB18bD4OCmc+1iVlPgugaT5XSOo3LoZkPnPYZjjgT2Y+UWtmPq3ZYD4s6o44OoFoPmNqMDjph2g+iQOSOO83Zj4JjmE+LhA2ONXZDThMTjI4wbsQOBpvZj6OahE4LsoXOJHzvjccvSE4TgtnPoCpZz52tmU+7o5nPp1RXz5BY2E+nGE7OL/BFzgnnSU41OtjPkNDXzgNv2w4T41pPkVjaT6EdBw4drUMON2UoDiJUuo3PetoPlt2az4zWGY+lM1oPqsCAjhw30g4TBc6OPuJZz6I6mw+vilyOG93QzglDP43XQBpPg0CNjgoRUY4Ls44ONKhWDjXTmY+Jl1lPivWaz6FOmM+7d5FOCxYZT6SvmA+RAojOH08nTe7L2U+YQtqPk/13Df9QWQ+iwdkPrq+iDi/MWM+6NxiPr9ebD6BVRg4+5QXOFdAZD7SjW4+yXFjPvI5aD46d2U+RzJmPvudZj5lu2M+TYgQOJWNHDjFk6c3rsM0OGu8mDjFaGM+EzgwOK2PDzhkq2Y+ZvJiPovlYj4slGE+0CE+OLTbLzgmbnU4/mEKOOKcRTgfpWY+sORaOEj/CjjBGFo4mjsxOAHxMjizpGk+XoV1OH0Zzzeh1Wc+XEtgPiuDlDfXlGQ+KM9pPjmTZT5TWmc+tkgkOBtkhDiF2m448GpXOJC2Czj7TTw4Nc5mPsJDPjgOlWk+calrPiqqJThPmvo3J/t2OLF+YDj7eAA4NElTOMyjfzg=",
          "dtype": "f4"
         }
        },
        {
         "marker": {
          "color": "black",
          "opacity": 0.5,
          "size": 1
         },
         "mode": "markers",
         "type": "scatter",
         "x": {
          "bdata": "y+5ti++fKEAM1X4eLhApQCi9h9g7mihA+9yMx3W5KEDmwzUbBK4oQJz32ONLNClAKOxZ+qAjKUA2lMo/2MUoQDyYINc01ihAbVOogfewKEB6ejBAddUoQCvChNdE1yhANMEN3/qpKEDvYprZDMAoQB8VhcczgShAZ2SegyTzKECbq0bMf4ooQEmXR51koihAMz9sqUoMKUCp304fCK0oQMsyD2PM7ShA9QtzF/FQKUCQXh/i4C0pQBc5zD9KNSlAjoPFsXsgKUAXOsyjfsYoQCeRqxqI7ChAi/ohKvH1KEAiLNi7Zu0oQLyMeS44xChAuM1+Ho0CKUC1waBnezwpQEoaS35m4ChA0ioYFF77KECKtjEgfMUoQF2cLSbCkChA0YmunT+aKEANNKx3CfYoQLMKAwtT3yhAIDcxwy20KEAqkfCqQxopQPL5pxshtChA44bmxrOpKECd4lWxIAApQL0eHN4r4yhA4Mq7CZkZKUC0pTO8aDopQEvicPxm4ShAhZdRnLeDKEB2AK/cmvYoQAnqTQdBPSlALmeRWOPoKEDsrTxVH0YpQHEvDuEOzChAJCPnkY7sKEAd882aGOIoQKYa/W4OnChAfEz2FJfpKEB1diesENooQPA9RDx0KylA3Kp4NG/HKECP3lLebVIpQLoQD0vS3yhA3m60hOwwKUBNclgMBiMpQOj/N7HnzShAVZ/Nwa/IKEDYKr7atB8pQKk46yTqPSlAWcjU2tjnKED7Mo61fxkpQHNNBlnTwShAXkoqY2WEKEDJEu5dN/EoQNYkRGkxIylA2zMXknW+KEAKBarZ5YYoQCk9r8zQ/ShAiLUEsVFQKUB+mHxTGMooQAUaRS6BiChAhn13xck8KUDtBOytiMMoQF0pBeL+USlACICwTitDKUCKLXb3Ft8oQKoMjL0bBylAITN1/5yXKEBUEVSmgdQoQOEm2V4NnihAZ499cNDiKEAYkvQf6yspQDqOIdG1iChAgTEeg3JHKUAJ1r3TNtwoQIWpA1dR8ShAtS0SIXQHKUCsW7qbCJgoQOvh2J+c6ChAHxvCUoaIKED6RbKFXhYpQD02hJENoChAN920tDK+KECTONAZdSEpQKfxOUjlRylAAI8Q+xmoKEC2jRz3JeooQHOEeGcwjihA1aTRb0OvKEAGUteQq6coQJHSbyhyEilAXr9o9lr3KEBWWQfwfgUpQHtDAsq+LylAbK5baba2KEDMA6R0OlQpQBYRfj5CPylAvjalZ07vKEAOZH6p4hMpQLNTVfvpRClA4MQY5l6uKEC0LdAMVxYpQBQV4vGS8ShA4C5sfZZGKUBrXxfDG8QoQDBzd0WtKilAfCCz4/eAKEDF/6JrzZcoQGQ1UvUn8ihAsIexZSH2KEDBvhyOLYMoQPb3Cr2YtyhADYVgVn+uKEAR8qJAroAoQJzGbdLRoChA4c6WMgkAKUDUGzXysS8pQCM64M3RhihAI0o6+SgLKUBwpRVrpqsoQAphSEwx+ShAHBuU8HS5KEBWj8NkaqEoQBL+ung6GClA8Zkrm9/yKEBEzHIyCbYoQLa4s28uEilAKXUDhwIQKUB3BJ4OXs4oQKubBtLROilAaL4nBDu9KEAIEqpKP50oQO5cSIadAylAZn98xjQxKUDybPPgtNgoQGzqqfyprChAtaiNqQvcKEDkvCVfyvgoQKmvIW7hjyhAu/koYUUMKUDtysjyJEApQH2/93JosShA8zanBVgaKUAQ67xLK+0oQLmGK3du+yhAWWTItzQAKUCsQgWQuKIoQLrw5t/oryhAwoXV5mimKEC/GpXI4qUoQDixqiiO1ShAbv4pkg8XKUBmJqZ+ZhEpQFLW6iHejChATvQpjaydKEAybi1C+ZIoQCpTNFvh/yhAg2VzIBwHKUD7EU6NXvEoQFBex70iKylApgwQbI7zKECLqIsMnQspQHyzxsRIJylAF9r60kXMKEAN58S4cYUoQDJbJ6ejKilAxOqEj4XjKEBIH8nGsB0pQHICMFV+UilA85yBC4dUKUB3uqzTMuAoQO0tilCFDilA+APeXL/8KEC5Cvy5mSApQNLLR8xBJSlAkQaZfr4GKUCg6+xyzhkpQKWNiEyflShAAoDcNqmJKEA+onFwACgpQA==",
          "dtype": "f8"
         },
         "y": {
          "bdata": "U9JMPi9fgDgDMwI45HMXOIZYST736lM4P0+yN9aYCjgwXQQ4Lj9JPlCXTDhix0U+uik8Pj619DelZUo+Elw9PslJUD4p8gY4fTxIPmYRsTdILLY3mWdIPnduezjrn0s+30ZCPgIFIzhF4jk+QdMwOGRMRT5/L00+qlomOMCInjfe3kk+vXYxOD9VHDgPWzg+xx3XN5dLSz7vtFE+y5tFPvu0ST5VIko+OSs6PuhWtTca2Bw4DAMDOBBJPD7s+i444zo/Pl9BUD5nMH440NtGPoxgRD7Zbsk3GQFFPr3RDzjUZ00+qH1QONwISj4APoo3Ff5PPmsnOz5vdT4+ng7/N2jkRD5i7z8+ih5OPlFOSj6b0ig4z8tNPmtjuDdbF0U+6n6nN2X6vTeCzuw33m9EPnE+Qj5yMFA+KtxPOP/L5jc91UU+uR8nOE1qTTjf6kk4fqEHODm/4zfPNkI+lOg8PoJJITjMPCs+GzFCPvSpbDj3ERw4DZdLPoeJRz5SijE4v52bN3/QnzcbIxg4tWwLOIL5Qj65KhY4syNtOErBYjgCRhY4xxRMPuFTOj4b5KY3lnPKN/YyAjgwwiM4SMAhOIQgQz5GlTs+g86UNyLoRz7sjlI4YOJOPrcsOj6ZhEs+fn9FPvcT9TdcxRM46Sk1PvuXbjgX7TA+Azw5Pk6XTD6MshI4GmJIPjrKSzjiIY44s2RHPmAMQj6yiko+V5kJOOe6Tz5IgEE4rt36NxIyKjgUBPM3flFLPi9j/DeS6fg36X89PulfSD4aNkU+VW1GPvA7BjjpxkM+QOtMPoRMtzcGsEc+8A8+Pl1CITix5kI+NH22N6KTDjjcSUU+9wEaOHD7UDhRXz8+KHxAPnSW3TfykO83ssEOODZ6PD4HgEo+pmu5N7EsRj4h2T4+sYLFN+G+RD6nJVA+dSxFPqErND7RvUk+ysgJOPVSPz7IDIU4mJZEPqx06jeF2UI+Wh9HPjrjJzgsKEU+t7aKOK3VJz7pTUs+PqocOD0gRD7mEk0+SaVHPphwTj7eVWE4qTVVOH6sIjiezUY+xQZCPgv3Ozg=",
          "dtype": "f4"
         }
        },
        {
         "marker": {
          "color": "black",
          "opacity": 0.5,
          "size": 1
         },
         "mode": "markers",
         "type": "scatter",
         "x": {
          "bdata": "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",
          "dtype": "f8"
         },
         "y": {
          "bdata": "3NwSONHVMj6WzDI+LZMEOGo7ADj7DDA+vTk2Pl8NMj6VtjQ+U7EjOPm+ND6eiTI+7OmyN/vkLj76Oy4+lpUpPuViPj4LtTs+tya9N+KDeDezp5U3feMyPlvyPj4m/To+/Ws6Pu7iEzgA2DA4qg03Ply3Mz6SCTw++JlWOORbPD68oDA+1Yw6Pu/i7TdURDc+j242PmHp8TfU4jY+oGRAPtICCjg9apk3LTEZOM9aJT4FdLw3SA80PuxrPD7pOSk4+ZctPsyrLD4pLsI3VkIpONEYyDfFLsE3SaQ+PvrV8DcZNTM+uLYjOJBRQT4meAo4drkqPtjCgjfuLj8+aiM9PmJmOT65VLo31IY3Plq1MT6a+C4+dsA2PkMmNz524bY3I4wtPmp9KjjLSGc3XG87PlG7GjjqlTw+hkQwPqVXNT4bXRE4xsY9PohKMT4Maj8+hXI4PvnTuTcgADk+7DEqPmCdADiJ2ZI31V0vPt51Cji8us43fsk3PukGOT6VVjY+Pls2PoV0OD6IqyM4R70HOGTFHz7ZnzA+GKCxN8+qPDgXUjM+ukc5PouIKT5dq0E4UvgIODeXPz5anAI4uF77N9vsMz4W8V848QUtPlpitDcwaj0+EV0zPpd5Kz4C3Qs4aUoAOEtglTc1dTQ+p9KFOEVngjgUBTc+WLkLOCYbGTjQFjg4V2YzPojgUDjv9TY+Fn4+PicY9Dca6kI+yHoEONFePD4BIDQ+YMotPvTviDcA+CI4FQE7PklXMD6ow7o3JPQkPk8sWzdy2yM4ckAzPiWlOD4OWi8+fIgrPpP22DflUDA+jegdOObMLj6bIQw4uX4jOC6rLzih9To+KuscOFzGLz5XACM+fcg1Pv2f7Df9AzM+jsonPgpGYTgRb5I3xFwxPrQiPD4rxTU+j2Q8PtJSNzcmdc83808zPtQCLziMskA+M38zPk1IQD7jcjY4v9o4PlTN1Tf9ghk4gCvjN/6CnDcHTbw3HxIqOFvQ8Dd9s1k40bwyPl6ELz6Xajo+oMUfOIUTAzjRbkA+znw4PqZsNj71PBk4pdk0PprwMD4=",
          "dtype": "f4"
         }
        },
        {
         "marker": {
          "color": "black",
          "opacity": 0.5,
          "size": 1
         },
         "mode": "markers",
         "type": "scatter",
         "x": {
          "bdata": "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",
          "dtype": "f8"
         },
         "y": {
          "bdata": "M0IrPlwSAjghb4k3hkInPukjHj5B/OQ2XY4nPq8HJT4RyiY+rL8hPixu+zdFqEk3pn0fPgbvLT66IzQ3gE0iPtskdTc/ZyE+xy4pPk9PMT6lxjA+JMElPthCzzcgciI+hALXNxnjJj6dFCQ+LW0IOP8pJj5cmgs41f0rPs8a5jfux7I38RslPvOLJD7fTiE++NIkPoryJj51iC8+4l0lPr4sOzgVMiM+378fPm0mJj4bkCY+tMMoPvSUIT7Luic+okIjPjxpDTiEuyk+POflNw6AszfTnCc+WQckPvBTHT6qpCk+o2coPjIYnDfolps3xqgwPmQ6tzdFqMA3PFUjPm3fGj6LPbo3XeGjNxBBJj5qmto3rT2qNxl3JD6i/aw3808nPnqMKD4lyyM+litDOGSTJz7PMRk+h94HOK4LLz7f/C4+DTotPhGwCTiHeCQ+i/QoPpUBJD44tb03QyuMN3+KMD6g/yk+w/AhPjZVWTjKayo+ev0nPudemDdEuvM3u4v4NyqcJD5HNyc+l8T9Nz5G+Dc6lL03Ujm4NxSVKD5hKSU+vSMlPiEoKT4mVSw+eeYtPiGrFzihqro38QDsN6LxLD4sVbc37nolPrk/Hj4VLCg+R2olPq94Kj7bXp43WCYbPrZmlDerejI472gjPshSHj5VrCQ++KgePs1QozdZvxo+Lk7WN3L/Jj4Lucw3wgoyPm95cjeF8Sg4F0L6N1PQGj4YgGc3ee0tPtB6Iz7mlCQ+27knPib+uTfe4iY+oqz1N03lIj6g3yI+p1+JN8NjJz5FzjE+HyhpNw518Dcf2pY3qukgPuY+KD4EFSo+IWRIN+Kr2jdtuSk+5JEcOA+KBDg9myQ+x3IgPuGF7DcZ6Cw+ZJsnPixAIT5HzCg+kq2eN3dbWjfOu643ZsaLN3QeJT7n3x0+kbQuPnZcBzgQYgg4A3oxN8LZID5R7Cs+2X0iPt0zlDdIySM+aPIHOHrGJT5OWiI+l2olPkcaKz5Agys+TgghPudFLj5G6S8+BT9WOLwGKD5kIyY+ZcqkN8DOKT5GpXc3XRItOPE+JD4=",
          "dtype": "f4"
         }
        },
        {
         "marker": {
          "color": "black",
          "opacity": 0.5,
          "size": 1
         },
         "mode": "markers",
         "type": "scatter",
         "x": {
          "bdata": "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",
          "dtype": "f8"
         },
         "y": {
          "bdata": "GcEdPp80Fz7qYw8+91M0OMUJKTjEGhc+1ACsN+R8Fj6N+XY3VaaUN8UMFz5l6RQ+/3gVPpHGDD4EmhU+JP1ZN/EFGD5D3fs3y5MZPrunrDcBzRo+Q8kPPjUhGj5Dstc36nIXPm5UFT7bVhU+z1kTPth7HT4ql4Q3D1XPN+zSHj6lbhk+ZQMOPq6xFT6A+qs3ZYcLN49lGj6Utx0+1QQSPtTaEz6hTxM+0ncZPhuwDz5aaws+3YQYOMEpHD4x6rg30LrWNynd5Td4tBE+xzYUPhYGFT5d/7I37AOwN+GDDj53Hxg+CzeNNzIfvTflPB8+aYEaONdqET7PfBE+TBOqN7I6GD7AzhM+TkUQPsaT5TeAsRc+qrCoN1EzFz7UqbM3YxCVN8QNEz5IHRE+2a2rN+DMEz6Yo3Q3lO+VNx7/FD5YhKI30w8aPgjNEz6waJU3ezWvN8eRrzdfcJY3ZiGxN9aNyTcoihg+w8IWPrEFGD52MAs+aVAhNzfWFj6Ffok3jn8PPpLeEz6tihQ+2JEgPv+tGT7RNBA+4dawNyzdGD46mhQ+oLobPgPiET5Z6wo+Ld0ZPh6ZDT4hXxU+NlsaPqCKGD5YO2A3Zo+MN7OJyTcLzBE+Ila0N1TEFT6AIQ0+zmEGOCAqHz4H/HA337kWPk8qFz68Zxc+NG51N7afGD4WJBQ++uEQPqL2Ez4Krww4aV8SPj0FEz53og4+/WPhNx98Ej7aIBc+p+sZPmFnHD6clhY+m9sSPkpLGz5Jhho+1qirN2bMmzfL8JA30b8SPnf9ET6Jyhg+ImO6N5M+GT68EK03XWCMN+7FEz67tBI+2mUPPnzADj4qohc+AJUSPq7IEz7wtBA+5MIYPmMfsDdfdxU+vKsVPkrpGD7pyBM+qksOPjKQFj7ymZs3Pg8YPpQOFj5tnAw+9SO/N2juFD4X7hM+jFcaPipDFD6/ifE39JgTPol1HT7dhRs+iEAUPpYVIT6sgxU+ZHEUPsoqFz5AniM3c7cSPi3iFj71ixs+Cw4MPkr9djc+kxU+VLYYPkYSEz5cdQ44w11jN53iCj4=",
          "dtype": "f4"
         }
        }
       ],
       "layout": {
        "annotations": [
         {
          "showarrow": false,
          "text": "1/2",
          "x": 1,
          "xanchor": "right",
          "xref": "x domain",
          "y": 0.5,
          "yanchor": "bottom",
          "yref": "y"
         },
         {
          "showarrow": false,
          "text": "2/3",
          "x": 1,
          "xanchor": "right",
          "xref": "x domain",
          "y": 0.6666666666666666,
          "yanchor": "bottom",
          "yref": "y"
         },
         {
          "showarrow": false,
          "text": "2/5",
          "x": 1,
          "xanchor": "right",
          "xref": "x domain",
          "y": 0.4,
          "yanchor": "bottom",
          "yref": "y"
         },
         {
          "showarrow": false,
          "text": "2/6",
          "x": 1,
          "xanchor": "right",
          "xref": "x domain",
          "y": 0.3333333333333333,
          "yanchor": "bottom",
          "yref": "y"
         },
         {
          "showarrow": false,
          "text": "2/7",
          "x": 1,
          "xanchor": "right",
          "xref": "x domain",
          "y": 0.2857142857142857,
          "yanchor": "bottom",
          "yref": "y"
         },
         {
          "showarrow": false,
          "text": "5/6",
          "x": 0.05,
          "xanchor": "right",
          "xref": "x domain",
          "y": 0.8333333333333334,
          "yanchor": "bottom",
          "yref": "y"
         },
         {
          "showarrow": false,
          "text": "4/5",
          "x": 0.05,
          "xanchor": "right",
          "xref": "x domain",
          "y": 0.8,
          "yanchor": "bottom",
          "yref": "y"
         },
         {
          "showarrow": false,
          "text": "3/4",
          "x": 0.05,
          "xanchor": "right",
          "xref": "x domain",
          "y": 0.75,
          "yanchor": "bottom",
          "yref": "y"
         },
         {
          "showarrow": false,
          "text": "3/8",
          "x": 0.05,
          "xanchor": "right",
          "xref": "x domain",
          "y": 0.375,
          "yanchor": "bottom",
          "yref": "y"
         },
         {
          "showarrow": false,
          "text": "3/12",
          "x": 0.05,
          "xanchor": "right",
          "xref": "x domain",
          "y": 0.25,
          "yanchor": "bottom",
          "yref": "y"
         },
         {
          "showarrow": false,
          "text": "3/20",
          "x": 0.05,
          "xanchor": "right",
          "xref": "x domain",
          "y": 0.15,
          "yanchor": "bottom",
          "yref": "y"
         }
        ],
        "shapes": [
         {
          "line": {
           "color": "purple"
          },
          "opacity": 0.2,
          "type": "line",
          "x0": 0,
          "x1": 1,
          "xref": "x domain",
          "y0": 0.5,
          "y1": 0.5,
          "yref": "y"
         },
         {
          "line": {
           "color": "purple"
          },
          "opacity": 0.2,
          "type": "line",
          "x0": 0,
          "x1": 1,
          "xref": "x domain",
          "y0": 0.6666666666666666,
          "y1": 0.6666666666666666,
          "yref": "y"
         },
         {
          "line": {
           "color": "purple"
          },
          "opacity": 0.2,
          "type": "line",
          "x0": 0,
          "x1": 1,
          "xref": "x domain",
          "y0": 0.4,
          "y1": 0.4,
          "yref": "y"
         },
         {
          "line": {
           "color": "purple"
          },
          "opacity": 0.2,
          "type": "line",
          "x0": 0,
          "x1": 1,
          "xref": "x domain",
          "y0": 0.3333333333333333,
          "y1": 0.3333333333333333,
          "yref": "y"
         },
         {
          "line": {
           "color": "purple"
          },
          "opacity": 0.2,
          "type": "line",
          "x0": 0,
          "x1": 1,
          "xref": "x domain",
          "y0": 0.2857142857142857,
          "y1": 0.2857142857142857,
          "yref": "y"
         },
         {
          "line": {
           "color": "blue"
          },
          "opacity": 0.2,
          "type": "line",
          "x0": 0,
          "x1": 1,
          "xref": "x domain",
          "y0": 0.8333333333333334,
          "y1": 0.8333333333333334,
          "yref": "y"
         },
         {
          "line": {
           "color": "blue"
          },
          "opacity": 0.2,
          "type": "line",
          "x0": 0,
          "x1": 1,
          "xref": "x domain",
          "y0": 0.8,
          "y1": 0.8,
          "yref": "y"
         },
         {
          "line": {
           "color": "blue"
          },
          "opacity": 0.2,
          "type": "line",
          "x0": 0,
          "x1": 1,
          "xref": "x domain",
          "y0": 0.75,
          "y1": 0.75,
          "yref": "y"
         },
         {
          "line": {
           "color": "blue"
          },
          "opacity": 0.2,
          "type": "line",
          "x0": 0,
          "x1": 1,
          "xref": "x domain",
          "y0": 0.375,
          "y1": 0.375,
          "yref": "y"
         },
         {
          "line": {
           "color": "blue"
          },
          "opacity": 0.2,
          "type": "line",
          "x0": 0,
          "x1": 1,
          "xref": "x domain",
          "y0": 0.25,
          "y1": 0.25,
          "yref": "y"
         },
         {
          "line": {
           "color": "blue"
          },
          "opacity": 0.2,
          "type": "line",
          "x0": 0,
          "x1": 1,
          "xref": "x domain",
          "y0": 0.15,
          "y1": 0.15,
          "yref": "y"
         }
        ],
        "showlegend": false,
        "template": {
         "data": {
          "bar": [
           {
            "error_x": {
             "color": "#2a3f5f"
            },
            "error_y": {
             "color": "#2a3f5f"
            },
            "marker": {
             "line": {
              "color": "#E5ECF6",
              "width": 0.5
             },
             "pattern": {
              "fillmode": "overlay",
              "size": 10,
              "solidity": 0.2
             }
            },
            "type": "bar"
           }
          ],
          "barpolar": [
           {
            "marker": {
             "line": {
              "color": "#E5ECF6",
              "width": 0.5
             },
             "pattern": {
              "fillmode": "overlay",
              "size": 10,
              "solidity": 0.2
             }
            },
            "type": "barpolar"
           }
          ],
          "carpet": [
           {
            "aaxis": {
             "endlinecolor": "#2a3f5f",
             "gridcolor": "white",
             "linecolor": "white",
             "minorgridcolor": "white",
             "startlinecolor": "#2a3f5f"
            },
            "baxis": {
             "endlinecolor": "#2a3f5f",
             "gridcolor": "white",
             "linecolor": "white",
             "minorgridcolor": "white",
             "startlinecolor": "#2a3f5f"
            },
            "type": "carpet"
           }
          ],
          "choropleth": [
           {
            "colorbar": {
             "outlinewidth": 0,
             "ticks": ""
            },
            "type": "choropleth"
           }
          ],
          "contour": [
           {
            "colorbar": {
             "outlinewidth": 0,
             "ticks": ""
            },
            "colorscale": [
             [
              0,
              "#0d0887"
             ],
             [
              0.1111111111111111,
              "#46039f"
             ],
             [
              0.2222222222222222,
              "#7201a8"
             ],
             [
              0.3333333333333333,
              "#9c179e"
             ],
             [
              0.4444444444444444,
              "#bd3786"
             ],
             [
              0.5555555555555556,
              "#d8576b"
             ],
             [
              0.6666666666666666,
              "#ed7953"
             ],
             [
              0.7777777777777778,
              "#fb9f3a"
             ],
             [
              0.8888888888888888,
              "#fdca26"
             ],
             [
              1,
              "#f0f921"
             ]
            ],
            "type": "contour"
           }
          ],
          "contourcarpet": [
           {
            "colorbar": {
             "outlinewidth": 0,
             "ticks": ""
            },
            "type": "contourcarpet"
           }
          ],
          "heatmap": [
           {
            "colorbar": {
             "outlinewidth": 0,
             "ticks": ""
            },
            "colorscale": [
             [
              0,
              "#0d0887"
             ],
             [
              0.1111111111111111,
              "#46039f"
             ],
             [
              0.2222222222222222,
              "#7201a8"
             ],
             [
              0.3333333333333333,
              "#9c179e"
             ],
             [
              0.4444444444444444,
              "#bd3786"
             ],
             [
              0.5555555555555556,
              "#d8576b"
             ],
             [
              0.6666666666666666,
              "#ed7953"
             ],
             [
              0.7777777777777778,
              "#fb9f3a"
             ],
             [
              0.8888888888888888,
              "#fdca26"
             ],
             [
              1,
              "#f0f921"
             ]
            ],
            "type": "heatmap"
           }
          ],
          "histogram": [
           {
            "marker": {
             "pattern": {
              "fillmode": "overlay",
              "size": 10,
              "solidity": 0.2
             }
            },
            "type": "histogram"
           }
          ],
          "histogram2d": [
           {
            "colorbar": {
             "outlinewidth": 0,
             "ticks": ""
            },
            "colorscale": [
             [
              0,
              "#0d0887"
             ],
             [
              0.1111111111111111,
              "#46039f"
             ],
             [
              0.2222222222222222,
              "#7201a8"
             ],
             [
              0.3333333333333333,
              "#9c179e"
             ],
             [
              0.4444444444444444,
              "#bd3786"
             ],
             [
              0.5555555555555556,
              "#d8576b"
             ],
             [
              0.6666666666666666,
              "#ed7953"
             ],
             [
              0.7777777777777778,
              "#fb9f3a"
             ],
             [
              0.8888888888888888,
              "#fdca26"
             ],
             [
              1,
              "#f0f921"
             ]
            ],
            "type": "histogram2d"
           }
          ],
          "histogram2dcontour": [
           {
            "colorbar": {
             "outlinewidth": 0,
             "ticks": ""
            },
            "colorscale": [
             [
              0,
              "#0d0887"
             ],
             [
              0.1111111111111111,
              "#46039f"
             ],
             [
              0.2222222222222222,
              "#7201a8"
             ],
             [
              0.3333333333333333,
              "#9c179e"
             ],
             [
              0.4444444444444444,
              "#bd3786"
             ],
             [
              0.5555555555555556,
              "#d8576b"
             ],
             [
              0.6666666666666666,
              "#ed7953"
             ],
             [
              0.7777777777777778,
              "#fb9f3a"
             ],
             [
              0.8888888888888888,
              "#fdca26"
             ],
             [
              1,
              "#f0f921"
             ]
            ],
            "type": "histogram2dcontour"
           }
          ],
          "mesh3d": [
           {
            "colorbar": {
             "outlinewidth": 0,
             "ticks": ""
            },
            "type": "mesh3d"
           }
          ],
          "parcoords": [
           {
            "line": {
             "colorbar": {
              "outlinewidth": 0,
              "ticks": ""
             }
            },
            "type": "parcoords"
           }
          ],
          "pie": [
           {
            "automargin": true,
            "type": "pie"
           }
          ],
          "scatter": [
           {
            "fillpattern": {
             "fillmode": "overlay",
             "size": 10,
             "solidity": 0.2
            },
            "type": "scatter"
           }
          ],
          "scatter3d": [
           {
            "line": {
             "colorbar": {
              "outlinewidth": 0,
              "ticks": ""
             }
            },
            "marker": {
             "colorbar": {
              "outlinewidth": 0,
              "ticks": ""
             }
            },
            "type": "scatter3d"
           }
          ],
          "scattercarpet": [
           {
            "marker": {
             "colorbar": {
              "outlinewidth": 0,
              "ticks": ""
             }
            },
            "type": "scattercarpet"
           }
          ],
          "scattergeo": [
           {
            "marker": {
             "colorbar": {
              "outlinewidth": 0,
              "ticks": ""
             }
            },
            "type": "scattergeo"
           }
          ],
          "scattergl": [
           {
            "marker": {
             "colorbar": {
              "outlinewidth": 0,
              "ticks": ""
             }
            },
            "type": "scattergl"
           }
          ],
          "scattermap": [
           {
            "marker": {
             "colorbar": {
              "outlinewidth": 0,
              "ticks": ""
             }
            },
            "type": "scattermap"
           }
          ],
          "scattermapbox": [
           {
            "marker": {
             "colorbar": {
              "outlinewidth": 0,
              "ticks": ""
             }
            },
            "type": "scattermapbox"
           }
          ],
          "scatterpolar": [
           {
            "marker": {
             "colorbar": {
              "outlinewidth": 0,
              "ticks": ""
             }
            },
            "type": "scatterpolar"
           }
          ],
          "scatterpolargl": [
           {
            "marker": {
             "colorbar": {
              "outlinewidth": 0,
              "ticks": ""
             }
            },
            "type": "scatterpolargl"
           }
          ],
          "scatterternary": [
           {
            "marker": {
             "colorbar": {
              "outlinewidth": 0,
              "ticks": ""
             }
            },
            "type": "scatterternary"
           }
          ],
          "surface": [
           {
            "colorbar": {
             "outlinewidth": 0,
             "ticks": ""
            },
            "colorscale": [
             [
              0,
              "#0d0887"
             ],
             [
              0.1111111111111111,
              "#46039f"
             ],
             [
              0.2222222222222222,
              "#7201a8"
             ],
             [
              0.3333333333333333,
              "#9c179e"
             ],
             [
              0.4444444444444444,
              "#bd3786"
             ],
             [
              0.5555555555555556,
              "#d8576b"
             ],
             [
              0.6666666666666666,
              "#ed7953"
             ],
             [
              0.7777777777777778,
              "#fb9f3a"
             ],
             [
              0.8888888888888888,
              "#fdca26"
             ],
             [
              1,
              "#f0f921"
             ]
            ],
            "type": "surface"
           }
          ],
          "table": [
           {
            "cells": {
             "fill": {
              "color": "#EBF0F8"
             },
             "line": {
              "color": "white"
             }
            },
            "header": {
             "fill": {
              "color": "#C8D4E3"
             },
             "line": {
              "color": "white"
             }
            },
            "type": "table"
           }
          ]
         },
         "layout": {
          "annotationdefaults": {
           "arrowcolor": "#2a3f5f",
           "arrowhead": 0,
           "arrowwidth": 1
          },
          "autotypenumbers": "strict",
          "coloraxis": {
           "colorbar": {
            "outlinewidth": 0,
            "ticks": ""
           }
          },
          "colorscale": {
           "diverging": [
            [
             0,
             "#8e0152"
            ],
            [
             0.1,
             "#c51b7d"
            ],
            [
             0.2,
             "#de77ae"
            ],
            [
             0.3,
             "#f1b6da"
            ],
            [
             0.4,
             "#fde0ef"
            ],
            [
             0.5,
             "#f7f7f7"
            ],
            [
             0.6,
             "#e6f5d0"
            ],
            [
             0.7,
             "#b8e186"
            ],
            [
             0.8,
             "#7fbc41"
            ],
            [
             0.9,
             "#4d9221"
            ],
            [
             1,
             "#276419"
            ]
           ],
           "sequential": [
            [
             0,
             "#0d0887"
            ],
            [
             0.1111111111111111,
             "#46039f"
            ],
            [
             0.2222222222222222,
             "#7201a8"
            ],
            [
             0.3333333333333333,
             "#9c179e"
            ],
            [
             0.4444444444444444,
             "#bd3786"
            ],
            [
             0.5555555555555556,
             "#d8576b"
            ],
            [
             0.6666666666666666,
             "#ed7953"
            ],
            [
             0.7777777777777778,
             "#fb9f3a"
            ],
            [
             0.8888888888888888,
             "#fdca26"
            ],
            [
             1,
             "#f0f921"
            ]
           ],
           "sequentialminus": [
            [
             0,
             "#0d0887"
            ],
            [
             0.1111111111111111,
             "#46039f"
            ],
            [
             0.2222222222222222,
             "#7201a8"
            ],
            [
             0.3333333333333333,
             "#9c179e"
            ],
            [
             0.4444444444444444,
             "#bd3786"
            ],
            [
             0.5555555555555556,
             "#d8576b"
            ],
            [
             0.6666666666666666,
             "#ed7953"
            ],
            [
             0.7777777777777778,
             "#fb9f3a"
            ],
            [
             0.8888888888888888,
             "#fdca26"
            ],
            [
             1,
             "#f0f921"
            ]
           ]
          },
          "colorway": [
           "#636efa",
           "#EF553B",
           "#00cc96",
           "#ab63fa",
           "#FFA15A",
           "#19d3f3",
           "#FF6692",
           "#B6E880",
           "#FF97FF",
           "#FECB52"
          ],
          "font": {
           "color": "#2a3f5f"
          },
          "geo": {
           "bgcolor": "white",
           "lakecolor": "white",
           "landcolor": "#E5ECF6",
           "showlakes": true,
           "showland": true,
           "subunitcolor": "white"
          },
          "hoverlabel": {
           "align": "left"
          },
          "hovermode": "closest",
          "mapbox": {
           "style": "light"
          },
          "paper_bgcolor": "white",
          "plot_bgcolor": "#E5ECF6",
          "polar": {
           "angularaxis": {
            "gridcolor": "white",
            "linecolor": "white",
            "ticks": ""
           },
           "bgcolor": "#E5ECF6",
           "radialaxis": {
            "gridcolor": "white",
            "linecolor": "white",
            "ticks": ""
           }
          },
          "scene": {
           "xaxis": {
            "backgroundcolor": "#E5ECF6",
            "gridcolor": "white",
            "gridwidth": 2,
            "linecolor": "white",
            "showbackground": true,
            "ticks": "",
            "zerolinecolor": "white"
           },
           "yaxis": {
            "backgroundcolor": "#E5ECF6",
            "gridcolor": "white",
            "gridwidth": 2,
            "linecolor": "white",
            "showbackground": true,
            "ticks": "",
            "zerolinecolor": "white"
           },
           "zaxis": {
            "backgroundcolor": "#E5ECF6",
            "gridcolor": "white",
            "gridwidth": 2,
            "linecolor": "white",
            "showbackground": true,
            "ticks": "",
            "zerolinecolor": "white"
           }
          },
          "shapedefaults": {
           "line": {
            "color": "#2a3f5f"
           }
          },
          "ternary": {
           "aaxis": {
            "gridcolor": "white",
            "linecolor": "white",
            "ticks": ""
           },
           "baxis": {
            "gridcolor": "white",
            "linecolor": "white",
            "ticks": ""
           },
           "bgcolor": "#E5ECF6",
           "caxis": {
            "gridcolor": "white",
            "linecolor": "white",
            "ticks": ""
           }
          },
          "title": {
           "x": 0.05
          },
          "xaxis": {
           "automargin": true,
           "gridcolor": "white",
           "linecolor": "white",
           "ticks": "",
           "title": {
            "standoff": 15
           },
           "zerolinecolor": "white",
           "zerolinewidth": 2
          },
          "yaxis": {
           "automargin": true,
           "gridcolor": "white",
           "linecolor": "white",
           "ticks": "",
           "title": {
            "standoff": 15
           },
           "zerolinecolor": "white",
           "zerolinewidth": 2
          }
         }
        },
        "xaxis": {
         "showgrid": false,
         "title": {
          "text": "1/(1-S)"
         },
         "type": "log"
        },
        "yaxis": {
         "showgrid": false
        }
       }
      }
     },
     "metadata": {},
     "output_type": "display_data"
    }
   ],
   "source": [
    "fig = go.Figure()\n",
    "\n",
    "density = model.feature_probability[:, 0].cpu()\n",
    "W = model.W.detach()\n",
    "\n",
    "for a,b in [(1,2), (2,3), (2,5), (2,6), (2,7)]:\n",
    "    val = a/b\n",
    "    fig.add_hline(val, line_color=\"purple\", opacity=0.2, annotation=dict(text=f\"{a}/{b}\"))\n",
    "\n",
    "for a,b in [(5,6), (4,5), (3,4), (3,8), (3,12), (3,20)]:\n",
    "    val = a/b\n",
    "    fig.add_hline(val, line_color=\"blue\", opacity=0.2, annotation=dict(text=f\"{a}/{b}\", x=0.05))\n",
    "\n",
    "for i in range(len(W)):\n",
    "    fracs_ = dim_fracs[i]\n",
    "    N = fracs_.shape[0]\n",
    "    xs = 1/density\n",
    "    if i!= len(W)-1:\n",
    "        dx = xs[i+1]-xs[i]\n",
    "    fig.add_trace(\n",
    "        go.Scatter(\n",
    "            x=1/density[i]*np.ones(N)+dx*np.random.uniform(-0.1,0.1,N),\n",
    "            y=fracs_,\n",
    "            marker=dict(\n",
    "                color='black',\n",
    "                size=1,\n",
    "                opacity=0.5,\n",
    "            ),\n",
    "            mode='markers',\n",
    "        )\n",
    "    )\n",
    "\n",
    "fig.update_xaxes(\n",
    "    type='log', \n",
    "    title='1/(1-S)',\n",
    "    showgrid=False,\n",
    ")\n",
    "fig.update_yaxes(\n",
    "    showgrid=False\n",
    ")\n",
    "fig.update_layout(showlegend=False)"
   ]
  }
 ],
 "metadata": {
  "accelerator": "GPU",
  "colab": {
   "collapsed_sections": [],
   "provenance": []
  },
  "gpuClass": "standard",
  "kernelspec": {
   "display_name": "newtorch",
   "language": "python",
   "name": "python3"
  },
  "language_info": {
   "codemirror_mode": {
    "name": "ipython",
    "version": 3
   },
   "file_extension": ".py",
   "mimetype": "text/x-python",
   "name": "python",
   "nbconvert_exporter": "python",
   "pygments_lexer": "ipython3",
   "version": "3.12.9"
  },
  "widgets": {
   "application/vnd.jupyter.widget-state+json": {
    "05371493fb394d60ab276fe17488213f": {
     "model_module": "@jupyter-widgets/controls",
     "model_module_version": "1.5.0",
     "model_name": "HBoxModel",
     "state": {
      "_dom_classes": [],
      "_model_module": "@jupyter-widgets/controls",
      "_model_module_version": "1.5.0",
      "_model_name": "HBoxModel",
      "_view_count": null,
      "_view_module": "@jupyter-widgets/controls",
      "_view_module_version": "1.5.0",
      "_view_name": "HBoxView",
      "box_style": "",
      "children": [
       "IPY_MODEL_b6e1e2a2329148d68a709571e016b858",
       "IPY_MODEL_f5fb761ec6de404398f5517e21e0d46b",
       "IPY_MODEL_081fd85ccb724b2c98366620a747b77b"
      ],
      "layout": "IPY_MODEL_dc421acdf45149fd87cd81d56e9031cd"
     }
    },
    "081fd85ccb724b2c98366620a747b77b": {
     "model_module": "@jupyter-widgets/controls",
     "model_module_version": "1.5.0",
     "model_name": "HTMLModel",
     "state": {
      "_dom_classes": [],
      "_model_module": "@jupyter-widgets/controls",
      "_model_module_version": "1.5.0",
      "_model_name": "HTMLModel",
      "_view_count": null,
      "_view_module": "@jupyter-widgets/controls",
      "_view_module_version": "1.5.0",
      "_view_name": "HTMLView",
      "description": "",
      "description_tooltip": null,
      "layout": "IPY_MODEL_0d65324158214bb8b73f3cc13e461be4",
      "placeholder": "​",
      "style": "IPY_MODEL_3f0aa91dd60a45a292c2b52cfbbce8fa",
      "value": " 10000/10000 [00:39&lt;00:00, 300.04it/s, loss=0.0538, lr=0.001]"
     }
    },
    "0d65324158214bb8b73f3cc13e461be4": {
     "model_module": "@jupyter-widgets/base",
     "model_module_version": "1.2.0",
     "model_name": "LayoutModel",
     "state": {
      "_model_module": "@jupyter-widgets/base",
      "_model_module_version": "1.2.0",
      "_model_name": "LayoutModel",
      "_view_count": null,
      "_view_module": "@jupyter-widgets/base",
      "_view_module_version": "1.2.0",
      "_view_name": "LayoutView",
      "align_content": null,
      "align_items": null,
      "align_self": null,
      "border": null,
      "bottom": null,
      "display": null,
      "flex": null,
      "flex_flow": null,
      "grid_area": null,
      "grid_auto_columns": null,
      "grid_auto_flow": null,
      "grid_auto_rows": null,
      "grid_column": null,
      "grid_gap": null,
      "grid_row": null,
      "grid_template_areas": null,
      "grid_template_columns": null,
      "grid_template_rows": null,
      "height": null,
      "justify_content": null,
      "justify_items": null,
      "left": null,
      "margin": null,
      "max_height": null,
      "max_width": null,
      "min_height": null,
      "min_width": null,
      "object_fit": null,
      "object_position": null,
      "order": null,
      "overflow": null,
      "overflow_x": null,
      "overflow_y": null,
      "padding": null,
      "right": null,
      "top": null,
      "visibility": null,
      "width": null
     }
    },
    "13bbce3d04234a68805f5668bd4e7cae": {
     "model_module": "@jupyter-widgets/base",
     "model_module_version": "1.2.0",
     "model_name": "LayoutModel",
     "state": {
      "_model_module": "@jupyter-widgets/base",
      "_model_module_version": "1.2.0",
      "_model_name": "LayoutModel",
      "_view_count": null,
      "_view_module": "@jupyter-widgets/base",
      "_view_module_version": "1.2.0",
      "_view_name": "LayoutView",
      "align_content": null,
      "align_items": null,
      "align_self": null,
      "border": null,
      "bottom": null,
      "display": null,
      "flex": null,
      "flex_flow": null,
      "grid_area": null,
      "grid_auto_columns": null,
      "grid_auto_flow": null,
      "grid_auto_rows": null,
      "grid_column": null,
      "grid_gap": null,
      "grid_row": null,
      "grid_template_areas": null,
      "grid_template_columns": null,
      "grid_template_rows": null,
      "height": null,
      "justify_content": null,
      "justify_items": null,
      "left": null,
      "margin": null,
      "max_height": null,
      "max_width": null,
      "min_height": null,
      "min_width": null,
      "object_fit": null,
      "object_position": null,
      "order": null,
      "overflow": null,
      "overflow_x": null,
      "overflow_y": null,
      "padding": null,
      "right": null,
      "top": null,
      "visibility": null,
      "width": null
     }
    },
    "2529ee9a67314e2294e7e9efdcf20768": {
     "model_module": "@jupyter-widgets/controls",
     "model_module_version": "1.5.0",
     "model_name": "HTMLModel",
     "state": {
      "_dom_classes": [],
      "_model_module": "@jupyter-widgets/controls",
      "_model_module_version": "1.5.0",
      "_model_name": "HTMLModel",
      "_view_count": null,
      "_view_module": "@jupyter-widgets/controls",
      "_view_module_version": "1.5.0",
      "_view_name": "HTMLView",
      "description": "",
      "description_tooltip": null,
      "layout": "IPY_MODEL_be2f0859bd3f4fca90d3b4bdf44f0958",
      "placeholder": "​",
      "style": "IPY_MODEL_5c1bf989dc904dd781fe237488754851",
      "value": "100%"
     }
    },
    "33262117e99a4effb2b23208b72912f1": {
     "model_module": "@jupyter-widgets/controls",
     "model_module_version": "1.5.0",
     "model_name": "FloatProgressModel",
     "state": {
      "_dom_classes": [],
      "_model_module": "@jupyter-widgets/controls",
      "_model_module_version": "1.5.0",
      "_model_name": "FloatProgressModel",
      "_view_count": null,
      "_view_module": "@jupyter-widgets/controls",
      "_view_module_version": "1.5.0",
      "_view_name": "ProgressView",
      "bar_style": "success",
      "description": "",
      "description_tooltip": null,
      "layout": "IPY_MODEL_f9b77a7783c041a5994f645545f46a4d",
      "max": 10000,
      "min": 0,
      "orientation": "horizontal",
      "style": "IPY_MODEL_a09058eea509491198cf92c1b70f4b7d",
      "value": 10000
     }
    },
    "3f0aa91dd60a45a292c2b52cfbbce8fa": {
     "model_module": "@jupyter-widgets/controls",
     "model_module_version": "1.5.0",
     "model_name": "DescriptionStyleModel",
     "state": {
      "_model_module": "@jupyter-widgets/controls",
      "_model_module_version": "1.5.0",
      "_model_name": "DescriptionStyleModel",
      "_view_count": null,
      "_view_module": "@jupyter-widgets/base",
      "_view_module_version": "1.2.0",
      "_view_name": "StyleView",
      "description_width": ""
     }
    },
    "57b2d9eb950b4c2eb1706463de18da8b": {
     "model_module": "@jupyter-widgets/controls",
     "model_module_version": "1.5.0",
     "model_name": "FloatProgressModel",
     "state": {
      "_dom_classes": [],
      "_model_module": "@jupyter-widgets/controls",
      "_model_module_version": "1.5.0",
      "_model_name": "FloatProgressModel",
      "_view_count": null,
      "_view_module": "@jupyter-widgets/controls",
      "_view_module_version": "1.5.0",
      "_view_name": "ProgressView",
      "bar_style": "success",
      "description": "",
      "description_tooltip": null,
      "layout": "IPY_MODEL_8275832d816748b8b90b668a1491a291",
      "max": 10000,
      "min": 0,
      "orientation": "horizontal",
      "style": "IPY_MODEL_f41d9f8baa9f4198924deb3caf180892",
      "value": 10000
     }
    },
    "5c1bf989dc904dd781fe237488754851": {
     "model_module": "@jupyter-widgets/controls",
     "model_module_version": "1.5.0",
     "model_name": "DescriptionStyleModel",
     "state": {
      "_model_module": "@jupyter-widgets/controls",
      "_model_module_version": "1.5.0",
      "_model_name": "DescriptionStyleModel",
      "_view_count": null,
      "_view_module": "@jupyter-widgets/base",
      "_view_module_version": "1.2.0",
      "_view_name": "StyleView",
      "description_width": ""
     }
    },
    "5f651bcc02de4892bc6ace2170187052": {
     "model_module": "@jupyter-widgets/controls",
     "model_module_version": "1.5.0",
     "model_name": "HTMLModel",
     "state": {
      "_dom_classes": [],
      "_model_module": "@jupyter-widgets/controls",
      "_model_module_version": "1.5.0",
      "_model_name": "HTMLModel",
      "_view_count": null,
      "_view_module": "@jupyter-widgets/controls",
      "_view_module_version": "1.5.0",
      "_view_name": "HTMLView",
      "description": "",
      "description_tooltip": null,
      "layout": "IPY_MODEL_13bbce3d04234a68805f5668bd4e7cae",
      "placeholder": "​",
      "style": "IPY_MODEL_fc49b5cd3b5a4dd3b572712b23a88fcb",
      "value": "100%"
     }
    },
    "5f756884ece84bee89d895e84bcad4d0": {
     "model_module": "@jupyter-widgets/controls",
     "model_module_version": "1.5.0",
     "model_name": "DescriptionStyleModel",
     "state": {
      "_model_module": "@jupyter-widgets/controls",
      "_model_module_version": "1.5.0",
      "_model_name": "DescriptionStyleModel",
      "_view_count": null,
      "_view_module": "@jupyter-widgets/base",
      "_view_module_version": "1.2.0",
      "_view_name": "StyleView",
      "description_width": ""
     }
    },
    "6de322b6962e4e4b974b2b4d79bf5bea": {
     "model_module": "@jupyter-widgets/controls",
     "model_module_version": "1.5.0",
     "model_name": "HTMLModel",
     "state": {
      "_dom_classes": [],
      "_model_module": "@jupyter-widgets/controls",
      "_model_module_version": "1.5.0",
      "_model_name": "HTMLModel",
      "_view_count": null,
      "_view_module": "@jupyter-widgets/controls",
      "_view_module_version": "1.5.0",
      "_view_name": "HTMLView",
      "description": "",
      "description_tooltip": null,
      "layout": "IPY_MODEL_992a19c9c2ee4565841ced9a07382625",
      "placeholder": "​",
      "style": "IPY_MODEL_87e80c745a9c4c378a4d7a537ed42361",
      "value": " 10000/10000 [00:11&lt;00:00, 892.42it/s, loss=0.0207, lr=0.001]"
     }
    },
    "8275832d816748b8b90b668a1491a291": {
     "model_module": "@jupyter-widgets/base",
     "model_module_version": "1.2.0",
     "model_name": "LayoutModel",
     "state": {
      "_model_module": "@jupyter-widgets/base",
      "_model_module_version": "1.2.0",
      "_model_name": "LayoutModel",
      "_view_count": null,
      "_view_module": "@jupyter-widgets/base",
      "_view_module_version": "1.2.0",
      "_view_name": "LayoutView",
      "align_content": null,
      "align_items": null,
      "align_self": null,
      "border": null,
      "bottom": null,
      "display": null,
      "flex": null,
      "flex_flow": null,
      "grid_area": null,
      "grid_auto_columns": null,
      "grid_auto_flow": null,
      "grid_auto_rows": null,
      "grid_column": null,
      "grid_gap": null,
      "grid_row": null,
      "grid_template_areas": null,
      "grid_template_columns": null,
      "grid_template_rows": null,
      "height": null,
      "justify_content": null,
      "justify_items": null,
      "left": null,
      "margin": null,
      "max_height": null,
      "max_width": null,
      "min_height": null,
      "min_width": null,
      "object_fit": null,
      "object_position": null,
      "order": null,
      "overflow": null,
      "overflow_x": null,
      "overflow_y": null,
      "padding": null,
      "right": null,
      "top": null,
      "visibility": null,
      "width": null
     }
    },
    "840427ce468041248c3dd4d543505218": {
     "model_module": "@jupyter-widgets/controls",
     "model_module_version": "1.5.0",
     "model_name": "HTMLModel",
     "state": {
      "_dom_classes": [],
      "_model_module": "@jupyter-widgets/controls",
      "_model_module_version": "1.5.0",
      "_model_name": "HTMLModel",
      "_view_count": null,
      "_view_module": "@jupyter-widgets/controls",
      "_view_module_version": "1.5.0",
      "_view_name": "HTMLView",
      "description": "",
      "description_tooltip": null,
      "layout": "IPY_MODEL_d50aa7c17bc84077b3930811ec31f8c0",
      "placeholder": "​",
      "style": "IPY_MODEL_5f756884ece84bee89d895e84bcad4d0",
      "value": " 10000/10000 [00:22&lt;00:00, 503.50it/s, loss=0.00438, lr=0.001]"
     }
    },
    "87e80c745a9c4c378a4d7a537ed42361": {
     "model_module": "@jupyter-widgets/controls",
     "model_module_version": "1.5.0",
     "model_name": "DescriptionStyleModel",
     "state": {
      "_model_module": "@jupyter-widgets/controls",
      "_model_module_version": "1.5.0",
      "_model_name": "DescriptionStyleModel",
      "_view_count": null,
      "_view_module": "@jupyter-widgets/base",
      "_view_module_version": "1.2.0",
      "_view_name": "StyleView",
      "description_width": ""
     }
    },
    "992a19c9c2ee4565841ced9a07382625": {
     "model_module": "@jupyter-widgets/base",
     "model_module_version": "1.2.0",
     "model_name": "LayoutModel",
     "state": {
      "_model_module": "@jupyter-widgets/base",
      "_model_module_version": "1.2.0",
      "_model_name": "LayoutModel",
      "_view_count": null,
      "_view_module": "@jupyter-widgets/base",
      "_view_module_version": "1.2.0",
      "_view_name": "LayoutView",
      "align_content": null,
      "align_items": null,
      "align_self": null,
      "border": null,
      "bottom": null,
      "display": null,
      "flex": null,
      "flex_flow": null,
      "grid_area": null,
      "grid_auto_columns": null,
      "grid_auto_flow": null,
      "grid_auto_rows": null,
      "grid_column": null,
      "grid_gap": null,
      "grid_row": null,
      "grid_template_areas": null,
      "grid_template_columns": null,
      "grid_template_rows": null,
      "height": null,
      "justify_content": null,
      "justify_items": null,
      "left": null,
      "margin": null,
      "max_height": null,
      "max_width": null,
      "min_height": null,
      "min_width": null,
      "object_fit": null,
      "object_position": null,
      "order": null,
      "overflow": null,
      "overflow_x": null,
      "overflow_y": null,
      "padding": null,
      "right": null,
      "top": null,
      "visibility": null,
      "width": null
     }
    },
    "a09058eea509491198cf92c1b70f4b7d": {
     "model_module": "@jupyter-widgets/controls",
     "model_module_version": "1.5.0",
     "model_name": "ProgressStyleModel",
     "state": {
      "_model_module": "@jupyter-widgets/controls",
      "_model_module_version": "1.5.0",
      "_model_name": "ProgressStyleModel",
      "_view_count": null,
      "_view_module": "@jupyter-widgets/base",
      "_view_module_version": "1.2.0",
      "_view_name": "StyleView",
      "bar_color": null,
      "description_width": ""
     }
    },
    "a79a0479d88e4d3eb77b108bbc874e09": {
     "model_module": "@jupyter-widgets/base",
     "model_module_version": "1.2.0",
     "model_name": "LayoutModel",
     "state": {
      "_model_module": "@jupyter-widgets/base",
      "_model_module_version": "1.2.0",
      "_model_name": "LayoutModel",
      "_view_count": null,
      "_view_module": "@jupyter-widgets/base",
      "_view_module_version": "1.2.0",
      "_view_name": "LayoutView",
      "align_content": null,
      "align_items": null,
      "align_self": null,
      "border": null,
      "bottom": null,
      "display": null,
      "flex": null,
      "flex_flow": null,
      "grid_area": null,
      "grid_auto_columns": null,
      "grid_auto_flow": null,
      "grid_auto_rows": null,
      "grid_column": null,
      "grid_gap": null,
      "grid_row": null,
      "grid_template_areas": null,
      "grid_template_columns": null,
      "grid_template_rows": null,
      "height": null,
      "justify_content": null,
      "justify_items": null,
      "left": null,
      "margin": null,
      "max_height": null,
      "max_width": null,
      "min_height": null,
      "min_width": null,
      "object_fit": null,
      "object_position": null,
      "order": null,
      "overflow": null,
      "overflow_x": null,
      "overflow_y": null,
      "padding": null,
      "right": null,
      "top": null,
      "visibility": null,
      "width": null
     }
    },
    "b6e1e2a2329148d68a709571e016b858": {
     "model_module": "@jupyter-widgets/controls",
     "model_module_version": "1.5.0",
     "model_name": "HTMLModel",
     "state": {
      "_dom_classes": [],
      "_model_module": "@jupyter-widgets/controls",
      "_model_module_version": "1.5.0",
      "_model_name": "HTMLModel",
      "_view_count": null,
      "_view_module": "@jupyter-widgets/controls",
      "_view_module_version": "1.5.0",
      "_view_name": "HTMLView",
      "description": "",
      "description_tooltip": null,
      "layout": "IPY_MODEL_b73d37d18a7e4577bcfa8c2aec321eb1",
      "placeholder": "​",
      "style": "IPY_MODEL_d7bc2f21dd294f52a0243ca35aadeb22",
      "value": "100%"
     }
    },
    "b73d37d18a7e4577bcfa8c2aec321eb1": {
     "model_module": "@jupyter-widgets/base",
     "model_module_version": "1.2.0",
     "model_name": "LayoutModel",
     "state": {
      "_model_module": "@jupyter-widgets/base",
      "_model_module_version": "1.2.0",
      "_model_name": "LayoutModel",
      "_view_count": null,
      "_view_module": "@jupyter-widgets/base",
      "_view_module_version": "1.2.0",
      "_view_name": "LayoutView",
      "align_content": null,
      "align_items": null,
      "align_self": null,
      "border": null,
      "bottom": null,
      "display": null,
      "flex": null,
      "flex_flow": null,
      "grid_area": null,
      "grid_auto_columns": null,
      "grid_auto_flow": null,
      "grid_auto_rows": null,
      "grid_column": null,
      "grid_gap": null,
      "grid_row": null,
      "grid_template_areas": null,
      "grid_template_columns": null,
      "grid_template_rows": null,
      "height": null,
      "justify_content": null,
      "justify_items": null,
      "left": null,
      "margin": null,
      "max_height": null,
      "max_width": null,
      "min_height": null,
      "min_width": null,
      "object_fit": null,
      "object_position": null,
      "order": null,
      "overflow": null,
      "overflow_x": null,
      "overflow_y": null,
      "padding": null,
      "right": null,
      "top": null,
      "visibility": null,
      "width": null
     }
    },
    "be2f0859bd3f4fca90d3b4bdf44f0958": {
     "model_module": "@jupyter-widgets/base",
     "model_module_version": "1.2.0",
     "model_name": "LayoutModel",
     "state": {
      "_model_module": "@jupyter-widgets/base",
      "_model_module_version": "1.2.0",
      "_model_name": "LayoutModel",
      "_view_count": null,
      "_view_module": "@jupyter-widgets/base",
      "_view_module_version": "1.2.0",
      "_view_name": "LayoutView",
      "align_content": null,
      "align_items": null,
      "align_self": null,
      "border": null,
      "bottom": null,
      "display": null,
      "flex": null,
      "flex_flow": null,
      "grid_area": null,
      "grid_auto_columns": null,
      "grid_auto_flow": null,
      "grid_auto_rows": null,
      "grid_column": null,
      "grid_gap": null,
      "grid_row": null,
      "grid_template_areas": null,
      "grid_template_columns": null,
      "grid_template_rows": null,
      "height": null,
      "justify_content": null,
      "justify_items": null,
      "left": null,
      "margin": null,
      "max_height": null,
      "max_width": null,
      "min_height": null,
      "min_width": null,
      "object_fit": null,
      "object_position": null,
      "order": null,
      "overflow": null,
      "overflow_x": null,
      "overflow_y": null,
      "padding": null,
      "right": null,
      "top": null,
      "visibility": null,
      "width": null
     }
    },
    "cb347c5ce6694bfb92919a5593cc7049": {
     "model_module": "@jupyter-widgets/controls",
     "model_module_version": "1.5.0",
     "model_name": "ProgressStyleModel",
     "state": {
      "_model_module": "@jupyter-widgets/controls",
      "_model_module_version": "1.5.0",
      "_model_name": "ProgressStyleModel",
      "_view_count": null,
      "_view_module": "@jupyter-widgets/base",
      "_view_module_version": "1.2.0",
      "_view_name": "StyleView",
      "bar_color": null,
      "description_width": ""
     }
    },
    "d080dce19cd94411ba991fdd8556b59e": {
     "model_module": "@jupyter-widgets/controls",
     "model_module_version": "1.5.0",
     "model_name": "HBoxModel",
     "state": {
      "_dom_classes": [],
      "_model_module": "@jupyter-widgets/controls",
      "_model_module_version": "1.5.0",
      "_model_name": "HBoxModel",
      "_view_count": null,
      "_view_module": "@jupyter-widgets/controls",
      "_view_module_version": "1.5.0",
      "_view_name": "HBoxView",
      "box_style": "",
      "children": [
       "IPY_MODEL_2529ee9a67314e2294e7e9efdcf20768",
       "IPY_MODEL_57b2d9eb950b4c2eb1706463de18da8b",
       "IPY_MODEL_840427ce468041248c3dd4d543505218"
      ],
      "layout": "IPY_MODEL_e5e84984b7c043fca917c338ff056a9e"
     }
    },
    "d50aa7c17bc84077b3930811ec31f8c0": {
     "model_module": "@jupyter-widgets/base",
     "model_module_version": "1.2.0",
     "model_name": "LayoutModel",
     "state": {
      "_model_module": "@jupyter-widgets/base",
      "_model_module_version": "1.2.0",
      "_model_name": "LayoutModel",
      "_view_count": null,
      "_view_module": "@jupyter-widgets/base",
      "_view_module_version": "1.2.0",
      "_view_name": "LayoutView",
      "align_content": null,
      "align_items": null,
      "align_self": null,
      "border": null,
      "bottom": null,
      "display": null,
      "flex": null,
      "flex_flow": null,
      "grid_area": null,
      "grid_auto_columns": null,
      "grid_auto_flow": null,
      "grid_auto_rows": null,
      "grid_column": null,
      "grid_gap": null,
      "grid_row": null,
      "grid_template_areas": null,
      "grid_template_columns": null,
      "grid_template_rows": null,
      "height": null,
      "justify_content": null,
      "justify_items": null,
      "left": null,
      "margin": null,
      "max_height": null,
      "max_width": null,
      "min_height": null,
      "min_width": null,
      "object_fit": null,
      "object_position": null,
      "order": null,
      "overflow": null,
      "overflow_x": null,
      "overflow_y": null,
      "padding": null,
      "right": null,
      "top": null,
      "visibility": null,
      "width": null
     }
    },
    "d7bc2f21dd294f52a0243ca35aadeb22": {
     "model_module": "@jupyter-widgets/controls",
     "model_module_version": "1.5.0",
     "model_name": "DescriptionStyleModel",
     "state": {
      "_model_module": "@jupyter-widgets/controls",
      "_model_module_version": "1.5.0",
      "_model_name": "DescriptionStyleModel",
      "_view_count": null,
      "_view_module": "@jupyter-widgets/base",
      "_view_module_version": "1.2.0",
      "_view_name": "StyleView",
      "description_width": ""
     }
    },
    "dc421acdf45149fd87cd81d56e9031cd": {
     "model_module": "@jupyter-widgets/base",
     "model_module_version": "1.2.0",
     "model_name": "LayoutModel",
     "state": {
      "_model_module": "@jupyter-widgets/base",
      "_model_module_version": "1.2.0",
      "_model_name": "LayoutModel",
      "_view_count": null,
      "_view_module": "@jupyter-widgets/base",
      "_view_module_version": "1.2.0",
      "_view_name": "LayoutView",
      "align_content": null,
      "align_items": null,
      "align_self": null,
      "border": null,
      "bottom": null,
      "display": null,
      "flex": null,
      "flex_flow": null,
      "grid_area": null,
      "grid_auto_columns": null,
      "grid_auto_flow": null,
      "grid_auto_rows": null,
      "grid_column": null,
      "grid_gap": null,
      "grid_row": null,
      "grid_template_areas": null,
      "grid_template_columns": null,
      "grid_template_rows": null,
      "height": null,
      "justify_content": null,
      "justify_items": null,
      "left": null,
      "margin": null,
      "max_height": null,
      "max_width": null,
      "min_height": null,
      "min_width": null,
      "object_fit": null,
      "object_position": null,
      "order": null,
      "overflow": null,
      "overflow_x": null,
      "overflow_y": null,
      "padding": null,
      "right": null,
      "top": null,
      "visibility": null,
      "width": null
     }
    },
    "e5e84984b7c043fca917c338ff056a9e": {
     "model_module": "@jupyter-widgets/base",
     "model_module_version": "1.2.0",
     "model_name": "LayoutModel",
     "state": {
      "_model_module": "@jupyter-widgets/base",
      "_model_module_version": "1.2.0",
      "_model_name": "LayoutModel",
      "_view_count": null,
      "_view_module": "@jupyter-widgets/base",
      "_view_module_version": "1.2.0",
      "_view_name": "LayoutView",
      "align_content": null,
      "align_items": null,
      "align_self": null,
      "border": null,
      "bottom": null,
      "display": null,
      "flex": null,
      "flex_flow": null,
      "grid_area": null,
      "grid_auto_columns": null,
      "grid_auto_flow": null,
      "grid_auto_rows": null,
      "grid_column": null,
      "grid_gap": null,
      "grid_row": null,
      "grid_template_areas": null,
      "grid_template_columns": null,
      "grid_template_rows": null,
      "height": null,
      "justify_content": null,
      "justify_items": null,
      "left": null,
      "margin": null,
      "max_height": null,
      "max_width": null,
      "min_height": null,
      "min_width": null,
      "object_fit": null,
      "object_position": null,
      "order": null,
      "overflow": null,
      "overflow_x": null,
      "overflow_y": null,
      "padding": null,
      "right": null,
      "top": null,
      "visibility": null,
      "width": null
     }
    },
    "f41d9f8baa9f4198924deb3caf180892": {
     "model_module": "@jupyter-widgets/controls",
     "model_module_version": "1.5.0",
     "model_name": "ProgressStyleModel",
     "state": {
      "_model_module": "@jupyter-widgets/controls",
      "_model_module_version": "1.5.0",
      "_model_name": "ProgressStyleModel",
      "_view_count": null,
      "_view_module": "@jupyter-widgets/base",
      "_view_module_version": "1.2.0",
      "_view_name": "StyleView",
      "bar_color": null,
      "description_width": ""
     }
    },
    "f5fb761ec6de404398f5517e21e0d46b": {
     "model_module": "@jupyter-widgets/controls",
     "model_module_version": "1.5.0",
     "model_name": "FloatProgressModel",
     "state": {
      "_dom_classes": [],
      "_model_module": "@jupyter-widgets/controls",
      "_model_module_version": "1.5.0",
      "_model_name": "FloatProgressModel",
      "_view_count": null,
      "_view_module": "@jupyter-widgets/controls",
      "_view_module_version": "1.5.0",
      "_view_name": "ProgressView",
      "bar_style": "success",
      "description": "",
      "description_tooltip": null,
      "layout": "IPY_MODEL_a79a0479d88e4d3eb77b108bbc874e09",
      "max": 10000,
      "min": 0,
      "orientation": "horizontal",
      "style": "IPY_MODEL_cb347c5ce6694bfb92919a5593cc7049",
      "value": 10000
     }
    },
    "f9b77a7783c041a5994f645545f46a4d": {
     "model_module": "@jupyter-widgets/base",
     "model_module_version": "1.2.0",
     "model_name": "LayoutModel",
     "state": {
      "_model_module": "@jupyter-widgets/base",
      "_model_module_version": "1.2.0",
      "_model_name": "LayoutModel",
      "_view_count": null,
      "_view_module": "@jupyter-widgets/base",
      "_view_module_version": "1.2.0",
      "_view_name": "LayoutView",
      "align_content": null,
      "align_items": null,
      "align_self": null,
      "border": null,
      "bottom": null,
      "display": null,
      "flex": null,
      "flex_flow": null,
      "grid_area": null,
      "grid_auto_columns": null,
      "grid_auto_flow": null,
      "grid_auto_rows": null,
      "grid_column": null,
      "grid_gap": null,
      "grid_row": null,
      "grid_template_areas": null,
      "grid_template_columns": null,
      "grid_template_rows": null,
      "height": null,
      "justify_content": null,
      "justify_items": null,
      "left": null,
      "margin": null,
      "max_height": null,
      "max_width": null,
      "min_height": null,
      "min_width": null,
      "object_fit": null,
      "object_position": null,
      "order": null,
      "overflow": null,
      "overflow_x": null,
      "overflow_y": null,
      "padding": null,
      "right": null,
      "top": null,
      "visibility": null,
      "width": null
     }
    },
    "fa6604f92d1e4489960985e4d7240c24": {
     "model_module": "@jupyter-widgets/controls",
     "model_module_version": "1.5.0",
     "model_name": "HBoxModel",
     "state": {
      "_dom_classes": [],
      "_model_module": "@jupyter-widgets/controls",
      "_model_module_version": "1.5.0",
      "_model_name": "HBoxModel",
      "_view_count": null,
      "_view_module": "@jupyter-widgets/controls",
      "_view_module_version": "1.5.0",
      "_view_name": "HBoxView",
      "box_style": "",
      "children": [
       "IPY_MODEL_5f651bcc02de4892bc6ace2170187052",
       "IPY_MODEL_33262117e99a4effb2b23208b72912f1",
       "IPY_MODEL_6de322b6962e4e4b974b2b4d79bf5bea"
      ],
      "layout": "IPY_MODEL_fc39b56a57df417095c2e2a064cac95b"
     }
    },
    "fc39b56a57df417095c2e2a064cac95b": {
     "model_module": "@jupyter-widgets/base",
     "model_module_version": "1.2.0",
     "model_name": "LayoutModel",
     "state": {
      "_model_module": "@jupyter-widgets/base",
      "_model_module_version": "1.2.0",
      "_model_name": "LayoutModel",
      "_view_count": null,
      "_view_module": "@jupyter-widgets/base",
      "_view_module_version": "1.2.0",
      "_view_name": "LayoutView",
      "align_content": null,
      "align_items": null,
      "align_self": null,
      "border": null,
      "bottom": null,
      "display": null,
      "flex": null,
      "flex_flow": null,
      "grid_area": null,
      "grid_auto_columns": null,
      "grid_auto_flow": null,
      "grid_auto_rows": null,
      "grid_column": null,
      "grid_gap": null,
      "grid_row": null,
      "grid_template_areas": null,
      "grid_template_columns": null,
      "grid_template_rows": null,
      "height": null,
      "justify_content": null,
      "justify_items": null,
      "left": null,
      "margin": null,
      "max_height": null,
      "max_width": null,
      "min_height": null,
      "min_width": null,
      "object_fit": null,
      "object_position": null,
      "order": null,
      "overflow": null,
      "overflow_x": null,
      "overflow_y": null,
      "padding": null,
      "right": null,
      "top": null,
      "visibility": null,
      "width": null
     }
    },
    "fc49b5cd3b5a4dd3b572712b23a88fcb": {
     "model_module": "@jupyter-widgets/controls",
     "model_module_version": "1.5.0",
     "model_name": "DescriptionStyleModel",
     "state": {
      "_model_module": "@jupyter-widgets/controls",
      "_model_module_version": "1.5.0",
      "_model_name": "DescriptionStyleModel",
      "_view_count": null,
      "_view_module": "@jupyter-widgets/base",
      "_view_module_version": "1.2.0",
      "_view_name": "StyleView",
      "description_width": ""
     }
    }
   }
  }
 },
 "nbformat": 4,
 "nbformat_minor": 1
}
