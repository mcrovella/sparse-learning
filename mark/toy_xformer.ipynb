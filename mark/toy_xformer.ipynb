{
 "cells": [
  {
   "cell_type": "markdown",
   "metadata": {
    "id": "SifuSeuwi6nj"
   },
   "source": [
    "# Toy Models of Superposition\n",
    "\n",
    "This notebook includes the toy model training framework used to generate most of the results in the \"Toy Models of Superposition\" paper.\n",
    "\n",
    "The main useful improvement over a basic PyTorch tiny autoencoder is the ability to batch train many models with varying sparsity at once, which is much more efficient than training them one at a time.\n",
    "\n",
    "This notebook is designed to run in Google Colab's Python 3.7 environment."
   ]
  },
  {
   "cell_type": "code",
   "execution_count": 1,
   "metadata": {
    "colab": {
     "base_uri": "https://localhost:8080/"
    },
    "id": "yfHPSGevYsdo",
    "outputId": "83ba37a8-4240-434d-88f9-9b82774047b5"
   },
   "outputs": [],
   "source": [
    "#!pip install einops"
   ]
  },
  {
   "cell_type": "code",
   "execution_count": 1,
   "metadata": {
    "id": "wRLgezMAZbtY"
   },
   "outputs": [],
   "source": [
    "import torch\n",
    "from torch import nn\n",
    "from torch.nn import functional as F\n",
    "\n",
    "from typing import Optional\n",
    "\n",
    "from dataclasses import dataclass, replace\n",
    "import numpy as np\n",
    "import einops\n",
    "\n",
    "from tqdm.notebook import trange\n",
    "\n",
    "import time\n",
    "import pandas as pd\n",
    "\n",
    "import plotly.express as px\n",
    "import plotly.graph_objects as go\n",
    "from plotly.subplots import make_subplots\n",
    "\n",
    "import matplotlib.pyplot as plt"
   ]
  },
  {
   "cell_type": "code",
   "execution_count": null,
   "metadata": {
    "id": "upSmPXMrZct4"
   },
   "outputs": [],
   "source": [
    "@dataclass\n",
    "class Config:\n",
    "  n_features: int\n",
    "  n_hidden: int\n",
    "  head_d: int\n",
    "\n",
    "  # We optimize n_instances models in a single training loop\n",
    "  # to let us sweep over sparsity or importance curves \n",
    "  # efficiently.\n",
    "\n",
    "  # We could potentially use torch.vmap instead.\n",
    "  n_instances: int\n",
    " \n",
    "class Model(nn.Module):\n",
    "  def __init__(self, \n",
    "               config, \n",
    "               feature_probability: Optional[torch.Tensor] = None,\n",
    "               importance: Optional[torch.Tensor] = None,               \n",
    "               device='cuda'):\n",
    "    super().__init__()\n",
    "    self.config = config\n",
    "    self.W = nn.Parameter(torch.empty((config.n_instances, config.n_features, config.n_hidden), device=device))\n",
    "    nn.init.xavier_normal_(self.W)\n",
    "    self.b_final = nn.Parameter(torch.zeros((config.n_instances, config.n_features), device=device))\n",
    "    self.A = nn.Parameter(torch.empty((config.n_instances, config.n_hidden, config.head_d), device=device))\n",
    "    nn.init.xavier_normal_(self.A)\n",
    "    self.B = nn.Parameter(torch.empty((config.n_instances, config.n_hidden, config.head_d), device=device))\n",
    "    nn.init.xavier_normal_(self.B)\n",
    "\n",
    "    if feature_probability is None:\n",
    "      feature_probability = torch.ones(())\n",
    "    self.feature_probability = feature_probability.to(device)\n",
    "    if importance is None:\n",
    "      importance = torch.ones(())\n",
    "    self.importance = importance.to(device)\n",
    "\n",
    "  def forward(self, features):\n",
    "    # features: [..., instance, n_features]\n",
    "    # W: [instance, n_features, n_hidden]\n",
    "    hidden = torch.einsum(\"...if,ifh->...ih\", features, self.W)\n",
    "    out = torch.einsum(\"...ih,ifh->...if\", hidden, self.W)\n",
    "    out = out + self.b_final\n",
    "    out = F.relu(out)\n",
    "    return out\n",
    "\n",
    "  def generate_batch(self, n_batch):\n",
    "    feat = torch.rand((n_batch, self.config.n_instances, self.config.n_features), device=self.W.device)\n",
    "    batch = torch.where(\n",
    "        torch.rand((n_batch, self.config.n_instances, self.config.n_features), device=self.W.device) <= self.feature_probability,\n",
    "        feat,\n",
    "        torch.zeros((), device=self.W.device),\n",
    "    )\n",
    "    return batch"
   ]
  },
  {
   "cell_type": "code",
   "execution_count": 130,
   "metadata": {},
   "outputs": [
    {
     "data": {
      "text/plain": [
       "tensor([[[0.0000, 0.0000, 0.4076, 0.0000, 0.0000, 0.0000, 0.4343],\n",
       "         [0.5891, 0.0000, 0.0000, 0.0000, 0.8450, 0.0000, 0.0000],\n",
       "         [0.0000, 0.0000, 0.0000, 0.0000, 0.0000, 0.0000, 0.0000],\n",
       "         [0.0000, 0.0000, 0.0000, 0.0000, 0.0000, 0.0000, 0.0000],\n",
       "         [0.0000, 0.0000, 0.0000, 0.0000, 0.5269, 0.0000, 0.0000],\n",
       "         [0.5697, 0.6005, 0.9088, 0.0000, 0.0000, 0.0000, 0.0000]],\n",
       "\n",
       "        [[0.0000, 0.0000, 0.2709, 0.0464, 0.0000, 0.0000, 0.3700],\n",
       "         [0.0000, 0.0000, 0.0000, 0.0000, 0.0000, 0.0000, 0.0000],\n",
       "         [0.0000, 0.2540, 0.0000, 0.0000, 0.7626, 0.0000, 0.0843],\n",
       "         [0.0000, 0.0000, 0.0000, 0.0000, 0.0000, 0.1740, 0.0000],\n",
       "         [0.6574, 0.0000, 0.1867, 0.0000, 0.0000, 0.0000, 0.0000],\n",
       "         [0.0000, 0.3613, 0.4941, 0.0000, 0.5414, 0.4690, 0.0000]],\n",
       "\n",
       "        [[0.0000, 0.1703, 0.0000, 0.0000, 0.0000, 0.0000, 0.0000],\n",
       "         [0.0000, 0.0000, 0.0000, 0.0000, 0.0000, 0.0000, 0.0000],\n",
       "         [0.0000, 0.1403, 0.0000, 0.0000, 0.7761, 0.0000, 0.0000],\n",
       "         [0.2591, 0.0000, 0.0000, 0.0000, 0.0000, 0.0000, 0.9951],\n",
       "         [0.0000, 0.0000, 0.0000, 0.1918, 0.2543, 0.0000, 0.0000],\n",
       "         [0.0000, 0.0000, 0.0000, 0.2990, 0.0000, 0.0000, 0.6801]],\n",
       "\n",
       "        [[0.0000, 0.0000, 0.0000, 0.0000, 0.0000, 0.1539, 0.0000],\n",
       "         [0.0959, 0.0000, 0.0000, 0.0000, 0.0000, 0.0000, 0.0000],\n",
       "         [0.0000, 0.0000, 0.0000, 0.8172, 0.0545, 0.1868, 0.0000],\n",
       "         [0.1812, 0.0000, 0.5783, 0.3715, 0.0000, 0.0598, 0.0000],\n",
       "         [0.0000, 0.0000, 0.0000, 0.4348, 0.0000, 0.0000, 0.0000],\n",
       "         [0.0000, 0.6376, 0.0000, 0.0000, 0.0000, 0.0000, 0.8929]]],\n",
       "       device='mps:0')"
      ]
     },
     "execution_count": 130,
     "metadata": {},
     "output_type": "execute_result"
    }
   ],
   "source": [
    "m = Model(Config(n_features = 7, n_hidden = 4, n_instances = 6, head_d = 3), feature_probability = torch.tensor(0.25), device=DEVICE)\n",
    "b = m.generate_batch(4)\n",
    "out_a = b[:4:2]\n",
    "out_b = b[1:4:2]\n",
    "b"
   ]
  },
  {
   "cell_type": "code",
   "execution_count": 78,
   "metadata": {
    "id": "2Ey4ApHYb9oY"
   },
   "outputs": [],
   "source": [
    "def linear_lr(step, steps):\n",
    "  return (1 - (step / steps))\n",
    "\n",
    "def constant_lr(*_):\n",
    "  return 1.0\n",
    "\n",
    "def cosine_decay_lr(step, steps):\n",
    "  return np.cos(0.5 * np.pi * step / (steps - 1))\n",
    "\n",
    "def feature_association(f):\n",
    "  assoc = torch.zeros((f, f), device=DEVICE)\n",
    "  assoc[3, 4] = 1.0\n",
    "  return assoc\n",
    "\n",
    "def pair_err(A, B, W, x, y):\n",
    "  \"\"\"\n",
    "  Pairwise error over aligned batch pairs using feature_association.\n",
    "  x, y: tensors shaped [b, i, f]\n",
    "  Returns a tensor broadcastable to [b, i, f] for reduction.\n",
    "  \"\"\"\n",
    "  # Compute the outer product of the last dimensions of x and y, resulting in shape [b, i, f, f]\n",
    "  # x: [b, i, f], y: [b, i, f]\n",
    "  outer = x.unsqueeze(-1) * y.unsqueeze(-2)\n",
    "  target = feature_association(x.shape[-1])  # [f, f]\n",
    "  matches = outer * target\n",
    "  target = matches.sum(dim=(-2, -1)) # [b, i]\n",
    "  yWA = torch.einsum('bif, ifg, igh -> bih', y, W, A)\n",
    "  xWB = torch.einsum('bif, ifg, igh -> bih', x, W, B)\n",
    "  yWABWx = torch.matmul(yWA, xWB.transpose(-2, -1))  # [b, i, i]\n",
    "  attn_pred = torch.diagonal(yWABWx, dim1=-2, dim2=-1)  # shape [b, i]\n",
    "  # still need softmax here\n",
    "  # Return the L2 norm of the difference between target and assoc\n",
    "  return (target - attn_pred)**2\n",
    "\n",
    "def optimize(model, \n",
    "             render=False, \n",
    "             n_batch=1024,\n",
    "             steps=10_000,\n",
    "             print_freq=100,\n",
    "             lr=1e-3,\n",
    "             lr_scale=constant_lr,\n",
    "             lam = 10,\n",
    "             hooks=[]):\n",
    "  cfg = model.config\n",
    "\n",
    "  opt = torch.optim.AdamW(list(model.parameters()), lr=lr)\n",
    "\n",
    "  start = time.time()\n",
    "  with trange(steps) as t:\n",
    "    for step in t:\n",
    "      step_lr = lr * lr_scale(step, steps)\n",
    "      for group in opt.param_groups:\n",
    "        group['lr'] = step_lr\n",
    "      opt.zero_grad(set_to_none=True)\n",
    "      batch = model.generate_batch(n_batch)\n",
    "      out = model(batch)\n",
    "      # Reconstruction loss (original)\n",
    "      error = (model.importance*(batch.abs() - out)**2)\n",
    "      recon_loss = einops.reduce(error, 'b i f -> i', 'mean').sum()\n",
    "      # print('recon loss', recon_loss, recon_loss.shape)\n",
    "\n",
    "      # Pairwise loss over batch pairs\n",
    "      pairable = (n_batch // 2) * 2\n",
    "      if pairable >= 2:\n",
    "        # stepping by 2s in the batch dimension\n",
    "        out_a = out[:pairable:2]\n",
    "        out_b = out[1:pairable:2]\n",
    "        pair_error = pair_err(model.A, model.B, model.W, out_a, out_b)\n",
    "        pair_loss = einops.reduce(pair_error, 'b i -> i', 'mean').sum()\n",
    "        # print('pair_loss', pair_loss, pair_loss.shape)\n",
    "      else:\n",
    "        pair_error = torch.zeros_like(out[:0])\n",
    "        pair_loss = torch.tensor(0.0, device=out.device)\n",
    "\n",
    "      loss = recon_loss + lam * pair_loss\n",
    "      loss.backward()\n",
    "      opt.step()\n",
    "    \n",
    "      if hooks:\n",
    "        hook_data = dict(model=model,\n",
    "                         step=step, \n",
    "                         opt=opt,\n",
    "                         error=error,\n",
    "                         recon_loss=recon_loss,\n",
    "                         pair_error=pair_error,\n",
    "                         pair_loss=pair_loss,\n",
    "                         loss=loss,\n",
    "                         lr=step_lr)\n",
    "        for h in hooks:\n",
    "          h(hook_data)\n",
    "      if step % print_freq == 0 or (step + 1 == steps):\n",
    "        t.set_postfix(\n",
    "            loss=loss.item() / cfg.n_instances,\n",
    "            lr=step_lr,\n",
    "        )"
   ]
  },
  {
   "cell_type": "code",
   "execution_count": 4,
   "metadata": {
    "id": "UsIgAC56dWMk"
   },
   "outputs": [],
   "source": [
    "if torch.cuda.is_available():\n",
    "  DEVICE = 'cuda'\n",
    "elif torch.backends.mps.is_available():\n",
    "  DEVICE = \"mps\"\n",
    "else:\n",
    "  DEVICE = 'cpu'"
   ]
  },
  {
   "cell_type": "code",
   "execution_count": 5,
   "metadata": {},
   "outputs": [],
   "source": [
    "res_array = 0\n",
    "def capture_stats(stats):\n",
    "    global res_array\n",
    "    if (stats['step']) == 0:\n",
    "        res_array = []\n",
    "    if (stats['step'] % 10) == 0:\n",
    "        res_array.append((stats['step'], stats['recon_loss'].cpu().detach().numpy(), stats['pair_loss'].cpu().detach().numpy()))"
   ]
  },
  {
   "cell_type": "markdown",
   "metadata": {
    "id": "QpshP3ppjsIg"
   },
   "source": [
    "## Basic Test\n",
    "\n",
    "Basic setting is 20 x 5 x 5 x 10, lam = 20"
   ]
  },
  {
   "cell_type": "code",
   "execution_count": 203,
   "metadata": {
    "id": "crVhVxhIj5pK"
   },
   "outputs": [],
   "source": [
    "config = Config(\n",
    "    n_features = 20,\n",
    "    n_hidden = 5,\n",
    "    head_d = 5,\n",
    "    n_instances = 10,\n",
    ")\n",
    "\n",
    "model = Model(\n",
    "    config=config,\n",
    "    device=DEVICE,\n",
    "    # Exponential feature importance curve from 1 to 1/100\n",
    "    importance = (0.9**torch.arange(config.n_features))[None, :],\n",
    "    # Sweep feature frequency across the instances from 1 (fully dense) to 1/20\n",
    "    feature_probability = (20 ** -torch.linspace(0, 1, config.n_instances))[:, None]\n",
    ")"
   ]
  },
  {
   "cell_type": "code",
   "execution_count": 204,
   "metadata": {
    "colab": {
     "base_uri": "https://localhost:8080/",
     "height": 49,
     "referenced_widgets": [
      "fa6604f92d1e4489960985e4d7240c24",
      "5f651bcc02de4892bc6ace2170187052",
      "33262117e99a4effb2b23208b72912f1",
      "6de322b6962e4e4b974b2b4d79bf5bea",
      "fc39b56a57df417095c2e2a064cac95b",
      "13bbce3d04234a68805f5668bd4e7cae",
      "fc49b5cd3b5a4dd3b572712b23a88fcb",
      "f9b77a7783c041a5994f645545f46a4d",
      "a09058eea509491198cf92c1b70f4b7d",
      "992a19c9c2ee4565841ced9a07382625",
      "87e80c745a9c4c378a4d7a537ed42361"
     ]
    },
    "id": "oveRpg0skeJf",
    "outputId": "997f294d-e8ac-4ab9-e1f2-f135c4ed7694"
   },
   "outputs": [
    {
     "data": {
      "application/vnd.jupyter.widget-view+json": {
       "model_id": "7e6c6716425f4a8ab60a966c205b16ab",
       "version_major": 2,
       "version_minor": 0
      },
      "text/plain": [
       "  0%|          | 0/10000 [00:00<?, ?it/s]"
      ]
     },
     "metadata": {},
     "output_type": "display_data"
    }
   ],
   "source": [
    "lam = 20\n",
    "optimize(model, lam = lam, hooks = [capture_stats])"
   ]
  },
  {
   "cell_type": "code",
   "execution_count": 205,
   "metadata": {},
   "outputs": [
    {
     "data": {
      "text/plain": [
       "Text(0, 0.5, 'pair loss')"
      ]
     },
     "execution_count": 205,
     "metadata": {},
     "output_type": "execute_result"
    },
    {
     "data": {
      "image/png": "[encoded data removed]",
      "text/plain": [
       "<Figure size 1280x960 with 2 Axes>"
      ]
     },
     "metadata": {},
     "output_type": "display_data"
    }
   ],
   "source": [
    "res = np.array(res_array)\n",
    "figs, axs = plt.subplots(2, 1)\n",
    "axs[0].plot(res[:,0], res[:,1])\n",
    "axs[0].set_ylabel('recon loss')\n",
    "axs[0].set_title(f'{config.n_features}x{config.n_hidden}x{config.head_d}, lam = {lam}')\n",
    "axs[1].plot(res[:,0], res[:,2])\n",
    "axs[0].set_ylabel('pair loss')"
   ]
  },
  {
   "cell_type": "code",
   "execution_count": 197,
   "metadata": {
    "id": "RpatvhlHfEyC"
   },
   "outputs": [],
   "source": [
    "def render_features(model, which=np.s_[:]):\n",
    "  cfg = model.config\n",
    "  W = model.W.detach()\n",
    "  W_norm = W / (1e-5 + torch.linalg.norm(W, 2, dim=-1, keepdim=True))\n",
    "\n",
    "  interference = torch.einsum('ifh,igh->ifg', W_norm, W)\n",
    "  interference[:, torch.arange(cfg.n_features), torch.arange(cfg.n_features)] = 0\n",
    "\n",
    "  polysemanticity = torch.linalg.norm(interference, dim=-1).cpu()\n",
    "  net_interference = (interference**2 * model.feature_probability[:, None, :]).sum(-1).cpu()\n",
    "  norms = torch.linalg.norm(W, 2, dim=-1).cpu()\n",
    "\n",
    "  WtW = torch.einsum('sih,soh->sio', W, W).cpu()\n",
    "\n",
    "  # width = weights[0].cpu()\n",
    "  # x = torch.cumsum(width+0.1, 0) - width[0]\n",
    "  x = torch.arange(cfg.n_features)\n",
    "  width = 0.9\n",
    "\n",
    "  which_instances = np.arange(cfg.n_instances)[which]\n",
    "  fig = make_subplots(rows=len(which_instances),\n",
    "                      cols=2,\n",
    "                      shared_xaxes=True,\n",
    "                      vertical_spacing=0.02,\n",
    "                      horizontal_spacing=0.1)\n",
    "  for (row, inst) in enumerate(which_instances):\n",
    "    fig.add_trace(\n",
    "        go.Bar(x=x, \n",
    "              y=norms[inst],\n",
    "              marker=dict(\n",
    "                  color=polysemanticity[inst],\n",
    "                  cmin=0,\n",
    "                  cmax=1\n",
    "              ),\n",
    "              width=width,\n",
    "        ),\n",
    "        row=1+row, col=1\n",
    "    )\n",
    "    data = WtW[inst].numpy()\n",
    "    fig.add_trace(\n",
    "        go.Image(\n",
    "            z=plt.cm.coolwarm((1 + data)/2, bytes=True),\n",
    "            colormodel='rgba256',\n",
    "            customdata=data,\n",
    "            hovertemplate='''\\\n",
    "In: %{x}<br>\n",
    "Out: %{y}<br>\n",
    "Weight: %{customdata:0.2f}\n",
    "'''            \n",
    "        ),\n",
    "        row=1+row, col=2\n",
    "    )\n",
    "\n",
    "  fig.add_vline(\n",
    "    x=(x[cfg.n_hidden-1]+x[cfg.n_hidden])/2, \n",
    "    line=dict(width=0.5),\n",
    "    col=1,\n",
    "  )\n",
    "    \n",
    "  # fig.update_traces(marker_size=1)\n",
    "  fig.update_layout(showlegend=False, \n",
    "                    width=600,\n",
    "                    height=100*len(which_instances),\n",
    "                    margin=dict(t=0, b=0))\n",
    "  fig.update_xaxes(visible=False)\n",
    "  fig.update_yaxes(visible=False)\n",
    "  return fig"
   ]
  },
  {
   "cell_type": "code",
   "execution_count": 206,
   "metadata": {
    "colab": {
     "base_uri": "https://localhost:8080/",
     "height": 1000
    },
    "id": "tm3YV12Hfpvg",
    "outputId": "2f139d88-a9e6-4ecf-f553-57997179c1f6"
   },
   "outputs": [
    {
     "data": {
      "application/vnd.plotly.v1+json": {
       "config": {
        "plotlyServerURL": "https://plot.ly"
       },
       "data": [
        {
         "marker": {
          "cmax": 1,
          "cmin": 0,
          "color": {
           "bdata": "WZtZPfiyWD33j8I9AVboPQrGaD+PPQU/a2xqP2jTez/UPXw/osV7P1Duez/I53s/W8Z7PzAOfD+v53s/1+J7P20ZfD+RB3w/kER8P7QCfD8=",
           "dtype": "f4"
          }
         },
         "type": "bar",
         "width": 0.9,
         "x": {
          "bdata": "AAECAwQFBgcICQoLDA0ODxAREhM=",
          "dtype": "i1"
         },
         "xaxis": "x",
         "y": {
          "bdata": "RJN/P5KQfz8z2n4/Rnx+P0OfyD730lU/9nG6PgORrD1gTjY919gQPReguDxF6bs8LJGwPOmYjzxjgJg8SeSCPIyUajzbWz08A4FsPGd+Zjw=",
          "dtype": "f4"
         },
         "yaxis": "y"
        },
        {
         "colormodel": "rgba256",
         "customdata": {
          "bdata": "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",
          "dtype": "f4",
          "shape": "20, 20"
         },
         "hovertemplate": "In: %{x}<br>\nOut: %{y}<br>\nWeight: %{customdata:0.2f}\n",
         "type": "image",
         "xaxis": "x2",
         "yaxis": "y2",
         "z": {
          "bdata": "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",
          "dtype": "u1",
          "shape": "20, 20, 4"
         }
        },
        {
         "marker": {
          "cmax": 1,
          "cmin": 0,
          "color": {
           "bdata": "hmMePEvA2jzbnAM9PB+lPV4RPz8j7WY/FJ1IPxPxfz9oin8/hT1/P2fOfz8QKn8/rrd/P6Ykfz+oXH8/xPF+P9dUfz/XXn8/5w5/P5lOfz8=",
           "dtype": "f4"
          }
         },
         "type": "bar",
         "width": 0.9,
         "x": {
          "bdata": "AAECAwQFBgcICQoLDA0ODxAREhM=",
          "dtype": "i1"
         },
         "xaxis": "x3",
         "y": {
          "bdata": "OBSAP5g/gD8rUIA/eJWAP8Q8KT8BC9o+1M0dP8UYWT0mEIk8SE2LPA5cKjzMJCg8UnYJPH1FKjw+gAE8jLMFPD2G3jsNzQA8EQL+O/iK4js=",
          "dtype": "f4"
         },
         "yaxis": "y3"
        },
        {
         "colormodel": "rgba256",
         "customdata": {
          "bdata": "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",
          "dtype": "f4",
          "shape": "20, 20"
         },
         "hovertemplate": "In: %{x}<br>\nOut: %{y}<br>\nWeight: %{customdata:0.2f}\n",
         "type": "image",
         "xaxis": "x4",
         "yaxis": "y4",
         "z": {
          "bdata": "swMm/9zc3f/c3N3/3Nzd/9zc3f/e29r/3Nzd/9zc3f/d3Nv/3dzb/93c2//d3Nv/3Nzd/9zc3f/d3Nv/3dzb/93c2//c3N3/3Nzd/93c2//c3N3/swMm/9zc3f/c3N3/3Nzd/9/b2f/c3N3/3tva/93c2//d3Nv/3dzb/9zc3f/c3N3/3dzb/9zc3f/d3Nv/3dzb/93c2//c3N3/3Nzd/9zc3f/c3N3/swMm/9zc3f/b3N7/4NrX/9vc3v/d3Nv/3Nzd/9zc3f/d3Nv/3dzb/93c2//c3N3/3Nzd/9zc3f/d3Nv/3dzb/9zc3f/c3N3/3Nzd/9zc3f/c3N3/swMm/9rc3//l2ND/2tzf/+Da1//c3N3/3Nzd/9zc3f/c3N3/3Nzd/9zc3f/c3N3/3Nzd/9zc3f/c3N3/3Nzd/9zc3f/c3N3/3Nzd/9vc3v/a3N//9qaH//XAp//2qoz/4NrX/9vc3v/b3N7/3Nzd/9zc3f/c3N3/3Nzd/9zc3f/c3N3/3Nzd/9zc3f/c3N3/3Nzd/97b2v/f29n/4NrX/+XY0P/1wKf/8My5//TDq//f29n/3Nzd/9zc3f/c3N3/3Nzd/9zc3f/c3N3/3Nzd/9zc3f/c3N3/3Nzd/9zc3f/c3N3/3Nzd/9zc3f/b3N7/2tzf//aqjP/0w6v/97CS/+Da1//b3N7/29ze/9zc3f/c3N3/3Nzd/9zc3f/c3N3/3Nzd/9zc3f/c3N3/3Nzd/9zc3f/c3N3/3tva/93c2//g2tf/4NrX/9/b2f/g2tf/3dzb/9zc3f/c3N3/3Nzd/9zc3f/c3N3/3Nzd/9zc3f/c3N3/3Nzd/9zc3f/c3N3/3Nzd/93c2//d3Nv/3Nzd/9zc3f/b3N7/3Nzd/9vc3v/c3N3/3dzb/93c2//d3Nv/3dzb/93c2//d3Nv/3dzb/93c2//d3Nv/3dzb/93c2//d3Nv/3dzb/93c2//c3N3/3Nzd/9vc3v/c3N3/29ze/9zc3f/d3Nv/3dzb/93c2//d3Nv/3dzb/93c2//d3Nv/3dzb/93c2//d3Nv/3dzb/93c2//d3Nv/3dzb/93c2//c3N3/3Nzd/9zc3f/c3N3/3Nzd/93c2//d3Nv/3dzb/93c2//d3Nv/3dzb/93c2//d3Nv/3dzb/93c2//d3Nv/3dzb/93c2//c3N3/3dzb/9zc3f/c3N3/3Nzd/9zc3f/c3N3/3dzb/93c2//d3Nv/3dzb/93c2//d3Nv/3dzb/93c2//d3Nv/3dzb/93c2//d3Nv/3Nzd/9zc3f/d3Nv/3Nzd/9zc3f/c3N3/3Nzd/9zc3f/d3Nv/3dzb/93c2//d3Nv/3dzb/93c2//d3Nv/3dzb/93c2//d3Nv/3dzb/93c2//c3N3/3dzb/9zc3f/c3N3/3Nzd/9zc3f/c3N3/3Nzd/93c2//d3Nv/3dzb/93c2//d3Nv/3dzb/93c2//d3Nv/3dzb/93c2//d3Nv/3dzb/93c2//c3N3/3Nzd/9zc3f/c3N3/3Nzd/9zc3f/c3N3/3dzb/93c2//d3Nv/3dzb/93c2//d3Nv/3dzb/93c2//d3Nv/3dzb/93c2//d3Nv/3dzb/93c2//c3N3/3Nzd/9zc3f/c3N3/3Nzd/9zc3f/d3Nv/3dzb/93c2//d3Nv/3dzb/93c2//d3Nv/3dzb/93c2//d3Nv/3dzb/93c2//d3Nv/3dzb/93c2//c3N3/3Nzd/9zc3f/c3N3/3Nzd/93c2//d3Nv/3dzb/93c2//d3Nv/3dzb/93c2//d3Nv/3dzb/93c2//d3Nv/3dzb/9zc3f/d3Nv/3dzb/9zc3f/c3N3/3Nzd/9zc3f/c3N3/3dzb/93c2//d3Nv/3dzb/93c2//d3Nv/3dzb/93c2//d3Nv/3dzb/93c2//d3Nv/3Nzd/9zc3f/c3N3/3Nzd/9zc3f/c3N3/3Nzd/9zc3f/d3Nv/3dzb/93c2//d3Nv/3dzb/93c2//d3Nv/3dzb/93c2//d3Nv/3dzb/93c2//d3Nv/3Nzd/9zc3f/c3N3/3Nzd/9zc3f/c3N3/3Nzd/93c2//d3Nv/3dzb/93c2//d3Nv/3dzb/93c2//d3Nv/3dzb/93c2//d3Nv/3dzb/w==",
          "dtype": "u1",
          "shape": "20, 20, 4"
         }
        },
        {
         "marker": {
          "cmax": 1,
          "cmin": 0,
          "color": {
           "bdata": "PLUbPHAnrD02xaY93zkdPu4eQz4bgoA/20mBP8aWgz9TkIM/876DP2CTgz/lSYM/81GDP5pGgj+dU4M/r5KDPzOTgz/jnIM/P6CDP9drgz8=",
           "dtype": "f4"
          }
         },
         "type": "bar",
         "width": 0.9,
         "x": {
          "bdata": "AAECAwQFBgcICQoLDA0ODxAREhM=",
          "dtype": "i1"
         },
         "xaxis": "x5",
         "y": {
          "bdata": "UC6APzIUgT+iU4E/2auBPz+bgT8YSFM+XaIiPpJCgj0789w8Fx5zPI4aNDwpz1U8cW0sPKr77TuoGN47cnIHPKL2tTufHOA7dlLoOyQkwTs=",
          "dtype": "f4"
         },
         "yaxis": "y5"
        },
        {
         "colormodel": "rgba256",
         "customdata": {
          "bdata": "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",
          "dtype": "f4",
          "shape": "20, 20"
         },
         "hovertemplate": "In: %{x}<br>\nOut: %{y}<br>\nWeight: %{customdata:0.2f}\n",
         "type": "image",
         "xaxis": "x6",
         "yaxis": "y6",
         "z": {
          "bdata": "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",
          "dtype": "u1",
          "shape": "20, 20, 4"
         }
        },
        {
         "marker": {
          "cmax": 1,
          "cmin": 0,
          "color": {
           "bdata": "qhBnP256ej87UXg/+2gnP9nYQj9mD4M/sZuDP3KVej/h+IQ/pg+nPzRNgz9GaKk/HnWpPwOKsT98wrM/v7O0P9OArD89ErM/EXGyP3pGrz8=",
           "dtype": "f4"
          }
         },
         "type": "bar",
         "width": 0.9,
         "x": {
          "bdata": "AAECAwQFBgcICQoLDA0ODxAREhM=",
          "dtype": "i1"
         },
         "xaxis": "x7",
         "y": {
          "bdata": "RfeEP68Ogz96moM/dddCP3tmJz8Keno/Wk54P65Lgz85Dmc/WdoJPE6Tej/gvG47OgMYO4JkpDv+8mY7zc2BO3/isTu9nck7mVziOyvRzDs=",
          "dtype": "f4"
         },
         "yaxis": "y7"
        },
        {
         "colormodel": "rgba256",
         "customdata": {
          "bdata": "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",
          "dtype": "f4",
          "shape": "20, 20"
         },
         "hovertemplate": "In: %{x}<br>\nOut: %{y}<br>\nWeight: %{customdata:0.2f}\n",
         "type": "image",
         "xaxis": "x8",
         "yaxis": "y8",
         "z": {
          "bdata": "swMm/9zc3f/c3N3/3dzb/93c2//d3Nv/3dzb/9zc3f9CWMr/3dzb/9zc3f/c3N3/3dzb/9zc3f/c3N3/3Nzd/9zc3f/c3N3/3dzb/93c2//c3N3/swMm/93c2//d3Nv/3dzb/zpMwP/c3N3/3dzb/93c2//c3N3/3Nzd/9zc3f/c3N3/3dzb/9zc3f/d3Nv/3dzb/93c2//c3N3/3Nzd/9zc3f/d3Nv/swMm/93c2//d3Nv/3dzb/zpMwP/c3N3/3dzb/9zc3f/d3Nv/3Nzd/9zc3f/d3Nv/3Nzd/93c2//c3N3/3Nzd/93c2//c3N3/3dzb/93c2//d3Nv/7odq//Sae//c3N3/3Nzd/93c2//c3N3/3Nzd/9zc3f/d3Nv/3Nzd/93c2//d3Nv/3Nzd/93c2//d3Nv/3Nzd/9zc3f/d3Nv/3dzb/93c2//0mnv/9qeJ/9zc3f/c3N3/3Nzd/9zc3f/c3N3/3dzb/93c2//c3N3/3dzb/93c2//c3N3/3dzb/93c2//c3N3/3Nzd/93c2/86TMD/3dzb/9zc3f/c3N3/uxor/9zc3f/d3Nv/3Nzd/93c2//c3N3/3dzb/93c2//c3N3/3dzb/9zc3f/c3N3/3Nzd/93c2//d3Nv/3dzb/9zc3f86TMD/3Nzd/9zc3f/c3N3/viMt/9zc3f/c3N3/3dzb/9zc3f/d3Nv/3dzb/9zc3f/d3Nv/3Nzd/93c2//d3Nv/3Nzd/93c2//c3N3/3dzb/9zc3f/d3Nv/3Nzd/93c2//c3N3/swMm/9zc3f/d3Nv/OkzA/9zc3f/c3N3/3Nzd/93c2//c3N3/3dzb/93c2//c3N3/3Nzd/0JYyv/d3Nv/3dzb/9zc3f/c3N3/3Nzd/9zc3f/c3N3/001A/9zc3f/d3Nv/3dzb/9zc3f/d3Nv/3dzb/93c2//d3Nv/3dzb/9zc3f/c3N3/3dzb/9zc3f/c3N3/3Nzd/9zc3f/d3Nv/3dzb/93c2//c3N3/3dzb/9zc3f/c3N3/3dzb/9zc3f/d3Nv/3Nzd/9zc3f/d3Nv/3dzb/93c2//c3N3/3Nzd/93c2//c3N3/3dzb/9zc3f/c3N3/OkzA/93c2//c3N3/uxor/93c2//d3Nv/3dzb/9zc3f/d3Nv/3Nzd/9zc3f/d3Nv/3dzb/9zc3f/c3N3/3Nzd/93c2//d3Nv/3dzb/93c2//c3N3/3dzb/9zc3f/d3Nv/3dzb/9zc3f/d3Nv/3dzb/9zc3f/d3Nv/3Nzd/93c2//c3N3/3dzb/9zc3f/c3N3/3Nzd/9zc3f/d3Nv/3dzb/9zc3f/c3N3/3dzb/93c2//c3N3/3dzb/9zc3f/d3Nv/3Nzd/9zc3f/c3N3/3dzb/93c2//c3N3/3dzb/93c2//d3Nv/3dzb/9zc3f/c3N3/3Nzd/93c2//c3N3/3dzb/93c2//c3N3/3dzb/9zc3f/d3Nv/3dzb/93c2//c3N3/3Nzd/9zc3f/c3N3/3Nzd/93c2//d3Nv/3dzb/93c2//d3Nv/3dzb/93c2//c3N3/3dzb/93c2//c3N3/3dzb/9zc3f/d3Nv/3dzb/9zc3f/d3Nv/3Nzd/93c2//d3Nv/3Nzd/9zc3f/c3N3/3Nzd/9zc3f/d3Nv/3Nzd/93c2//c3N3/3Nzd/93c2//c3N3/3dzb/9zc3f/c3N3/3dzb/9zc3f/c3N3/3dzb/9zc3f/d3Nv/3dzb/9zc3f/d3Nv/3dzb/93c2//c3N3/3Nzd/93c2//c3N3/3dzb/93c2//c3N3/3dzb/93c2//c3N3/3Nzd/9zc3f/d3Nv/3Nzd/93c2//d3Nv/3Nzd/93c2//d3Nv/3dzb/93c2//c3N3/3Nzd/9zc3f/d3Nv/3dzb/9zc3f/d3Nv/3dzb/9zc3f/c3N3/3dzb/9zc3f/d3Nv/3Nzd/9zc3f/d3Nv/3Nzd/9zc3f/c3N3/3dzb/93c2//d3Nv/3dzb/9zc3f/c3N3/3dzb/9zc3f/c3N3/3dzb/93c2//d3Nv/3Nzd/9zc3f/c3N3/3Nzd/93c2//d3Nv/3Nzd/9zc3f/d3Nv/3dzb/9zc3f/d3Nv/3Nzd/93c2//c3N3/3Nzd/9zc3f/d3Nv/3dzb/w==",
          "dtype": "u1",
          "shape": "20, 20, 4"
         }
        },
        {
         "marker": {
          "cmax": 1,
          "cmin": 0,
          "color": {
           "bdata": "ANChPFo6cT/5434/gCR7Pwq4gD/y6n8/sH6CP/8sgj/uYoM/UkOMP1jWkT+h1oM/g42zP0qbtT8PEbA/kPysP1h/pD+47LQ/55KqP6Y9ij8=",
           "dtype": "f4"
          }
         },
         "type": "bar",
         "width": 0.9,
         "x": {
          "bdata": "AAECAwQFBgcICQoLDA0ODxAREhM=",
          "dtype": "i1"
         },
         "xaxis": "x9",
         "y": {
          "bdata": "xnKAPyzWgz+yfYI/02KDP63kzTtiLII/fuF+P8zpfz9fJHs/cTyDPMfX3zt/OXE/zlyIOz2fQDsKRvs7xHs2O20mhTtqj6M7yWDJO4oFuTs=",
          "dtype": "f4"
         },
         "yaxis": "y9"
        },
        {
         "colormodel": "rgba256",
         "customdata": {
          "bdata": "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",
          "dtype": "f4",
          "shape": "20, 20"
         },
         "hovertemplate": "In: %{x}<br>\nOut: %{y}<br>\nWeight: %{customdata:0.2f}\n",
         "type": "image",
         "xaxis": "x10",
         "yaxis": "y10",
         "z": {
          "bdata": "swMm/9zc3f/d3Nv/3dzb/93c2//d3Nv/3dzb/9zc3f/d3Nv/3tva/93c2//d3Nv/3dzb/9zc3f/d3Nv/3dzb/93c2//c3N3/3dzb/93c2//c3N3/swMm/9zc3f/c3N3/3Nzd/9zc3f/d3Nv/3dzb/9zc3f/d3Nv/3dzb/z5RxP/c3N3/3Nzd/9zc3f/d3Nv/3Nzd/93c2//c3N3/3dzb/93c2//c3N3/swMm/93c2//c3N3/3Nzd/zpMwP/c3N3/3Nzd/93c2//c3N3/3Nzd/9zc3f/d3Nv/3dzb/9zc3f/d3Nv/3dzb/9zc3f/c3N3/3dzb/9zc3f/d3Nv/swMm/9zc3f/d3Nv/3dzb/9zc3f86TMD/3dzb/93c2//d3Nv/3dzb/93c2//d3Nv/3dzb/9zc3f/d3Nv/3Nzd/9zc3f/d3Nv/3Nzd/9zc3f/c3N3/3dzb/93c2//d3Nv/3Nzd/93c2//d3Nv/3dzb/93c2//d3Nv/3Nzd/93c2//d3Nv/3dzb/9zc3f/d3Nv/3dzb/93c2//c3N3/3Nzd/93c2//d3Nv/swMm/9zc3f86TMD/3dzb/93c2//c3N3/3dzb/93c2//d3Nv/3Nzd/93c2//d3Nv/3Nzd/93c2//c3N3/3dzb/93c2/86TMD/3dzb/93c2//c3N3/tQgn/93c2//d3Nv/3Nzd/93c2//d3Nv/3dzb/9zc3f/c3N3/3dzb/9zc3f/c3N3/3dzb/93c2//c3N3/3dzb/9zc3f/c3N3/3Nzd/zpMwP/d3Nv/swMm/93c2//c3N3/3dzb/93c2//c3N3/3Nzd/93c2//c3N3/3Nzd/93c2//c3N3/3dzb/93c2//c3N3/3Nzd/zpMwP/d3Nv/3dzb/93c2//d3Nv/uRYq/9zc3f/c3N3/3dzb/9zc3f/c3N3/3Nzd/9zc3f/d3Nv/3Nzd/93c2//d3Nv/3tva/93c2//d3Nv/3dzb/93c2//d3Nv/3Nzd/9zc3f/c3N3/3dzb/93c2//c3N3/3dzb/93c2//d3Nv/3dzb/93c2//d3Nv/3dzb/93c2//d3Nv/3dzb/9zc3f/d3Nv/3dzb/9zc3f/d3Nv/3dzb/9zc3f/d3Nv/3dzb/9zc3f/c3N3/3dzb/93c2//d3Nv/3dzb/9zc3f/d3Nv/3dzb/93c2/8+UcT/3Nzd/93c2//d3Nv/3dzb/93c2//d3Nv/3dzb/9zc3f/c3N3/yDg1/93c2//d3Nv/3dzb/9zc3f/d3Nv/3Nzd/93c2//c3N3/3dzb/9zc3f/c3N3/3dzb/93c2//d3Nv/3dzb/9zc3f/c3N3/3dzb/9zc3f/d3Nv/3dzb/93c2//c3N3/3Nzd/93c2//c3N3/3dzb/9zc3f/c3N3/3Nzd/93c2//d3Nv/3Nzd/93c2//c3N3/3Nzd/9zc3f/d3Nv/3dzb/93c2//d3Nv/3dzb/9zc3f/d3Nv/3Nzd/93c2//d3Nv/3Nzd/93c2//c3N3/3dzb/93c2//d3Nv/3Nzd/9zc3f/d3Nv/3Nzd/93c2//d3Nv/3dzb/9zc3f/c3N3/3dzb/9zc3f/d3Nv/3dzb/9zc3f/d3Nv/3dzb/93c2//c3N3/3dzb/93c2//d3Nv/3dzb/9zc3f/c3N3/3dzb/93c2//c3N3/3Nzd/93c2//c3N3/3dzb/9zc3f/c3N3/3dzb/93c2//d3Nv/3Nzd/93c2//c3N3/3dzb/93c2//c3N3/3Nzd/93c2//d3Nv/3dzb/93c2//d3Nv/3Nzd/93c2//c3N3/3dzb/93c2//d3Nv/3dzb/9zc3f/d3Nv/3dzb/93c2//c3N3/3Nzd/9zc3f/d3Nv/3Nzd/93c2//c3N3/3Nzd/9zc3f/d3Nv/3dzb/9zc3f/d3Nv/3dzb/9zc3f/c3N3/3dzb/9zc3f/c3N3/3Nzd/93c2//d3Nv/3dzb/9zc3f/d3Nv/3dzb/93c2//d3Nv/3dzb/93c2//c3N3/3dzb/93c2//c3N3/3dzb/93c2//d3Nv/3dzb/9zc3f/c3N3/3dzb/9zc3f/d3Nv/3dzb/93c2//d3Nv/3dzb/9zc3f/c3N3/3Nzd/93c2//d3Nv/3dzb/9zc3f/d3Nv/3dzb/w==",
          "dtype": "u1",
          "shape": "20, 20, 4"
         }
        },
        {
         "marker": {
          "cmax": 1,
          "cmin": 0,
          "color": {
           "bdata": "RKWAP+dmfz+ZsoE/n/W1P6t5fz+Mi38/sph7P2SIgj8tHYI/bhe2P/MHgj8hobU/mbG1P7SPtT/WyoI/A5W1PyvEtT9Sv7U/m8O1P6QAtj8=",
           "dtype": "f4"
          }
         },
         "type": "bar",
         "width": 0.9,
         "x": {
          "bdata": "AAECAwQFBgcICQoLDA0ODxAREhM=",
          "dtype": "i1"
         },
         "xaxis": "x11",
         "y": {
          "bdata": "MbGBP0WIgj8do4A/jf9EO8Ubgj9EB4I/U8mCP+dkfz8Bdn8/HC3ZOxaKfz8bQg88512UOxWdjDu/lXs/nVxwO8gG6Ds6o4E7b4RxOwCu0js=",
          "dtype": "f4"
         },
         "yaxis": "y11"
        },
        {
         "colormodel": "rgba256",
         "customdata": {
          "bdata": "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",
          "dtype": "f4",
          "shape": "20, 20"
         },
         "hovertemplate": "In: %{x}<br>\nOut: %{y}<br>\nWeight: %{customdata:0.2f}\n",
         "type": "image",
         "xaxis": "x12",
         "yaxis": "y12",
         "z": {
          "bdata": "swMm/9zc3f86TMD/3dzb/9zc3f/c3N3/3Nzd/93c2//d3Nv/3Nzd/93c2//c3N3/3dzb/93c2//d3Nv/3dzb/9zc3f/d3Nv/3dzb/9zc3f/c3N3/swMm/93c2//d3Nv/3dzb/9zc3f/c3N3/OkzA/9zc3f/c3N3/3dzb/93c2//c3N3/3dzb/93c2//d3Nv/3dzb/93c2//d3Nv/3dzb/zpMwP/d3Nv/swMm/9zc3f/d3Nv/3dzb/93c2//c3N3/3Nzd/93c2//c3N3/3dzb/9zc3f/c3N3/3Nzd/9zc3f/d3Nv/3Nzd/9zc3f/d3Nv/3dzb/93c2//c3N3/3dzb/9zc3f/c3N3/3Nzd/9zc3f/d3Nv/3Nzd/93c2//d3Nv/3Nzd/93c2//d3Nv/3dzb/93c2//d3Nv/3Nzd/9zc3f/c3N3/3dzb/93c2//c3N3/swMm/9zc3f/c3N3/3Nzd/zpMwP/d3Nv/3dzb/9zc3f/d3Nv/3Nzd/9zc3f/d3Nv/3dzb/9zc3f/c3N3/3Nzd/9zc3f/c3N3/3dzb/9zc3f/c3N3/swMm/93c2//c3N3/3dzb/9zc3f86TMD/3Nzd/93c2//d3Nv/3dzb/93c2//c3N3/3Nzd/93c2//d3Nv/3Nzd/9zc3f/d3Nv/3Nzd/9zc3f/d3Nv/swMm/9zc3f/d3Nv/3Nzd/9zc3f/c3N3/3Nzd/93c2/86TMD/3Nzd/93c2//c3N3/3dzb/93c2//d3Nv/OkzA/9zc3f/c3N3/3Nzd/9zc3f/c3N3/swMm/9zc3f/d3Nv/3Nzd/9zc3f/d3Nv/3Nzd/9zc3f/c3N3/3Nzd/9zc3f/c3N3/3Nzd/93c2//c3N3/3Nzd/93c2/86TMD/3dzb/93c2//c3N3/swMm/9zc3f/d3Nv/3dzb/9zc3f/d3Nv/3Nzd/9zc3f/c3N3/3dzb/93c2//d3Nv/3Nzd/9zc3f/d3Nv/3Nzd/93c2//c3N3/3Nzd/93c2//c3N3/3dzb/93c2//d3Nv/3dzb/9zc3f/d3Nv/3dzb/93c2//c3N3/3Nzd/9zc3f/d3Nv/3dzb/9zc3f/d3Nv/3dzb/zpMwP/c3N3/3Nzd/93c2//d3Nv/swMm/93c2//c3N3/3Nzd/9zc3f/c3N3/3dzb/93c2//c3N3/3Nzd/9zc3f/d3Nv/3dzb/93c2//c3N3/3Nzd/9zc3f/c3N3/3dzb/93c2//d3Nv/3dzb/9zc3f/c3N3/3dzb/9zc3f/c3N3/3dzb/9zc3f/d3Nv/3dzb/9zc3f/c3N3/3Nzd/93c2//d3Nv/3Nzd/93c2//c3N3/3dzb/9zc3f/c3N3/3dzb/9zc3f/d3Nv/3dzb/9zc3f/d3Nv/3Nzd/9zc3f/d3Nv/3dzb/9zc3f/d3Nv/3Nzd/93c2//d3Nv/3Nzd/93c2//c3N3/3Nzd/9zc3f/c3N3/3dzb/9zc3f/c3N3/3dzb/9zc3f/d3Nv/3dzb/93c2//d3Nv/3Nzd/93c2//c3N3/3dzb/zpMwP/c3N3/3Nzd/93c2//c3N3/3dzb/93c2//c3N3/uRYq/93c2//c3N3/3dzb/9zc3f/c3N3/3dzb/93c2//c3N3/3dzb/93c2//d3Nv/3Nzd/9zc3f/c3N3/3dzb/9zc3f/c3N3/3dzb/9zc3f/d3Nv/3dzb/9zc3f/d3Nv/3dzb/9zc3f/c3N3/3dzb/93c2//d3Nv/3dzb/9zc3f/d3Nv/3Nzd/9zc3f/d3Nv/3dzb/9zc3f/c3N3/3dzb/9zc3f/c3N3/3dzb/9zc3f/d3Nv/3dzb/93c2//d3Nv/3Nzd/93c2//c3N3/3Nzd/9zc3f/c3N3/3dzb/9zc3f/d3Nv/3dzb/93c2//c3N3/3dzb/93c2//c3N3/3dzb/9zc3f/c3N3/3dzb/93c2//c3N3/3Nzd/9zc3f/d3Nv/3dzb/9zc3f/d3Nv/3Nzd/9zc3f/c3N3/3Nzd/93c2//c3N3/3dzb/93c2//c3N3/3dzb/93c2//c3N3/3dzb/93c2//c3N3/3Nzd/93c2//d3Nv/3Nzd/93c2//c3N3/3Nzd/93c2//c3N3/3dzb/9zc3f/c3N3/3dzb/9zc3f/d3Nv/3dzb/w==",
          "dtype": "u1",
          "shape": "20, 20, 4"
         }
        },
        {
         "marker": {
          "cmax": 1,
          "cmin": 0,
          "color": {
           "bdata": "Jk2AP1WHfT8xh4A/H2eBPwP5tT+wPYE/xQ6BP58GgT+LP4A/VOOBP5rQgT84zbU/hUa1P40ttj/stbU/Osa1P/S2tT/6m7U/6W+1P3VOtT8=",
           "dtype": "f4"
          }
         },
         "type": "bar",
         "width": 0.9,
         "x": {
          "bdata": "AAECAwQFBgcICQoLDA0ODxAREhM=",
          "dtype": "i1"
         },
         "xaxis": "x13",
         "y": {
          "bdata": "3GaBPw7NgT8hPYE/w0yAPzgNkDurhoA/FQaBPygOgT9R4oE/3z6AP3t/fT/UTbw73no6PKxs8TukodQ7E3UNPN5mhTsHhNE74PJAO5entjs=",
          "dtype": "f4"
         },
         "yaxis": "y13"
        },
        {
         "colormodel": "rgba256",
         "customdata": {
          "bdata": "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",
          "dtype": "f4",
          "shape": "20, 20"
         },
         "hovertemplate": "In: %{x}<br>\nOut: %{y}<br>\nWeight: %{customdata:0.2f}\n",
         "type": "image",
         "xaxis": "x14",
         "yaxis": "y14",
         "z": {
          "bdata": "swMm/9zc3f/d3Nv/OkzA/9zc3f/c3N3/3Nzd/93c2//c3N3/3Nzd/93c2//d3Nv/3Nzd/93c2//d3Nv/3dzb/9zc3f/c3N3/3dzb/93c2//c3N3/swMm/9zc3f/d3Nv/3dzb/9zc3f/c3N3/3dzb/93c2//d3Nv/OkzA/9zc3f/b3N7/3dzb/93c2//c3N3/3dzb/9zc3f/d3Nv/3Nzd/93c2//c3N3/swMm/9zc3f/c3N3/OkzA/93c2//d3Nv/3Nzd/9zc3f/d3Nv/3dzb/93c2//d3Nv/3dzb/9zc3f/c3N3/3dzb/9zc3f/c3N3/OkzA/93c2//c3N3/swMm/93c2//d3Nv/3dzb/9zc3f/d3Nv/3dzb/93c2//c3N3/3dzb/9zc3f/c3N3/3Nzd/93c2//d3Nv/3Nzd/9zc3f/c3N3/3dzb/9zc3f/d3Nv/3dzb/93c2//c3N3/3dzb/93c2//c3N3/3Nzd/9zc3f/c3N3/3Nzd/93c2//c3N3/3dzb/93c2//c3N3/3dzb/9zc3f/c3N3/OkzA/93c2//d3Nv/swMm/9zc3f/c3N3/3dzb/9zc3f/d3Nv/3Nzd/9zc3f/c3N3/3Nzd/93c2//d3Nv/3Nzd/93c2//d3Nv/3Nzd/9zc3f/d3Nv/3dzb/9zc3f/c3N3/swMm/zpMwP/c3N3/3dzb/9zc3f/c3N3/3Nzd/9zc3f/c3N3/3dzb/9zc3f/d3Nv/3Nzd/9zc3f/d3Nv/3dzb/93c2//c3N3/3dzb/9zc3f86TMD/swMm/9zc3f/c3N3/3dzb/93c2//d3Nv/3dzb/93c2//c3N3/3dzb/9zc3f/d3Nv/3dzb/9zc3f/d3Nv/3Nzd/93c2//d3Nv/3dzb/9zc3f/c3N3/swMm/zpMwP/c3N3/3Nzd/9zc3f/c3N3/3dzb/9zc3f/d3Nv/3dzb/9zc3f/d3Nv/3Nzd/93c2//c3N3/3dzb/9zc3f/c3N3/3dzb/9zc3f86TMD/swMm/9zc3f/d3Nv/3Nzd/93c2//c3N3/3dzb/9zc3f/c3N3/3dzb/9zc3f/d3Nv/OkzA/93c2//d3Nv/3Nzd/93c2//c3N3/3dzb/9zc3f/c3N3/tg0o/93c2//e29r/3Nzd/9zc3f/d3Nv/3Nzd/93c2//c3N3/3dzb/93c2//c3N3/3dzb/9zc3f/c3N3/3Nzd/9zc3f/d3Nv/3Nzd/93c2//d3Nv/3dzb/93c2//d3Nv/3Nzd/93c2//c3N3/3dzb/9zc3f/d3Nv/3Nzd/9vc3v/d3Nv/3dzb/9zc3f/c3N3/3Nzd/93c2//c3N3/3Nzd/97b2v/d3Nv/3dzb/9zc3f/c3N3/3dzb/9zc3f/d3Nv/3Nzd/93c2//d3Nv/3dzb/93c2//c3N3/3Nzd/9zc3f/c3N3/3dzb/9zc3f/d3Nv/3Nzd/93c2//c3N3/3dzb/9zc3f/c3N3/3Nzd/9zc3f/d3Nv/3Nzd/93c2//d3Nv/3dzb/9zc3f/d3Nv/3Nzd/9zc3f/d3Nv/3dzb/9zc3f/c3N3/3Nzd/9zc3f/c3N3/3dzb/9zc3f/d3Nv/3Nzd/93c2//c3N3/3dzb/9zc3f/c3N3/3Nzd/9zc3f/d3Nv/3dzb/9zc3f/c3N3/3dzb/93c2//d3Nv/3dzb/9zc3f/c3N3/3dzb/9zc3f/d3Nv/3Nzd/93c2//c3N3/3dzb/9zc3f/d3Nv/3dzb/93c2//c3N3/3dzb/93c2//c3N3/3Nzd/9zc3f/c3N3/3Nzd/93c2//c3N3/3dzb/93c2//c3N3/3Nzd/9zc3f/c3N3/3dzb/93c2//d3Nv/3Nzd/93c2//c3N3/3dzb/9zc3f/d3Nv/3dzb/93c2//c3N3/3Nzd/93c2//d3Nv/3dzb/9zc3f/d3Nv/3dzb/93c2//c3N3/3Nzd/9zc3f/d3Nv/3Nzd/93c2//c3N3/3dzb/9zc3f/c3N3/3Nzd/93c2//d3Nv/3Nzd/9zc3f/c3N3/3dzb/9zc3f/d3Nv/3Nzd/9zc3f/c3N3/3dzb/93c2//c3N3/3dzb/93c2//c3N3/3dzb/93c2//d3Nv/3Nzd/9zc3f/d3Nv/3Nzd/93c2//c3N3/3dzb/w==",
          "dtype": "u1",
          "shape": "20, 20, 4"
         }
        },
        {
         "marker": {
          "cmax": 1,
          "cmin": 0,
          "color": {
           "bdata": "XQuAP3whoz9hv38/p0iBP1B71j/BDas/x3iBP+hPoz+nvrI/Vq6uP42etj8qRrk/x6/TP6k+wT/zb9w/wC/jP+Ja3D8tVdk/o4jKP8Gn1D8=",
           "dtype": "f4"
          }
         },
         "type": "bar",
         "width": 0.9,
         "x": {
          "bdata": "AAECAwQFBgcICQoLDA0ODxAREhM=",
          "dtype": "i1"
         },
         "xaxis": "x15",
         "y": {
          "bdata": "QEiBP+8CjT+deIE/awuAP1c3ATwzDY8/9r1/P0hvjD8M8Is/ELuLP8/YiD/SkYE/9qfmO1kvbD8gLwo8Dp44PPStpTucd/E7FgY6O50AgDs=",
          "dtype": "f4"
         },
         "yaxis": "y15"
        },
        {
         "colormodel": "rgba256",
         "customdata": {
          "bdata": "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",
          "dtype": "f4",
          "shape": "20, 20"
         },
         "hovertemplate": "In: %{x}<br>\nOut: %{y}<br>\nWeight: %{customdata:0.2f}\n",
         "type": "image",
         "xaxis": "x16",
         "yaxis": "y16",
         "z": {
          "bdata": "swMm/9zc3f/c3N3/OkzA/9zc3f/d3Nv/3dzb/9zc3f/c3N3/3dzb/9zc3f/c3N3/3Nzd/93c2//d3Nv/3dzb/93c2//d3Nv/3dzb/93c2//c3N3/swMm/9zc3f/d3Nv/29ze/9Pb5v/c3N3/OkzA/+/OvP/Z3OD/8siz/1Vx3v/d3Nv/9cCn/93c2//c3N3/3Nzd/93c2//d3Nv/3Nzd/9zc3f/c3N3/swMm/9zc3f/c3N3/3Nzd/zpMwP/d3Nv/3Nzd/9zc3f/d3Nv/3Nzd/9zc3f/c3N3/3dzb/9zc3f/d3Nv/3dzb/9zc3f/d3Nv/OkzA/93c2//c3N3/swMm/93c2//c3N3/3dzb/9zc3f/d3Nv/3Nzd/93c2//c3N3/3dzb/9zc3f/c3N3/3Nzd/9zc3f/c3N3/3Nzd/9zc3f/c3N3/29ze/9zc3f/d3Nv/3dzb/93c2//d3Nv/3dzb/9zc3f/c3N3/3dzb/93c2//c3N3/3Nzd/9zc3f/d3Nv/3dzb/9zc3f/c3N3/3dzb/93c2//T2+b/3Nzd/9zc3f/d3Nv/swMm/93c2//R2uj/OkzA/0JYyv/2tpr/9MSt/93c2//2vKL/29ze/9zc3f/c3N3/3dzb/9zc3f/d3Nv/3dzb/9zc3f86TMD/3dzb/93c2//d3Nv/swMm/9zc3f/d3Nv/3Nzd/93c2//c3N3/3dzb/93c2//c3N3/3dzb/9zc3f/c3N3/3dzb/9zc3f/c3N3/OkzA/93c2//c3N3/3dzb/9Ha6P/c3N3/swMm//TCqv+80fb/9cCn//exlP/c3N3/aYvv/93c2//d3Nv/3dzb/9zc3f/c3N3/3Nzd/9zc3f/vzrz/3Nzd/93c2//c3N3/OkzA/93c2//0wqr/swMm//exlP/2up//cZT0/9zc3f9oie7/3tva/93c2//d3Nv/3Nzd/93c2//c3N3/3dzb/9nc4P/c3N3/3Nzd/9zc3f9CWMr/3Nzd/7zR9v/3sZT/swMm/z9Txv/2uZ3/3Nzd//a2mv/d3Nv/3Nzd/93c2//c3N3/3dzb/9zc3f/c3N3/8siz/93c2//d3Nv/3dzb//a2mv/d3Nv/9cCn//a6n/8/U8b/swMm/2GC6v/d3Nv/aInu/9zc3f/e29r/3Nzd/93c2//c3N3/3Nzd/9zc3f9Vcd7/3Nzd/9zc3f/d3Nv/9MSt/9zc3f/3sZT/cZT0//a5nf9hgur/swMm/9zc3f/2qYr/3Nzd/9zc3f/d3Nv/3Nzd/9zc3f/d3Nv/3Nzd/93c2//c3N3/3dzb/9zc3f/d3Nv/3dzb/9zc3f/c3N3/3Nzd/93c2//c3N3/3dzb/93c2//c3N3/3Nzd/9zc3f/d3Nv/3Nzd/93c2//d3Nv/9cCn/9zc3f/c3N3/3Nzd//a8ov/d3Nv/aYvv/2iJ7v/2tpr/aInu//apiv/d3Nv/zkQ8/9zc3f/b3N7/3dzb/93c2//d3Nv/3dzb/93c2//d3Nv/3dzb/9zc3f/c3N3/29ze/9zc3f/d3Nv/3tva/93c2//c3N3/3Nzd/9zc3f/c3N3/3dzb/93c2//d3Nv/3Nzd/93c2//c3N3/3dzb/9zc3f/c3N3/3Nzd/93c2//c3N3/3dzb/93c2//d3Nv/3Nzd/97b2v/c3N3/3Nzd/9vc3v/d3Nv/3dzb/9zc3f/c3N3/3Nzd/9zc3f/d3Nv/3Nzd/93c2//c3N3/3dzb/9zc3f/c3N3/3dzb/93c2//d3Nv/3Nzd/93c2//c3N3/3dzb/93c2//c3N3/3dzb/9zc3f/d3Nv/3Nzd/93c2//d3Nv/3dzb/9zc3f/c3N3/3dzb/9zc3f/c3N3/3Nzd/9zc3f/d3Nv/3Nzd/93c2//d3Nv/3Nzd/9zc3f/c3N3/3dzb/9zc3f/d3Nv/3dzb/93c2//c3N3/3Nzd/9zc3f/c3N3/3dzb/9zc3f/d3Nv/3dzb/9zc3f/c3N3/3Nzd/93c2//d3Nv/3Nzd/93c2//c3N3/3dzb/9zc3f/d3Nv/3Nzd/93c2//c3N3/3dzb/93c2//c3N3/3Nzd/9zc3f/c3N3/3Nzd/93c2//d3Nv/3dzb/9zc3f/c3N3/3Nzd/93c2//c3N3/3dzb/w==",
          "dtype": "u1",
          "shape": "20, 20, 4"
         }
        },
        {
         "marker": {
          "cmax": 1,
          "cmin": 0,
          "color": {
           "bdata": "OoF+PxU0pz+AyqY/ft+nP44J2D+UeoE/ioSoPya8qD9v2qg/0tipP8ADqT8gc6k/LdypP0CTzz8MotY/OGzXP9vQ1z8q99U/8PHXP34C2T8=",
           "dtype": "f4"
          }
         },
         "type": "bar",
         "width": 0.9,
         "x": {
          "bdata": "AAECAwQFBgcICQoLDA0ODxAREhM=",
          "dtype": "i1"
         },
         "xaxis": "x17",
         "y": {
          "bdata": "o3iBP/Y6jD/86os/rXOLP7yUAjzRfn4/ehOLP/8oij/KU4k/+QOJP2PShz/o34c/y8WFP5rhSjw+bdo7MAqpOyrBCjwwhGM8ULjBO0JjMzw=",
          "dtype": "f4"
         },
         "yaxis": "y17"
        },
        {
         "colormodel": "rgba256",
         "customdata": {
          "bdata": "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",
          "dtype": "f4",
          "shape": "20, 20"
         },
         "hovertemplate": "In: %{x}<br>\nOut: %{y}<br>\nWeight: %{customdata:0.2f}\n",
         "type": "image",
         "xaxis": "x18",
         "yaxis": "y18",
         "z": {
          "bdata": "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",
          "dtype": "u1",
          "shape": "20, 20, 4"
         }
        },
        {
         "marker": {
          "cmax": 1,
          "cmin": 0,
          "color": {
           "bdata": "cjK9P0mUvz9ezLo/zhbBP2Qt9j9atL4/lg7AP+tqyz9ofMw/m9XCP0iNwD/iSdA//23JP2/ozz8Hds4/hP3PP8K18D8GUvY/sVXlPy5J9T8=",
           "dtype": "f4"
          }
         },
         "type": "bar",
         "width": 0.9,
         "x": {
          "bdata": "AAECAwQFBgcICQoLDA0ODxAREhM=",
          "dtype": "i1"
         },
         "xaxis": "x19",
         "y": {
          "bdata": "c0+QP6LykT8iS5E/eDCRP8hrCjyAdI4/4h2PP8FHjT8zbYw//lWMP1P5iz9WvIc/6V+IP4WFgz+JSYI/eaJ+P/cMozv7Ju476n/nO0ADxDs=",
          "dtype": "f4"
         },
         "yaxis": "y19"
        },
        {
         "colormodel": "rgba256",
         "customdata": {
          "bdata": "9LKiP3vsZL9eSpE8BGFev7Blmjsy/HY+iZxpPrDKZz46zS+/eHQnPgT8ED4jd3A+UeIsPlgDGb8z0GU+kBVoPuF9MLs9FJY61Tenu9u4aTt77GS/hGmmP6YT1r4/j4M+FkN4u/5dXr9tQio+3tKNPqQmcz6aUTE+8xrqPfdYDb9LP3E+fJSGPmZVIb8CBJc+1ms3O5d2Fzu/lN46WHQtOl5KkTymE9a+ZOykP7RIsr5mIp47f3aUPL1Ur7nhWYQ+75eMPtmga7+7zne/15yWPpBv676JD5c+/5aBPgA7iT7DuUu72N46OwXMjzvltQ67BGFevz+Pgz60SLK+4q+kP0qHwbsP8DQ+9oJkv+JdJL8+aYI+enruPULJ8T3u9ac+/TaCPtr+fD6Xnp4+qrcRv9bYsTqFUK+7h8eKO89rMbuwZZo7FkN4u2YinjtKh8G7wbCVODx0Rbpax+c6P4nuO/b6ITtkDeK7GVcWOp2oSLsDH226iNWuu9wYkzuA/SS6AQPvt8q3Pzg6+JK3wOaWtjL8dj7+XV6/f3aUPA/wND48dEW65oqeP8UoMz6vCke/HOWIPihVLj5O7xs+Cp0+PgR5P7/5foY+acRPPrI5Kr8RALQ6+damuykj2bqvAWm7iZxpPm1CKj69VK+59oJkv1rH5zrFKDM+zQSgP3WmPz4lP4k+LE40PpjN/T3vWTW/1NFHv7AQiT6gkTm/kpdbPthmLTueuT47kdeHu7y2bbmwymc+3tKNPuFZhD7iXSS/P4nuO68KR791pj8+PvCbPw7kgj6xKju/El1kPk2xKL98hpg+2jA9vxxgkj74bDA+X7Yyu/ZZ+jt0Auq6DUSUOjrNL7+kJnM+75eMPj5pgj72+iE7HOWIPiU/iT4O5II+PA+aP7OaN79PR4Q+4HxDv9pQMb9IIcQ9twtsPqHsMr8+RrA6XnvrOv9LajqBEcC7eHQnPppRMT7ZoGu/enruPWQN4rsoVS4+LE40PrEqO7+zmje/VtyZP88pkD7wCIM+wKBUPly1jj72/im/cKVpPvjKVjtBCpm7wxYvuz7HWTsE/BA+8xrqPbvOd79CyfE9GVcWOk7vGz6Yzf09El1kPk9HhD7PKZA+ZRGZPzs0Mr9G4k0+jYAwv9pHZT5XSSm/xSbTOgJ9qbgSwLu7AGUouSN3cD73WA2/15yWPu71pz6dqEi7Cp0+Pu9ZNb9NsSi/4HxDv/AIgz47NDK/W/CPP3dgqj5ikJM+A4ggPjLvoj5KOf66SF6Qu5PabTtLbO06UeIsPks/cT6Qb+u+/TaCPgMfbboEeT+/1NFHv3yGmD7aUDG/wKBUPkbiTT53YKo+GEyRP9eUGr/JW5I+9YiKPmxjEbt0NOk5/eVZOdoQjztYAxm/fJSGPokPlz7a/nw+iNWuu/l+hj6wEIk+2jA9v0ghxD1ctY4+jYAwv2KQkz7XlBq/2COHPzVKK7+XHYQ+P8o5O9b3SrtLpYE7+DLpujPQZT5mVSG//5aBPpeenj7cGJM7acRPPqCROb8cYJI+twtsPvb+Kb/aR2U+A4ggPslbkj41Siu/iZ2EP4aTFb/3JGe7VsMsObFy5Dl4kuq6kBVoPgIElz4AO4k+qrcRv4D9JLqyOSq/kpdbPvhsMD6h7DK/cKVpPldJKb8y76I+9YiKPpcdhD6GkxW/0EZ9P7phWrrDdBw7CnKmOrvzjDvhfTC71ms3O8O5S7vW2LE6AQPvtxEAtDrYZi07X7Yyuz5GsDr4ylY7xSbTOko5/rpsYxG7P8o5O/ckZ7u6YVq6CLPPN8GFbbeDm8G2rWbhtj0UljqXdhc72N46O4VQr7vKtz84+damu565Pjv2Wfo7XnvrOkEKmbsCfam4SF6Qu3Q06TnW90q7VsMsOcN0HDvBhW23f4xdOBLUCrdj1eA21Tenu7+U3joFzI87h8eKOzr4krcpI9m6kdeHu3QC6rr/S2o6wxYvuxLAu7uT2m07/eVZOUulgTuxcuQ5CnKmOoObwbYS1Aq3GFhROJcQTrfbuGk7WHQtOuW1DrvPazG7wOaWtq8Babu8tm25DUSUOoERwLs+x1k7AGUouUts7TraEI87+DLpuniS6rq784w7rWbhtmPV4DaXEE63+hQWOA==",
          "dtype": "f4",
          "shape": "20, 20"
         },
         "hovertemplate": "In: %{x}<br>\nOut: %{y}<br>\nWeight: %{customdata:0.2f}\n",
         "type": "image",
         "xaxis": "x20",
         "yaxis": "y20",
         "z": {
          "bdata": "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",
          "dtype": "u1",
          "shape": "20, 20, 4"
         }
        }
       ],
       "layout": {
        "height": 1000,
        "margin": {
         "b": 0,
         "t": 0
        },
        "shapes": [
         {
          "line": {
           "width": 0.5
          },
          "type": "line",
          "x0": 4.5,
          "x1": 4.5,
          "xref": "x",
          "y0": 0,
          "y1": 1,
          "yref": "y domain"
         },
         {
          "line": {
           "width": 0.5
          },
          "type": "line",
          "x0": 4.5,
          "x1": 4.5,
          "xref": "x3",
          "y0": 0,
          "y1": 1,
          "yref": "y3 domain"
         },
         {
          "line": {
           "width": 0.5
          },
          "type": "line",
          "x0": 4.5,
          "x1": 4.5,
          "xref": "x5",
          "y0": 0,
          "y1": 1,
          "yref": "y5 domain"
         },
         {
          "line": {
           "width": 0.5
          },
          "type": "line",
          "x0": 4.5,
          "x1": 4.5,
          "xref": "x7",
          "y0": 0,
          "y1": 1,
          "yref": "y7 domain"
         },
         {
          "line": {
           "width": 0.5
          },
          "type": "line",
          "x0": 4.5,
          "x1": 4.5,
          "xref": "x9",
          "y0": 0,
          "y1": 1,
          "yref": "y9 domain"
         },
         {
          "line": {
           "width": 0.5
          },
          "type": "line",
          "x0": 4.5,
          "x1": 4.5,
          "xref": "x11",
          "y0": 0,
          "y1": 1,
          "yref": "y11 domain"
         },
         {
          "line": {
           "width": 0.5
          },
          "type": "line",
          "x0": 4.5,
          "x1": 4.5,
          "xref": "x13",
          "y0": 0,
          "y1": 1,
          "yref": "y13 domain"
         },
         {
          "line": {
           "width": 0.5
          },
          "type": "line",
          "x0": 4.5,
          "x1": 4.5,
          "xref": "x15",
          "y0": 0,
          "y1": 1,
          "yref": "y15 domain"
         },
         {
          "line": {
           "width": 0.5
          },
          "type": "line",
          "x0": 4.5,
          "x1": 4.5,
          "xref": "x17",
          "y0": 0,
          "y1": 1,
          "yref": "y17 domain"
         },
         {
          "line": {
           "width": 0.5
          },
          "type": "line",
          "x0": 4.5,
          "x1": 4.5,
          "xref": "x19",
          "y0": 0,
          "y1": 1,
          "yref": "y19 domain"
         }
        ],
        "showlegend": false,
        "template": {
         "data": {
          "bar": [
           {
            "error_x": {
             "color": "#2a3f5f"
            },
            "error_y": {
             "color": "#2a3f5f"
            },
            "marker": {
             "line": {
              "color": "#E5ECF6",
              "width": 0.5
             },
             "pattern": {
              "fillmode": "overlay",
              "size": 10,
              "solidity": 0.2
             }
            },
            "type": "bar"
           }
          ],
          "barpolar": [
           {
            "marker": {
             "line": {
              "color": "#E5ECF6",
              "width": 0.5
             },
             "pattern": {
              "fillmode": "overlay",
              "size": 10,
              "solidity": 0.2
             }
            },
            "type": "barpolar"
           }
          ],
          "carpet": [
           {
            "aaxis": {
             "endlinecolor": "#2a3f5f",
             "gridcolor": "white",
             "linecolor": "white",
             "minorgridcolor": "white",
             "startlinecolor": "#2a3f5f"
            },
            "baxis": {
             "endlinecolor": "#2a3f5f",
             "gridcolor": "white",
             "linecolor": "white",
             "minorgridcolor": "white",
             "startlinecolor": "#2a3f5f"
            },
            "type": "carpet"
           }
          ],
          "choropleth": [
           {
            "colorbar": {
             "outlinewidth": 0,
             "ticks": ""
            },
            "type": "choropleth"
           }
          ],
          "contour": [
           {
            "colorbar": {
             "outlinewidth": 0,
             "ticks": ""
            },
            "colorscale": [
             [
              0,
              "#0d0887"
             ],
             [
              0.1111111111111111,
              "#46039f"
             ],
             [
              0.2222222222222222,
              "#7201a8"
             ],
             [
              0.3333333333333333,
              "#9c179e"
             ],
             [
              0.4444444444444444,
              "#bd3786"
             ],
             [
              0.5555555555555556,
              "#d8576b"
             ],
             [
              0.6666666666666666,
              "#ed7953"
             ],
             [
              0.7777777777777778,
              "#fb9f3a"
             ],
             [
              0.8888888888888888,
              "#fdca26"
             ],
             [
              1,
              "#f0f921"
             ]
            ],
            "type": "contour"
           }
          ],
          "contourcarpet": [
           {
            "colorbar": {
             "outlinewidth": 0,
             "ticks": ""
            },
            "type": "contourcarpet"
           }
          ],
          "heatmap": [
           {
            "colorbar": {
             "outlinewidth": 0,
             "ticks": ""
            },
            "colorscale": [
             [
              0,
              "#0d0887"
             ],
             [
              0.1111111111111111,
              "#46039f"
             ],
             [
              0.2222222222222222,
              "#7201a8"
             ],
             [
              0.3333333333333333,
              "#9c179e"
             ],
             [
              0.4444444444444444,
              "#bd3786"
             ],
             [
              0.5555555555555556,
              "#d8576b"
             ],
             [
              0.6666666666666666,
              "#ed7953"
             ],
             [
              0.7777777777777778,
              "#fb9f3a"
             ],
             [
              0.8888888888888888,
              "#fdca26"
             ],
             [
              1,
              "#f0f921"
             ]
            ],
            "type": "heatmap"
           }
          ],
          "histogram": [
           {
            "marker": {
             "pattern": {
              "fillmode": "overlay",
              "size": 10,
              "solidity": 0.2
             }
            },
            "type": "histogram"
           }
          ],
          "histogram2d": [
           {
            "colorbar": {
             "outlinewidth": 0,
             "ticks": ""
            },
            "colorscale": [
             [
              0,
              "#0d0887"
             ],
             [
              0.1111111111111111,
              "#46039f"
             ],
             [
              0.2222222222222222,
              "#7201a8"
             ],
             [
              0.3333333333333333,
              "#9c179e"
             ],
             [
              0.4444444444444444,
              "#bd3786"
             ],
             [
              0.5555555555555556,
              "#d8576b"
             ],
             [
              0.6666666666666666,
              "#ed7953"
             ],
             [
              0.7777777777777778,
              "#fb9f3a"
             ],
             [
              0.8888888888888888,
              "#fdca26"
             ],
             [
              1,
              "#f0f921"
             ]
            ],
            "type": "histogram2d"
           }
          ],
          "histogram2dcontour": [
           {
            "colorbar": {
             "outlinewidth": 0,
             "ticks": ""
            },
            "colorscale": [
             [
              0,
              "#0d0887"
             ],
             [
              0.1111111111111111,
              "#46039f"
             ],
             [
              0.2222222222222222,
              "#7201a8"
             ],
             [
              0.3333333333333333,
              "#9c179e"
             ],
             [
              0.4444444444444444,
              "#bd3786"
             ],
             [
              0.5555555555555556,
              "#d8576b"
             ],
             [
              0.6666666666666666,
              "#ed7953"
             ],
             [
              0.7777777777777778,
              "#fb9f3a"
             ],
             [
              0.8888888888888888,
              "#fdca26"
             ],
             [
              1,
              "#f0f921"
             ]
            ],
            "type": "histogram2dcontour"
           }
          ],
          "mesh3d": [
           {
            "colorbar": {
             "outlinewidth": 0,
             "ticks": ""
            },
            "type": "mesh3d"
           }
          ],
          "parcoords": [
           {
            "line": {
             "colorbar": {
              "outlinewidth": 0,
              "ticks": ""
             }
            },
            "type": "parcoords"
           }
          ],
          "pie": [
           {
            "automargin": true,
            "type": "pie"
           }
          ],
          "scatter": [
           {
            "fillpattern": {
             "fillmode": "overlay",
             "size": 10,
             "solidity": 0.2
            },
            "type": "scatter"
           }
          ],
          "scatter3d": [
           {
            "line": {
             "colorbar": {
              "outlinewidth": 0,
              "ticks": ""
             }
            },
            "marker": {
             "colorbar": {
              "outlinewidth": 0,
              "ticks": ""
             }
            },
            "type": "scatter3d"
           }
          ],
          "scattercarpet": [
           {
            "marker": {
             "colorbar": {
              "outlinewidth": 0,
              "ticks": ""
             }
            },
            "type": "scattercarpet"
           }
          ],
          "scattergeo": [
           {
            "marker": {
             "colorbar": {
              "outlinewidth": 0,
              "ticks": ""
             }
            },
            "type": "scattergeo"
           }
          ],
          "scattergl": [
           {
            "marker": {
             "colorbar": {
              "outlinewidth": 0,
              "ticks": ""
             }
            },
            "type": "scattergl"
           }
          ],
          "scattermap": [
           {
            "marker": {
             "colorbar": {
              "outlinewidth": 0,
              "ticks": ""
             }
            },
            "type": "scattermap"
           }
          ],
          "scattermapbox": [
           {
            "marker": {
             "colorbar": {
              "outlinewidth": 0,
              "ticks": ""
             }
            },
            "type": "scattermapbox"
           }
          ],
          "scatterpolar": [
           {
            "marker": {
             "colorbar": {
              "outlinewidth": 0,
              "ticks": ""
             }
            },
            "type": "scatterpolar"
           }
          ],
          "scatterpolargl": [
           {
            "marker": {
             "colorbar": {
              "outlinewidth": 0,
              "ticks": ""
             }
            },
            "type": "scatterpolargl"
           }
          ],
          "scatterternary": [
           {
            "marker": {
             "colorbar": {
              "outlinewidth": 0,
              "ticks": ""
             }
            },
            "type": "scatterternary"
           }
          ],
          "surface": [
           {
            "colorbar": {
             "outlinewidth": 0,
             "ticks": ""
            },
            "colorscale": [
             [
              0,
              "#0d0887"
             ],
             [
              0.1111111111111111,
              "#46039f"
             ],
             [
              0.2222222222222222,
              "#7201a8"
             ],
             [
              0.3333333333333333,
              "#9c179e"
             ],
             [
              0.4444444444444444,
              "#bd3786"
             ],
             [
              0.5555555555555556,
              "#d8576b"
             ],
             [
              0.6666666666666666,
              "#ed7953"
             ],
             [
              0.7777777777777778,
              "#fb9f3a"
             ],
             [
              0.8888888888888888,
              "#fdca26"
             ],
             [
              1,
              "#f0f921"
             ]
            ],
            "type": "surface"
           }
          ],
          "table": [
           {
            "cells": {
             "fill": {
              "color": "#EBF0F8"
             },
             "line": {
              "color": "white"
             }
            },
            "header": {
             "fill": {
              "color": "#C8D4E3"
             },
             "line": {
              "color": "white"
             }
            },
            "type": "table"
           }
          ]
         },
         "layout": {
          "annotationdefaults": {
           "arrowcolor": "#2a3f5f",
           "arrowhead": 0,
           "arrowwidth": 1
          },
          "autotypenumbers": "strict",
          "coloraxis": {
           "colorbar": {
            "outlinewidth": 0,
            "ticks": ""
           }
          },
          "colorscale": {
           "diverging": [
            [
             0,
             "#8e0152"
            ],
            [
             0.1,
             "#c51b7d"
            ],
            [
             0.2,
             "#de77ae"
            ],
            [
             0.3,
             "#f1b6da"
            ],
            [
             0.4,
             "#fde0ef"
            ],
            [
             0.5,
             "#f7f7f7"
            ],
            [
             0.6,
             "#e6f5d0"
            ],
            [
             0.7,
             "#b8e186"
            ],
            [
             0.8,
             "#7fbc41"
            ],
            [
             0.9,
             "#4d9221"
            ],
            [
             1,
             "#276419"
            ]
           ],
           "sequential": [
            [
             0,
             "#0d0887"
            ],
            [
             0.1111111111111111,
             "#46039f"
            ],
            [
             0.2222222222222222,
             "#7201a8"
            ],
            [
             0.3333333333333333,
             "#9c179e"
            ],
            [
             0.4444444444444444,
             "#bd3786"
            ],
            [
             0.5555555555555556,
             "#d8576b"
            ],
            [
             0.6666666666666666,
             "#ed7953"
            ],
            [
             0.7777777777777778,
             "#fb9f3a"
            ],
            [
             0.8888888888888888,
             "#fdca26"
            ],
            [
             1,
             "#f0f921"
            ]
           ],
           "sequentialminus": [
            [
             0,
             "#0d0887"
            ],
            [
             0.1111111111111111,
             "#46039f"
            ],
            [
             0.2222222222222222,
             "#7201a8"
            ],
            [
             0.3333333333333333,
             "#9c179e"
            ],
            [
             0.4444444444444444,
             "#bd3786"
            ],
            [
             0.5555555555555556,
             "#d8576b"
            ],
            [
             0.6666666666666666,
             "#ed7953"
            ],
            [
             0.7777777777777778,
             "#fb9f3a"
            ],
            [
             0.8888888888888888,
             "#fdca26"
            ],
            [
             1,
             "#f0f921"
            ]
           ]
          },
          "colorway": [
           "#636efa",
           "#EF553B",
           "#00cc96",
           "#ab63fa",
           "#FFA15A",
           "#19d3f3",
           "#FF6692",
           "#B6E880",
           "#FF97FF",
           "#FECB52"
          ],
          "font": {
           "color": "#2a3f5f"
          },
          "geo": {
           "bgcolor": "white",
           "lakecolor": "white",
           "landcolor": "#E5ECF6",
           "showlakes": true,
           "showland": true,
           "subunitcolor": "white"
          },
          "hoverlabel": {
           "align": "left"
          },
          "hovermode": "closest",
          "mapbox": {
           "style": "light"
          },
          "paper_bgcolor": "white",
          "plot_bgcolor": "#E5ECF6",
          "polar": {
           "angularaxis": {
            "gridcolor": "white",
            "linecolor": "white",
            "ticks": ""
           },
           "bgcolor": "#E5ECF6",
           "radialaxis": {
            "gridcolor": "white",
            "linecolor": "white",
            "ticks": ""
           }
          },
          "scene": {
           "xaxis": {
            "backgroundcolor": "#E5ECF6",
            "gridcolor": "white",
            "gridwidth": 2,
            "linecolor": "white",
            "showbackground": true,
            "ticks": "",
            "zerolinecolor": "white"
           },
           "yaxis": {
            "backgroundcolor": "#E5ECF6",
            "gridcolor": "white",
            "gridwidth": 2,
            "linecolor": "white",
            "showbackground": true,
            "ticks": "",
            "zerolinecolor": "white"
           },
           "zaxis": {
            "backgroundcolor": "#E5ECF6",
            "gridcolor": "white",
            "gridwidth": 2,
            "linecolor": "white",
            "showbackground": true,
            "ticks": "",
            "zerolinecolor": "white"
           }
          },
          "shapedefaults": {
           "line": {
            "color": "#2a3f5f"
           }
          },
          "ternary": {
           "aaxis": {
            "gridcolor": "white",
            "linecolor": "white",
            "ticks": ""
           },
           "baxis": {
            "gridcolor": "white",
            "linecolor": "white",
            "ticks": ""
           },
           "bgcolor": "#E5ECF6",
           "caxis": {
            "gridcolor": "white",
            "linecolor": "white",
            "ticks": ""
           }
          },
          "title": {
           "x": 0.05
          },
          "xaxis": {
           "automargin": true,
           "gridcolor": "white",
           "linecolor": "white",
           "ticks": "",
           "title": {
            "standoff": 15
           },
           "zerolinecolor": "white",
           "zerolinewidth": 2
          },
          "yaxis": {
           "automargin": true,
           "gridcolor": "white",
           "linecolor": "white",
           "ticks": "",
           "title": {
            "standoff": 15
           },
           "zerolinecolor": "white",
           "zerolinewidth": 2
          }
         }
        },
        "width": 600,
        "xaxis": {
         "anchor": "y",
         "domain": [
          0,
          0.45
         ],
         "matches": "x19",
         "showticklabels": false,
         "visible": false
        },
        "xaxis10": {
         "anchor": "y10",
         "domain": [
          0.55,
          1
         ],
         "matches": "x20",
         "showticklabels": false,
         "visible": false
        },
        "xaxis11": {
         "anchor": "y11",
         "domain": [
          0,
          0.45
         ],
         "matches": "x19",
         "showticklabels": false,
         "visible": false
        },
        "xaxis12": {
         "anchor": "y12",
         "domain": [
          0.55,
          1
         ],
         "matches": "x20",
         "showticklabels": false,
         "visible": false
        },
        "xaxis13": {
         "anchor": "y13",
         "domain": [
          0,
          0.45
         ],
         "matches": "x19",
         "showticklabels": false,
         "visible": false
        },
        "xaxis14": {
         "anchor": "y14",
         "domain": [
          0.55,
          1
         ],
         "matches": "x20",
         "showticklabels": false,
         "visible": false
        },
        "xaxis15": {
         "anchor": "y15",
         "domain": [
          0,
          0.45
         ],
         "matches": "x19",
         "showticklabels": false,
         "visible": false
        },
        "xaxis16": {
         "anchor": "y16",
         "domain": [
          0.55,
          1
         ],
         "matches": "x20",
         "showticklabels": false,
         "visible": false
        },
        "xaxis17": {
         "anchor": "y17",
         "domain": [
          0,
          0.45
         ],
         "matches": "x19",
         "showticklabels": false,
         "visible": false
        },
        "xaxis18": {
         "anchor": "y18",
         "domain": [
          0.55,
          1
         ],
         "matches": "x20",
         "showticklabels": false,
         "visible": false
        },
        "xaxis19": {
         "anchor": "y19",
         "domain": [
          0,
          0.45
         ],
         "visible": false
        },
        "xaxis2": {
         "anchor": "y2",
         "domain": [
          0.55,
          1
         ],
         "matches": "x20",
         "showticklabels": false,
         "visible": false
        },
        "xaxis20": {
         "anchor": "y20",
         "domain": [
          0.55,
          1
         ],
         "visible": false
        },
        "xaxis3": {
         "anchor": "y3",
         "domain": [
          0,
          0.45
         ],
         "matches": "x19",
         "showticklabels": false,
         "visible": false
        },
        "xaxis4": {
         "anchor": "y4",
         "domain": [
          0.55,
          1
         ],
         "matches": "x20",
         "showticklabels": false,
         "visible": false
        },
        "xaxis5": {
         "anchor": "y5",
         "domain": [
          0,
          0.45
         ],
         "matches": "x19",
         "showticklabels": false,
         "visible": false
        },
        "xaxis6": {
         "anchor": "y6",
         "domain": [
          0.55,
          1
         ],
         "matches": "x20",
         "showticklabels": false,
         "visible": false
        },
        "xaxis7": {
         "anchor": "y7",
         "domain": [
          0,
          0.45
         ],
         "matches": "x19",
         "showticklabels": false,
         "visible": false
        },
        "xaxis8": {
         "anchor": "y8",
         "domain": [
          0.55,
          1
         ],
         "matches": "x20",
         "showticklabels": false,
         "visible": false
        },
        "xaxis9": {
         "anchor": "y9",
         "domain": [
          0,
          0.45
         ],
         "matches": "x19",
         "showticklabels": false,
         "visible": false
        },
        "yaxis": {
         "anchor": "x",
         "domain": [
          0.9179999999999999,
          0.9999999999999999
         ],
         "visible": false
        },
        "yaxis10": {
         "anchor": "x10",
         "domain": [
          0.51,
          0.592
         ],
         "visible": false
        },
        "yaxis11": {
         "anchor": "x11",
         "domain": [
          0.40800000000000003,
          0.49000000000000005
         ],
         "visible": false
        },
        "yaxis12": {
         "anchor": "x12",
         "domain": [
          0.40800000000000003,
          0.49000000000000005
         ],
         "visible": false
        },
        "yaxis13": {
         "anchor": "x13",
         "domain": [
          0.306,
          0.388
         ],
         "visible": false
        },
        "yaxis14": {
         "anchor": "x14",
         "domain": [
          0.306,
          0.388
         ],
         "visible": false
        },
        "yaxis15": {
         "anchor": "x15",
         "domain": [
          0.20400000000000001,
          0.28600000000000003
         ],
         "visible": false
        },
        "yaxis16": {
         "anchor": "x16",
         "domain": [
          0.20400000000000001,
          0.28600000000000003
         ],
         "visible": false
        },
        "yaxis17": {
         "anchor": "x17",
         "domain": [
          0.10200000000000001,
          0.184
         ],
         "visible": false
        },
        "yaxis18": {
         "anchor": "x18",
         "domain": [
          0.10200000000000001,
          0.184
         ],
         "visible": false
        },
        "yaxis19": {
         "anchor": "x19",
         "domain": [
          0,
          0.082
         ],
         "visible": false
        },
        "yaxis2": {
         "anchor": "x2",
         "domain": [
          0.9179999999999999,
          0.9999999999999999
         ],
         "visible": false
        },
        "yaxis20": {
         "anchor": "x20",
         "domain": [
          0,
          0.082
         ],
         "visible": false
        },
        "yaxis3": {
         "anchor": "x3",
         "domain": [
          0.8160000000000001,
          0.898
         ],
         "visible": false
        },
        "yaxis4": {
         "anchor": "x4",
         "domain": [
          0.8160000000000001,
          0.898
         ],
         "visible": false
        },
        "yaxis5": {
         "anchor": "x5",
         "domain": [
          0.7140000000000001,
          0.796
         ],
         "visible": false
        },
        "yaxis6": {
         "anchor": "x6",
         "domain": [
          0.7140000000000001,
          0.796
         ],
         "visible": false
        },
        "yaxis7": {
         "anchor": "x7",
         "domain": [
          0.612,
          0.694
         ],
         "visible": false
        },
        "yaxis8": {
         "anchor": "x8",
         "domain": [
          0.612,
          0.694
         ],
         "visible": false
        },
        "yaxis9": {
         "anchor": "x9",
         "domain": [
          0.51,
          0.592
         ],
         "visible": false
        }
       }
      }
     },
     "metadata": {},
     "output_type": "display_data"
    }
   ],
   "source": [
    "#fig = render_features(model, np.s_[::2]) # every other instance    \n",
    "fig = render_features(model)\n",
    "fig.update_layout()"
   ]
  },
  {
   "cell_type": "code",
   "execution_count": 213,
   "metadata": {},
   "outputs": [
    {
     "data": {
      "text/plain": [
       "<BarContainer object of 5 artists>"
      ]
     },
     "execution_count": 213,
     "metadata": {},
     "output_type": "execute_result"
    },
    {
     "data": {
      "image/png": "[encoded data removed]",
      "text/plain": [
       "<Figure size 1280x960 with 5 Axes>"
      ]
     },
     "metadata": {},
     "output_type": "display_data"
    }
   ],
   "source": [
    "instance = 4\n",
    "A_all = model.A.detach().cpu()\n",
    "B_all = model.B.detach().cpu()\n",
    "A = A_all[instance]\n",
    "B = B_all[instance]\n",
    "Omega = A @ B.T\n",
    "U, S, VT = np.linalg.svd(Omega)\n",
    "W_all = model.W.detach().cpu()\n",
    "W = W_all[instance]\n",
    "import seaborn as sns\n",
    "figs, axs = plt.subplots(1, 3)\n",
    "sns.heatmap(W @ U, ax = axs[0])\n",
    "sns.heatmap(W @ VT.T, ax = axs[1])\n",
    "axs[2].bar(range(len(S)), S)"
   ]
  },
  {
   "cell_type": "code",
   "execution_count": 118,
   "metadata": {
    "colab": {
     "base_uri": "https://localhost:8080/",
     "height": 171
    },
    "id": "hAREurbUkji1",
    "outputId": "7b6945fc-061e-4e1a-def8-3e3c886fc10d"
   },
   "outputs": [
    {
     "ename": "ValueError",
     "evalue": "'vertices' must be 2D with shape (N, 2), but your input has shape (2, 5)",
     "output_type": "error",
     "traceback": [
      "\u001b[0;31m---------------------------------------------------------------------------\u001b[0m",
      "\u001b[0;31mValueError\u001b[0m                                Traceback (most recent call last)",
      "Cell \u001b[0;32mIn[118], line 31\u001b[0m\n\u001b[1;32m     28\u001b[0m           ax\u001b[38;5;241m.\u001b[39mspines[spine]\u001b[38;5;241m.\u001b[39mset_position(\u001b[38;5;124m'\u001b[39m\u001b[38;5;124mcenter\u001b[39m\u001b[38;5;124m'\u001b[39m)\n\u001b[1;32m     29\u001b[0m   plt\u001b[38;5;241m.\u001b[39mshow()\n\u001b[0;32m---> 31\u001b[0m plot_intro_diagram(model)\n",
      "Cell \u001b[0;32mIn[118], line 17\u001b[0m, in \u001b[0;36mplot_intro_diagram\u001b[0;34m(model)\u001b[0m\n\u001b[1;32m     15\u001b[0m ax\u001b[38;5;241m.\u001b[39mscatter(W[:,\u001b[38;5;241m0\u001b[39m], W[:,\u001b[38;5;241m1\u001b[39m], c\u001b[38;5;241m=\u001b[39mcolors[\u001b[38;5;241m0\u001b[39m:\u001b[38;5;28mlen\u001b[39m(W[:,\u001b[38;5;241m0\u001b[39m])])\n\u001b[1;32m     16\u001b[0m ax\u001b[38;5;241m.\u001b[39mset_aspect(\u001b[38;5;124m'\u001b[39m\u001b[38;5;124mequal\u001b[39m\u001b[38;5;124m'\u001b[39m)\n\u001b[0;32m---> 17\u001b[0m ax\u001b[38;5;241m.\u001b[39madd_collection(mc\u001b[38;5;241m.\u001b[39mLineCollection(np\u001b[38;5;241m.\u001b[39mstack((np\u001b[38;5;241m.\u001b[39mzeros_like(W),W), axis\u001b[38;5;241m=\u001b[39m\u001b[38;5;241m1\u001b[39m), colors\u001b[38;5;241m=\u001b[39mcolors))\n\u001b[1;32m     19\u001b[0m z \u001b[38;5;241m=\u001b[39m \u001b[38;5;241m1.5\u001b[39m\n\u001b[1;32m     20\u001b[0m ax\u001b[38;5;241m.\u001b[39mset_facecolor(\u001b[38;5;124m'\u001b[39m\u001b[38;5;124m#FCFBF8\u001b[39m\u001b[38;5;124m'\u001b[39m)\n",
      "File \u001b[0;32m~/miniconda3/envs/torch/lib/python3.12/site-packages/matplotlib/collections.py:1396\u001b[0m, in \u001b[0;36mLineCollection.__init__\u001b[0;34m(self, segments, zorder, **kwargs)\u001b[0m\n\u001b[1;32m   1392\u001b[0m kwargs\u001b[38;5;241m.\u001b[39msetdefault(\u001b[38;5;124m'\u001b[39m\u001b[38;5;124mfacecolors\u001b[39m\u001b[38;5;124m'\u001b[39m, \u001b[38;5;124m'\u001b[39m\u001b[38;5;124mnone\u001b[39m\u001b[38;5;124m'\u001b[39m)\n\u001b[1;32m   1393\u001b[0m \u001b[38;5;28msuper\u001b[39m()\u001b[38;5;241m.\u001b[39m\u001b[38;5;21m__init__\u001b[39m(\n\u001b[1;32m   1394\u001b[0m     zorder\u001b[38;5;241m=\u001b[39mzorder,\n\u001b[1;32m   1395\u001b[0m     \u001b[38;5;241m*\u001b[39m\u001b[38;5;241m*\u001b[39mkwargs)\n\u001b[0;32m-> 1396\u001b[0m \u001b[38;5;28mself\u001b[39m\u001b[38;5;241m.\u001b[39mset_segments(segments)\n",
      "File \u001b[0;32m~/miniconda3/envs/torch/lib/python3.12/site-packages/matplotlib/collections.py:1403\u001b[0m, in \u001b[0;36mLineCollection.set_segments\u001b[0;34m(self, segments)\u001b[0m\n\u001b[1;32m   1399\u001b[0m \u001b[38;5;28;01mif\u001b[39;00m segments \u001b[38;5;129;01mis\u001b[39;00m \u001b[38;5;28;01mNone\u001b[39;00m:\n\u001b[1;32m   1400\u001b[0m     \u001b[38;5;28;01mreturn\u001b[39;00m\n\u001b[1;32m   1402\u001b[0m \u001b[38;5;28mself\u001b[39m\u001b[38;5;241m.\u001b[39m_paths \u001b[38;5;241m=\u001b[39m [mpath\u001b[38;5;241m.\u001b[39mPath(seg) \u001b[38;5;28;01mif\u001b[39;00m \u001b[38;5;28misinstance\u001b[39m(seg, np\u001b[38;5;241m.\u001b[39mma\u001b[38;5;241m.\u001b[39mMaskedArray)\n\u001b[0;32m-> 1403\u001b[0m                \u001b[38;5;28;01melse\u001b[39;00m mpath\u001b[38;5;241m.\u001b[39mPath(np\u001b[38;5;241m.\u001b[39masarray(seg, \u001b[38;5;28mfloat\u001b[39m))\n\u001b[1;32m   1404\u001b[0m                \u001b[38;5;28;01mfor\u001b[39;00m seg \u001b[38;5;129;01min\u001b[39;00m segments]\n\u001b[1;32m   1405\u001b[0m \u001b[38;5;28mself\u001b[39m\u001b[38;5;241m.\u001b[39mstale \u001b[38;5;241m=\u001b[39m \u001b[38;5;28;01mTrue\u001b[39;00m\n",
      "File \u001b[0;32m~/miniconda3/envs/torch/lib/python3.12/site-packages/matplotlib/path.py:130\u001b[0m, in \u001b[0;36mPath.__init__\u001b[0;34m(self, vertices, codes, _interpolation_steps, closed, readonly)\u001b[0m\n\u001b[1;32m    101\u001b[0m \u001b[38;5;250m\u001b[39m\u001b[38;5;124;03m\"\"\"\u001b[39;00m\n\u001b[1;32m    102\u001b[0m \u001b[38;5;124;03mCreate a new path with the given vertices and codes.\u001b[39;00m\n\u001b[1;32m    103\u001b[0m \n\u001b[0;32m   (...)\u001b[0m\n\u001b[1;32m    127\u001b[0m \u001b[38;5;124;03m    and codes as read-only arrays.\u001b[39;00m\n\u001b[1;32m    128\u001b[0m \u001b[38;5;124;03m\"\"\"\u001b[39;00m\n\u001b[1;32m    129\u001b[0m vertices \u001b[38;5;241m=\u001b[39m _to_unmasked_float_array(vertices)\n\u001b[0;32m--> 130\u001b[0m _api\u001b[38;5;241m.\u001b[39mcheck_shape((\u001b[38;5;28;01mNone\u001b[39;00m, \u001b[38;5;241m2\u001b[39m), vertices\u001b[38;5;241m=\u001b[39mvertices)\n\u001b[1;32m    132\u001b[0m \u001b[38;5;28;01mif\u001b[39;00m codes \u001b[38;5;129;01mis\u001b[39;00m \u001b[38;5;129;01mnot\u001b[39;00m \u001b[38;5;28;01mNone\u001b[39;00m:\n\u001b[1;32m    133\u001b[0m     codes \u001b[38;5;241m=\u001b[39m np\u001b[38;5;241m.\u001b[39masarray(codes, \u001b[38;5;28mself\u001b[39m\u001b[38;5;241m.\u001b[39mcode_type)\n",
      "File \u001b[0;32m~/miniconda3/envs/torch/lib/python3.12/site-packages/matplotlib/_api/__init__.py:161\u001b[0m, in \u001b[0;36mcheck_shape\u001b[0;34m(shape, **kwargs)\u001b[0m\n\u001b[1;32m    158\u001b[0m \u001b[38;5;28;01mif\u001b[39;00m \u001b[38;5;28mlen\u001b[39m(shape) \u001b[38;5;241m==\u001b[39m \u001b[38;5;241m1\u001b[39m:\n\u001b[1;32m    159\u001b[0m     text_shape \u001b[38;5;241m+\u001b[39m\u001b[38;5;241m=\u001b[39m \u001b[38;5;124m\"\u001b[39m\u001b[38;5;124m,\u001b[39m\u001b[38;5;124m\"\u001b[39m\n\u001b[0;32m--> 161\u001b[0m \u001b[38;5;28;01mraise\u001b[39;00m \u001b[38;5;167;01mValueError\u001b[39;00m(\n\u001b[1;32m    162\u001b[0m     \u001b[38;5;124mf\u001b[39m\u001b[38;5;124m\"\u001b[39m\u001b[38;5;132;01m{\u001b[39;00mk\u001b[38;5;132;01m!r}\u001b[39;00m\u001b[38;5;124m must be \u001b[39m\u001b[38;5;132;01m{\u001b[39;00m\u001b[38;5;28mlen\u001b[39m(shape)\u001b[38;5;132;01m}\u001b[39;00m\u001b[38;5;124mD with shape (\u001b[39m\u001b[38;5;132;01m{\u001b[39;00mtext_shape\u001b[38;5;132;01m}\u001b[39;00m\u001b[38;5;124m), \u001b[39m\u001b[38;5;124m\"\u001b[39m\n\u001b[1;32m    163\u001b[0m     \u001b[38;5;124mf\u001b[39m\u001b[38;5;124m\"\u001b[39m\u001b[38;5;124mbut your input has shape \u001b[39m\u001b[38;5;132;01m{\u001b[39;00mv\u001b[38;5;241m.\u001b[39mshape\u001b[38;5;132;01m}\u001b[39;00m\u001b[38;5;124m\"\u001b[39m\n\u001b[1;32m    164\u001b[0m )\n",
      "\u001b[0;31mValueError\u001b[0m: 'vertices' must be 2D with shape (N, 2), but your input has shape (2, 5)"
     ]
    },
    {
     "data": {
      "image/png": "[encoded data removed]",
      "text/plain": [
       "<Figure size 4000x400 with 10 Axes>"
      ]
     },
     "metadata": {},
     "output_type": "display_data"
    }
   ],
   "source": [
    "def plot_intro_diagram(model):\n",
    "  from matplotlib import colors  as mcolors\n",
    "  from matplotlib import collections  as mc\n",
    "  cfg = model.config\n",
    "  WA = model.W.detach()\n",
    "  N = len(WA[:,0])\n",
    "  sel = range(config.n_instances) # can be used to highlight specific sparsity levels\n",
    "  plt.rcParams[\"axes.prop_cycle\"] = plt.cycler(\"color\", plt.cm.viridis(model.importance[0].cpu().numpy()))\n",
    "  plt.rcParams['figure.dpi'] = 200\n",
    "  fig, axs = plt.subplots(1,len(sel), figsize=(2*len(sel),2))\n",
    "  for i, ax in zip(sel, axs):\n",
    "      W = WA[i].cpu().detach().numpy()\n",
    "      colors = [mcolors.to_rgba(c)\n",
    "            for c in plt.rcParams['axes.prop_cycle'].by_key()['color']]\n",
    "      ax.scatter(W[:,0], W[:,1], c=colors[0:len(W[:,0])])\n",
    "      ax.set_aspect('equal')\n",
    "      ax.add_collection(mc.LineCollection(np.stack((np.zeros_like(W),W), axis=1), colors=colors))\n",
    "      \n",
    "      z = 1.5\n",
    "      ax.set_facecolor('#FCFBF8')\n",
    "      ax.set_xlim((-z,z))\n",
    "      ax.set_ylim((-z,z))\n",
    "      ax.tick_params(left = True, right = False , labelleft = False ,\n",
    "                  labelbottom = False, bottom = True)\n",
    "      for spine in ['top', 'right']:\n",
    "          ax.spines[spine].set_visible(False)\n",
    "      for spine in ['bottom','left']:\n",
    "          ax.spines[spine].set_position('center')\n",
    "  plt.show()\n",
    "\n",
    "plot_intro_diagram(model)"
   ]
  },
  {
   "cell_type": "code",
   "execution_count": 63,
   "metadata": {},
   "outputs": [
    {
     "data": {
      "text/plain": [
       "<Axes: >"
      ]
     },
     "execution_count": 63,
     "metadata": {},
     "output_type": "execute_result"
    },
    {
     "data": {
      "image/png": "[encoded data removed]",
      "text/plain": [
       "<Figure size 1280x960 with 2 Axes>"
      ]
     },
     "metadata": {},
     "output_type": "display_data"
    }
   ],
   "source": [
    "sns.heatmap(W@W.T)"
   ]
  },
  {
   "cell_type": "markdown",
   "metadata": {
    "id": "qDIgjx2GAQNx"
   },
   "source": [
    "# Feature geometry"
   ]
  },
  {
   "cell_type": "code",
   "execution_count": 13,
   "metadata": {
    "id": "ECrtk9nJARlX"
   },
   "outputs": [],
   "source": [
    "config = Config(\n",
    "    n_features = 200,\n",
    "    n_hidden = 20,\n",
    "    n_instances = 20,\n",
    ")\n",
    "\n",
    "model = Model(\n",
    "    config=config,\n",
    "    device=DEVICE,\n",
    "    # For this experiment, use constant importance.\n",
    "\n",
    "    # Sweep feature frequency across the instances from 1 (fully dense) to 1/20\n",
    "    feature_probability = (20 ** -torch.linspace(0, 1, config.n_instances))[:, None]\n",
    ")"
   ]
  },
  {
   "cell_type": "code",
   "execution_count": 14,
   "metadata": {
    "colab": {
     "base_uri": "https://localhost:8080/",
     "height": 49,
     "referenced_widgets": [
      "05371493fb394d60ab276fe17488213f",
      "b6e1e2a2329148d68a709571e016b858",
      "f5fb761ec6de404398f5517e21e0d46b",
      "081fd85ccb724b2c98366620a747b77b",
      "dc421acdf45149fd87cd81d56e9031cd",
      "b73d37d18a7e4577bcfa8c2aec321eb1",
      "d7bc2f21dd294f52a0243ca35aadeb22",
      "a79a0479d88e4d3eb77b108bbc874e09",
      "cb347c5ce6694bfb92919a5593cc7049",
      "0d65324158214bb8b73f3cc13e461be4",
      "3f0aa91dd60a45a292c2b52cfbbce8fa"
     ]
    },
    "id": "5DNkKnDKARlY",
    "outputId": "51545170-22b6-4978-8e7b-a14a1b3f2430"
   },
   "outputs": [
    {
     "data": {
      "application/vnd.jupyter.widget-view+json": {
       "model_id": "3fe9b7f3bf3a4787a4b611e952307570",
       "version_major": 2,
       "version_minor": 0
      },
      "text/plain": [
       "  0%|          | 0/10000 [00:00<?, ?it/s]"
      ]
     },
     "metadata": {},
     "output_type": "display_data"
    }
   ],
   "source": [
    "optimize(model)"
   ]
  },
  {
   "cell_type": "code",
   "execution_count": 15,
   "metadata": {
    "colab": {
     "base_uri": "https://localhost:8080/",
     "height": 542
    },
    "id": "qFPKm2ObAfre",
    "outputId": "e8ddef72-5765-493d-d9dd-dbe0e7ee57f1"
   },
   "outputs": [
    {
     "data": {
      "application/vnd.plotly.v1+json": {
       "config": {
        "plotlyServerURL": "https://plot.ly"
       },
       "data": [
        {
         "hovertemplate": "x=%{x}<br>y=%{y}<extra></extra>",
         "legendgroup": "",
         "line": {
          "color": "#636efa",
          "dash": "solid"
         },
         "marker": {
          "symbol": "circle"
         },
         "mode": "lines+markers",
         "name": "",
         "orientation": "v",
         "showlegend": false,
         "type": "scatter",
         "x": {
          "bdata": "AACAPx3clT/wc68/rWrNP21/8D/0yAxABtQkQEL6QEAr72FAeEKEQNHYmkCrSrVArUDUQEyA+EBXeBFBPFAqQUpmR0H3c2lBOqmIQQAAoEE=",
          "dtype": "f4"
         },
         "xaxis": "x",
         "y": {
          "bdata": "VHeAPyAPgD+bkHI/RxFYP+n0GD+ExAY/Zq4CPz9DAT9JoAA/pRbqPqQxvD4cVq0+ItaWPkXFhT54LnM+MeBUPt9nPD7pZis+5dcaPtYXCz4=",
          "dtype": "f4"
         },
         "yaxis": "y"
        }
       ],
       "layout": {
        "legend": {
         "tracegroupgap": 0
        },
        "margin": {
         "t": 60
        },
        "template": {
         "data": {
          "bar": [
           {
            "error_x": {
             "color": "#2a3f5f"
            },
            "error_y": {
             "color": "#2a3f5f"
            },
            "marker": {
             "line": {
              "color": "#E5ECF6",
              "width": 0.5
             },
             "pattern": {
              "fillmode": "overlay",
              "size": 10,
              "solidity": 0.2
             }
            },
            "type": "bar"
           }
          ],
          "barpolar": [
           {
            "marker": {
             "line": {
              "color": "#E5ECF6",
              "width": 0.5
             },
             "pattern": {
              "fillmode": "overlay",
              "size": 10,
              "solidity": 0.2
             }
            },
            "type": "barpolar"
           }
          ],
          "carpet": [
           {
            "aaxis": {
             "endlinecolor": "#2a3f5f",
             "gridcolor": "white",
             "linecolor": "white",
             "minorgridcolor": "white",
             "startlinecolor": "#2a3f5f"
            },
            "baxis": {
             "endlinecolor": "#2a3f5f",
             "gridcolor": "white",
             "linecolor": "white",
             "minorgridcolor": "white",
             "startlinecolor": "#2a3f5f"
            },
            "type": "carpet"
           }
          ],
          "choropleth": [
           {
            "colorbar": {
             "outlinewidth": 0,
             "ticks": ""
            },
            "type": "choropleth"
           }
          ],
          "contour": [
           {
            "colorbar": {
             "outlinewidth": 0,
             "ticks": ""
            },
            "colorscale": [
             [
              0,
              "#0d0887"
             ],
             [
              0.1111111111111111,
              "#46039f"
             ],
             [
              0.2222222222222222,
              "#7201a8"
             ],
             [
              0.3333333333333333,
              "#9c179e"
             ],
             [
              0.4444444444444444,
              "#bd3786"
             ],
             [
              0.5555555555555556,
              "#d8576b"
             ],
             [
              0.6666666666666666,
              "#ed7953"
             ],
             [
              0.7777777777777778,
              "#fb9f3a"
             ],
             [
              0.8888888888888888,
              "#fdca26"
             ],
             [
              1,
              "#f0f921"
             ]
            ],
            "type": "contour"
           }
          ],
          "contourcarpet": [
           {
            "colorbar": {
             "outlinewidth": 0,
             "ticks": ""
            },
            "type": "contourcarpet"
           }
          ],
          "heatmap": [
           {
            "colorbar": {
             "outlinewidth": 0,
             "ticks": ""
            },
            "colorscale": [
             [
              0,
              "#0d0887"
             ],
             [
              0.1111111111111111,
              "#46039f"
             ],
             [
              0.2222222222222222,
              "#7201a8"
             ],
             [
              0.3333333333333333,
              "#9c179e"
             ],
             [
              0.4444444444444444,
              "#bd3786"
             ],
             [
              0.5555555555555556,
              "#d8576b"
             ],
             [
              0.6666666666666666,
              "#ed7953"
             ],
             [
              0.7777777777777778,
              "#fb9f3a"
             ],
             [
              0.8888888888888888,
              "#fdca26"
             ],
             [
              1,
              "#f0f921"
             ]
            ],
            "type": "heatmap"
           }
          ],
          "histogram": [
           {
            "marker": {
             "pattern": {
              "fillmode": "overlay",
              "size": 10,
              "solidity": 0.2
             }
            },
            "type": "histogram"
           }
          ],
          "histogram2d": [
           {
            "colorbar": {
             "outlinewidth": 0,
             "ticks": ""
            },
            "colorscale": [
             [
              0,
              "#0d0887"
             ],
             [
              0.1111111111111111,
              "#46039f"
             ],
             [
              0.2222222222222222,
              "#7201a8"
             ],
             [
              0.3333333333333333,
              "#9c179e"
             ],
             [
              0.4444444444444444,
              "#bd3786"
             ],
             [
              0.5555555555555556,
              "#d8576b"
             ],
             [
              0.6666666666666666,
              "#ed7953"
             ],
             [
              0.7777777777777778,
              "#fb9f3a"
             ],
             [
              0.8888888888888888,
              "#fdca26"
             ],
             [
              1,
              "#f0f921"
             ]
            ],
            "type": "histogram2d"
           }
          ],
          "histogram2dcontour": [
           {
            "colorbar": {
             "outlinewidth": 0,
             "ticks": ""
            },
            "colorscale": [
             [
              0,
              "#0d0887"
             ],
             [
              0.1111111111111111,
              "#46039f"
             ],
             [
              0.2222222222222222,
              "#7201a8"
             ],
             [
              0.3333333333333333,
              "#9c179e"
             ],
             [
              0.4444444444444444,
              "#bd3786"
             ],
             [
              0.5555555555555556,
              "#d8576b"
             ],
             [
              0.6666666666666666,
              "#ed7953"
             ],
             [
              0.7777777777777778,
              "#fb9f3a"
             ],
             [
              0.8888888888888888,
              "#fdca26"
             ],
             [
              1,
              "#f0f921"
             ]
            ],
            "type": "histogram2dcontour"
           }
          ],
          "mesh3d": [
           {
            "colorbar": {
             "outlinewidth": 0,
             "ticks": ""
            },
            "type": "mesh3d"
           }
          ],
          "parcoords": [
           {
            "line": {
             "colorbar": {
              "outlinewidth": 0,
              "ticks": ""
             }
            },
            "type": "parcoords"
           }
          ],
          "pie": [
           {
            "automargin": true,
            "type": "pie"
           }
          ],
          "scatter": [
           {
            "fillpattern": {
             "fillmode": "overlay",
             "size": 10,
             "solidity": 0.2
            },
            "type": "scatter"
           }
          ],
          "scatter3d": [
           {
            "line": {
             "colorbar": {
              "outlinewidth": 0,
              "ticks": ""
             }
            },
            "marker": {
             "colorbar": {
              "outlinewidth": 0,
              "ticks": ""
             }
            },
            "type": "scatter3d"
           }
          ],
          "scattercarpet": [
           {
            "marker": {
             "colorbar": {
              "outlinewidth": 0,
              "ticks": ""
             }
            },
            "type": "scattercarpet"
           }
          ],
          "scattergeo": [
           {
            "marker": {
             "colorbar": {
              "outlinewidth": 0,
              "ticks": ""
             }
            },
            "type": "scattergeo"
           }
          ],
          "scattergl": [
           {
            "marker": {
             "colorbar": {
              "outlinewidth": 0,
              "ticks": ""
             }
            },
            "type": "scattergl"
           }
          ],
          "scattermap": [
           {
            "marker": {
             "colorbar": {
              "outlinewidth": 0,
              "ticks": ""
             }
            },
            "type": "scattermap"
           }
          ],
          "scattermapbox": [
           {
            "marker": {
             "colorbar": {
              "outlinewidth": 0,
              "ticks": ""
             }
            },
            "type": "scattermapbox"
           }
          ],
          "scatterpolar": [
           {
            "marker": {
             "colorbar": {
              "outlinewidth": 0,
              "ticks": ""
             }
            },
            "type": "scatterpolar"
           }
          ],
          "scatterpolargl": [
           {
            "marker": {
             "colorbar": {
              "outlinewidth": 0,
              "ticks": ""
             }
            },
            "type": "scatterpolargl"
           }
          ],
          "scatterternary": [
           {
            "marker": {
             "colorbar": {
              "outlinewidth": 0,
              "ticks": ""
             }
            },
            "type": "scatterternary"
           }
          ],
          "surface": [
           {
            "colorbar": {
             "outlinewidth": 0,
             "ticks": ""
            },
            "colorscale": [
             [
              0,
              "#0d0887"
             ],
             [
              0.1111111111111111,
              "#46039f"
             ],
             [
              0.2222222222222222,
              "#7201a8"
             ],
             [
              0.3333333333333333,
              "#9c179e"
             ],
             [
              0.4444444444444444,
              "#bd3786"
             ],
             [
              0.5555555555555556,
              "#d8576b"
             ],
             [
              0.6666666666666666,
              "#ed7953"
             ],
             [
              0.7777777777777778,
              "#fb9f3a"
             ],
             [
              0.8888888888888888,
              "#fdca26"
             ],
             [
              1,
              "#f0f921"
             ]
            ],
            "type": "surface"
           }
          ],
          "table": [
           {
            "cells": {
             "fill": {
              "color": "#EBF0F8"
             },
             "line": {
              "color": "white"
             }
            },
            "header": {
             "fill": {
              "color": "#C8D4E3"
             },
             "line": {
              "color": "white"
             }
            },
            "type": "table"
           }
          ]
         },
         "layout": {
          "annotationdefaults": {
           "arrowcolor": "#2a3f5f",
           "arrowhead": 0,
           "arrowwidth": 1
          },
          "autotypenumbers": "strict",
          "coloraxis": {
           "colorbar": {
            "outlinewidth": 0,
            "ticks": ""
           }
          },
          "colorscale": {
           "diverging": [
            [
             0,
             "#8e0152"
            ],
            [
             0.1,
             "#c51b7d"
            ],
            [
             0.2,
             "#de77ae"
            ],
            [
             0.3,
             "#f1b6da"
            ],
            [
             0.4,
             "#fde0ef"
            ],
            [
             0.5,
             "#f7f7f7"
            ],
            [
             0.6,
             "#e6f5d0"
            ],
            [
             0.7,
             "#b8e186"
            ],
            [
             0.8,
             "#7fbc41"
            ],
            [
             0.9,
             "#4d9221"
            ],
            [
             1,
             "#276419"
            ]
           ],
           "sequential": [
            [
             0,
             "#0d0887"
            ],
            [
             0.1111111111111111,
             "#46039f"
            ],
            [
             0.2222222222222222,
             "#7201a8"
            ],
            [
             0.3333333333333333,
             "#9c179e"
            ],
            [
             0.4444444444444444,
             "#bd3786"
            ],
            [
             0.5555555555555556,
             "#d8576b"
            ],
            [
             0.6666666666666666,
             "#ed7953"
            ],
            [
             0.7777777777777778,
             "#fb9f3a"
            ],
            [
             0.8888888888888888,
             "#fdca26"
            ],
            [
             1,
             "#f0f921"
            ]
           ],
           "sequentialminus": [
            [
             0,
             "#0d0887"
            ],
            [
             0.1111111111111111,
             "#46039f"
            ],
            [
             0.2222222222222222,
             "#7201a8"
            ],
            [
             0.3333333333333333,
             "#9c179e"
            ],
            [
             0.4444444444444444,
             "#bd3786"
            ],
            [
             0.5555555555555556,
             "#d8576b"
            ],
            [
             0.6666666666666666,
             "#ed7953"
            ],
            [
             0.7777777777777778,
             "#fb9f3a"
            ],
            [
             0.8888888888888888,
             "#fdca26"
            ],
            [
             1,
             "#f0f921"
            ]
           ]
          },
          "colorway": [
           "#636efa",
           "#EF553B",
           "#00cc96",
           "#ab63fa",
           "#FFA15A",
           "#19d3f3",
           "#FF6692",
           "#B6E880",
           "#FF97FF",
           "#FECB52"
          ],
          "font": {
           "color": "#2a3f5f"
          },
          "geo": {
           "bgcolor": "white",
           "lakecolor": "white",
           "landcolor": "#E5ECF6",
           "showlakes": true,
           "showland": true,
           "subunitcolor": "white"
          },
          "hoverlabel": {
           "align": "left"
          },
          "hovermode": "closest",
          "mapbox": {
           "style": "light"
          },
          "paper_bgcolor": "white",
          "plot_bgcolor": "#E5ECF6",
          "polar": {
           "angularaxis": {
            "gridcolor": "white",
            "linecolor": "white",
            "ticks": ""
           },
           "bgcolor": "#E5ECF6",
           "radialaxis": {
            "gridcolor": "white",
            "linecolor": "white",
            "ticks": ""
           }
          },
          "scene": {
           "xaxis": {
            "backgroundcolor": "#E5ECF6",
            "gridcolor": "white",
            "gridwidth": 2,
            "linecolor": "white",
            "showbackground": true,
            "ticks": "",
            "zerolinecolor": "white"
           },
           "yaxis": {
            "backgroundcolor": "#E5ECF6",
            "gridcolor": "white",
            "gridwidth": 2,
            "linecolor": "white",
            "showbackground": true,
            "ticks": "",
            "zerolinecolor": "white"
           },
           "zaxis": {
            "backgroundcolor": "#E5ECF6",
            "gridcolor": "white",
            "gridwidth": 2,
            "linecolor": "white",
            "showbackground": true,
            "ticks": "",
            "zerolinecolor": "white"
           }
          },
          "shapedefaults": {
           "line": {
            "color": "#2a3f5f"
           }
          },
          "ternary": {
           "aaxis": {
            "gridcolor": "white",
            "linecolor": "white",
            "ticks": ""
           },
           "baxis": {
            "gridcolor": "white",
            "linecolor": "white",
            "ticks": ""
           },
           "bgcolor": "#E5ECF6",
           "caxis": {
            "gridcolor": "white",
            "linecolor": "white",
            "ticks": ""
           }
          },
          "title": {
           "x": 0.05
          },
          "xaxis": {
           "automargin": true,
           "gridcolor": "white",
           "linecolor": "white",
           "ticks": "",
           "title": {
            "standoff": 15
           },
           "zerolinecolor": "white",
           "zerolinewidth": 2
          },
          "yaxis": {
           "automargin": true,
           "gridcolor": "white",
           "linecolor": "white",
           "ticks": "",
           "title": {
            "standoff": 15
           },
           "zerolinecolor": "white",
           "zerolinewidth": 2
          }
         }
        },
        "xaxis": {
         "anchor": "y",
         "domain": [
          0,
          1
         ],
         "title": {
          "text": "1/(1-S)"
         },
         "type": "log"
        },
        "yaxis": {
         "anchor": "x",
         "domain": [
          0,
          1
         ],
         "title": {
          "text": "m/||W||_F^2"
         }
        }
       }
      }
     },
     "metadata": {},
     "output_type": "display_data"
    }
   ],
   "source": [
    "fig = px.line(\n",
    "    x=1/model.feature_probability[:, 0].cpu(),\n",
    "    y=(model.config.n_hidden/(torch.linalg.matrix_norm(model.W.detach(), 'fro')**2)).cpu(),\n",
    "    log_x=True,\n",
    "    markers=True,\n",
    ")\n",
    "fig.update_xaxes(title=\"1/(1-S)\")\n",
    "fig.update_yaxes(title=f\"m/||W||_F^2\")"
   ]
  },
  {
   "cell_type": "code",
   "execution_count": 16,
   "metadata": {
    "id": "m1gNMKCqA6EO"
   },
   "outputs": [],
   "source": [
    "@torch.no_grad()\n",
    "def compute_dimensionality(W):\n",
    "  norms = torch.linalg.norm(W, 2, dim=-1) \n",
    "  W_unit = W / torch.clamp(norms[:, :, None], 1e-6, float('inf'))\n",
    "\n",
    "  interferences = (torch.einsum('eah,ebh->eab', W_unit, W)**2).sum(-1)\n",
    "\n",
    "  dim_fracs = (norms**2/interferences)\n",
    "  return dim_fracs.cpu()"
   ]
  },
  {
   "cell_type": "code",
   "execution_count": 17,
   "metadata": {
    "id": "3OfjWWC9BDlv"
   },
   "outputs": [],
   "source": [
    "dim_fracs = compute_dimensionality(model.W)"
   ]
  },
  {
   "cell_type": "code",
   "execution_count": 18,
   "metadata": {
    "colab": {
     "base_uri": "https://localhost:8080/",
     "height": 542
    },
    "id": "DTWEr8pHBGCf",
    "outputId": "1c89b231-8539-4c5a-a599-a647ee9c1430"
   },
   "outputs": [
    {
     "data": {
      "application/vnd.plotly.v1+json": {
       "config": {
        "plotlyServerURL": "https://plot.ly"
       },
       "data": [
        {
         "marker": {
          "color": "black",
          "opacity": 0.5,
          "size": 1
         },
         "mode": "markers",
         "type": "scatter",
         "x": {
          "bdata": "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",
          "dtype": "f8"
         },
         "y": {
          "bdata": "IUsRPnK/+z0lheo9ivAaPgSneD3OsYU9vFGbPdQ6sD2Ke4k9ZN7NPW8Phz3yyeQ99JFvPWzNsz1Jwa49oqLTPROAtD2Jj9s9x4IKPs+TRT6p7FM959bJPa67pT3gMZs9dur0PamPhD2O/NA97o4SPkH14j0qoMA9U6WrPV2zAD5ocdg90ZQIPiv16j1FRxc+uzOCPUFnnT1Bbqk9BF6gPYhd9D0Af2A9M7fFPbbpbj38wbs9B48FPnz0hz03bWQ9nZgDPlqAvz205w4+hRJlPa/2WT24hKU9/HKzPftBvD0vzD09CaU+PSHypT2bD4Q97FGrPbRBiz0yxb89TtkuPmIs/j3bqcc9+6gVPiZpGD54FU8+XhGXPWLLyD3Id+Q9A16/PSUVyj2kmMo980/9PY+T7j1fwpE9+ODBPVFUbz2i1Mo9D5jHPba+iz0j3PE9STuTPRfC9z2+UeA9gU7QPVpZ+D0FF9g9UfT7PR+5TT5C5r891t7WPb8PGz7Jpew9mp10Pd47hD3AopI92IHZPSCEvz26+LA9dYl+PSKe5j1z8bs9Au9iPZVXOz0xFoI9TDu/PeTo2T0jhuc9itXbPZ17Cj5/wbw9u1mAPf3K5T1mxPE9Diu7PSeMuT2J/7Q91rcBPmfFUj6jqw0+ZRDbPbOIlD2IKaE9fr3yPbUBNT5S89s9iJ4RPo5y7j0zI7E9N1mVPa0aCz5uR209WPkYPq+5tT0U7tM9OxWZPSsS+D2JN8Y9CV8JPhmkyT38+rY9KcrEPXpPez0U0tQ94iy6Paf0pT3q9OI9SLOxPTqHsj0E4M89z0wLPq0Zyj3sKIw9A/nDPT1yyT0AG989vVCqPdm+6z3qYpQ9Wp4KPs4Vtz0k93Y9lUKKPQPWmT11Dpk9EzX9PWuzRD4KPMc9QbyqPUPVeD3AmtQ9iseKPV9VEj77Pw0+hJaXPXEIJz6hn0Y9c1GNPWNRaj1NZuY9237xPa0kVD5bN6s9F0isPbzWCD57rpY97T3PPa5S0z2wOvc9JeYgPntSqj0ZQr09ydW0Pc1v7z0c8Qs+eiOuPQoXbD0=",
          "dtype": "f4"
         }
        },
        {
         "marker": {
          "color": "black",
          "opacity": 0.5,
          "size": 1
         },
         "mode": "markers",
         "type": "scatter",
         "x": {
          "bdata": "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",
          "dtype": "f8"
         },
         "y": {
          "bdata": "Sxt8PcAYID4wTeU9boywPbvOBT5bdMI9GFTvPVJRAD5xY609wBfaPVbJJj7KgG8+T4CZPRaxtT1/8cU9yOr9PVsY3j1Ln2g91e5ZPdDR6j3mEcI9NFH5PY90BT6cAsA9X6PTPS2MRT0KeEw+eO93PTnz6z2/aQQ+e/IEPlJgtz2tppU9NrSSPXwaAj6W7QA+D1iNPbSG2D23aZs9JmuvPTnsnz2lf4s9uH61PRm+jT3RDYI9bkvdPSICaj0KJZk9ZyCRPSNz3D31c1U+POWFPWGcoD3RSbw9TfinPYexnz3anek9mSuOPRgB2D1z/AI+BuqtPTgi0j1GgZA9SqgOPno0hT0ldn09t+9/PStNrj0BPoo9vX2LPQz9RT17zpU9/GwIPi9Gnj31iME9Yc2VPZmLED7CZwc+QPy2PTcFHD63apQ9cIHNPc8mfT30E089BsC7PYAJcD08+Jw9ViYoPSuLKD6jJ4E9poW7PaTlBz7mg6U92JMLPiP5sj0sQZo9VeF5Pf9Lxz3UM9g99TRYPVOf2T1S+709+uHwPXbktz3Mco896P0xPV4TQD4ROeA90yVhPevZwD2zl809y7ozPkRoAT5m5XQ95pjVPTzFaj2AWYs9SvzqPdqFLz1ZEYE+1NSPPcHSiD3W1s891CIaPV9mbT3ljos91lGCPU7Ohz1eG4E9c/KXPa6Csz1QY6I9wOQMPhe9nT2Z5Y89MwoSP6jrsz2JX5U9Sz7GPbGxeT3hudE9EE+kPeBQ4T0fppI9rMOMPezBYj31A6o93hQYPk2j9T1tt6E98ieIPYDKOz3R5J49perBPTmLhj1IcNQ9c4LuPQ0xoD0m09I98iO6PT3Y0z2R1IE9sd6YPWJF2T022tc9uuMLPtnR0T1oVQk+fLcIPcY7Yz1qloY9ZojpPVQ/bz7ekQY+mf2XPU2Loz3b7fg9PCKEPS539z1183w9mteuPb50nD1w0N49adXfPQ2Niz0ajSM+c/jfPZ3MKz4PLPU9ZEVhPReJgz3WbSY+qlMUPnnf8j1RLa89o/3kPv7aWD4bOKg91vTePaGr8D0=",
          "dtype": "f4"
         }
        },
        {
         "marker": {
          "color": "black",
          "opacity": 0.5,
          "size": 1
         },
         "mode": "markers",
         "type": "scatter",
         "x": {
          "bdata": "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",
          "dtype": "f8"
         },
         "y": {
          "bdata": "xFtzPbemPT28AKY9HVpgPVLJHz1WXj09HS0yP+o6mD3v9/A8qp2PPX63lzyh/Eg9tUuFPA/+Sj2X0VU9OToXPYjbyT07zjM/WWHkPKZXhT0zgYg9VzL6PGY5Gj086GI9+Mj+PLouTT2wb5w8Zj8oPcdRzzyNnxg9af9MPQ3aED2YDgo9Oz9uPQq+xz3aC609faH8PGKzwDwDznw+K7s1PZGJIj0JMCo9diZAPYWUDD1E1eM8Hh1YPUzCaj3Z6b48xpU1Pe+zMj378r48txHjPAcUID3k1q89zcrYPIyDNj27Dhg90TCOPX7isjxDpjw9rBooPXFIyDz99dQ+gStMPYYWMj0qwlc93owZPfGlMj+BqE89IikSPS6JID1NcTI/h4FMPRkuBj2wjpc9Cc1dPRNRNj34kk49DDIUPUOePj3RLuA8ClIuPx20Bz0vzKs963esPGSZ1DzvMjQ9RTBtPWZBST32/3I9j5oOPbOJEj3yQ9U8RC59PduKBD4X8HI+nVkwPzJ5Pz1Ovv48EPHEPOF6Pj2v0Tw9n1iVPWe2MD1y2ZU8u0w6PdxELz7lHTA/FVdHPbqmtDwlfYk8+yVCPQGOKT1iKfM8h/L0PAyOez04IyE9DFDmPL6SCD1UEWc9aCUEPUTiYT0bsIk96J94PeUIsDwKLzo/VYpmPYUzMz03gzQ/TNAwP9fJJj1fn5A95ak1PRRtLj3MsFs9/y4xP8dQhT2Hyxs9+GizPWxVWD32FCQ9wMwHPYLQSD2Foy4965aPPZLt2jwhk9s8nuWSPInGKj25vDE9CezVPTBq1jwyiQI92sOAPfkurTzcWe88eMwuPT+ojzxV/ys/fD2MPPltWT2d8CE9fXASPWKSZD3Zoy8/RdhKPc6qXT2XO049PkIUPVjzMz21QbM8FZRiPXegbD0jPK09jjZrPbIPSD02ftU8pLwnPTttND1g7vA8qXW2POANgz2HAjI/khZJPb31MT+yGzw9CBwQPU9uwDwsn+M+OqtEPatSlTytNSw9Eu5APQJwBT3fLZw8uDhJPRzFZz36a8A956IIPSIt6zw=",
          "dtype": "f4"
         }
        },
        {
         "marker": {
          "color": "black",
          "opacity": 0.5,
          "size": 1
         },
         "mode": "markers",
         "type": "scatter",
         "x": {
          "bdata": "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",
          "dtype": "f8"
         },
         "y": {
          "bdata": "sNc6PbCAEDzirRY/wLskPwSU1DzVrow8VKIQPU3DvjzpD/U7wxHnPJuf0zxdjCo86xQcP1hFQzwHoHQ8qSKjPMQ/QDx8MmA8L1wuPFK2RTwrm7w85Ik6PHFHFjy70qo8iY0EPQ3YJzwlAVE80vMsP9UH1jxH6Bc92aOZPNhCCDzlY4A8xam3PKaIBD1bN4w8wyfFPNcPajzxhTs8dmAiPwEtrTy5/T48xkMtPKQzjjxMQpI8tU6CPLKdhD2v8FU8C6DAPHuHLTzXZoQ8XJoRPFXflTxZOBI/NwonPPK3Nzza7+47VgMqPO/nJj/p0sU8Llu/PKKEBT0vkSo/jh1SPRs+zjwwmkY8V9EBPE+qLDy/hiA903qEPJPZGzyGrJo8t2xXPG8ukDz8zkQ8B0eqPCgYnTz98FA8MSqMPGmwJz9C+VE8wkPbPOYaYTyZfvY8JU3zPIs8dTw3wno8fc0XPMEEFDy0sTk8tsyHPKQzQT1RQik8y8wpPSrkDzyZZlk8k4GyPE0JEDyIHIs8VekCPLf+Ez2PI6I8YpOmPItyCz0XFRA94nqaPMhMsDxsrO88jBLdPKNLTTzAewo8SmtEPEi95zyW1Ww8F323PO3cID+FZtY8vmmAPD2XGD2iV8s8v/BQPacmkD1VsQQ9yn/lPCzaYTy+s3c8HUdTPD/5Gj8cyIk8s0h5PI4MZzzBdbM8IRucPHmrDTz7JW88f18ZP7hOsDyaciY8QArXPEinqDx71i48SXAqP31HlzzcyJQ8BEMmP9FMIT0rkxw89s9OPBhDKj99zZQ8m3wFPRakXjw52Dg83eKlPH14QjxrCVI8h60kPFMS1DxeeKU8TE0QPzopKjyxb6I8BOUoPQIlgzxwMUQ8TdGUPPmzeDzKCII+vmseP/XuojxeuYw8OFqBPKXhUDzrBYY8wn1PPORqKT+8BlA88pRWPJm6HD8BxxA/VcdoPMwquzzVnCM/Si7gPFbUIT87KV48s593PK/FED+tBMI8954UPTK8XT0vKqc8FWZMPELXIjyR0R48PcBfPK6MKD0d+RQ/a7QnP9ejLj8=",
          "dtype": "f4"
         }
        },
        {
         "marker": {
          "color": "black",
          "opacity": 0.5,
          "size": 1
         },
         "mode": "markers",
         "type": "scatter",
         "x": {
          "bdata": "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",
          "dtype": "f8"
         },
         "y": {
          "bdata": "jZcRPAoFEzylj90928TtOyDQAD/vUP47rMsjPT2F7TuKd+g7fka8PISg/z5S9x88fRj/PsaY/j5cM4w8XWgAP1IW/j5z1jg8k7w9PRmqWT3iyws8qIAiPFjbHzzXovM7YUqwPLDFRTwhUhs81TDsO5zCBDw4Rg08yjEZPGbe8Dtg9ok876HuO3I0CzyPCAA/SMA/PNryxDtOJaE8tK39PpCJDjzacH88vvIXPMagLDxipeo7wIDZO506ez1oWhY8X9gkPNX2/z7bv/0+0lvgO6D+DDxLoIE8O5UpPARdozwK4/87zpIGPAvIXTz41wY84p8KPJ/e+zsVhAA/1dP+PmHybTzUOUw8+tD+Pv2CIDxzQxY8O0ibPG2C/z7tQ8k7+mTBO/WkEzyMnds7JJiDPLR2UTxJ0y88WGUAPAX62TuB3g88SewCPA08EDxMrA88V1b+Ppys3zxNkP8+eYFDPIPtwDzuRfQ7M6+lPRHOCzx0DP4+LctZPEFy2zukCSE81IwAP5nf/T5FBAY8FpMOPJYWHjyGEVU8o3MBPKvodjz3ngI8bDaDPW0t/jvXYqg8bOJdPAImMzyg65w8hEQNPBsVRTwywuo7TWH+PnLrRDyLM548WB8AP9G3OzwDueo7u0b/Pvh6/z58ajU8NwkiPTkV/DvAsUo8hREWPBLTAjwBYAY8HSM2PIokmjzXA/E7YpX+Pg6EADxRyX48iOT+Pm/ATTw4BEA8/jzGPEBBAD+NxfY7r/f8O/xmzzsGT4w83rfIO1wRzDuEX0M8bGYLPLlY/z4xIfw7fXoUPBkppjwz//8+n6YAP5R+DDxrwzU/MT0AP7KwNjzX7Ac93b4APz68/Tsq9/8+PghkPWlh2zsnjMw7e97/Pgi5Ljw7qwA84aMpPAsxuDuon4U8YtIdPNErSDyZxQE8sP83PRAT6jvyRZ48OUrcO1xX9js4K5Q8hn03PHtZtjvsxE88B9ayO/A3rzyAnhs8t94OPKATOzycA4s8y16BPC07IjwWMPY75FciPFQiVTw39vc7M4ejPOOq+TsiSwA/KflYPHboBTw=",
          "dtype": "f4"
         }
        },
        {
         "marker": {
          "color": "black",
          "opacity": 0.5,
          "size": 1
         },
         "mode": "markers",
         "type": "scatter",
         "x": {
          "bdata": "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",
          "dtype": "f8"
         },
         "y": {
          "bdata": "76z+Pkg/vTvuSQA/yDHEO44AvzsnOMA7mETeO8JeyDvi3M07lEa3O5nxsjvrGcI7qpC0O8KVyzs1if8+UCAAP0RQAD/FDtk7JMXWO4i5yDvyW7Y7fBP/PtXjAD/1us87zyf/PoP7pDuxRcI7ZSrPO0QS6Tt/Yf47abS3O99y8zsaPgA/d2+qO0IeBDzL8a87ID3IO3VL3Dsbg/k7WDDCOx+BwTt0qaE7XKyHO0Vt2DuWwwg8Yf3AO0FGBjzuobs7aLvhO9XutTtTpsM7DSQAPwxBAjyPdt07ruH/PgG6pztq1A486GqyO2sQuTuJ58s7BvnAOzbS/j4agKk7MlPgOw99xDu4EK8768TrOx+X3Tv/KdQ7ykXsOze6sjsvpf0+d2r+PhB61Du3zf8+ko7+Pu5oAD9RBP8+2qrmO1maxDvqe647kl3lOzEukTvRtIw77bO6OwcnvjuwmeE7gEj/PvDWkTu55a07sz/QOyE3ujsnKv8+VcX+Pr2G5juK9tA7F9wAP66vzzuEwOQ7ZIb/PmI66jtGeAA/pS7FOzspyDv92dg77CvHO5oYyDtQCwU8iQulO84/DDxOhAA/PMq6O37DzTuMD7w7T/O9O0j1wDt7ktA7UjO7OwGJCjzvXP4+MXqtOyWB1jvyp7k7hdGwO8Cz0jtxY/A7LcvhO9reuzvsv+o7BTsHPHTn0Dtemv0+Fkq6O8TUwDvOoLg7qGN4O2IqAD8+Da47/Rl6O9GxyTvbOts7KqzCO0mGuTvx5pQ7t2yyO9bL5Tud59U7Q5fAO/38uTsEpdI7HVUAP5Kkrzth8O07V42OO+yetDv+POY7Iln9PhyW7Tt8rtE7ZWDKOz1Q6zuoT7w7EtT9Ph7Z3zvOk9Q75zHFO3mApTvFVck74ca8O5XQ9Tt2ygA/U4qwOzlgxTtA88M73mUAP9qSyTscx7o7DDPHO1YfDDxHFAA/xzb+PnoGAT+iQLs7i1LkOyp31juM0so7yCvXO7mTrTtADe478Zn/O/IYAD/mtss7Ms+1O/BQnjs5kZI7yOfROxWojDu/Kv8+Uf3WOxbV2js=",
          "dtype": "f4"
         }
        },
        {
         "marker": {
          "color": "black",
          "opacity": 0.5,
          "size": 1
         },
         "mode": "markers",
         "type": "scatter",
         "x": {
          "bdata": "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",
          "dtype": "f8"
         },
         "y": {
          "bdata": "lFfnO81IzTuwi6Y7XbS7OwXuuzsQR/0+iv63OwMjqTt7qMg7s9iuO2LW7Du32tg7gmPUO4hzvDt476w7dzIAP/5S2zuTFf8+ihbLOwlixTt3qv47sqbiO/AAlzs488E7LWCuOx5CAD9M1f4+Iu7hO10PzzvsfA48Ux2OOsSAWzsgxno7o4PdO1apyDuUjL47j7ehO2t8sjuurf87Gp/OO+a4nDv9e/8+4mz9O8JB2zuwlFY7tBbFOxTNwTtsp/I7a1JzO6ni/z5AwyM8DGbkO1Zrqjvw4cY7zqT1OwImAD9wjQk8yPPlO1RsyDtzwfs7f3KqO9G5oDt+EgA/qV//PuTy6jvuj947cibpO2dhAD/cRgY8DxsBP3p/zDs5eGY7IfP9PjFXsTt0xpM7ckAAP2WM2Dthe4Q7V03jO9Iu2zs5xuY7bw4JPCynuTtpaf0+lMwGPCCa/j653aE7YOr/PheDtTv5PKk7PzmwO6TN1DsFNgA/6BO0O7YinjuY9+c7EiKjO2eYnjvVu+I7O42tO+83kTvNycQ7hp7zO3U3zDubNr47cnfyOyVGyzuWRlM7Eif/Pldn5zts76Y7B4T/PmlYoTtXHvs7SiT/O6E13Dv3KgU8xvzMO2bh1jsRhP8+MjTbO8LSxjtfGfE7oqfkO2r4/z4bwf4+aw+pO9dUtDvFaNI7Sa6sOze92jtC4ec7W0i9O0eHzztwK8w7kPzbO6JeAD/KKtQ7I8ECPJmKCDyafsk7h7//PuHouzvFxgA/MBbYO7jG3TsmesU7V770O5QH/z7w9d07zwTsO+ylmTtf/NM78fi1O03b/j7YYK478/nYO2fJwDupk8E7mx7CO3/0nztDu7M7Xuu1O50lujurxv07fBTmOyF26ztsz/0+sQ/nO8aYkDuBzAA/t5PbO1slEjyoCwA/nub9O9WN/j7uXto7cgkBP9pNAD/8L3U7TUbBO1ycrDtrPwk8K9PkO8xeAD/m1/4+lYmwO29k2TvT2cs7USOmO+I/5DuMyus7g5yeO1GW1ztHJZM7U5P/PqVa/z5M/6A7c+HsO/y7mDs=",
          "dtype": "f4"
         }
        },
        {
         "marker": {
          "color": "black",
          "opacity": 0.5,
          "size": 1
         },
         "mode": "markers",
         "type": "scatter",
         "x": {
          "bdata": "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",
          "dtype": "f8"
         },
         "y": {
          "bdata": "fR6gO9vSyjslCKc70RABP0aOzjtVMQQ8D3KbOwDWYTsIzfo7/j8APCvQyTudGv8+RdG9O0KKtjslA7U790n/Pi2MyjuUSkk71JaxO0LWtDt+nxI8XdvJO0JEwDsD+ss7RLD1O2JF7Ts10tg74uW7Ox23jTvWI+U7Vz+eOyxYITxVl9E7qRL2O9U4xDthzv8+rEmTO+5M/j67WQU8ogsIPGU8XjvaX/0+dYe9O6iA/j60qyI7WKPdOyOSDDwT0Os7Bbj9O8Se/z4WLdM7rPtkO+IO3zvL3OQ70lYIPPEaBTyAMBU82/f/PrOjCTxMmAY8UGL5O9pBkztiZg482z4AP63nCTzCfv8+UGTYO1Qasjv3sKo7INW2O47RXTuvh/4+1ejOOyaywjubhuw7WDEAP91ECTxJyb87SKrNO8ViAzxpCgA/iuOsOxB1XTsiIQA/NwwfPJ4ZADyX0hk8qSMMPM48AD8snAM8FcOtOxEmnzt88Kk7ytF0O/dkAD+t1eA7WZgAP0O0iDsfHoo7LuoDPFyXhzveO3s7c4IIPHrRrztGbdc728D/PvDrGTuHDLg7lL2nO8Ov0zuVyAI8o+rcOwkMAD/AO5s7YEn/Pi+xgDu0W7k7VxjtO+/7AD9tRsM77tiFO29cAjyWjaw7B432O3D+/j4WyWQ7JxytO26NnjssiAA/tag+PJV97ztEvf4+rtJjO7/fvzuvbTs7PrYOO7ic4zuCl3w7eQD/PlTfADwulN87GlTuO9I3iDtu3Jk7GcrIO8TI6DpCjnk748WMO3VJ/j4AH9k7VbrAOzN7jDsquKE7LLPVO4cA/TsFrog7OYkAPwF1zTvTstM76rijO9KfAD8bnvA7NxgCPC06qjuQwgA/vV8DPN9fejtG/9w7FY+hO+nfyjvlLLw74VP9PjFt/z4pVPc77720O+moFDwcdQY8Q/IHPDPNYjvfZpo7mBfYO9Ci4jv+Ar87axD+PuOi/z7GjuY7FgKmOmDVsDv+XQk8gYEYPMXo9jtGVv8+wWZ0OwJvJDzLFAA/W433O/gDAD/pyMc7Ojz/PkDiCDw=",
          "dtype": "f4"
         }
        },
        {
         "marker": {
          "color": "black",
          "opacity": 0.5,
          "size": 1
         },
         "mode": "markers",
         "type": "scatter",
         "x": {
          "bdata": "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",
          "dtype": "f8"
         },
         "y": {
          "bdata": "YTGhO5kG4Tu/tgc8AifxO6iz5zsJ4QE8lwvaO3/4kztUXQA/GcTWO1Hj/j42oRI8dsbxO/QfAD/psxw7PpddO6f0/j7oXs87tS0APzKwWjtDYP8+KeixO/txmTuKqF08+9EXPBal0ztWXpc7H1WpOxv3/z6/KgA/gWDsO5h5sDugOgA/aksAP9gYmDtfcCg7IyzWO9BurzuFeaw7th53O82yrjuLTLE7BjJxO8UdAD9qoYc7qotjO38T0TuIBsY78kv+PoriuTuCask7H7rXO4WKyjtQAR48uYulO75e6DuifQA/uMSHO64UAD8Ph2w7PGnFOi3HBTzFVhE8MCj/PleeODvYbf47zCHNO5GdmDoT8bs7BDn3O9BW/DuJKpo7xuOJO1Pf5zuld6M7Wqn+PttFPDtQZOI7Cg7sO6NwIDs/DAA/P/OFO5NjFDyCVME7+MQTPMgWmjuk7OA6v5m3O5XHLjzsMAA/WnKpO2OhJDwvlYg7Q802O4yzvjuXLh87tt77OxusAD8Zk1c7RmyvO7wW2jv8VOI7nE7SO7vXCTy3T4U7ynfhO3o+TDvL0Qw8N1r+PqGylzsfT887Sdv6O4krqDtBtxQ8Wl5XO7C3AD8WMf8+HwoBP+dk/T7+rFM7VZEAPwf6TDtMkyU8G9MAPMMD/j7eKNk7WUreO2WahDv5AAA/ki0AP71U/z5IX6U7Twj/PqTCHjzXwL872Vz/PgPzgjt4Bco7XgYyPJ1zxjtNQR88mnFCO+j1BjyoRsA7U8qTO+k1NDoXejw83Qb/PlsV/j5MyP0+SaE+PGb8+jsxCsQ77g3nO9YdyTvyMaU7DuT+Pn5wOzxTDB88cSoMPJs3rTtWXIY7VGLZO6rbmjtfOWY78JRlO8vVHzyb5rA7iSKSOzrn9Dv6Wf8+HX68O+YN/DvcfiE7052rO5uy9jshM+07X3rpO2MI8DsG0wA/TCHwOwB04DvgYRs8S5NGPLjBLjxDShk8lgfyO0pPwjtwdP8+2xAXO/ai2jvFtMI68msfPIaGzjsdnKg78aMtOz7w4TuI7w08bRnCO57zGTw=",
          "dtype": "f4"
         }
        },
        {
         "marker": {
          "color": "black",
          "opacity": 0.5,
          "size": 1
         },
         "mode": "markers",
         "type": "scatter",
         "x": {
          "bdata": "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",
          "dtype": "f8"
         },
         "y": {
          "bdata": "Gf8dObb99jiaJRA5a7c7OT9BNjlG0vA4ZLk+Odhn6DjY5Ow4+KwZOc7QGTnwaOA40UzMPpepJjkrMMw+N7vJOPTVUzlXTiA5iuH0OC6h/T6O8io5Z+EnOU4USDnVRv4+9LQyORR3ADkeh9A40bL9OMuDLDkSWB855V4AP1Oi/j6iKRw5Hr1GOZPqzD4ezQA/G5tcOX9XdjkF1WU52KghObIdODn8aJM4K/UGOYtRWTn8jng4L77KOF0kNjnd/Ms+Xz/wONi6/z4iygI5FHEuOZSTMjmz+v8+yr1eOdidvDj3XwA/JYsAP2FyGTn1KMw+CwGYOScHMjmvEAY52NH7OFyqHDl29P04Vu8APwomUjmkBNA+c5BPOfpMpzh6oQM5dRKNOfgAyT6A9g854rTNPiox/z5Hjcw+7qwSOUgtAD/+aUA5iIr3OHUXRjkA/bQ4n6D+Pkwo7TjeRv8+Nq9hOdu0TjllTz85g56dOHAMmDm3LxM5Dr7qOJZoMTnhdlw5klKaObjPljknlTM5o8fzOJIHWjnfUiM5HPj+Pj6dyz6qKfo4tb7fOIFVADm9/V85/IcROaqFOjlj6h05HQMAP7PcSzkDqf4+dqFCORW9XjksO2E5sd8RObTFDjkiS944YphjOTVkKTlr+Xo5P/QwOTASCzm4RMs+xYMAP1ZTAT/P8zI5KdYAP4rqeTlAnIA5aj8fOdEjAzlKcaQ5SEuPONHHBTmlhcw+sCw5OYo+ATnCJw85wEQiOcPiSzmHpWo5xjAjOYyL/j51kwQ5Mx3uOPIqQzmJ/nA5fpT/PrXyLzl5dDw5cMLOPmW9YzmjtDs5xOvTOI8+TzkmCWY5SJ/8Prn5GzmQMFA53IOMOYOL/T5KVhI5oLHzOPxPKjlTVRs58lYAPw3Agjk7Nxk5e1rXOIl0LDkoxZw5HUD+PqjjKDnwE5I5CdUVOd3bVzmZ04c5UmFgOaEKkjgxd/0+reGBOaRHrTi2x3g5LPE5Oe+c5jhWT2I5g/mIOWhKAD9V0c0+isMHOX8pEDm5fa05+GLHOHH9SDkc5Co5vAfLPonSPDk=",
          "dtype": "f4"
         }
        },
        {
         "marker": {
          "color": "black",
          "opacity": 0.5,
          "size": 1
         },
         "mode": "markers",
         "type": "scatter",
         "x": {
          "bdata": "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",
          "dtype": "f8"
         },
         "y": {
          "bdata": "dz20PkdjzD6edMw+5vTIPhO7zT7omMk+GQe+PsJkOznkKhk5w6vHPoEOyj6F3rc+ICqGOZOcMTnCq/c4FeDtOHEY3ji8FTo5yX7QOHKHsT7cHcE4E0ekONjy/jj4zDk5wPNcOapryDjuc7c4RKu/Piiugzgpd7s4Z6ssObCoxz7UDkw5X1cQOR9IEzn6cEw5Fl47OQoqsz7v9OQ43BMGOTko0jhCx7M4ukm/Pl4Jxz4c6rY+T+4tOXMqvj6dg4o5PKoLOaznATlPCCY5rrcUOUMR3Tir/zo553iQOMecTDnfSsc4z54jOXXTzzgTXNo4AM4xOTFWyj6xbBM5kz8IOYRT1DjUu9k4CDO+PhJ0zD628sA+L+o0OZ6OCDl7jcE4BrgYOWZt2DhkLI44m+0nOR+qWDl6iDM5vOQFOdLotj5HJgg5JbfBPiZ0ozjpNwg5VTIfOW/aEznHd1E5wTUjOYkpuT6antI4vS73OOEYaThukFE5mDYTOask8Dg8JSo5ZpPHPqeMrzhErQw5xJoYOVFMzT6qf8c+bm8iOSSvDzmRL+E4xWEoOfIw1TjqlYA58tK+PpID/jgL5sk+oaq1PpsMKDnmAss+eZe8PpwJNzk4hzU5j8IFOW3GDTmkILg4DOPcOJ+4yT5KuGE5e48hOcYAVzls6P04/XsoOZJ67zi4c1I5Zw5OOXXzyj4r5L4+ggO4OFMtJDksUKg40rjaOI0zoj5ie/A4BjcmORqrrj6qEvg4eyUGOc7z1zjnU68+cUIIOXzTHDlc77g+vQneOC/BvT4At+44PnXOPrqslDj8Q1E5bkVhOfSvyjgbtL4+LaUPOaMvtT6qzGU5BBAdOUvYATk0wvQ4fb7IOPOfGTn12QM5+zo+Oa6fyz76q/04CZyrOOFMBTls0PM4kOg3Oax5yz7b3a8+PcrBOF9mBTlcaSc5n6PqOLpkxz50YjU5dJ9ZOQZuDTnyubc+H3rMPhpK9Tge7QA5pcXCPqsXgzm95b8+vgH/OLL1yT48eL44BlgJOd1FijnPSg05q0UNOYZo2Tg/1jE5/RoLOR5gfzg=",
          "dtype": "f4"
         }
        },
        {
         "marker": {
          "color": "black",
          "opacity": 0.5,
          "size": 1
         },
         "mode": "markers",
         "type": "scatter",
         "x": {
          "bdata": "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",
          "dtype": "f8"
         },
         "y": {
          "bdata": "ZmAmOXP+Djk6zrg+IuerOFznxTiwgw05af7kOKFEBTk7cEU5FlnxOHmCkThAfOI4G/dTOJMILDl4Xlo4KzC1Ph2ppDiBQes4i+qkPqWdLjkK06c+tnGfPnBItzhZZx05UkDYOOcjpz6TaMs4Vx6/Poypxj4m56k+h3+sPgQOqz6cPMA4QZKpPjr03ji7FCM5mpHMOP8e7Dj8n/Y4Cb65OA6b9jifebI4CRGnOIhvFDnLMFM5kcwQOR7sjDik+xw5GMP3OLe6TjkYPs44GgS4PoWzqj5ZGa8+AiYWOeAhKzlBQpY4mPUyOY3j/zi/ZhM5qv8oOZ/qpj4VB9841h7POKMkqD5kyBE5jzLFPv0HsD50Kxo57HniOCFiwThH77E+yDLfOJ7HKjlgR64+HLwKOZMUyD5MtCA57pamPuhzrDgiYhg5eBCqPr/7tj6UTA85aOvlOB5iDTkic6A4kDEOOdVSQDn1g0o5+R3HPg/TLjmZIAs595EIOYHGujilCYA409TuOIjFqD4nGsY+npi3OC7CsD6aaec4F8EQOYe+1DgdGL047OZzOSuRsz4ylgk5SBymPiYUsT6xdr0+i6IvOV+yyzh91bQ+btbkOEwftz5m74E4YL4IOZfWoThrgvg4oSe9OFL+2DhvWBE5V9f5OKyTjzg+3KY4ZQLDOLjSyz5/mTU4AD6yPvSFoT4/r5o4g9YMObMuuji8hJw4F18aOfY+YzlWkBw5DfNQOcR4rTh5s7Q+iROPOAN6ujhTLxA5BfeoPuIlKTlMGUA5kRsmORXwIzkPWLc+ILC0PpF0sD5xJ/Q4Y0rHPjEq5zg6Ocw4s8wNOXVStj6DTxs5k3DfOLBb8zjG//w4ZauKOER0vDhkF1c5uMLjONMZszjUARA5DpfbOBRWrT7SmK0+rXUROVOoEjnYgdM4rJ+OOAHwMjn+Gac4PxScOIoTqjjDo80+rSmvPv25+jg1T1k5TaRJOL6Ypz5cZQw5Ie+3PtmEsz57hus4aCIMOTHYsT70CEo5prvGPgBhyD440to4VSwzOWErtz5yA8k4iXCsOFPtoz4=",
          "dtype": "f4"
         }
        },
        {
         "marker": {
          "color": "black",
          "opacity": 0.5,
          "size": 1
         },
         "mode": "markers",
         "type": "scatter",
         "x": {
          "bdata": "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",
          "dtype": "f8"
         },
         "y": {
          "bdata": "MBt4OJ10ljhPCAA51arBOBW41jgzGXQ4/8SsODyH4zhSa5k+NkTMOC8vQzgbjag4xDOUPu714jjkoQ04+ZJEOMlkSjh2tX84UO/DONIhoTgzysU4p7dkOAYNYTi9F8U4dbudOPVdzDix7ZU4kG/FOOFXoD4XgJg+sLGbPgAdsDgh55s+nzAUOSOQrDiXApc+Ab+hOBwBQzn9WtE4+asHOfLImz722YY4lTqkOJQ9nj5jzuY3Fe+jPj//8ziEnJE4NwqEODFmpz6wvwU4NZmaOMRSzjgyiQo5RxPaOOhLDTnAzZw+kU/eOJzOmD55Jf04tmebOG5+3DhLWaE4Oj6LPq83mj5425M+7CydPt8UqzhN3QE5b956OL8dgDicdZw+QfWoOHUI+jiSqaE+kC6IODtPzji1LZc4yBGjPodtAjlQUOU4aPaePo3doDgJjs44/9EPOc7xwjimgpw+ihzBONBjkj4lyJA4D5OwOB4hmT4NnZs+Z+H5OA16qjhVUl048KYNOUHG0zh0/ps+m1TvOD8bTzhUPc046DycPkzpgzjqeOo4KLqHOKI5jz4DZ58+XU2rOCo5nD7f25s4P8mWON7LmD7+m4M4F/e/OPBKkT7sXJ4+xwoHOV87vTgPsJ8+Bq7lOCRWiT5iEA45/ubSOJk9tTiwkp8+7bfQOKpmnj7ct5M4PDenOOHo5jirmO44mS6ePhD1kjgsjG44+pqYPsg6oD5Q0ZQ+GqebPqmRfjj+pcE4YPukOKOdlT5nkZ0+JDiBOG2WkjgBhpw+ju3aOC55zjgXcnk4VHeQPiPM3Ti1KaU+t+mXPqY7mT4hPZ0+Jzn0OKFUnD5XQEc4PSDeOPC9nj5tvqI+3EmPOCGwXTjuJ8E4kUalOPConD7OJZE4TfGWPsEvtzgEGKY4KiyfPhLYajhxb4c4e6iWPkwy2Dh5XKM+Vl2MOBWYqT5vwok+a8O1OA9WCzmrPIY48CidPpI2lDgGM4440BgFOUZSoD4seqo45iyfOK9Qsjif5TQ4NgSMPlq+hzgO6ZA4nQAYOdgboT714ZY+4ZXYOLZGnT4=",
          "dtype": "f4"
         }
        },
        {
         "marker": {
          "color": "black",
          "opacity": 0.5,
          "size": 1
         },
         "mode": "markers",
         "type": "scatter",
         "x": {
          "bdata": "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",
          "dtype": "f8"
         },
         "y": {
          "bdata": "oF2TOMvIqDjNem4+sMKGPpUZqTgTbZs4g4V6ONhDyjgM8004OTyyOPAvAjlLr2U4SxGkOEGhnD4BEW4+2A2MPvVDmjh5iHw4lwePOPBfvTjCQbE4EDacOL8BhD4vq5E4J+6JPob5qzieGng4mpJxPpUdmTjnG5o+k/5KOOmHdzjxYKw4F9enOPX6iDg1Ru84h6OLPv61jD6ZPsg4rF9/Pkxryje4fJA40lSXPhhbTDiPPIc+U4uWPnPKlDiPLog+bouMOHi+kj7xU4s+L6lfONMQsTgAE4I+YyeHOPUWjDg5ymA41OWxOB1TjTit3ks4claMPkn1iT5vYZw4fKhNONEOtjjkWX8+B7KIPptUhT70EkU4FZifOI2qgz6N+2w4pCOIPlvlODhN1ng4rGbhOB34ijiEmLM4s/2eOP0HiD65roU+BPKuOOUzfD5L1yc4F8+HPrbxCTku/34+Bv6QPsw0WDimm4s4d3SHPnMFhjito5A+payKPlwKwjgzfn043GLAOK1ngj4Mdig4Ei6OOP01fj48OZU4ThWIOL9dhz4BH2k4hDegOCY8cjimldU4DeGCOEXnhD4Pa5w4/uyVPrgjUjh2ELc4wY1mPtIThD6z54E+49yAPuLMiT4hD7k4eX6QPq1mjD4ASAE5YYHMOBOmjD65M6M4g2WuOFGAlDgIm4Q4ddWHPksUcT4OUVc4d9Q0OJ2DIjh+X3w+Je33ONttjT7LJqg4S4mEPuguQzjWn3g4hvmLPiGHszjwRGw450OEPob+QTgUF544vRe0OH1MYDhdyaY4qQeRPjaCgD5U/6M4nBbeOA9ggTjQOIc+gnSvOEiGCTjW7YM4CBqZPnAYkT7Sa3I+ETGMPmNOpzj3dhc481uCOHt90ziRs8c4LbOGPvO4pTi9P40+C9AAOTYdtjgf6/Y35HeGPpVWiD7dpIs4nb+QPlZnwjgj9rw46bWNPhmnizhx5Y848Ry7OIhruDhhYYc+mtaqODSciz7J6bc4QUv/OK3KsjjUULk4uDeKPjDsij6oM4448W+xOAFIiziXYI4+a1WPPj/Rhz4=",
          "dtype": "f4"
         }
        },
        {
         "marker": {
          "color": "black",
          "opacity": 0.5,
          "size": 1
         },
         "mode": "markers",
         "type": "scatter",
         "x": {
          "bdata": "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",
          "dtype": "f8"
         },
         "y": {
          "bdata": "p/t0OGpafz6f/II+RMN+PoSXgj4jpQ04P216Pp6myDggSYA+pOh9PhFSNjiudhk46wltODTbJjjYo5M4j/qEPiXQfj7vkIU+k4hQOMwpPDjrUHM+evxlOD/fdDgKl2w4ieZzOKZ+fD5EIYI+ZllbOFd0XTg84184w32mOPnzuDiczVU4iViGPtbzgj4+yDs4devRNxMGgz5OKnw+X0JmONy0ejhQnlg4RcgSOHQmeD4sUZw4qsiROPvaVjhEWYI+dap9Pn8vgT6vPWg4otucOGAogT4B14Y+kpmDPtutgT6ookU4+a6APn6dgT5MmHs+FpiEOHB+6DfNaxM4eVNyOGcpdDgqBYI+6iKEPgekkDj5QDU4TrJ+PjWVZDh1jCc4ER84OClbcj6jw3o+FZJtOKKeLTiG+RU4kOUtOEaxozjUEz444+QtOENlgD63lGs4fmmBPuFvfz4oG4Q+e/xYOBvcCThM5YM+V+W2OLvpez42jR84916GOAc3ej4HMIM4C7+QOM6xgT7t1j04bYOEPgKgjjgO0II+6kt/Puw8Azh0HYE4vAmBPqXmej5MIIA+ZSFJOJqxjjgC9ZM4uyKDOFkzfD5fmoc4sKuCPhsrgziqWzs4ZAJ+Pl44SzhBZY84mnONONlNRzhf44Q+d5rwOOcQhD7OzMM4kzi9OAsxEzij9YE+n7GCPsPNgD4lcYI4JSh4OKOuTzgOrW44trllOI+4jzhRyzM4//KwOH7XlTha8YA+5XVtOElYHjhcK0Q41uWBPh9OBzhh04A+1fB6OGhBgz4NKYQ+FUDCOIkjJzjz1m4+LOeDPnE8Dzi4voY+ASeeOKVwHDiL6m84vSisOAOKbzi0KIE+UhpGOGdxRjhoMSk4UmUvOM5Fhj6PfoI+slmrOGfRhT6XtHo+WIZdOLUXYzgGNVc4IjqFPhCGRDi7soI+hGu/OCZEhD4+VXw+QzSIPl3w+DcmL4E+F2BJOGL8WzjkiYI+k4e0OJx6hT4aGoI+8oP7N36fSzisWaU4TQ0/OC11JTjOXTs4CwljOLXtgj7TEHo4dAqIPknSgzg=",
          "dtype": "f4"
         }
        },
        {
         "marker": {
          "color": "black",
          "opacity": 0.5,
          "size": 1
         },
         "mode": "markers",
         "type": "scatter",
         "x": {
          "bdata": "0EQljq30JEC6kC7WFPMkQNj3lGCtKyVAFMzWXWwuJUDyLCLw9CglQAPXLb2AVSVAJd1+IfKOJUCiqeVEagUlQK6EomM7DyVAl5ZJsBA3JUCyVRY/pVklQIfQAsS4OyVALExZPG/xJEBHsHQxOn4lQNHkPBqkpCVAmN0zGK0/JUAWis+490clQJD512PZAyVA8yREaXp/JUCmKt3BBlslQGUGH2sUhSVACYxpHX50JUAJcRqsQPAkQDJh+lIUbiVAYdQ6dSUvJUBZo9LwFGIlQECTfYX+DSVAow5yUm+AJUBXW1THzIclQNuHOpHaoSVA/4jB3rErJUBV7dgJmwUlQIPOMYSJOiVAcvvUgVpDJUBsmG8I4yAlQB+bl504CiVASGMqBq8LJUCHU4gELXQlQGxmvfNbHyVAILisVi+CJUAOA7cbbQQlQEPHL8kkKCVAJB67L+SYJUB4WLOKX+4kQHg8k6VLJyVAWylpr+iUJUDiQBx5PwglQG6bU9gb/CRAPcglGXwbJUAwi9pG5h8lQLcJMUMlPyVAE3v12380JUDfVtpR+h0lQBSVOfiQmyVAc8DNSGL7JEAmzf1qny0lQCs9BjXtCCVAKM4XyFU5JUC9MPMYYvMkQDcX4co5XCVAjrgk4gEaJUBX6X7DGR4lQD7uF55hdCVA5Ypq+QWUJUD/2g3Au30lQAxZHtPRiiVAnWJ8Jfg1JUDP5AZ6UTglQOrekTARYyVAMlQuTJBOJUCHpivFHkElQPzaf5VAoSVA15WjzKFSJUBdJT+brYAlQDEI9qaraiVALqMqE20rJUATnhvZXoMlQCrBStN9PiVAKZ/KhY5NJUDUdH7cw6QlQEm6b1zhECVArq2tma70JECJ0avoP3QlQKLMbSizXCVAmNg3K9dlJUD+8rxD8CYlQANznqWMniVAnOJm/LF8JUD85F1zsAAlQOXrEjZufCVAM3QcTY9rJUD3VqJ+BTwlQO2x+mcueyVAjkHVaE4mJUBRQcdKswglQOgn3qbOnyVAouSkUKE0JUDNy5Qes34lQHXfOeA4LSVAkW8vCEJ6JUDuN7eNQC0lQHEd1IHcnyVAeLamskmIJUCtuerT+xIlQMr9Br+UmCVAZfXPhOg0JUDq/lkLVz4lQC9zLFxHLSVAtazIPDKFJUAcxI7LaHklQADXV7nTNCVAFbkXaHB2JUC2B4IkKxolQOFWKrTweiVAbiQfjMFEJUDm1ZpePVElQF7dN6XlKSVAlFujUt8wJUBI+b/V5wElQK3Bfo9viCVAcp+CE49TJUAuYstOx/8kQAExS7wjcSVAimorvUcsJUCNtpalH3MlQMmv8eOegiVAdF9Isk6jJUClJVMyTj8lQEJma3viKyVAowZZD3DzJEDldKlAofokQGShLe2+UCVAo66rne34JEAvtf/4e3MlQC5DtSfTDSVAyVKK2GIJJUDHijZJ9UQlQKMKA3KaZiVAkHhx4th6JUCOSGL0WWwlQGIuAltIPSVA1C8rtAH7JECdeliO5x8lQMB79vtuUSVA0wIAXYr+JECLZCG+5fMkQAWvSd9YDyVAyZG6FqoFJUCGHAJac6AlQKyuPP0IBiVALZ8qn+x7JUB06ecB4SslQGG3fmmkPiVAROP1XrNLJUAwG4AvuhslQLNhxcDUpCVA8BbYZbfzJECG5nwsqAwlQE/EI4EqNSVAMP4e+XF1JUCjriY75QElQATxodcrGCVAIj3B8rEcJUBQ2YGS+fMkQDQb2vyiLiVAnC0bZsdbJUDDxTezEmklQK7bjtEM7yRAa7ROhn0RJUD7HHbjxRklQIXiySqXDyVAaELy/I43JUA80pZyrAIlQA3/oBofHiVALxTQGItaJUC7QcNNjJAlQLz8o+KGfiVA26q8ORIhJUA/e+I0U/8kQPxFciM1TSVArE78f0tuJUAaki91r/kkQIVm68rh/iRAW8qcoyyUJUDJlSsjmvMkQK/+4egnQSVAlGWzIUN3JUBzzjpivF0lQJFKkvNkaSVA3I5q7HGWJUAnEKOtiEklQMORS3z0eyVAHD9C075DJUAeE6jN0PUkQNdzrQq0KSVA8kp4UhM6JUDDn54sM1YlQJGqF2ZhiCVAVw+M9dNnJUAPSqm0bYMlQA==",
          "dtype": "f8"
         },
         "y": {
          "bdata": "dtcWOGOvGjhF4i843/gKOGQJyjdEkBA4IhlmPll/ZD7hazM4H8VePrLINjjeKz440k9POM6wBzg0d2I+LnBUOIi22je+iGE+kA4cOF3sYz6QsHw3SLJOOOUyWzjReik4TodlPqzaZj53kBg41j5jPkusYT5hyl4++ahROCt0aT5Z5iM4o4RgPhrODjheyGY4/D4vOCodZz5YZEQ4sjRhPkC7KDiA6Aw4t7gjOHxRaj71KoQ4/nHrN6IzNji5YWE+duFiPjAWaj5fpdM3S90ZOCsUBDj2kmQ+wGhcOCuIMjgQa2k+fmZjPjMrFDgh1mc+6woNOB18bD4OCmc+1iVlPgugaT5XSOo3LoZkPnPYZjjgT2Y+UWtmPq3ZYD4s6o44OoFoPmNqMDjph2g+iQOSOO83Zj4JjmE+LhA2ONXZDThMTjI4wbsQOBpvZj6OahE4LsoXOJHzvjccvSE4TgtnPoCpZz52tmU+7o5nPp1RXz5BY2E+nGE7OL/BFzgnnSU41OtjPkNDXzgNv2w4T41pPkVjaT6EdBw4drUMON2UoDiJUuo3PetoPlt2az4zWGY+lM1oPqsCAjhw30g4TBc6OPuJZz6I6mw+vilyOG93QzglDP43XQBpPg0CNjgoRUY4Ls44ONKhWDjXTmY+Jl1lPivWaz6FOmM+7d5FOCxYZT6SvmA+RAojOH08nTe7L2U+YQtqPk/13Df9QWQ+iwdkPrq+iDi/MWM+6NxiPr9ebD6BVRg4+5QXOFdAZD7SjW4+yXFjPvI5aD46d2U+RzJmPvudZj5lu2M+TYgQOJWNHDjFk6c3rsM0OGu8mDjFaGM+EzgwOK2PDzhkq2Y+ZvJiPovlYj4slGE+0CE+OLTbLzgmbnU4/mEKOOKcRTgfpWY+sORaOEj/CjjBGFo4mjsxOAHxMjizpGk+XoV1OH0Zzzeh1Wc+XEtgPiuDlDfXlGQ+KM9pPjmTZT5TWmc+tkgkOBtkhDiF2m448GpXOJC2Czj7TTw4Nc5mPsJDPjgOlWk+calrPiqqJThPmvo3J/t2OLF+YDj7eAA4NElTOMyjfzg=",
          "dtype": "f4"
         }
        },
        {
         "marker": {
          "color": "black",
          "opacity": 0.5,
          "size": 1
         },
         "mode": "markers",
         "type": "scatter",
         "x": {
          "bdata": "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",
          "dtype": "f8"
         },
         "y": {
          "bdata": "U9JMPi9fgDgDMwI45HMXOIZYST736lM4P0+yN9aYCjgwXQQ4Lj9JPlCXTDhix0U+uik8Pj619DelZUo+Elw9PslJUD4p8gY4fTxIPmYRsTdILLY3mWdIPnduezjrn0s+30ZCPgIFIzhF4jk+QdMwOGRMRT5/L00+qlomOMCInjfe3kk+vXYxOD9VHDgPWzg+xx3XN5dLSz7vtFE+y5tFPvu0ST5VIko+OSs6PuhWtTca2Bw4DAMDOBBJPD7s+i444zo/Pl9BUD5nMH440NtGPoxgRD7Zbsk3GQFFPr3RDzjUZ00+qH1QONwISj4APoo3Ff5PPmsnOz5vdT4+ng7/N2jkRD5i7z8+ih5OPlFOSj6b0ig4z8tNPmtjuDdbF0U+6n6nN2X6vTeCzuw33m9EPnE+Qj5yMFA+KtxPOP/L5jc91UU+uR8nOE1qTTjf6kk4fqEHODm/4zfPNkI+lOg8PoJJITjMPCs+GzFCPvSpbDj3ERw4DZdLPoeJRz5SijE4v52bN3/QnzcbIxg4tWwLOIL5Qj65KhY4syNtOErBYjgCRhY4xxRMPuFTOj4b5KY3lnPKN/YyAjgwwiM4SMAhOIQgQz5GlTs+g86UNyLoRz7sjlI4YOJOPrcsOj6ZhEs+fn9FPvcT9TdcxRM46Sk1PvuXbjgX7TA+Azw5Pk6XTD6MshI4GmJIPjrKSzjiIY44s2RHPmAMQj6yiko+V5kJOOe6Tz5IgEE4rt36NxIyKjgUBPM3flFLPi9j/DeS6fg36X89PulfSD4aNkU+VW1GPvA7BjjpxkM+QOtMPoRMtzcGsEc+8A8+Pl1CITix5kI+NH22N6KTDjjcSUU+9wEaOHD7UDhRXz8+KHxAPnSW3TfykO83ssEOODZ6PD4HgEo+pmu5N7EsRj4h2T4+sYLFN+G+RD6nJVA+dSxFPqErND7RvUk+ysgJOPVSPz7IDIU4mJZEPqx06jeF2UI+Wh9HPjrjJzgsKEU+t7aKOK3VJz7pTUs+PqocOD0gRD7mEk0+SaVHPphwTj7eVWE4qTVVOH6sIjiezUY+xQZCPgv3Ozg=",
          "dtype": "f4"
         }
        },
        {
         "marker": {
          "color": "black",
          "opacity": 0.5,
          "size": 1
         },
         "mode": "markers",
         "type": "scatter",
         "x": {
          "bdata": "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",
          "dtype": "f8"
         },
         "y": {
          "bdata": "3NwSONHVMj6WzDI+LZMEOGo7ADj7DDA+vTk2Pl8NMj6VtjQ+U7EjOPm+ND6eiTI+7OmyN/vkLj76Oy4+lpUpPuViPj4LtTs+tya9N+KDeDezp5U3feMyPlvyPj4m/To+/Ws6Pu7iEzgA2DA4qg03Ply3Mz6SCTw++JlWOORbPD68oDA+1Yw6Pu/i7TdURDc+j242PmHp8TfU4jY+oGRAPtICCjg9apk3LTEZOM9aJT4FdLw3SA80PuxrPD7pOSk4+ZctPsyrLD4pLsI3VkIpONEYyDfFLsE3SaQ+PvrV8DcZNTM+uLYjOJBRQT4meAo4drkqPtjCgjfuLj8+aiM9PmJmOT65VLo31IY3Plq1MT6a+C4+dsA2PkMmNz524bY3I4wtPmp9KjjLSGc3XG87PlG7GjjqlTw+hkQwPqVXNT4bXRE4xsY9PohKMT4Maj8+hXI4PvnTuTcgADk+7DEqPmCdADiJ2ZI31V0vPt51Cji8us43fsk3PukGOT6VVjY+Pls2PoV0OD6IqyM4R70HOGTFHz7ZnzA+GKCxN8+qPDgXUjM+ukc5PouIKT5dq0E4UvgIODeXPz5anAI4uF77N9vsMz4W8V848QUtPlpitDcwaj0+EV0zPpd5Kz4C3Qs4aUoAOEtglTc1dTQ+p9KFOEVngjgUBTc+WLkLOCYbGTjQFjg4V2YzPojgUDjv9TY+Fn4+PicY9Dca6kI+yHoEONFePD4BIDQ+YMotPvTviDcA+CI4FQE7PklXMD6ow7o3JPQkPk8sWzdy2yM4ckAzPiWlOD4OWi8+fIgrPpP22DflUDA+jegdOObMLj6bIQw4uX4jOC6rLzih9To+KuscOFzGLz5XACM+fcg1Pv2f7Df9AzM+jsonPgpGYTgRb5I3xFwxPrQiPD4rxTU+j2Q8PtJSNzcmdc83808zPtQCLziMskA+M38zPk1IQD7jcjY4v9o4PlTN1Tf9ghk4gCvjN/6CnDcHTbw3HxIqOFvQ8Dd9s1k40bwyPl6ELz6Xajo+oMUfOIUTAzjRbkA+znw4PqZsNj71PBk4pdk0PprwMD4=",
          "dtype": "f4"
         }
        },
        {
         "marker": {
          "color": "black",
          "opacity": 0.5,
          "size": 1
         },
         "mode": "markers",
         "type": "scatter",
         "x": {
          "bdata": "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",
          "dtype": "f8"
         },
         "y": {
          "bdata": "M0IrPlwSAjghb4k3hkInPukjHj5B/OQ2XY4nPq8HJT4RyiY+rL8hPixu+zdFqEk3pn0fPgbvLT66IzQ3gE0iPtskdTc/ZyE+xy4pPk9PMT6lxjA+JMElPthCzzcgciI+hALXNxnjJj6dFCQ+LW0IOP8pJj5cmgs41f0rPs8a5jfux7I38RslPvOLJD7fTiE++NIkPoryJj51iC8+4l0lPr4sOzgVMiM+378fPm0mJj4bkCY+tMMoPvSUIT7Luic+okIjPjxpDTiEuyk+POflNw6AszfTnCc+WQckPvBTHT6qpCk+o2coPjIYnDfolps3xqgwPmQ6tzdFqMA3PFUjPm3fGj6LPbo3XeGjNxBBJj5qmto3rT2qNxl3JD6i/aw3808nPnqMKD4lyyM+litDOGSTJz7PMRk+h94HOK4LLz7f/C4+DTotPhGwCTiHeCQ+i/QoPpUBJD44tb03QyuMN3+KMD6g/yk+w/AhPjZVWTjKayo+ev0nPudemDdEuvM3u4v4NyqcJD5HNyc+l8T9Nz5G+Dc6lL03Ujm4NxSVKD5hKSU+vSMlPiEoKT4mVSw+eeYtPiGrFzihqro38QDsN6LxLD4sVbc37nolPrk/Hj4VLCg+R2olPq94Kj7bXp43WCYbPrZmlDerejI472gjPshSHj5VrCQ++KgePs1QozdZvxo+Lk7WN3L/Jj4Lucw3wgoyPm95cjeF8Sg4F0L6N1PQGj4YgGc3ee0tPtB6Iz7mlCQ+27knPib+uTfe4iY+oqz1N03lIj6g3yI+p1+JN8NjJz5FzjE+HyhpNw518Dcf2pY3qukgPuY+KD4EFSo+IWRIN+Kr2jdtuSk+5JEcOA+KBDg9myQ+x3IgPuGF7DcZ6Cw+ZJsnPixAIT5HzCg+kq2eN3dbWjfOu643ZsaLN3QeJT7n3x0+kbQuPnZcBzgQYgg4A3oxN8LZID5R7Cs+2X0iPt0zlDdIySM+aPIHOHrGJT5OWiI+l2olPkcaKz5Agys+TgghPudFLj5G6S8+BT9WOLwGKD5kIyY+ZcqkN8DOKT5GpXc3XRItOPE+JD4=",
          "dtype": "f4"
         }
        },
        {
         "marker": {
          "color": "black",
          "opacity": 0.5,
          "size": 1
         },
         "mode": "markers",
         "type": "scatter",
         "x": {
          "bdata": "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",
          "dtype": "f8"
         },
         "y": {
          "bdata": "GcEdPp80Fz7qYw8+91M0OMUJKTjEGhc+1ACsN+R8Fj6N+XY3VaaUN8UMFz5l6RQ+/3gVPpHGDD4EmhU+JP1ZN/EFGD5D3fs3y5MZPrunrDcBzRo+Q8kPPjUhGj5Dstc36nIXPm5UFT7bVhU+z1kTPth7HT4ql4Q3D1XPN+zSHj6lbhk+ZQMOPq6xFT6A+qs3ZYcLN49lGj6Utx0+1QQSPtTaEz6hTxM+0ncZPhuwDz5aaws+3YQYOMEpHD4x6rg30LrWNynd5Td4tBE+xzYUPhYGFT5d/7I37AOwN+GDDj53Hxg+CzeNNzIfvTflPB8+aYEaONdqET7PfBE+TBOqN7I6GD7AzhM+TkUQPsaT5TeAsRc+qrCoN1EzFz7UqbM3YxCVN8QNEz5IHRE+2a2rN+DMEz6Yo3Q3lO+VNx7/FD5YhKI30w8aPgjNEz6waJU3ezWvN8eRrzdfcJY3ZiGxN9aNyTcoihg+w8IWPrEFGD52MAs+aVAhNzfWFj6Ffok3jn8PPpLeEz6tihQ+2JEgPv+tGT7RNBA+4dawNyzdGD46mhQ+oLobPgPiET5Z6wo+Ld0ZPh6ZDT4hXxU+NlsaPqCKGD5YO2A3Zo+MN7OJyTcLzBE+Ila0N1TEFT6AIQ0+zmEGOCAqHz4H/HA337kWPk8qFz68Zxc+NG51N7afGD4WJBQ++uEQPqL2Ez4Krww4aV8SPj0FEz53og4+/WPhNx98Ej7aIBc+p+sZPmFnHD6clhY+m9sSPkpLGz5Jhho+1qirN2bMmzfL8JA30b8SPnf9ET6Jyhg+ImO6N5M+GT68EK03XWCMN+7FEz67tBI+2mUPPnzADj4qohc+AJUSPq7IEz7wtBA+5MIYPmMfsDdfdxU+vKsVPkrpGD7pyBM+qksOPjKQFj7ymZs3Pg8YPpQOFj5tnAw+9SO/N2juFD4X7hM+jFcaPipDFD6/ifE39JgTPol1HT7dhRs+iEAUPpYVIT6sgxU+ZHEUPsoqFz5AniM3c7cSPi3iFj71ixs+Cw4MPkr9djc+kxU+VLYYPkYSEz5cdQ44w11jN53iCj4=",
          "dtype": "f4"
         }
        }
       ],
       "layout": {
        "annotations": [
         {
          "showarrow": false,
          "text": "1/2",
          "x": 1,
          "xanchor": "right",
          "xref": "x domain",
          "y": 0.5,
          "yanchor": "bottom",
          "yref": "y"
         },
         {
          "showarrow": false,
          "text": "2/3",
          "x": 1,
          "xanchor": "right",
          "xref": "x domain",
          "y": 0.6666666666666666,
          "yanchor": "bottom",
          "yref": "y"
         },
         {
          "showarrow": false,
          "text": "2/5",
          "x": 1,
          "xanchor": "right",
          "xref": "x domain",
          "y": 0.4,
          "yanchor": "bottom",
          "yref": "y"
         },
         {
          "showarrow": false,
          "text": "2/6",
          "x": 1,
          "xanchor": "right",
          "xref": "x domain",
          "y": 0.3333333333333333,
          "yanchor": "bottom",
          "yref": "y"
         },
         {
          "showarrow": false,
          "text": "2/7",
          "x": 1,
          "xanchor": "right",
          "xref": "x domain",
          "y": 0.2857142857142857,
          "yanchor": "bottom",
          "yref": "y"
         },
         {
          "showarrow": false,
          "text": "5/6",
          "x": 0.05,
          "xanchor": "right",
          "xref": "x domain",
          "y": 0.8333333333333334,
          "yanchor": "bottom",
          "yref": "y"
         },
         {
          "showarrow": false,
          "text": "4/5",
          "x": 0.05,
          "xanchor": "right",
          "xref": "x domain",
          "y": 0.8,
          "yanchor": "bottom",
          "yref": "y"
         },
         {
          "showarrow": false,
          "text": "3/4",
          "x": 0.05,
          "xanchor": "right",
          "xref": "x domain",
          "y": 0.75,
          "yanchor": "bottom",
          "yref": "y"
         },
         {
          "showarrow": false,
          "text": "3/8",
          "x": 0.05,
          "xanchor": "right",
          "xref": "x domain",
          "y": 0.375,
          "yanchor": "bottom",
          "yref": "y"
         },
         {
          "showarrow": false,
          "text": "3/12",
          "x": 0.05,
          "xanchor": "right",
          "xref": "x domain",
          "y": 0.25,
          "yanchor": "bottom",
          "yref": "y"
         },
         {
          "showarrow": false,
          "text": "3/20",
          "x": 0.05,
          "xanchor": "right",
          "xref": "x domain",
          "y": 0.15,
          "yanchor": "bottom",
          "yref": "y"
         }
        ],
        "shapes": [
         {
          "line": {
           "color": "purple"
          },
          "opacity": 0.2,
          "type": "line",
          "x0": 0,
          "x1": 1,
          "xref": "x domain",
          "y0": 0.5,
          "y1": 0.5,
          "yref": "y"
         },
         {
          "line": {
           "color": "purple"
          },
          "opacity": 0.2,
          "type": "line",
          "x0": 0,
          "x1": 1,
          "xref": "x domain",
          "y0": 0.6666666666666666,
          "y1": 0.6666666666666666,
          "yref": "y"
         },
         {
          "line": {
           "color": "purple"
          },
          "opacity": 0.2,
          "type": "line",
          "x0": 0,
          "x1": 1,
          "xref": "x domain",
          "y0": 0.4,
          "y1": 0.4,
          "yref": "y"
         },
         {
          "line": {
           "color": "purple"
          },
          "opacity": 0.2,
          "type": "line",
          "x0": 0,
          "x1": 1,
          "xref": "x domain",
          "y0": 0.3333333333333333,
          "y1": 0.3333333333333333,
          "yref": "y"
         },
         {
          "line": {
           "color": "purple"
          },
          "opacity": 0.2,
          "type": "line",
          "x0": 0,
          "x1": 1,
          "xref": "x domain",
          "y0": 0.2857142857142857,
          "y1": 0.2857142857142857,
          "yref": "y"
         },
         {
          "line": {
           "color": "blue"
          },
          "opacity": 0.2,
          "type": "line",
          "x0": 0,
          "x1": 1,
          "xref": "x domain",
          "y0": 0.8333333333333334,
          "y1": 0.8333333333333334,
          "yref": "y"
         },
         {
          "line": {
           "color": "blue"
          },
          "opacity": 0.2,
          "type": "line",
          "x0": 0,
          "x1": 1,
          "xref": "x domain",
          "y0": 0.8,
          "y1": 0.8,
          "yref": "y"
         },
         {
          "line": {
           "color": "blue"
          },
          "opacity": 0.2,
          "type": "line",
          "x0": 0,
          "x1": 1,
          "xref": "x domain",
          "y0": 0.75,
          "y1": 0.75,
          "yref": "y"
         },
         {
          "line": {
           "color": "blue"
          },
          "opacity": 0.2,
          "type": "line",
          "x0": 0,
          "x1": 1,
          "xref": "x domain",
          "y0": 0.375,
          "y1": 0.375,
          "yref": "y"
         },
         {
          "line": {
           "color": "blue"
          },
          "opacity": 0.2,
          "type": "line",
          "x0": 0,
          "x1": 1,
          "xref": "x domain",
          "y0": 0.25,
          "y1": 0.25,
          "yref": "y"
         },
         {
          "line": {
           "color": "blue"
          },
          "opacity": 0.2,
          "type": "line",
          "x0": 0,
          "x1": 1,
          "xref": "x domain",
          "y0": 0.15,
          "y1": 0.15,
          "yref": "y"
         }
        ],
        "showlegend": false,
        "template": {
         "data": {
          "bar": [
           {
            "error_x": {
             "color": "#2a3f5f"
            },
            "error_y": {
             "color": "#2a3f5f"
            },
            "marker": {
             "line": {
              "color": "#E5ECF6",
              "width": 0.5
             },
             "pattern": {
              "fillmode": "overlay",
              "size": 10,
              "solidity": 0.2
             }
            },
            "type": "bar"
           }
          ],
          "barpolar": [
           {
            "marker": {
             "line": {
              "color": "#E5ECF6",
              "width": 0.5
             },
             "pattern": {
              "fillmode": "overlay",
              "size": 10,
              "solidity": 0.2
             }
            },
            "type": "barpolar"
           }
          ],
          "carpet": [
           {
            "aaxis": {
             "endlinecolor": "#2a3f5f",
             "gridcolor": "white",
             "linecolor": "white",
             "minorgridcolor": "white",
             "startlinecolor": "#2a3f5f"
            },
            "baxis": {
             "endlinecolor": "#2a3f5f",
             "gridcolor": "white",
             "linecolor": "white",
             "minorgridcolor": "white",
             "startlinecolor": "#2a3f5f"
            },
            "type": "carpet"
           }
          ],
          "choropleth": [
           {
            "colorbar": {
             "outlinewidth": 0,
             "ticks": ""
            },
            "type": "choropleth"
           }
          ],
          "contour": [
           {
            "colorbar": {
             "outlinewidth": 0,
             "ticks": ""
            },
            "colorscale": [
             [
              0,
              "#0d0887"
             ],
             [
              0.1111111111111111,
              "#46039f"
             ],
             [
              0.2222222222222222,
              "#7201a8"
             ],
             [
              0.3333333333333333,
              "#9c179e"
             ],
             [
              0.4444444444444444,
              "#bd3786"
             ],
             [
              0.5555555555555556,
              "#d8576b"
             ],
             [
              0.6666666666666666,
              "#ed7953"
             ],
             [
              0.7777777777777778,
              "#fb9f3a"
             ],
             [
              0.8888888888888888,
              "#fdca26"
             ],
             [
              1,
              "#f0f921"
             ]
            ],
            "type": "contour"
           }
          ],
          "contourcarpet": [
           {
            "colorbar": {
             "outlinewidth": 0,
             "ticks": ""
            },
            "type": "contourcarpet"
           }
          ],
          "heatmap": [
           {
            "colorbar": {
             "outlinewidth": 0,
             "ticks": ""
            },
            "colorscale": [
             [
              0,
              "#0d0887"
             ],
             [
              0.1111111111111111,
              "#46039f"
             ],
             [
              0.2222222222222222,
              "#7201a8"
             ],
             [
              0.3333333333333333,
              "#9c179e"
             ],
             [
              0.4444444444444444,
              "#bd3786"
             ],
             [
              0.5555555555555556,
              "#d8576b"
             ],
             [
              0.6666666666666666,
              "#ed7953"
             ],
             [
              0.7777777777777778,
              "#fb9f3a"
             ],
             [
              0.8888888888888888,
              "#fdca26"
             ],
             [
              1,
              "#f0f921"
             ]
            ],
            "type": "heatmap"
           }
          ],
          "histogram": [
           {
            "marker": {
             "pattern": {
              "fillmode": "overlay",
              "size": 10,
              "solidity": 0.2
             }
            },
            "type": "histogram"
           }
          ],
          "histogram2d": [
           {
            "colorbar": {
             "outlinewidth": 0,
             "ticks": ""
            },
            "colorscale": [
             [
              0,
              "#0d0887"
             ],
             [
              0.1111111111111111,
              "#46039f"
             ],
             [
              0.2222222222222222,
              "#7201a8"
             ],
             [
              0.3333333333333333,
              "#9c179e"
             ],
             [
              0.4444444444444444,
              "#bd3786"
             ],
             [
              0.5555555555555556,
              "#d8576b"
             ],
             [
              0.6666666666666666,
              "#ed7953"
             ],
             [
              0.7777777777777778,
              "#fb9f3a"
             ],
             [
              0.8888888888888888,
              "#fdca26"
             ],
             [
              1,
              "#f0f921"
             ]
            ],
            "type": "histogram2d"
           }
          ],
          "histogram2dcontour": [
           {
            "colorbar": {
             "outlinewidth": 0,
             "ticks": ""
            },
            "colorscale": [
             [
              0,
              "#0d0887"
             ],
             [
              0.1111111111111111,
              "#46039f"
             ],
             [
              0.2222222222222222,
              "#7201a8"
             ],
             [
              0.3333333333333333,
              "#9c179e"
             ],
             [
              0.4444444444444444,
              "#bd3786"
             ],
             [
              0.5555555555555556,
              "#d8576b"
             ],
             [
              0.6666666666666666,
              "#ed7953"
             ],
             [
              0.7777777777777778,
              "#fb9f3a"
             ],
             [
              0.8888888888888888,
              "#fdca26"
             ],
             [
              1,
              "#f0f921"
             ]
            ],
            "type": "histogram2dcontour"
           }
          ],
          "mesh3d": [
           {
            "colorbar": {
             "outlinewidth": 0,
             "ticks": ""
            },
            "type": "mesh3d"
           }
          ],
          "parcoords": [
           {
            "line": {
             "colorbar": {
              "outlinewidth": 0,
              "ticks": ""
             }
            },
            "type": "parcoords"
           }
          ],
          "pie": [
           {
            "automargin": true,
            "type": "pie"
           }
          ],
          "scatter": [
           {
            "fillpattern": {
             "fillmode": "overlay",
             "size": 10,
             "solidity": 0.2
            },
            "type": "scatter"
           }
          ],
          "scatter3d": [
           {
            "line": {
             "colorbar": {
              "outlinewidth": 0,
              "ticks": ""
             }
            },
            "marker": {
             "colorbar": {
              "outlinewidth": 0,
              "ticks": ""
             }
            },
            "type": "scatter3d"
           }
          ],
          "scattercarpet": [
           {
            "marker": {
             "colorbar": {
              "outlinewidth": 0,
              "ticks": ""
             }
            },
            "type": "scattercarpet"
           }
          ],
          "scattergeo": [
           {
            "marker": {
             "colorbar": {
              "outlinewidth": 0,
              "ticks": ""
             }
            },
            "type": "scattergeo"
           }
          ],
          "scattergl": [
           {
            "marker": {
             "colorbar": {
              "outlinewidth": 0,
              "ticks": ""
             }
            },
            "type": "scattergl"
           }
          ],
          "scattermap": [
           {
            "marker": {
             "colorbar": {
              "outlinewidth": 0,
              "ticks": ""
             }
            },
            "type": "scattermap"
           }
          ],
          "scattermapbox": [
           {
            "marker": {
             "colorbar": {
              "outlinewidth": 0,
              "ticks": ""
             }
            },
            "type": "scattermapbox"
           }
          ],
          "scatterpolar": [
           {
            "marker": {
             "colorbar": {
              "outlinewidth": 0,
              "ticks": ""
             }
            },
            "type": "scatterpolar"
           }
          ],
          "scatterpolargl": [
           {
            "marker": {
             "colorbar": {
              "outlinewidth": 0,
              "ticks": ""
             }
            },
            "type": "scatterpolargl"
           }
          ],
          "scatterternary": [
           {
            "marker": {
             "colorbar": {
              "outlinewidth": 0,
              "ticks": ""
             }
            },
            "type": "scatterternary"
           }
          ],
          "surface": [
           {
            "colorbar": {
             "outlinewidth": 0,
             "ticks": ""
            },
            "colorscale": [
             [
              0,
              "#0d0887"
             ],
             [
              0.1111111111111111,
              "#46039f"
             ],
             [
              0.2222222222222222,
              "#7201a8"
             ],
             [
              0.3333333333333333,
              "#9c179e"
             ],
             [
              0.4444444444444444,
              "#bd3786"
             ],
             [
              0.5555555555555556,
              "#d8576b"
             ],
             [
              0.6666666666666666,
              "#ed7953"
             ],
             [
              0.7777777777777778,
              "#fb9f3a"
             ],
             [
              0.8888888888888888,
              "#fdca26"
             ],
             [
              1,
              "#f0f921"
             ]
            ],
            "type": "surface"
           }
          ],
          "table": [
           {
            "cells": {
             "fill": {
              "color": "#EBF0F8"
             },
             "line": {
              "color": "white"
             }
            },
            "header": {
             "fill": {
              "color": "#C8D4E3"
             },
             "line": {
              "color": "white"
             }
            },
            "type": "table"
           }
          ]
         },
         "layout": {
          "annotationdefaults": {
           "arrowcolor": "#2a3f5f",
           "arrowhead": 0,
           "arrowwidth": 1
          },
          "autotypenumbers": "strict",
          "coloraxis": {
           "colorbar": {
            "outlinewidth": 0,
            "ticks": ""
           }
          },
          "colorscale": {
           "diverging": [
            [
             0,
             "#8e0152"
            ],
            [
             0.1,
             "#c51b7d"
            ],
            [
             0.2,
             "#de77ae"
            ],
            [
             0.3,
             "#f1b6da"
            ],
            [
             0.4,
             "#fde0ef"
            ],
            [
             0.5,
             "#f7f7f7"
            ],
            [
             0.6,
             "#e6f5d0"
            ],
            [
             0.7,
             "#b8e186"
            ],
            [
             0.8,
             "#7fbc41"
            ],
            [
             0.9,
             "#4d9221"
            ],
            [
             1,
             "#276419"
            ]
           ],
           "sequential": [
            [
             0,
             "#0d0887"
            ],
            [
             0.1111111111111111,
             "#46039f"
            ],
            [
             0.2222222222222222,
             "#7201a8"
            ],
            [
             0.3333333333333333,
             "#9c179e"
            ],
            [
             0.4444444444444444,
             "#bd3786"
            ],
            [
             0.5555555555555556,
             "#d8576b"
            ],
            [
             0.6666666666666666,
             "#ed7953"
            ],
            [
             0.7777777777777778,
             "#fb9f3a"
            ],
            [
             0.8888888888888888,
             "#fdca26"
            ],
            [
             1,
             "#f0f921"
            ]
           ],
           "sequentialminus": [
            [
             0,
             "#0d0887"
            ],
            [
             0.1111111111111111,
             "#46039f"
            ],
            [
             0.2222222222222222,
             "#7201a8"
            ],
            [
             0.3333333333333333,
             "#9c179e"
            ],
            [
             0.4444444444444444,
             "#bd3786"
            ],
            [
             0.5555555555555556,
             "#d8576b"
            ],
            [
             0.6666666666666666,
             "#ed7953"
            ],
            [
             0.7777777777777778,
             "#fb9f3a"
            ],
            [
             0.8888888888888888,
             "#fdca26"
            ],
            [
             1,
             "#f0f921"
            ]
           ]
          },
          "colorway": [
           "#636efa",
           "#EF553B",
           "#00cc96",
           "#ab63fa",
           "#FFA15A",
           "#19d3f3",
           "#FF6692",
           "#B6E880",
           "#FF97FF",
           "#FECB52"
          ],
          "font": {
           "color": "#2a3f5f"
          },
          "geo": {
           "bgcolor": "white",
           "lakecolor": "white",
           "landcolor": "#E5ECF6",
           "showlakes": true,
           "showland": true,
           "subunitcolor": "white"
          },
          "hoverlabel": {
           "align": "left"
          },
          "hovermode": "closest",
          "mapbox": {
           "style": "light"
          },
          "paper_bgcolor": "white",
          "plot_bgcolor": "#E5ECF6",
          "polar": {
           "angularaxis": {
            "gridcolor": "white",
            "linecolor": "white",
            "ticks": ""
           },
           "bgcolor": "#E5ECF6",
           "radialaxis": {
            "gridcolor": "white",
            "linecolor": "white",
            "ticks": ""
           }
          },
          "scene": {
           "xaxis": {
            "backgroundcolor": "#E5ECF6",
            "gridcolor": "white",
            "gridwidth": 2,
            "linecolor": "white",
            "showbackground": true,
            "ticks": "",
            "zerolinecolor": "white"
           },
           "yaxis": {
            "backgroundcolor": "#E5ECF6",
            "gridcolor": "white",
            "gridwidth": 2,
            "linecolor": "white",
            "showbackground": true,
            "ticks": "",
            "zerolinecolor": "white"
           },
           "zaxis": {
            "backgroundcolor": "#E5ECF6",
            "gridcolor": "white",
            "gridwidth": 2,
            "linecolor": "white",
            "showbackground": true,
            "ticks": "",
            "zerolinecolor": "white"
           }
          },
          "shapedefaults": {
           "line": {
            "color": "#2a3f5f"
           }
          },
          "ternary": {
           "aaxis": {
            "gridcolor": "white",
            "linecolor": "white",
            "ticks": ""
           },
           "baxis": {
            "gridcolor": "white",
            "linecolor": "white",
            "ticks": ""
           },
           "bgcolor": "#E5ECF6",
           "caxis": {
            "gridcolor": "white",
            "linecolor": "white",
            "ticks": ""
           }
          },
          "title": {
           "x": 0.05
          },
          "xaxis": {
           "automargin": true,
           "gridcolor": "white",
           "linecolor": "white",
           "ticks": "",
           "title": {
            "standoff": 15
           },
           "zerolinecolor": "white",
           "zerolinewidth": 2
          },
          "yaxis": {
           "automargin": true,
           "gridcolor": "white",
           "linecolor": "white",
           "ticks": "",
           "title": {
            "standoff": 15
           },
           "zerolinecolor": "white",
           "zerolinewidth": 2
          }
         }
        },
        "xaxis": {
         "showgrid": false,
         "title": {
          "text": "1/(1-S)"
         },
         "type": "log"
        },
        "yaxis": {
         "showgrid": false
        }
       }
      }
     },
     "metadata": {},
     "output_type": "display_data"
    }
   ],
   "source": [
    "fig = go.Figure()\n",
    "\n",
    "density = model.feature_probability[:, 0].cpu()\n",
    "W = model.W.detach()\n",
    "\n",
    "for a,b in [(1,2), (2,3), (2,5), (2,6), (2,7)]:\n",
    "    val = a/b\n",
    "    fig.add_hline(val, line_color=\"purple\", opacity=0.2, annotation=dict(text=f\"{a}/{b}\"))\n",
    "\n",
    "for a,b in [(5,6), (4,5), (3,4), (3,8), (3,12), (3,20)]:\n",
    "    val = a/b\n",
    "    fig.add_hline(val, line_color=\"blue\", opacity=0.2, annotation=dict(text=f\"{a}/{b}\", x=0.05))\n",
    "\n",
    "for i in range(len(W)):\n",
    "    fracs_ = dim_fracs[i]\n",
    "    N = fracs_.shape[0]\n",
    "    xs = 1/density\n",
    "    if i!= len(W)-1:\n",
    "        dx = xs[i+1]-xs[i]\n",
    "    fig.add_trace(\n",
    "        go.Scatter(\n",
    "            x=1/density[i]*np.ones(N)+dx*np.random.uniform(-0.1,0.1,N),\n",
    "            y=fracs_,\n",
    "            marker=dict(\n",
    "                color='black',\n",
    "                size=1,\n",
    "                opacity=0.5,\n",
    "            ),\n",
    "            mode='markers',\n",
    "        )\n",
    "    )\n",
    "\n",
    "fig.update_xaxes(\n",
    "    type='log', \n",
    "    title='1/(1-S)',\n",
    "    showgrid=False,\n",
    ")\n",
    "fig.update_yaxes(\n",
    "    showgrid=False\n",
    ")\n",
    "fig.update_layout(showlegend=False)"
   ]
  }
 ],
 "metadata": {
  "accelerator": "GPU",
  "colab": {
   "collapsed_sections": [],
   "provenance": []
  },
  "gpuClass": "standard",
  "kernelspec": {
   "display_name": "torch",
   "language": "python",
   "name": "python3"
  },
  "language_info": {
   "codemirror_mode": {
    "name": "ipython",
    "version": 3
   },
   "file_extension": ".py",
   "mimetype": "text/x-python",
   "name": "python",
   "nbconvert_exporter": "python",
   "pygments_lexer": "ipython3",
   "version": "3.12.4"
  },
  "widgets": {
   "application/vnd.jupyter.widget-state+json": {
    "05371493fb394d60ab276fe17488213f": {
     "model_module": "@jupyter-widgets/controls",
     "model_module_version": "1.5.0",
     "model_name": "HBoxModel",
     "state": {
      "_dom_classes": [],
      "_model_module": "@jupyter-widgets/controls",
      "_model_module_version": "1.5.0",
      "_model_name": "HBoxModel",
      "_view_count": null,
      "_view_module": "@jupyter-widgets/controls",
      "_view_module_version": "1.5.0",
      "_view_name": "HBoxView",
      "box_style": "",
      "children": [
       "IPY_MODEL_b6e1e2a2329148d68a709571e016b858",
       "IPY_MODEL_f5fb761ec6de404398f5517e21e0d46b",
       "IPY_MODEL_081fd85ccb724b2c98366620a747b77b"
      ],
      "layout": "IPY_MODEL_dc421acdf45149fd87cd81d56e9031cd"
     }
    },
    "081fd85ccb724b2c98366620a747b77b": {
     "model_module": "@jupyter-widgets/controls",
     "model_module_version": "1.5.0",
     "model_name": "HTMLModel",
     "state": {
      "_dom_classes": [],
      "_model_module": "@jupyter-widgets/controls",
      "_model_module_version": "1.5.0",
      "_model_name": "HTMLModel",
      "_view_count": null,
      "_view_module": "@jupyter-widgets/controls",
      "_view_module_version": "1.5.0",
      "_view_name": "HTMLView",
      "description": "",
      "description_tooltip": null,
      "layout": "IPY_MODEL_0d65324158214bb8b73f3cc13e461be4",
      "placeholder": "​",
      "style": "IPY_MODEL_3f0aa91dd60a45a292c2b52cfbbce8fa",
      "value": " 10000/10000 [00:39&lt;00:00, 300.04it/s, loss=0.0538, lr=0.001]"
     }
    },
    "0d65324158214bb8b73f3cc13e461be4": {
     "model_module": "@jupyter-widgets/base",
     "model_module_version": "1.2.0",
     "model_name": "LayoutModel",
     "state": {
      "_model_module": "@jupyter-widgets/base",
      "_model_module_version": "1.2.0",
      "_model_name": "LayoutModel",
      "_view_count": null,
      "_view_module": "@jupyter-widgets/base",
      "_view_module_version": "1.2.0",
      "_view_name": "LayoutView",
      "align_content": null,
      "align_items": null,
      "align_self": null,
      "border": null,
      "bottom": null,
      "display": null,
      "flex": null,
      "flex_flow": null,
      "grid_area": null,
      "grid_auto_columns": null,
      "grid_auto_flow": null,
      "grid_auto_rows": null,
      "grid_column": null,
      "grid_gap": null,
      "grid_row": null,
      "grid_template_areas": null,
      "grid_template_columns": null,
      "grid_template_rows": null,
      "height": null,
      "justify_content": null,
      "justify_items": null,
      "left": null,
      "margin": null,
      "max_height": null,
      "max_width": null,
      "min_height": null,
      "min_width": null,
      "object_fit": null,
      "object_position": null,
      "order": null,
      "overflow": null,
      "overflow_x": null,
      "overflow_y": null,
      "padding": null,
      "right": null,
      "top": null,
      "visibility": null,
      "width": null
     }
    },
    "13bbce3d04234a68805f5668bd4e7cae": {
     "model_module": "@jupyter-widgets/base",
     "model_module_version": "1.2.0",
     "model_name": "LayoutModel",
     "state": {
      "_model_module": "@jupyter-widgets/base",
      "_model_module_version": "1.2.0",
      "_model_name": "LayoutModel",
      "_view_count": null,
      "_view_module": "@jupyter-widgets/base",
      "_view_module_version": "1.2.0",
      "_view_name": "LayoutView",
      "align_content": null,
      "align_items": null,
      "align_self": null,
      "border": null,
      "bottom": null,
      "display": null,
      "flex": null,
      "flex_flow": null,
      "grid_area": null,
      "grid_auto_columns": null,
      "grid_auto_flow": null,
      "grid_auto_rows": null,
      "grid_column": null,
      "grid_gap": null,
      "grid_row": null,
      "grid_template_areas": null,
      "grid_template_columns": null,
      "grid_template_rows": null,
      "height": null,
      "justify_content": null,
      "justify_items": null,
      "left": null,
      "margin": null,
      "max_height": null,
      "max_width": null,
      "min_height": null,
      "min_width": null,
      "object_fit": null,
      "object_position": null,
      "order": null,
      "overflow": null,
      "overflow_x": null,
      "overflow_y": null,
      "padding": null,
      "right": null,
      "top": null,
      "visibility": null,
      "width": null
     }
    },
    "2529ee9a67314e2294e7e9efdcf20768": {
     "model_module": "@jupyter-widgets/controls",
     "model_module_version": "1.5.0",
     "model_name": "HTMLModel",
     "state": {
      "_dom_classes": [],
      "_model_module": "@jupyter-widgets/controls",
      "_model_module_version": "1.5.0",
      "_model_name": "HTMLModel",
      "_view_count": null,
      "_view_module": "@jupyter-widgets/controls",
      "_view_module_version": "1.5.0",
      "_view_name": "HTMLView",
      "description": "",
      "description_tooltip": null,
      "layout": "IPY_MODEL_be2f0859bd3f4fca90d3b4bdf44f0958",
      "placeholder": "​",
      "style": "IPY_MODEL_5c1bf989dc904dd781fe237488754851",
      "value": "100%"
     }
    },
    "33262117e99a4effb2b23208b72912f1": {
     "model_module": "@jupyter-widgets/controls",
     "model_module_version": "1.5.0",
     "model_name": "FloatProgressModel",
     "state": {
      "_dom_classes": [],
      "_model_module": "@jupyter-widgets/controls",
      "_model_module_version": "1.5.0",
      "_model_name": "FloatProgressModel",
      "_view_count": null,
      "_view_module": "@jupyter-widgets/controls",
      "_view_module_version": "1.5.0",
      "_view_name": "ProgressView",
      "bar_style": "success",
      "description": "",
      "description_tooltip": null,
      "layout": "IPY_MODEL_f9b77a7783c041a5994f645545f46a4d",
      "max": 10000,
      "min": 0,
      "orientation": "horizontal",
      "style": "IPY_MODEL_a09058eea509491198cf92c1b70f4b7d",
      "value": 10000
     }
    },
    "3f0aa91dd60a45a292c2b52cfbbce8fa": {
     "model_module": "@jupyter-widgets/controls",
     "model_module_version": "1.5.0",
     "model_name": "DescriptionStyleModel",
     "state": {
      "_model_module": "@jupyter-widgets/controls",
      "_model_module_version": "1.5.0",
      "_model_name": "DescriptionStyleModel",
      "_view_count": null,
      "_view_module": "@jupyter-widgets/base",
      "_view_module_version": "1.2.0",
      "_view_name": "StyleView",
      "description_width": ""
     }
    },
    "57b2d9eb950b4c2eb1706463de18da8b": {
     "model_module": "@jupyter-widgets/controls",
     "model_module_version": "1.5.0",
     "model_name": "FloatProgressModel",
     "state": {
      "_dom_classes": [],
      "_model_module": "@jupyter-widgets/controls",
      "_model_module_version": "1.5.0",
      "_model_name": "FloatProgressModel",
      "_view_count": null,
      "_view_module": "@jupyter-widgets/controls",
      "_view_module_version": "1.5.0",
      "_view_name": "ProgressView",
      "bar_style": "success",
      "description": "",
      "description_tooltip": null,
      "layout": "IPY_MODEL_8275832d816748b8b90b668a1491a291",
      "max": 10000,
      "min": 0,
      "orientation": "horizontal",
      "style": "IPY_MODEL_f41d9f8baa9f4198924deb3caf180892",
      "value": 10000
     }
    },
    "5c1bf989dc904dd781fe237488754851": {
     "model_module": "@jupyter-widgets/controls",
     "model_module_version": "1.5.0",
     "model_name": "DescriptionStyleModel",
     "state": {
      "_model_module": "@jupyter-widgets/controls",
      "_model_module_version": "1.5.0",
      "_model_name": "DescriptionStyleModel",
      "_view_count": null,
      "_view_module": "@jupyter-widgets/base",
      "_view_module_version": "1.2.0",
      "_view_name": "StyleView",
      "description_width": ""
     }
    },
    "5f651bcc02de4892bc6ace2170187052": {
     "model_module": "@jupyter-widgets/controls",
     "model_module_version": "1.5.0",
     "model_name": "HTMLModel",
     "state": {
      "_dom_classes": [],
      "_model_module": "@jupyter-widgets/controls",
      "_model_module_version": "1.5.0",
      "_model_name": "HTMLModel",
      "_view_count": null,
      "_view_module": "@jupyter-widgets/controls",
      "_view_module_version": "1.5.0",
      "_view_name": "HTMLView",
      "description": "",
      "description_tooltip": null,
      "layout": "IPY_MODEL_13bbce3d04234a68805f5668bd4e7cae",
      "placeholder": "​",
      "style": "IPY_MODEL_fc49b5cd3b5a4dd3b572712b23a88fcb",
      "value": "100%"
     }
    },
    "5f756884ece84bee89d895e84bcad4d0": {
     "model_module": "@jupyter-widgets/controls",
     "model_module_version": "1.5.0",
     "model_name": "DescriptionStyleModel",
     "state": {
      "_model_module": "@jupyter-widgets/controls",
      "_model_module_version": "1.5.0",
      "_model_name": "DescriptionStyleModel",
      "_view_count": null,
      "_view_module": "@jupyter-widgets/base",
      "_view_module_version": "1.2.0",
      "_view_name": "StyleView",
      "description_width": ""
     }
    },
    "6de322b6962e4e4b974b2b4d79bf5bea": {
     "model_module": "@jupyter-widgets/controls",
     "model_module_version": "1.5.0",
     "model_name": "HTMLModel",
     "state": {
      "_dom_classes": [],
      "_model_module": "@jupyter-widgets/controls",
      "_model_module_version": "1.5.0",
      "_model_name": "HTMLModel",
      "_view_count": null,
      "_view_module": "@jupyter-widgets/controls",
      "_view_module_version": "1.5.0",
      "_view_name": "HTMLView",
      "description": "",
      "description_tooltip": null,
      "layout": "IPY_MODEL_992a19c9c2ee4565841ced9a07382625",
      "placeholder": "​",
      "style": "IPY_MODEL_87e80c745a9c4c378a4d7a537ed42361",
      "value": " 10000/10000 [00:11&lt;00:00, 892.42it/s, loss=0.0207, lr=0.001]"
     }
    },
    "8275832d816748b8b90b668a1491a291": {
     "model_module": "@jupyter-widgets/base",
     "model_module_version": "1.2.0",
     "model_name": "LayoutModel",
     "state": {
      "_model_module": "@jupyter-widgets/base",
      "_model_module_version": "1.2.0",
      "_model_name": "LayoutModel",
      "_view_count": null,
      "_view_module": "@jupyter-widgets/base",
      "_view_module_version": "1.2.0",
      "_view_name": "LayoutView",
      "align_content": null,
      "align_items": null,
      "align_self": null,
      "border": null,
      "bottom": null,
      "display": null,
      "flex": null,
      "flex_flow": null,
      "grid_area": null,
      "grid_auto_columns": null,
      "grid_auto_flow": null,
      "grid_auto_rows": null,
      "grid_column": null,
      "grid_gap": null,
      "grid_row": null,
      "grid_template_areas": null,
      "grid_template_columns": null,
      "grid_template_rows": null,
      "height": null,
      "justify_content": null,
      "justify_items": null,
      "left": null,
      "margin": null,
      "max_height": null,
      "max_width": null,
      "min_height": null,
      "min_width": null,
      "object_fit": null,
      "object_position": null,
      "order": null,
      "overflow": null,
      "overflow_x": null,
      "overflow_y": null,
      "padding": null,
      "right": null,
      "top": null,
      "visibility": null,
      "width": null
     }
    },
    "840427ce468041248c3dd4d543505218": {
     "model_module": "@jupyter-widgets/controls",
     "model_module_version": "1.5.0",
     "model_name": "HTMLModel",
     "state": {
      "_dom_classes": [],
      "_model_module": "@jupyter-widgets/controls",
      "_model_module_version": "1.5.0",
      "_model_name": "HTMLModel",
      "_view_count": null,
      "_view_module": "@jupyter-widgets/controls",
      "_view_module_version": "1.5.0",
      "_view_name": "HTMLView",
      "description": "",
      "description_tooltip": null,
      "layout": "IPY_MODEL_d50aa7c17bc84077b3930811ec31f8c0",
      "placeholder": "​",
      "style": "IPY_MODEL_5f756884ece84bee89d895e84bcad4d0",
      "value": " 10000/10000 [00:22&lt;00:00, 503.50it/s, loss=0.00438, lr=0.001]"
     }
    },
    "87e80c745a9c4c378a4d7a537ed42361": {
     "model_module": "@jupyter-widgets/controls",
     "model_module_version": "1.5.0",
     "model_name": "DescriptionStyleModel",
     "state": {
      "_model_module": "@jupyter-widgets/controls",
      "_model_module_version": "1.5.0",
      "_model_name": "DescriptionStyleModel",
      "_view_count": null,
      "_view_module": "@jupyter-widgets/base",
      "_view_module_version": "1.2.0",
      "_view_name": "StyleView",
      "description_width": ""
     }
    },
    "992a19c9c2ee4565841ced9a07382625": {
     "model_module": "@jupyter-widgets/base",
     "model_module_version": "1.2.0",
     "model_name": "LayoutModel",
     "state": {
      "_model_module": "@jupyter-widgets/base",
      "_model_module_version": "1.2.0",
      "_model_name": "LayoutModel",
      "_view_count": null,
      "_view_module": "@jupyter-widgets/base",
      "_view_module_version": "1.2.0",
      "_view_name": "LayoutView",
      "align_content": null,
      "align_items": null,
      "align_self": null,
      "border": null,
      "bottom": null,
      "display": null,
      "flex": null,
      "flex_flow": null,
      "grid_area": null,
      "grid_auto_columns": null,
      "grid_auto_flow": null,
      "grid_auto_rows": null,
      "grid_column": null,
      "grid_gap": null,
      "grid_row": null,
      "grid_template_areas": null,
      "grid_template_columns": null,
      "grid_template_rows": null,
      "height": null,
      "justify_content": null,
      "justify_items": null,
      "left": null,
      "margin": null,
      "max_height": null,
      "max_width": null,
      "min_height": null,
      "min_width": null,
      "object_fit": null,
      "object_position": null,
      "order": null,
      "overflow": null,
      "overflow_x": null,
      "overflow_y": null,
      "padding": null,
      "right": null,
      "top": null,
      "visibility": null,
      "width": null
     }
    },
    "a09058eea509491198cf92c1b70f4b7d": {
     "model_module": "@jupyter-widgets/controls",
     "model_module_version": "1.5.0",
     "model_name": "ProgressStyleModel",
     "state": {
      "_model_module": "@jupyter-widgets/controls",
      "_model_module_version": "1.5.0",
      "_model_name": "ProgressStyleModel",
      "_view_count": null,
      "_view_module": "@jupyter-widgets/base",
      "_view_module_version": "1.2.0",
      "_view_name": "StyleView",
      "bar_color": null,
      "description_width": ""
     }
    },
    "a79a0479d88e4d3eb77b108bbc874e09": {
     "model_module": "@jupyter-widgets/base",
     "model_module_version": "1.2.0",
     "model_name": "LayoutModel",
     "state": {
      "_model_module": "@jupyter-widgets/base",
      "_model_module_version": "1.2.0",
      "_model_name": "LayoutModel",
      "_view_count": null,
      "_view_module": "@jupyter-widgets/base",
      "_view_module_version": "1.2.0",
      "_view_name": "LayoutView",
      "align_content": null,
      "align_items": null,
      "align_self": null,
      "border": null,
      "bottom": null,
      "display": null,
      "flex": null,
      "flex_flow": null,
      "grid_area": null,
      "grid_auto_columns": null,
      "grid_auto_flow": null,
      "grid_auto_rows": null,
      "grid_column": null,
      "grid_gap": null,
      "grid_row": null,
      "grid_template_areas": null,
      "grid_template_columns": null,
      "grid_template_rows": null,
      "height": null,
      "justify_content": null,
      "justify_items": null,
      "left": null,
      "margin": null,
      "max_height": null,
      "max_width": null,
      "min_height": null,
      "min_width": null,
      "object_fit": null,
      "object_position": null,
      "order": null,
      "overflow": null,
      "overflow_x": null,
      "overflow_y": null,
      "padding": null,
      "right": null,
      "top": null,
      "visibility": null,
      "width": null
     }
    },
    "b6e1e2a2329148d68a709571e016b858": {
     "model_module": "@jupyter-widgets/controls",
     "model_module_version": "1.5.0",
     "model_name": "HTMLModel",
     "state": {
      "_dom_classes": [],
      "_model_module": "@jupyter-widgets/controls",
      "_model_module_version": "1.5.0",
      "_model_name": "HTMLModel",
      "_view_count": null,
      "_view_module": "@jupyter-widgets/controls",
      "_view_module_version": "1.5.0",
      "_view_name": "HTMLView",
      "description": "",
      "description_tooltip": null,
      "layout": "IPY_MODEL_b73d37d18a7e4577bcfa8c2aec321eb1",
      "placeholder": "​",
      "style": "IPY_MODEL_d7bc2f21dd294f52a0243ca35aadeb22",
      "value": "100%"
     }
    },
    "b73d37d18a7e4577bcfa8c2aec321eb1": {
     "model_module": "@jupyter-widgets/base",
     "model_module_version": "1.2.0",
     "model_name": "LayoutModel",
     "state": {
      "_model_module": "@jupyter-widgets/base",
      "_model_module_version": "1.2.0",
      "_model_name": "LayoutModel",
      "_view_count": null,
      "_view_module": "@jupyter-widgets/base",
      "_view_module_version": "1.2.0",
      "_view_name": "LayoutView",
      "align_content": null,
      "align_items": null,
      "align_self": null,
      "border": null,
      "bottom": null,
      "display": null,
      "flex": null,
      "flex_flow": null,
      "grid_area": null,
      "grid_auto_columns": null,
      "grid_auto_flow": null,
      "grid_auto_rows": null,
      "grid_column": null,
      "grid_gap": null,
      "grid_row": null,
      "grid_template_areas": null,
      "grid_template_columns": null,
      "grid_template_rows": null,
      "height": null,
      "justify_content": null,
      "justify_items": null,
      "left": null,
      "margin": null,
      "max_height": null,
      "max_width": null,
      "min_height": null,
      "min_width": null,
      "object_fit": null,
      "object_position": null,
      "order": null,
      "overflow": null,
      "overflow_x": null,
      "overflow_y": null,
      "padding": null,
      "right": null,
      "top": null,
      "visibility": null,
      "width": null
     }
    },
    "be2f0859bd3f4fca90d3b4bdf44f0958": {
     "model_module": "@jupyter-widgets/base",
     "model_module_version": "1.2.0",
     "model_name": "LayoutModel",
     "state": {
      "_model_module": "@jupyter-widgets/base",
      "_model_module_version": "1.2.0",
      "_model_name": "LayoutModel",
      "_view_count": null,
      "_view_module": "@jupyter-widgets/base",
      "_view_module_version": "1.2.0",
      "_view_name": "LayoutView",
      "align_content": null,
      "align_items": null,
      "align_self": null,
      "border": null,
      "bottom": null,
      "display": null,
      "flex": null,
      "flex_flow": null,
      "grid_area": null,
      "grid_auto_columns": null,
      "grid_auto_flow": null,
      "grid_auto_rows": null,
      "grid_column": null,
      "grid_gap": null,
      "grid_row": null,
      "grid_template_areas": null,
      "grid_template_columns": null,
      "grid_template_rows": null,
      "height": null,
      "justify_content": null,
      "justify_items": null,
      "left": null,
      "margin": null,
      "max_height": null,
      "max_width": null,
      "min_height": null,
      "min_width": null,
      "object_fit": null,
      "object_position": null,
      "order": null,
      "overflow": null,
      "overflow_x": null,
      "overflow_y": null,
      "padding": null,
      "right": null,
      "top": null,
      "visibility": null,
      "width": null
     }
    },
    "cb347c5ce6694bfb92919a5593cc7049": {
     "model_module": "@jupyter-widgets/controls",
     "model_module_version": "1.5.0",
     "model_name": "ProgressStyleModel",
     "state": {
      "_model_module": "@jupyter-widgets/controls",
      "_model_module_version": "1.5.0",
      "_model_name": "ProgressStyleModel",
      "_view_count": null,
      "_view_module": "@jupyter-widgets/base",
      "_view_module_version": "1.2.0",
      "_view_name": "StyleView",
      "bar_color": null,
      "description_width": ""
     }
    },
    "d080dce19cd94411ba991fdd8556b59e": {
     "model_module": "@jupyter-widgets/controls",
     "model_module_version": "1.5.0",
     "model_name": "HBoxModel",
     "state": {
      "_dom_classes": [],
      "_model_module": "@jupyter-widgets/controls",
      "_model_module_version": "1.5.0",
      "_model_name": "HBoxModel",
      "_view_count": null,
      "_view_module": "@jupyter-widgets/controls",
      "_view_module_version": "1.5.0",
      "_view_name": "HBoxView",
      "box_style": "",
      "children": [
       "IPY_MODEL_2529ee9a67314e2294e7e9efdcf20768",
       "IPY_MODEL_57b2d9eb950b4c2eb1706463de18da8b",
       "IPY_MODEL_840427ce468041248c3dd4d543505218"
      ],
      "layout": "IPY_MODEL_e5e84984b7c043fca917c338ff056a9e"
     }
    },
    "d50aa7c17bc84077b3930811ec31f8c0": {
     "model_module": "@jupyter-widgets/base",
     "model_module_version": "1.2.0",
     "model_name": "LayoutModel",
     "state": {
      "_model_module": "@jupyter-widgets/base",
      "_model_module_version": "1.2.0",
      "_model_name": "LayoutModel",
      "_view_count": null,
      "_view_module": "@jupyter-widgets/base",
      "_view_module_version": "1.2.0",
      "_view_name": "LayoutView",
      "align_content": null,
      "align_items": null,
      "align_self": null,
      "border": null,
      "bottom": null,
      "display": null,
      "flex": null,
      "flex_flow": null,
      "grid_area": null,
      "grid_auto_columns": null,
      "grid_auto_flow": null,
      "grid_auto_rows": null,
      "grid_column": null,
      "grid_gap": null,
      "grid_row": null,
      "grid_template_areas": null,
      "grid_template_columns": null,
      "grid_template_rows": null,
      "height": null,
      "justify_content": null,
      "justify_items": null,
      "left": null,
      "margin": null,
      "max_height": null,
      "max_width": null,
      "min_height": null,
      "min_width": null,
      "object_fit": null,
      "object_position": null,
      "order": null,
      "overflow": null,
      "overflow_x": null,
      "overflow_y": null,
      "padding": null,
      "right": null,
      "top": null,
      "visibility": null,
      "width": null
     }
    },
    "d7bc2f21dd294f52a0243ca35aadeb22": {
     "model_module": "@jupyter-widgets/controls",
     "model_module_version": "1.5.0",
     "model_name": "DescriptionStyleModel",
     "state": {
      "_model_module": "@jupyter-widgets/controls",
      "_model_module_version": "1.5.0",
      "_model_name": "DescriptionStyleModel",
      "_view_count": null,
      "_view_module": "@jupyter-widgets/base",
      "_view_module_version": "1.2.0",
      "_view_name": "StyleView",
      "description_width": ""
     }
    },
    "dc421acdf45149fd87cd81d56e9031cd": {
     "model_module": "@jupyter-widgets/base",
     "model_module_version": "1.2.0",
     "model_name": "LayoutModel",
     "state": {
      "_model_module": "@jupyter-widgets/base",
      "_model_module_version": "1.2.0",
      "_model_name": "LayoutModel",
      "_view_count": null,
      "_view_module": "@jupyter-widgets/base",
      "_view_module_version": "1.2.0",
      "_view_name": "LayoutView",
      "align_content": null,
      "align_items": null,
      "align_self": null,
      "border": null,
      "bottom": null,
      "display": null,
      "flex": null,
      "flex_flow": null,
      "grid_area": null,
      "grid_auto_columns": null,
      "grid_auto_flow": null,
      "grid_auto_rows": null,
      "grid_column": null,
      "grid_gap": null,
      "grid_row": null,
      "grid_template_areas": null,
      "grid_template_columns": null,
      "grid_template_rows": null,
      "height": null,
      "justify_content": null,
      "justify_items": null,
      "left": null,
      "margin": null,
      "max_height": null,
      "max_width": null,
      "min_height": null,
      "min_width": null,
      "object_fit": null,
      "object_position": null,
      "order": null,
      "overflow": null,
      "overflow_x": null,
      "overflow_y": null,
      "padding": null,
      "right": null,
      "top": null,
      "visibility": null,
      "width": null
     }
    },
    "e5e84984b7c043fca917c338ff056a9e": {
     "model_module": "@jupyter-widgets/base",
     "model_module_version": "1.2.0",
     "model_name": "LayoutModel",
     "state": {
      "_model_module": "@jupyter-widgets/base",
      "_model_module_version": "1.2.0",
      "_model_name": "LayoutModel",
      "_view_count": null,
      "_view_module": "@jupyter-widgets/base",
      "_view_module_version": "1.2.0",
      "_view_name": "LayoutView",
      "align_content": null,
      "align_items": null,
      "align_self": null,
      "border": null,
      "bottom": null,
      "display": null,
      "flex": null,
      "flex_flow": null,
      "grid_area": null,
      "grid_auto_columns": null,
      "grid_auto_flow": null,
      "grid_auto_rows": null,
      "grid_column": null,
      "grid_gap": null,
      "grid_row": null,
      "grid_template_areas": null,
      "grid_template_columns": null,
      "grid_template_rows": null,
      "height": null,
      "justify_content": null,
      "justify_items": null,
      "left": null,
      "margin": null,
      "max_height": null,
      "max_width": null,
      "min_height": null,
      "min_width": null,
      "object_fit": null,
      "object_position": null,
      "order": null,
      "overflow": null,
      "overflow_x": null,
      "overflow_y": null,
      "padding": null,
      "right": null,
      "top": null,
      "visibility": null,
      "width": null
     }
    },
    "f41d9f8baa9f4198924deb3caf180892": {
     "model_module": "@jupyter-widgets/controls",
     "model_module_version": "1.5.0",
     "model_name": "ProgressStyleModel",
     "state": {
      "_model_module": "@jupyter-widgets/controls",
      "_model_module_version": "1.5.0",
      "_model_name": "ProgressStyleModel",
      "_view_count": null,
      "_view_module": "@jupyter-widgets/base",
      "_view_module_version": "1.2.0",
      "_view_name": "StyleView",
      "bar_color": null,
      "description_width": ""
     }
    },
    "f5fb761ec6de404398f5517e21e0d46b": {
     "model_module": "@jupyter-widgets/controls",
     "model_module_version": "1.5.0",
     "model_name": "FloatProgressModel",
     "state": {
      "_dom_classes": [],
      "_model_module": "@jupyter-widgets/controls",
      "_model_module_version": "1.5.0",
      "_model_name": "FloatProgressModel",
      "_view_count": null,
      "_view_module": "@jupyter-widgets/controls",
      "_view_module_version": "1.5.0",
      "_view_name": "ProgressView",
      "bar_style": "success",
      "description": "",
      "description_tooltip": null,
      "layout": "IPY_MODEL_a79a0479d88e4d3eb77b108bbc874e09",
      "max": 10000,
      "min": 0,
      "orientation": "horizontal",
      "style": "IPY_MODEL_cb347c5ce6694bfb92919a5593cc7049",
      "value": 10000
     }
    },
    "f9b77a7783c041a5994f645545f46a4d": {
     "model_module": "@jupyter-widgets/base",
     "model_module_version": "1.2.0",
     "model_name": "LayoutModel",
     "state": {
      "_model_module": "@jupyter-widgets/base",
      "_model_module_version": "1.2.0",
      "_model_name": "LayoutModel",
      "_view_count": null,
      "_view_module": "@jupyter-widgets/base",
      "_view_module_version": "1.2.0",
      "_view_name": "LayoutView",
      "align_content": null,
      "align_items": null,
      "align_self": null,
      "border": null,
      "bottom": null,
      "display": null,
      "flex": null,
      "flex_flow": null,
      "grid_area": null,
      "grid_auto_columns": null,
      "grid_auto_flow": null,
      "grid_auto_rows": null,
      "grid_column": null,
      "grid_gap": null,
      "grid_row": null,
      "grid_template_areas": null,
      "grid_template_columns": null,
      "grid_template_rows": null,
      "height": null,
      "justify_content": null,
      "justify_items": null,
      "left": null,
      "margin": null,
      "max_height": null,
      "max_width": null,
      "min_height": null,
      "min_width": null,
      "object_fit": null,
      "object_position": null,
      "order": null,
      "overflow": null,
      "overflow_x": null,
      "overflow_y": null,
      "padding": null,
      "right": null,
      "top": null,
      "visibility": null,
      "width": null
     }
    },
    "fa6604f92d1e4489960985e4d7240c24": {
     "model_module": "@jupyter-widgets/controls",
     "model_module_version": "1.5.0",
     "model_name": "HBoxModel",
     "state": {
      "_dom_classes": [],
      "_model_module": "@jupyter-widgets/controls",
      "_model_module_version": "1.5.0",
      "_model_name": "HBoxModel",
      "_view_count": null,
      "_view_module": "@jupyter-widgets/controls",
      "_view_module_version": "1.5.0",
      "_view_name": "HBoxView",
      "box_style": "",
      "children": [
       "IPY_MODEL_5f651bcc02de4892bc6ace2170187052",
       "IPY_MODEL_33262117e99a4effb2b23208b72912f1",
       "IPY_MODEL_6de322b6962e4e4b974b2b4d79bf5bea"
      ],
      "layout": "IPY_MODEL_fc39b56a57df417095c2e2a064cac95b"
     }
    },
    "fc39b56a57df417095c2e2a064cac95b": {
     "model_module": "@jupyter-widgets/base",
     "model_module_version": "1.2.0",
     "model_name": "LayoutModel",
     "state": {
      "_model_module": "@jupyter-widgets/base",
      "_model_module_version": "1.2.0",
      "_model_name": "LayoutModel",
      "_view_count": null,
      "_view_module": "@jupyter-widgets/base",
      "_view_module_version": "1.2.0",
      "_view_name": "LayoutView",
      "align_content": null,
      "align_items": null,
      "align_self": null,
      "border": null,
      "bottom": null,
      "display": null,
      "flex": null,
      "flex_flow": null,
      "grid_area": null,
      "grid_auto_columns": null,
      "grid_auto_flow": null,
      "grid_auto_rows": null,
      "grid_column": null,
      "grid_gap": null,
      "grid_row": null,
      "grid_template_areas": null,
      "grid_template_columns": null,
      "grid_template_rows": null,
      "height": null,
      "justify_content": null,
      "justify_items": null,
      "left": null,
      "margin": null,
      "max_height": null,
      "max_width": null,
      "min_height": null,
      "min_width": null,
      "object_fit": null,
      "object_position": null,
      "order": null,
      "overflow": null,
      "overflow_x": null,
      "overflow_y": null,
      "padding": null,
      "right": null,
      "top": null,
      "visibility": null,
      "width": null
     }
    },
    "fc49b5cd3b5a4dd3b572712b23a88fcb": {
     "model_module": "@jupyter-widgets/controls",
     "model_module_version": "1.5.0",
     "model_name": "DescriptionStyleModel",
     "state": {
      "_model_module": "@jupyter-widgets/controls",
      "_model_module_version": "1.5.0",
      "_model_name": "DescriptionStyleModel",
      "_view_count": null,
      "_view_module": "@jupyter-widgets/base",
      "_view_module_version": "1.2.0",
      "_view_name": "StyleView",
      "description_width": ""
     }
    }
   }
  }
 },
 "nbformat": 4,
 "nbformat_minor": 1
}
